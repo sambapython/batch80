{
 "cells": [
  {
   "cell_type": "code",
   "execution_count": 1,
   "metadata": {},
   "outputs": [
    {
     "name": "stdout",
     "output_type": "stream",
     "text": [
      "10 20\n",
      "a is big\n",
      "b is big\n"
     ]
    }
   ],
   "source": [
    "a=10\n",
    "b=20\n",
    "print(a,b)\n",
    "print(\"a is big\")\n",
    "print(\"b is big\")"
   ]
  },
  {
   "cell_type": "code",
   "execution_count": null,
   "metadata": {},
   "outputs": [],
   "source": [
    "a=100\n",
    "b=20\n",
    "print(a,b)\n",
    "print(\"a is big\")\n",
    "print(\"b is big\")"
   ]
  },
  {
   "cell_type": "code",
   "execution_count": 2,
   "metadata": {},
   "outputs": [
    {
     "name": "stdout",
     "output_type": "stream",
     "text": [
      "started\n",
      "a is big\n",
      "ended\n"
     ]
    }
   ],
   "source": [
    "print(\"started\")\n",
    "if True:\n",
    "    print(\"a is big\")\n",
    "else:\n",
    "    print(\"b is big\")\n",
    "print(\"ended\")"
   ]
  },
  {
   "cell_type": "code",
   "execution_count": 3,
   "metadata": {},
   "outputs": [
    {
     "name": "stdout",
     "output_type": "stream",
     "text": [
      "started\n",
      "a is big\n",
      "hello\n",
      "ended\n"
     ]
    }
   ],
   "source": [
    "print(\"started\")\n",
    "if True:\n",
    "    print(\"a is big\")\n",
    "    print(\"hello\")\n",
    "else:\n",
    "    print(\"b is big\")\n",
    "    print(\"hi\")\n",
    "print(\"ended\")"
   ]
  },
  {
   "cell_type": "code",
   "execution_count": 4,
   "metadata": {},
   "outputs": [
    {
     "name": "stdout",
     "output_type": "stream",
     "text": [
      "started\n",
      "b is big\n",
      "hi\n",
      "ended\n"
     ]
    }
   ],
   "source": [
    "print(\"started\")\n",
    "if False:\n",
    "    print(\"a is big\")\n",
    "    print(\"hello\")\n",
    "else:\n",
    "    print(\"b is big\")\n",
    "    print(\"hi\")\n",
    "print(\"ended\")"
   ]
  },
  {
   "cell_type": "code",
   "execution_count": 5,
   "metadata": {},
   "outputs": [
    {
     "name": "stdout",
     "output_type": "stream",
     "text": [
      "False\n"
     ]
    }
   ],
   "source": [
    "a=10\n",
    "b=20\n",
    "print(a>b)"
   ]
  },
  {
   "cell_type": "code",
   "execution_count": 6,
   "metadata": {},
   "outputs": [
    {
     "name": "stdout",
     "output_type": "stream",
     "text": [
      "True\n"
     ]
    }
   ],
   "source": [
    "a=100\n",
    "b=20\n",
    "print(a>b)"
   ]
  },
  {
   "cell_type": "code",
   "execution_count": 7,
   "metadata": {},
   "outputs": [
    {
     "name": "stdout",
     "output_type": "stream",
     "text": [
      "started\n",
      "True\n",
      "a is big\n",
      "ended\n"
     ]
    }
   ],
   "source": [
    "print(\"started\")\n",
    "a=100\n",
    "b=20\n",
    "print(a>b)\n",
    "if a>b:\n",
    "    print(\"a is big\")\n",
    "else:\n",
    "    print(\"b is big\")\n",
    "print(\"ended\")"
   ]
  },
  {
   "cell_type": "code",
   "execution_count": 8,
   "metadata": {},
   "outputs": [
    {
     "name": "stdout",
     "output_type": "stream",
     "text": [
      "started\n",
      "False\n",
      "b is big\n",
      "ended\n"
     ]
    }
   ],
   "source": [
    "print(\"started\")\n",
    "a=10\n",
    "b=20\n",
    "print(a>b)\n",
    "if a>b:\n",
    "    print(\"a is big\")\n",
    "else:\n",
    "    print(\"b is big\")\n",
    "print(\"ended\")"
   ]
  },
  {
   "cell_type": "code",
   "execution_count": 9,
   "metadata": {},
   "outputs": [
    {
     "name": "stdout",
     "output_type": "stream",
     "text": [
      "started\n",
      "b is big\n",
      "ended\n"
     ]
    }
   ],
   "source": [
    "print(\"started\")\n",
    "a=10\n",
    "b=20\n",
    "if a>b:\n",
    "    print(\"a is big\")\n",
    "else:\n",
    "    print(\"b is big\")\n",
    "print(\"ended\")"
   ]
  },
  {
   "cell_type": "code",
   "execution_count": 10,
   "metadata": {},
   "outputs": [
    {
     "name": "stdout",
     "output_type": "stream",
     "text": [
      "started\n",
      "a is big\n",
      "ended\n"
     ]
    }
   ],
   "source": [
    "print(\"started\")\n",
    "a=100\n",
    "b=20\n",
    "if a>b:\n",
    "    print(\"a is big\")\n",
    "else:\n",
    "    print(\"b is big\")\n",
    "print(\"ended\")"
   ]
  },
  {
   "cell_type": "code",
   "execution_count": 11,
   "metadata": {},
   "outputs": [
    {
     "name": "stdout",
     "output_type": "stream",
     "text": [
      "started\n",
      "b is big\n",
      "ended\n"
     ]
    }
   ],
   "source": [
    "print(\"started\")\n",
    "a=100\n",
    "b=20\n",
    "if a>b:\n",
    "    print(\"b is big\")\n",
    "else:\n",
    "    print(\"a is big\")\n",
    "print(\"ended\")"
   ]
  },
  {
   "cell_type": "code",
   "execution_count": 12,
   "metadata": {},
   "outputs": [
    {
     "name": "stdout",
     "output_type": "stream",
     "text": [
      "started\n",
      "a is big\n",
      "ended\n"
     ]
    }
   ],
   "source": [
    "print(\"started\")\n",
    "a=100\n",
    "b=20\n",
    "if a<b:\n",
    "    print(\"b is big\")\n",
    "else:\n",
    "    print(\"a is big\")\n",
    "print(\"ended\")"
   ]
  },
  {
   "cell_type": "code",
   "execution_count": 13,
   "metadata": {},
   "outputs": [
    {
     "name": "stdout",
     "output_type": "stream",
     "text": [
      "started\n",
      "b is big\n",
      "ended\n"
     ]
    }
   ],
   "source": [
    "print(\"started\")\n",
    "a=100\n",
    "b=200\n",
    "if a<b:\n",
    "    print(\"b is big\")\n",
    "else:\n",
    "    print(\"a is big\")\n",
    "print(\"ended\")"
   ]
  },
  {
   "cell_type": "code",
   "execution_count": 14,
   "metadata": {},
   "outputs": [
    {
     "name": "stdout",
     "output_type": "stream",
     "text": [
      "6\n"
     ]
    }
   ],
   "source": [
    "s=\"python\"\n",
    "print(len(s))"
   ]
  },
  {
   "cell_type": "code",
   "execution_count": 15,
   "metadata": {},
   "outputs": [
    {
     "name": "stdout",
     "output_type": "stream",
     "text": [
      "enter string:tagoor\n",
      "tagoor 6\n"
     ]
    }
   ],
   "source": [
    "s=input(\"enter string:\")\n",
    "print(s, len(s))"
   ]
  },
  {
   "cell_type": "code",
   "execution_count": 16,
   "metadata": {},
   "outputs": [
    {
     "name": "stdout",
     "output_type": "stream",
     "text": [
      "enter string:\n",
      " 0\n"
     ]
    }
   ],
   "source": [
    "s=input(\"enter string:\")\n",
    "print(s, len(s))"
   ]
  },
  {
   "cell_type": "code",
   "execution_count": 17,
   "metadata": {},
   "outputs": [
    {
     "name": "stdout",
     "output_type": "stream",
     "text": [
      "0\n"
     ]
    }
   ],
   "source": [
    "s=\"\"\n",
    "print(len(s))"
   ]
  },
  {
   "cell_type": "code",
   "execution_count": null,
   "metadata": {},
   "outputs": [],
   "source": [
    "#take string from the user, print \"EMPTY\" if the user gives a empty string else print lenght of the string."
   ]
  },
  {
   "cell_type": "code",
   "execution_count": 18,
   "metadata": {},
   "outputs": [
    {
     "name": "stdout",
     "output_type": "stream",
     "text": [
      "enter string:python\n",
      "<class 'str'>\n"
     ]
    }
   ],
   "source": [
    "s=input(\"enter string:\")\n",
    "print(str)"
   ]
  },
  {
   "cell_type": "code",
   "execution_count": 19,
   "metadata": {},
   "outputs": [
    {
     "name": "stdout",
     "output_type": "stream",
     "text": [
      "enter string:python\n",
      "python\n"
     ]
    }
   ],
   "source": [
    "s=input(\"enter string:\")\n",
    "print(s)"
   ]
  },
  {
   "cell_type": "code",
   "execution_count": 20,
   "metadata": {},
   "outputs": [
    {
     "name": "stdout",
     "output_type": "stream",
     "text": [
      "enter some string:vedhanvesh\n",
      "<class 'str'>\n",
      "vedhanvesh\n"
     ]
    }
   ],
   "source": [
    "name=input(\"enter some string:\")\n",
    "print(str)\n",
    "print(name)"
   ]
  },
  {
   "cell_type": "code",
   "execution_count": 21,
   "metadata": {},
   "outputs": [
    {
     "name": "stdout",
     "output_type": "stream",
     "text": [
      "<class 'str'>\n"
     ]
    }
   ],
   "source": [
    "name=\"vedha\"\n",
    "s_class=\"LKG\"\n",
    "print(str)"
   ]
  },
  {
   "cell_type": "code",
   "execution_count": 23,
   "metadata": {},
   "outputs": [
    {
     "name": "stdout",
     "output_type": "stream",
     "text": [
      "<class 'str'>\n",
      "vedha\n",
      "LKG\n"
     ]
    }
   ],
   "source": [
    "name=\"vedha\"\n",
    "s_class=\"LKG\"\n",
    "print(str)\n",
    "print(name)\n",
    "print(s_class)"
   ]
  },
  {
   "cell_type": "code",
   "execution_count": 24,
   "metadata": {},
   "outputs": [
    {
     "name": "stdout",
     "output_type": "stream",
     "text": [
      "enter string:sdfsdgsd\n",
      "sdfsdgsd\n"
     ]
    }
   ],
   "source": [
    "data = input(\"enter string:\")\n",
    "print(data)"
   ]
  },
  {
   "cell_type": "code",
   "execution_count": 25,
   "metadata": {},
   "outputs": [
    {
     "name": "stdout",
     "output_type": "stream",
     "text": [
      "False\n"
     ]
    }
   ],
   "source": [
    "s=\"python\"\n",
    "print(s==0)"
   ]
  },
  {
   "cell_type": "code",
   "execution_count": 26,
   "metadata": {},
   "outputs": [
    {
     "name": "stdout",
     "output_type": "stream",
     "text": [
      "False\n"
     ]
    }
   ],
   "source": [
    "s=\"\"\n",
    "print(s==0)"
   ]
  },
  {
   "cell_type": "code",
   "execution_count": 27,
   "metadata": {},
   "outputs": [
    {
     "data": {
      "text/plain": [
       "True"
      ]
     },
     "execution_count": 27,
     "metadata": {},
     "output_type": "execute_result"
    }
   ],
   "source": [
    "0==0"
   ]
  },
  {
   "cell_type": "code",
   "execution_count": 28,
   "metadata": {},
   "outputs": [
    {
     "data": {
      "text/plain": [
       "False"
      ]
     },
     "execution_count": 28,
     "metadata": {},
     "output_type": "execute_result"
    }
   ],
   "source": [
    "\"\"==0"
   ]
  },
  {
   "cell_type": "code",
   "execution_count": 29,
   "metadata": {},
   "outputs": [
    {
     "name": "stdout",
     "output_type": "stream",
     "text": [
      "0\n"
     ]
    },
    {
     "data": {
      "text/plain": [
       "True"
      ]
     },
     "execution_count": 29,
     "metadata": {},
     "output_type": "execute_result"
    }
   ],
   "source": [
    "s=\"\"\n",
    "print(len(s))\n",
    "len(s)==0"
   ]
  },
  {
   "cell_type": "code",
   "execution_count": 30,
   "metadata": {},
   "outputs": [
    {
     "name": "stdout",
     "output_type": "stream",
     "text": [
      "Enter a string:geethanjanli\n",
      "12\n"
     ]
    }
   ],
   "source": [
    "s=input(\"Enter a string:\")\n",
    "if len(s) == 0:\n",
    "    print(\"Empty\")\n",
    "else:\n",
    "    print(len(s))"
   ]
  },
  {
   "cell_type": "code",
   "execution_count": 31,
   "metadata": {},
   "outputs": [
    {
     "name": "stdout",
     "output_type": "stream",
     "text": [
      "Enter a string:geethanjali\n",
      "11\n",
      "11\n"
     ]
    }
   ],
   "source": [
    "s=input(\"Enter a string:\")\n",
    "len_s = len(s)\n",
    "print(len_s)\n",
    "if len_s == 0:\n",
    "    print(\"Empty\")\n",
    "else:\n",
    "    print(len_s)"
   ]
  },
  {
   "cell_type": "code",
   "execution_count": 32,
   "metadata": {},
   "outputs": [
    {
     "name": "stdout",
     "output_type": "stream",
     "text": [
      "Enter a string:\n",
      "0\n",
      "Empty\n"
     ]
    }
   ],
   "source": [
    "s=input(\"Enter a string:\")\n",
    "len_s = len(s)\n",
    "print(len_s)\n",
    "if len_s == 0:\n",
    "    print(\"Empty\")\n",
    "else:\n",
    "    print(len_s)"
   ]
  },
  {
   "cell_type": "code",
   "execution_count": 33,
   "metadata": {},
   "outputs": [
    {
     "name": "stdout",
     "output_type": "stream",
     "text": [
      "True\n"
     ]
    }
   ],
   "source": [
    "s=\"tagoor\"\n",
    "print(bool(s))"
   ]
  },
  {
   "cell_type": "code",
   "execution_count": 34,
   "metadata": {},
   "outputs": [
    {
     "name": "stdout",
     "output_type": "stream",
     "text": [
      "False\n"
     ]
    }
   ],
   "source": [
    "s=\"\"\n",
    "print(bool(s))"
   ]
  },
  {
   "cell_type": "code",
   "execution_count": 35,
   "metadata": {},
   "outputs": [
    {
     "name": "stdout",
     "output_type": "stream",
     "text": [
      "Enter a string:ravindhranath\n",
      "13\n"
     ]
    }
   ],
   "source": [
    "s=input(\"Enter a string:\")\n",
    "if bool(s):\n",
    "    print(len(s))\n",
    "else:\n",
    "    print(\"Empty\")\n",
    "    "
   ]
  },
  {
   "cell_type": "code",
   "execution_count": 36,
   "metadata": {},
   "outputs": [
    {
     "name": "stdout",
     "output_type": "stream",
     "text": [
      "Enter a string:\n",
      "Empty\n"
     ]
    }
   ],
   "source": [
    "s=input(\"Enter a string:\")\n",
    "if bool(s):\n",
    "    print(len(s))\n",
    "else:\n",
    "    print(\"Empty\")\n",
    "    "
   ]
  },
  {
   "cell_type": "code",
   "execution_count": 37,
   "metadata": {},
   "outputs": [
    {
     "name": "stdout",
     "output_type": "stream",
     "text": [
      "Enter a string:randra\n",
      "6\n"
     ]
    }
   ],
   "source": [
    "s=input(\"Enter a string:\")\n",
    "if s:# bool(s)\n",
    "    print(len(s))\n",
    "else:\n",
    "    print(\"Empty\")\n",
    "    "
   ]
  },
  {
   "cell_type": "code",
   "execution_count": 38,
   "metadata": {},
   "outputs": [
    {
     "name": "stdout",
     "output_type": "stream",
     "text": [
      "Enter a string:asfsd\n",
      "5\n"
     ]
    }
   ],
   "source": [
    "s=input(\"Enter a string:\")\n",
    "if s:# bool(s)\n",
    "    print(len(s))\n",
    "else:\n",
    "    print(\"Empty\")\n",
    "    "
   ]
  },
  {
   "cell_type": "code",
   "execution_count": 39,
   "metadata": {},
   "outputs": [
    {
     "name": "stdout",
     "output_type": "stream",
     "text": [
      "started\n",
      "hi\n",
      "ended\n"
     ]
    }
   ],
   "source": [
    "print(\"started\")\n",
    "if 0:\n",
    "    print(\"hello\")\n",
    "else:\n",
    "    print(\"hi\")\n",
    "print(\"ended\")"
   ]
  },
  {
   "cell_type": "code",
   "execution_count": 40,
   "metadata": {},
   "outputs": [
    {
     "name": "stdout",
     "output_type": "stream",
     "text": [
      "started\n",
      "hello\n",
      "ended\n"
     ]
    }
   ],
   "source": [
    "print(\"started\")\n",
    "if 10:\n",
    "    print(\"hello\")\n",
    "else:\n",
    "    print(\"hi\")\n",
    "print(\"ended\")"
   ]
  },
  {
   "cell_type": "code",
   "execution_count": null,
   "metadata": {},
   "outputs": [],
   "source": [
    "print(\"started\")\n",
    "if -10:\n",
    "    print(\"hello\")\n",
    "else:\n",
    "    print(\"hi\")\n",
    "print(\"ended\")"
   ]
  },
  {
   "cell_type": "code",
   "execution_count": 41,
   "metadata": {},
   "outputs": [
    {
     "data": {
      "text/plain": [
       "True"
      ]
     },
     "execution_count": 41,
     "metadata": {},
     "output_type": "execute_result"
    }
   ],
   "source": [
    "bool(-10)"
   ]
  },
  {
   "cell_type": "code",
   "execution_count": 42,
   "metadata": {},
   "outputs": [
    {
     "name": "stdout",
     "output_type": "stream",
     "text": [
      "started\n",
      "hello\n",
      "ended\n"
     ]
    }
   ],
   "source": [
    "print(\"started\")\n",
    "if \"0\":\n",
    "    print(\"hello\")\n",
    "else:\n",
    "    print(\"hi\")\n",
    "print(\"ended\")"
   ]
  },
  {
   "cell_type": "code",
   "execution_count": 43,
   "metadata": {},
   "outputs": [
    {
     "name": "stdout",
     "output_type": "stream",
     "text": [
      "started\n",
      "hi\n",
      "ended\n"
     ]
    }
   ],
   "source": [
    "print(\"started\")\n",
    "if 0:\n",
    "    print(\"hello\")\n",
    "else:\n",
    "    print(\"hi\")\n",
    "print(\"ended\")"
   ]
  },
  {
   "cell_type": "code",
   "execution_count": 44,
   "metadata": {},
   "outputs": [
    {
     "data": {
      "text/plain": [
       "True"
      ]
     },
     "execution_count": 44,
     "metadata": {},
     "output_type": "execute_result"
    }
   ],
   "source": [
    "bool(\"0\")"
   ]
  },
  {
   "cell_type": "code",
   "execution_count": 45,
   "metadata": {},
   "outputs": [
    {
     "data": {
      "text/plain": [
       "False"
      ]
     },
     "execution_count": 45,
     "metadata": {},
     "output_type": "execute_result"
    }
   ],
   "source": [
    "bool(0)"
   ]
  },
  {
   "cell_type": "code",
   "execution_count": 46,
   "metadata": {},
   "outputs": [
    {
     "data": {
      "text/plain": [
       "False"
      ]
     },
     "execution_count": 46,
     "metadata": {},
     "output_type": "execute_result"
    }
   ],
   "source": [
    "bool(\"\")"
   ]
  },
  {
   "cell_type": "code",
   "execution_count": 47,
   "metadata": {},
   "outputs": [
    {
     "data": {
      "text/plain": [
       "False"
      ]
     },
     "execution_count": 47,
     "metadata": {},
     "output_type": "execute_result"
    }
   ],
   "source": [
    "bool([])"
   ]
  },
  {
   "cell_type": "code",
   "execution_count": 48,
   "metadata": {},
   "outputs": [
    {
     "data": {
      "text/plain": [
       "False"
      ]
     },
     "execution_count": 48,
     "metadata": {},
     "output_type": "execute_result"
    }
   ],
   "source": [
    "bool({})"
   ]
  },
  {
   "cell_type": "code",
   "execution_count": 49,
   "metadata": {},
   "outputs": [
    {
     "data": {
      "text/plain": [
       "False"
      ]
     },
     "execution_count": 49,
     "metadata": {},
     "output_type": "execute_result"
    }
   ],
   "source": [
    "bool(())"
   ]
  },
  {
   "cell_type": "code",
   "execution_count": 50,
   "metadata": {},
   "outputs": [
    {
     "data": {
      "text/plain": [
       "False"
      ]
     },
     "execution_count": 50,
     "metadata": {},
     "output_type": "execute_result"
    }
   ],
   "source": [
    "bool(0.0)"
   ]
  },
  {
   "cell_type": "code",
   "execution_count": 52,
   "metadata": {},
   "outputs": [
    {
     "data": {
      "text/plain": [
       "False"
      ]
     },
     "execution_count": 52,
     "metadata": {},
     "output_type": "execute_result"
    }
   ],
   "source": [
    "bool(0+0j)"
   ]
  },
  {
   "cell_type": "code",
   "execution_count": 53,
   "metadata": {},
   "outputs": [
    {
     "data": {
      "text/plain": [
       "True"
      ]
     },
     "execution_count": 53,
     "metadata": {},
     "output_type": "execute_result"
    }
   ],
   "source": [
    "bool(0.0000001)"
   ]
  },
  {
   "cell_type": "code",
   "execution_count": 54,
   "metadata": {},
   "outputs": [
    {
     "data": {
      "text/plain": [
       "True"
      ]
     },
     "execution_count": 54,
     "metadata": {},
     "output_type": "execute_result"
    }
   ],
   "source": [
    "bool([0])"
   ]
  },
  {
   "cell_type": "code",
   "execution_count": 55,
   "metadata": {},
   "outputs": [
    {
     "data": {
      "text/plain": [
       "False"
      ]
     },
     "execution_count": 55,
     "metadata": {},
     "output_type": "execute_result"
    }
   ],
   "source": [
    "bool([])"
   ]
  },
  {
   "cell_type": "code",
   "execution_count": 56,
   "metadata": {},
   "outputs": [
    {
     "data": {
      "text/plain": [
       "False"
      ]
     },
     "execution_count": 56,
     "metadata": {},
     "output_type": "execute_result"
    }
   ],
   "source": [
    "bool(\"\")"
   ]
  },
  {
   "cell_type": "code",
   "execution_count": 57,
   "metadata": {},
   "outputs": [
    {
     "data": {
      "text/plain": [
       "True"
      ]
     },
     "execution_count": 57,
     "metadata": {},
     "output_type": "execute_result"
    }
   ],
   "source": [
    "bool(\"0\")"
   ]
  },
  {
   "cell_type": "code",
   "execution_count": 58,
   "metadata": {},
   "outputs": [
    {
     "data": {
      "text/plain": [
       "True"
      ]
     },
     "execution_count": 58,
     "metadata": {},
     "output_type": "execute_result"
    }
   ],
   "source": [
    "bool((0,))"
   ]
  },
  {
   "cell_type": "code",
   "execution_count": 59,
   "metadata": {},
   "outputs": [
    {
     "data": {
      "text/plain": [
       "False"
      ]
     },
     "execution_count": 59,
     "metadata": {},
     "output_type": "execute_result"
    }
   ],
   "source": [
    "bool(0)"
   ]
  },
  {
   "cell_type": "code",
   "execution_count": 60,
   "metadata": {},
   "outputs": [
    {
     "data": {
      "text/plain": [
       "True"
      ]
     },
     "execution_count": 60,
     "metadata": {},
     "output_type": "execute_result"
    }
   ],
   "source": [
    "bool(-10)"
   ]
  },
  {
   "cell_type": "code",
   "execution_count": 61,
   "metadata": {},
   "outputs": [
    {
     "data": {
      "text/plain": [
       "True"
      ]
     },
     "execution_count": 61,
     "metadata": {},
     "output_type": "execute_result"
    }
   ],
   "source": [
    "bool(1234)"
   ]
  },
  {
   "cell_type": "code",
   "execution_count": 62,
   "metadata": {},
   "outputs": [
    {
     "data": {
      "text/plain": [
       "True"
      ]
     },
     "execution_count": 62,
     "metadata": {},
     "output_type": "execute_result"
    }
   ],
   "source": [
    "bool(0.00000012)"
   ]
  },
  {
   "cell_type": "code",
   "execution_count": 63,
   "metadata": {},
   "outputs": [
    {
     "data": {
      "text/plain": [
       "False"
      ]
     },
     "execution_count": 63,
     "metadata": {},
     "output_type": "execute_result"
    }
   ],
   "source": [
    "bool(0.0000000000000)"
   ]
  },
  {
   "cell_type": "code",
   "execution_count": 64,
   "metadata": {},
   "outputs": [
    {
     "data": {
      "text/plain": [
       "False"
      ]
     },
     "execution_count": 64,
     "metadata": {},
     "output_type": "execute_result"
    }
   ],
   "source": [
    "bool(0*2345677)"
   ]
  },
  {
   "cell_type": "code",
   "execution_count": 65,
   "metadata": {},
   "outputs": [
    {
     "data": {
      "text/plain": [
       "True"
      ]
     },
     "execution_count": 65,
     "metadata": {},
     "output_type": "execute_result"
    }
   ],
   "source": [
    "bool(0+2345677)"
   ]
  },
  {
   "cell_type": "code",
   "execution_count": 66,
   "metadata": {},
   "outputs": [
    {
     "data": {
      "text/plain": [
       "True"
      ]
     },
     "execution_count": 66,
     "metadata": {},
     "output_type": "execute_result"
    }
   ],
   "source": [
    "bool(56/56)"
   ]
  },
  {
   "cell_type": "code",
   "execution_count": 67,
   "metadata": {},
   "outputs": [
    {
     "data": {
      "text/plain": [
       "False"
      ]
     },
     "execution_count": 67,
     "metadata": {},
     "output_type": "execute_result"
    }
   ],
   "source": [
    "bool(0/56)"
   ]
  },
  {
   "cell_type": "code",
   "execution_count": 68,
   "metadata": {},
   "outputs": [
    {
     "data": {
      "text/plain": [
       "False"
      ]
     },
     "execution_count": 68,
     "metadata": {},
     "output_type": "execute_result"
    }
   ],
   "source": [
    "bool(14%2)"
   ]
  },
  {
   "cell_type": "code",
   "execution_count": 69,
   "metadata": {},
   "outputs": [
    {
     "data": {
      "text/plain": [
       "True"
      ]
     },
     "execution_count": 69,
     "metadata": {},
     "output_type": "execute_result"
    }
   ],
   "source": [
    "bool(14%3)"
   ]
  },
  {
   "cell_type": "code",
   "execution_count": 70,
   "metadata": {},
   "outputs": [
    {
     "name": "stdout",
     "output_type": "stream",
     "text": [
      "started\n",
      "Enter a string:\n",
      "Empty\n",
      "ended\n"
     ]
    }
   ],
   "source": [
    "print(\"started\")\n",
    "s=input(\"Enter a string:\")\n",
    "if s:\n",
    "    print(len(s))\n",
    "else:\n",
    "    print(\"Empty\")\n",
    "print(\"ended\")"
   ]
  },
  {
   "cell_type": "code",
   "execution_count": 71,
   "metadata": {},
   "outputs": [
    {
     "name": "stdout",
     "output_type": "stream",
     "text": [
      "started\n",
      "Enter a string:\n",
      "Empty\n",
      "ended\n"
     ]
    }
   ],
   "source": [
    "print(\"started\")\n",
    "s=input(\"Enter a string:\")\n",
    "print( len(s) if s else \"Empty\")\n",
    "print(\"ended\")"
   ]
  },
  {
   "cell_type": "code",
   "execution_count": 72,
   "metadata": {},
   "outputs": [
    {
     "name": "stdout",
     "output_type": "stream",
     "text": [
      "started\n",
      "Enter a string:sreesree\n",
      "8\n",
      "ended\n"
     ]
    }
   ],
   "source": [
    "print(\"started\")\n",
    "s=input(\"Enter a string:\")\n",
    "print( len(s) if s else \"Empty\")\n",
    "print(\"ended\")"
   ]
  },
  {
   "cell_type": "code",
   "execution_count": 73,
   "metadata": {},
   "outputs": [
    {
     "name": "stdout",
     "output_type": "stream",
     "text": [
      "started\n",
      "Enter a string:python\n",
      "hi\n",
      "ended\n"
     ]
    }
   ],
   "source": [
    "print(\"started\")\n",
    "s=input(\"Enter a string:\")\n",
    "print( \"hi\" if s else \"hello\")\n",
    "print(\"ended\")"
   ]
  },
  {
   "cell_type": "code",
   "execution_count": 74,
   "metadata": {},
   "outputs": [
    {
     "name": "stdout",
     "output_type": "stream",
     "text": [
      "started\n",
      "Enter a string:\n",
      "hello\n",
      "ended\n"
     ]
    }
   ],
   "source": [
    "print(\"started\")\n",
    "s=input(\"Enter a string:\")\n",
    "print( \"hi\" if s else \"hello\")\n",
    "print(\"ended\")"
   ]
  },
  {
   "cell_type": "code",
   "execution_count": 75,
   "metadata": {},
   "outputs": [
    {
     "name": "stdout",
     "output_type": "stream",
     "text": [
      "10\n"
     ]
    }
   ],
   "source": [
    "a= 10 if True else 0\n",
    "print(a)"
   ]
  },
  {
   "cell_type": "code",
   "execution_count": 76,
   "metadata": {},
   "outputs": [
    {
     "name": "stdout",
     "output_type": "stream",
     "text": [
      "100\n"
     ]
    }
   ],
   "source": [
    "a= 10 if False else 100\n",
    "print(a)"
   ]
  },
  {
   "cell_type": "code",
   "execution_count": 79,
   "metadata": {},
   "outputs": [
    {
     "name": "stdout",
     "output_type": "stream",
     "text": [
      "Enter an age:5\n",
      "KID\n"
     ]
    }
   ],
   "source": [
    "#age:   <12: kid, >13: teen, >20: man, >55 oldman\n",
    "age = int(input(\"Enter an age:\"))\n",
    "if age<12:\n",
    "    print(\"KID\")\n",
    "if age>13:\n",
    "    print(\"TEEN\")\n",
    "if age>20:\n",
    "    print(\"MAN\")\n",
    "if age>55:\n",
    "    print(\"OLDMAN\")"
   ]
  },
  {
   "cell_type": "code",
   "execution_count": 80,
   "metadata": {},
   "outputs": [
    {
     "name": "stdout",
     "output_type": "stream",
     "text": [
      "Enter an age:13\n"
     ]
    }
   ],
   "source": [
    "#age:   <12: kid, >13: teen, >20: man, >55 oldman\n",
    "age = int(input(\"Enter an age:\"))\n",
    "if age<12:\n",
    "    print(\"KID\")\n",
    "if age>13:\n",
    "    print(\"TEEN\")\n",
    "if age>20:\n",
    "    print(\"MAN\")\n",
    "if age>55:\n",
    "    print(\"OLDMAN\")"
   ]
  },
  {
   "cell_type": "code",
   "execution_count": 81,
   "metadata": {},
   "outputs": [
    {
     "name": "stdout",
     "output_type": "stream",
     "text": [
      "Enter an age:13\n",
      "TEEN\n"
     ]
    }
   ],
   "source": [
    "#age:   <12: kid, >13: teen, >20: man, >55 oldman\n",
    "age = int(input(\"Enter an age:\"))\n",
    "if age<12:\n",
    "    print(\"KID\")\n",
    "if age>=13:\n",
    "    print(\"TEEN\")\n",
    "if age>20:\n",
    "    print(\"MAN\")\n",
    "if age>55:\n",
    "    print(\"OLDMAN\")"
   ]
  },
  {
   "cell_type": "code",
   "execution_count": 82,
   "metadata": {},
   "outputs": [
    {
     "name": "stdout",
     "output_type": "stream",
     "text": [
      "started\n",
      "Enter an age:6\n",
      "KID\n",
      "ended\n"
     ]
    }
   ],
   "source": [
    "#age:   <12: kid, >13: teen, >20: man, >55 oldman\n",
    "print(\"started\")\n",
    "age = int(input(\"Enter an age:\"))\n",
    "if age<12:\n",
    "    print(\"KID\")\n",
    "if age>=13:\n",
    "    print(\"TEEN\")\n",
    "if age>20:\n",
    "    print(\"MAN\")\n",
    "if age>55:\n",
    "    print(\"OLDMAN\")\n",
    "print(\"ended\")"
   ]
  },
  {
   "cell_type": "code",
   "execution_count": null,
   "metadata": {},
   "outputs": [],
   "source": [
    "#age:   <12: kid, >13: teen, >20: man, >55 oldman\n",
    "print(\"started\")\n",
    "age = int(input(\"Enter an age:\"))\n",
    "if age<12:\n",
    "    print(\"KID\")\n",
    "elif age>=13:\n",
    "    print(\"TEEN\")\n",
    "elif age>20:\n",
    "    print(\"MAN\")\n",
    "elif age>55:\n",
    "    print(\"OLDMAN\")\n",
    "print(\"ended\")"
   ]
  },
  {
   "cell_type": "code",
   "execution_count": 83,
   "metadata": {},
   "outputs": [
    {
     "name": "stdout",
     "output_type": "stream",
     "text": [
      "started\n",
      "Enter an age:60\n",
      "OLDMAND\n",
      "ended\n"
     ]
    }
   ],
   "source": [
    "#age:   <12: kid, >13: teen, >20: man, >55 oldman\n",
    "print(\"started\")\n",
    "age = int(input(\"Enter an age:\"))\n",
    "if age>=55:\n",
    "    print(\"OLDMAND\")\n",
    "elif age>=20:\n",
    "    print(\"MAN\")\n",
    "elif age>=13:\n",
    "    print(\"TEEN\")\n",
    "elif age<=12:\n",
    "    print(\"KID\")\n",
    "print(\"ended\")"
   ]
  },
  {
   "cell_type": "code",
   "execution_count": 84,
   "metadata": {},
   "outputs": [
    {
     "name": "stdout",
     "output_type": "stream",
     "text": [
      "started\n",
      "Enter an age:54\n",
      "MAN\n",
      "ended\n"
     ]
    }
   ],
   "source": [
    "#age:   <12: kid, >13: teen, >20: man, >55 oldman\n",
    "print(\"started\")\n",
    "age = int(input(\"Enter an age:\"))\n",
    "if age>=55:\n",
    "    print(\"OLDMAND\")\n",
    "elif age>=20:\n",
    "    print(\"MAN\")\n",
    "elif age>=13:\n",
    "    print(\"TEEN\")\n",
    "elif age<=12:\n",
    "    print(\"KID\")\n",
    "print(\"ended\")"
   ]
  },
  {
   "cell_type": "code",
   "execution_count": 85,
   "metadata": {},
   "outputs": [
    {
     "name": "stdout",
     "output_type": "stream",
     "text": [
      "started\n",
      "Enter an age:16\n",
      "TEEN\n",
      "ended\n"
     ]
    }
   ],
   "source": [
    "#age:   <12: kid, >13: teen, >20: man, >55 oldman\n",
    "print(\"started\")\n",
    "age = int(input(\"Enter an age:\"))\n",
    "if age>=55:\n",
    "    print(\"OLDMAND\")\n",
    "elif age>=20:\n",
    "    print(\"MAN\")\n",
    "elif age>=13:\n",
    "    print(\"TEEN\")\n",
    "elif age<=12:\n",
    "    print(\"KID\")\n",
    "print(\"ended\")"
   ]
  },
  {
   "cell_type": "code",
   "execution_count": 86,
   "metadata": {},
   "outputs": [
    {
     "name": "stdout",
     "output_type": "stream",
     "text": [
      "started\n",
      "Enter an age:9\n",
      "KID\n",
      "ended\n"
     ]
    }
   ],
   "source": [
    "#age:   <12: kid, >13: teen, >20: man, >55 oldman\n",
    "print(\"started\")\n",
    "age = int(input(\"Enter an age:\"))\n",
    "if age>=55:\n",
    "    print(\"OLDMAND\")\n",
    "elif age>=20:\n",
    "    print(\"MAN\")\n",
    "elif age>=13:\n",
    "    print(\"TEEN\")\n",
    "elif age<=12:\n",
    "    print(\"KID\")\n",
    "print(\"ended\")"
   ]
  },
  {
   "cell_type": "code",
   "execution_count": 87,
   "metadata": {},
   "outputs": [
    {
     "name": "stdout",
     "output_type": "stream",
     "text": [
      "started\n",
      "Enter an age:-10\n",
      "KID\n",
      "ended\n"
     ]
    }
   ],
   "source": [
    "#age:   <12: kid, >13: teen, >20: man, >55 oldman\n",
    "print(\"started\")\n",
    "age = int(input(\"Enter an age:\"))\n",
    "if age>=55:\n",
    "    print(\"OLDMAND\")\n",
    "elif age>=20:\n",
    "    print(\"MAN\")\n",
    "elif age>=13:\n",
    "    print(\"TEEN\")\n",
    "elif age<=12:\n",
    "    print(\"KID\")\n",
    "print(\"ended\")"
   ]
  },
  {
   "cell_type": "code",
   "execution_count": 88,
   "metadata": {},
   "outputs": [
    {
     "name": "stdout",
     "output_type": "stream",
     "text": [
      "started\n",
      "Enter an age:-10\n",
      "ended\n"
     ]
    }
   ],
   "source": [
    "#age:   <12: kid, >13: teen, >20: man, >55 oldman\n",
    "print(\"started\")\n",
    "age = int(input(\"Enter an age:\"))\n",
    "if age>=55:\n",
    "    print(\"OLDMAND\")\n",
    "elif age>=20:\n",
    "    print(\"MAN\")\n",
    "elif age>=13:\n",
    "    print(\"TEEN\")\n",
    "elif age>0:\n",
    "    print(\"KID\")\n",
    "print(\"ended\")"
   ]
  },
  {
   "cell_type": "code",
   "execution_count": 89,
   "metadata": {},
   "outputs": [
    {
     "name": "stdout",
     "output_type": "stream",
     "text": [
      "started\n",
      "Enter an age:-10\n",
      "Invalid value\n",
      "ended\n"
     ]
    }
   ],
   "source": [
    "#age:   <12: kid, >13: teen, >20: man, >55 oldman\n",
    "print(\"started\")\n",
    "age = int(input(\"Enter an age:\"))\n",
    "if age>=55:\n",
    "    print(\"OLDMAND\")\n",
    "elif age>=20:\n",
    "    print(\"MAN\")\n",
    "elif age>=13:\n",
    "    print(\"TEEN\")\n",
    "elif age>0:\n",
    "    print(\"KID\")\n",
    "else:\n",
    "    print(\"Invalid value\")\n",
    "print(\"ended\")"
   ]
  },
  {
   "cell_type": "code",
   "execution_count": 90,
   "metadata": {},
   "outputs": [
    {
     "name": "stdout",
     "output_type": "stream",
     "text": [
      "started\n",
      "Enter an age:120\n",
      "OLDMAND\n",
      "ended\n"
     ]
    }
   ],
   "source": [
    "#age:   <12: kid, >13: teen, >20: man, >55 oldman\n",
    "print(\"started\")\n",
    "age = int(input(\"Enter an age:\"))\n",
    "if age>=55:\n",
    "    print(\"OLDMAND\")\n",
    "elif age>=20:\n",
    "    print(\"MAN\")\n",
    "elif age>=13:\n",
    "    print(\"TEEN\")\n",
    "elif age>0:\n",
    "    print(\"KID\")\n",
    "else:\n",
    "    print(\"Invalid value\")\n",
    "print(\"ended\")"
   ]
  },
  {
   "cell_type": "code",
   "execution_count": 91,
   "metadata": {},
   "outputs": [
    {
     "name": "stdout",
     "output_type": "stream",
     "text": [
      "started\n",
      "Enter an age:255\n",
      "OLDMAND\n",
      "ended\n"
     ]
    }
   ],
   "source": [
    "#age:   <12: kid, >13: teen, >20: man, >55 oldman\n",
    "print(\"started\")\n",
    "age = int(input(\"Enter an age:\"))\n",
    "if age>=55:\n",
    "    print(\"OLDMAND\")\n",
    "elif age>=20:\n",
    "    print(\"MAN\")\n",
    "elif age>=13:\n",
    "    print(\"TEEN\")\n",
    "elif age>0:\n",
    "    print(\"KID\")\n",
    "else:\n",
    "    print(\"Invalid value\")\n",
    "print(\"ended\")"
   ]
  },
  {
   "cell_type": "code",
   "execution_count": null,
   "metadata": {},
   "outputs": [],
   "source": [
    "print(\"OLDMAN\" if age>=55 else \"MAN\" if age>=20 else )"
   ]
  },
  {
   "cell_type": "code",
   "execution_count": null,
   "metadata": {},
   "outputs": [],
   "source": [
    "# and or xor\n",
    "# bitwise operations\n",
    "# 01000110 and 101101"
   ]
  },
  {
   "cell_type": "code",
   "execution_count": 1,
   "metadata": {},
   "outputs": [
    {
     "name": "stdout",
     "output_type": "stream",
     "text": [
      "Menu: 1. Add\n",
      "\t2.sub\n",
      "\t3.mul\n"
     ]
    }
   ],
   "source": [
    "print(\"Menu: 1. Add\\n\\t2.sub\\n\\t3.mul\")"
   ]
  },
  {
   "cell_type": "code",
   "execution_count": 3,
   "metadata": {},
   "outputs": [
    {
     "name": "stdout",
     "output_type": "stream",
     "text": [
      "Menu: 1. Add\n",
      "\t2.sub\n",
      "\t3.mul\n",
      "Enter an option:1\n",
      "enter number1:12\n",
      "enter number2:34\n",
      "46.0\n"
     ]
    }
   ],
   "source": [
    "print(\"Menu: 1. Add\\n\\t2.sub\\n\\t3.mul\")\n",
    "opt = input(\"Enter an option:\")\n",
    "n1=input(\"enter number1:\")\n",
    "n2=input(\"enter number2:\")\n",
    "n1,n2=float(n1),float(n2)\n",
    "if opt==\"1\":\n",
    "    print(n1+n2)\n",
    "elif opt==\"2\":\n",
    "    print(n1-n2)\n",
    "elif opt==\"3\":\n",
    "    print(n1*n2)\n",
    "else:\n",
    "    print(\"wrong option\")"
   ]
  },
  {
   "cell_type": "code",
   "execution_count": 4,
   "metadata": {},
   "outputs": [
    {
     "name": "stdout",
     "output_type": "stream",
     "text": [
      "Menu: 1. Add\n",
      "\t2.sub\n",
      "\t3.mul\n",
      "Enter an option:2\n",
      "enter number1:34\n",
      "enter number2:26\n",
      "8.0\n"
     ]
    }
   ],
   "source": [
    "print(\"Menu: 1. Add\\n\\t2.sub\\n\\t3.mul\")\n",
    "opt = input(\"Enter an option:\")\n",
    "n1=input(\"enter number1:\")\n",
    "n2=input(\"enter number2:\")\n",
    "n1,n2=float(n1),float(n2)\n",
    "if opt==\"1\":\n",
    "    print(n1+n2)\n",
    "elif opt==\"2\":\n",
    "    print(n1-n2)\n",
    "elif opt==\"3\":\n",
    "    print(n1*n2)\n",
    "else:\n",
    "    print(\"wrong option\")"
   ]
  },
  {
   "cell_type": "code",
   "execution_count": null,
   "metadata": {},
   "outputs": [],
   "source": [
    "print(\"Menu: 1. Add\\n\\t2.sub\\n\\t3.mul\")\n",
    "opt = input(\"Enter an option:\")\n",
    "n1=input(\"enter number1:\")\n",
    "n2=input(\"enter number2:\")\n",
    "n1,n2=float(n1),float(n2)\n",
    "if opt==\"1\":\n",
    "    print(n1+n2)\n",
    "elif opt==\"2\":\n",
    "    print(n1-n2)\n",
    "elif opt==\"3\":\n",
    "    print(n1*n2)\n",
    "else:\n",
    "    print(\"wrong option\")"
   ]
  },
  {
   "cell_type": "code",
   "execution_count": null,
   "metadata": {},
   "outputs": [],
   "source": [
    "print(\"Menu: 1. Add\\n\\t2.sub\\n\\t3.mul\")\n",
    "opt = input(\"Enter an option:\")\n",
    "n1=input(\"enter number1:\")\n",
    "n2=input(\"enter number2:\")\n",
    "n1,n2=float(n1),float(n2)\n",
    "switch opt\n",
    "if opt==\"1\":\n",
    "    print(n1+n2)\n",
    "elif opt==\"2\":\n",
    "    print(n1-n2)\n",
    "elif opt==\"3\":\n",
    "    print(n1*n2)\n",
    "else:\n",
    "    print(\"wrong option\")"
   ]
  },
  {
   "cell_type": "code",
   "execution_count": 5,
   "metadata": {},
   "outputs": [
    {
     "ename": "NameError",
     "evalue": "name 'switch' is not defined",
     "output_type": "error",
     "traceback": [
      "\u001b[1;31m---------------------------------------------------------------------------\u001b[0m",
      "\u001b[1;31mNameError\u001b[0m                                 Traceback (most recent call last)",
      "\u001b[1;32m<ipython-input-5-60bc53b0aea1>\u001b[0m in \u001b[0;36m<module>\u001b[1;34m\u001b[0m\n\u001b[1;32m----> 1\u001b[1;33m \u001b[0mswitch\u001b[0m\u001b[1;33m\u001b[0m\u001b[1;33m\u001b[0m\u001b[0m\n\u001b[0m",
      "\u001b[1;31mNameError\u001b[0m: name 'switch' is not defined"
     ]
    }
   ],
   "source": []
  },
  {
   "cell_type": "code",
   "execution_count": 1,
   "metadata": {},
   "outputs": [
    {
     "name": "stdout",
     "output_type": "stream",
     "text": [
      "Enter number1:12\n",
      "Enter number2:34\n",
      "1. Add\n",
      "2.Sub\n",
      "3.Mul\n",
      "4.Div\n"
     ]
    }
   ],
   "source": [
    "n1=float(input(\"Enter number1:\"))\n",
    "n2=float(input(\"Enter number2:\"))\n",
    "print(\"1.Add\\n2.Sub\\n3.Mul\\n4.Div\")"
   ]
  },
  {
   "cell_type": "code",
   "execution_count": 2,
   "metadata": {},
   "outputs": [
    {
     "name": "stdout",
     "output_type": "stream",
     "text": [
      "Enter number1:12\n",
      "Enter number2:34\n",
      "1.Add\n",
      "2.Sub\n",
      "3.Mul\n",
      "4.Div\n",
      "Enter an option:3\n",
      "3\n"
     ]
    }
   ],
   "source": [
    "n1=float(input(\"Enter number1:\"))\n",
    "n2=float(input(\"Enter number2:\"))\n",
    "print(\"1.Add\\n2.Sub\\n3.Mul\\n4.Div\")\n",
    "opt = input(\"Enter an option:\")\n",
    "print(opt)"
   ]
  },
  {
   "cell_type": "code",
   "execution_count": 3,
   "metadata": {},
   "outputs": [
    {
     "name": "stdout",
     "output_type": "stream",
     "text": [
      "Enter number1:12\n",
      "Enter number2:34\n",
      "1.Add\n",
      "2.Sub\n",
      "3.Mul\n",
      "4.Div\n",
      "Enter an option:2\n",
      "Result= -22.0\n"
     ]
    }
   ],
   "source": [
    "n1=float(input(\"Enter number1:\"))\n",
    "n2=float(input(\"Enter number2:\"))\n",
    "print(\"1.Add\\n2.Sub\\n3.Mul\\n4.Div\")\n",
    "opt = input(\"Enter an option:\")\n",
    "if opt == \"1\":\n",
    "    res=n1+n2\n",
    "if opt == \"2\":\n",
    "    res=n1-n2\n",
    "if opt== \"3\":\n",
    "    res=n1*n2\n",
    "if opt== \"4\":\n",
    "    res=n1/n2\n",
    "print(\"Result=\",res)"
   ]
  },
  {
   "cell_type": "code",
   "execution_count": 4,
   "metadata": {},
   "outputs": [
    {
     "name": "stdout",
     "output_type": "stream",
     "text": [
      "Enter number1:12\n",
      "Enter number2:34\n",
      "1.Add\n",
      "2.Sub\n",
      "3.Mul\n",
      "4.Div\n",
      "Enter an option:3\n",
      "Result= 408.0\n"
     ]
    }
   ],
   "source": [
    "n1=float(input(\"Enter number1:\"))\n",
    "n2=float(input(\"Enter number2:\"))\n",
    "print(\"1.Add\\n2.Sub\\n3.Mul\\n4.Div\")\n",
    "opt = input(\"Enter an option:\")\n",
    "if opt == \"1\":\n",
    "    res=n1+n2\n",
    "if opt == \"2\":\n",
    "    res=n1-n2\n",
    "if opt== \"3\":\n",
    "    res=n1*n2\n",
    "if opt== \"4\":\n",
    "    res=n1/n2\n",
    "print(\"Result=\",res)"
   ]
  },
  {
   "cell_type": "code",
   "execution_count": 5,
   "metadata": {},
   "outputs": [
    {
     "name": "stdout",
     "output_type": "stream",
     "text": [
      "Enter number1:12\n",
      "Enter number2:34\n",
      "1.Add\n",
      "2.Sub\n",
      "3.Mul\n",
      "4.Div\n",
      "Enter an option:6\n",
      "Result= 408.0\n"
     ]
    }
   ],
   "source": [
    "n1=float(input(\"Enter number1:\"))\n",
    "n2=float(input(\"Enter number2:\"))\n",
    "print(\"1.Add\\n2.Sub\\n3.Mul\\n4.Div\")\n",
    "opt = input(\"Enter an option:\")\n",
    "if opt == \"1\":\n",
    "    res=n1+n2\n",
    "if opt == \"2\":\n",
    "    res=n1-n2\n",
    "if opt== \"3\":\n",
    "    res=n1*n2\n",
    "if opt== \"4\":\n",
    "    res=n1/n2\n",
    "print(\"Result=\",res)"
   ]
  },
  {
   "cell_type": "code",
   "execution_count": 6,
   "metadata": {},
   "outputs": [
    {
     "name": "stdout",
     "output_type": "stream",
     "text": [
      "Enter number1:12\n",
      "Enter number2:34\n",
      "1.Add\n",
      "2.Sub\n",
      "3.Mul\n",
      "4.Div\n",
      "Enter an option:6\n",
      "Result= None\n"
     ]
    }
   ],
   "source": [
    "n1=float(input(\"Enter number1:\"))\n",
    "n2=float(input(\"Enter number2:\"))\n",
    "print(\"1.Add\\n2.Sub\\n3.Mul\\n4.Div\")\n",
    "opt = input(\"Enter an option:\")\n",
    "res=None\n",
    "if opt == \"1\":\n",
    "    res=n1+n2\n",
    "if opt == \"2\":\n",
    "    res=n1-n2\n",
    "if opt== \"3\":\n",
    "    res=n1*n2\n",
    "if opt== \"4\":\n",
    "    res=n1/n2\n",
    "print(\"Result=\",res)"
   ]
  },
  {
   "cell_type": "code",
   "execution_count": null,
   "metadata": {},
   "outputs": [],
   "source": [
    "n1=float(input(\"Enter number1:\"))\n",
    "n2=float(input(\"Enter number2:\"))\n",
    "print(\"1.Add\\n2.Sub\\n3.Mul\\n4.Div\")\n",
    "opt = input(\"Enter an option:\")\n",
    "res=None\n",
    "if opt == \"1\":\n",
    "    res=n1+n2\n",
    "if opt == \"2\":\n",
    "    res=n1-n2\n",
    "if opt== \"3\":\n",
    "    res=n1*n2\n",
    "if opt== \"4\":\n",
    "    res=n1/n2\n",
    "print(\"Result=\",res)"
   ]
  },
  {
   "cell_type": "code",
   "execution_count": 7,
   "metadata": {},
   "outputs": [
    {
     "name": "stdout",
     "output_type": "stream",
     "text": [
      "Enter number1:3\n",
      "Enter number2:4\n",
      "1.Add\n",
      "2.Sub\n",
      "3.Mul\n",
      "4.Div\n",
      "Enter an option:3\n",
      "Result= 12.0\n"
     ]
    }
   ],
   "source": [
    "n1=float(input(\"Enter number1:\"))\n",
    "n2=float(input(\"Enter number2:\"))\n",
    "print(\"1.Add\\n2.Sub\\n3.Mul\\n4.Div\")\n",
    "opt = input(\"Enter an option:\")\n",
    "res=None\n",
    "if opt == \"1\":\n",
    "    res=n1+n2\n",
    "elif opt == \"2\":\n",
    "    res=n1-n2\n",
    "elif opt== \"3\":\n",
    "    res=n1*n2\n",
    "elif opt== \"4\":\n",
    "    res=n1/n2\n",
    "print(\"Result=\",res)"
   ]
  },
  {
   "cell_type": "code",
   "execution_count": 8,
   "metadata": {},
   "outputs": [
    {
     "name": "stdout",
     "output_type": "stream",
     "text": [
      "Enter number1:3\n",
      "Enter number2:4\n",
      "1.Add\n",
      "2.Sub\n",
      "3.Mul\n",
      "4.Div\n",
      "Enter an option:1\n",
      "Result= 7.0\n"
     ]
    }
   ],
   "source": [
    "n1=float(input(\"Enter number1:\"))\n",
    "n2=float(input(\"Enter number2:\"))\n",
    "print(\"1.Add\\n2.Sub\\n3.Mul\\n4.Div\")\n",
    "opt = input(\"Enter an option:\")\n",
    "res=None\n",
    "if opt == \"1\":\n",
    "    res=n1+n2\n",
    "elif opt == \"2\":\n",
    "    res=n1-n2\n",
    "elif opt== \"3\":\n",
    "    res=n1*n2\n",
    "elif opt== \"4\":\n",
    "    res=n1/n2\n",
    "else:\n",
    "    print(\"Wrong option.\")\n",
    "print(\"Result=\",res)"
   ]
  },
  {
   "cell_type": "code",
   "execution_count": 9,
   "metadata": {},
   "outputs": [
    {
     "name": "stdout",
     "output_type": "stream",
     "text": [
      "Enter number1:3\n",
      "Enter number2:4\n",
      "1.Add\n",
      "2.Sub\n",
      "3.Mul\n",
      "4.Div\n",
      "Enter an option:7\n",
      "Wrong option.\n",
      "Result= None\n"
     ]
    }
   ],
   "source": [
    "n1=float(input(\"Enter number1:\"))\n",
    "n2=float(input(\"Enter number2:\"))\n",
    "print(\"1.Add\\n2.Sub\\n3.Mul\\n4.Div\")\n",
    "opt = input(\"Enter an option:\")\n",
    "res=None\n",
    "if opt == \"1\":\n",
    "    res=n1+n2\n",
    "elif opt == \"2\":\n",
    "    res=n1-n2\n",
    "elif opt== \"3\":\n",
    "    res=n1*n2\n",
    "elif opt== \"4\":\n",
    "    res=n1/n2\n",
    "else:\n",
    "    print(\"Wrong option.\")\n",
    "print(\"Result=\",res)"
   ]
  },
  {
   "cell_type": "code",
   "execution_count": 10,
   "metadata": {},
   "outputs": [
    {
     "name": "stdout",
     "output_type": "stream",
     "text": [
      "Enter number:12\n",
      "+VE\n"
     ]
    }
   ],
   "source": [
    "number = float(input(\"Enter number:\"))\n",
    "if number>=0:\n",
    "    print(\"+VE\")\n",
    "else:\n",
    "    print(\"-VE\")"
   ]
  },
  {
   "cell_type": "code",
   "execution_count": 11,
   "metadata": {},
   "outputs": [
    {
     "name": "stdout",
     "output_type": "stream",
     "text": [
      "Enter number:-123\n",
      "-VE\n"
     ]
    }
   ],
   "source": [
    "number = float(input(\"Enter number:\"))\n",
    "print(\"+VE\" if number>=0 else \"-VE\")"
   ]
  },
  {
   "cell_type": "code",
   "execution_count": 12,
   "metadata": {},
   "outputs": [
    {
     "name": "stdout",
     "output_type": "stream",
     "text": [
      "Enter number:10\n",
      "+VE\n"
     ]
    }
   ],
   "source": [
    "number = float(input(\"Enter number:\"))\n",
    "    print(\"+VE\" if number>=0 else \"-VE\")"
   ]
  },
  {
   "cell_type": "code",
   "execution_count": null,
   "metadata": {},
   "outputs": [],
   "source": []
  }
 ],
 "metadata": {
  "kernelspec": {
   "display_name": "Python 3",
   "language": "python",
   "name": "python3"
  },
  "language_info": {
   "codemirror_mode": {
    "name": "ipython",
    "version": 3
   },
   "file_extension": ".py",
   "mimetype": "text/x-python",
   "name": "python",
   "nbconvert_exporter": "python",
   "pygments_lexer": "ipython3",
   "version": "3.8.3"
  }
 },
 "nbformat": 4,
 "nbformat_minor": 4
}
