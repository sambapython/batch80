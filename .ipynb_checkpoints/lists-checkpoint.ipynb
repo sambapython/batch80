{
 "cells": [
  {
   "cell_type": "code",
   "execution_count": 2,
   "metadata": {},
   "outputs": [
    {
     "name": "stdout",
     "output_type": "stream",
     "text": [
      "[1, 2, 3, 4]\n",
      "['1', '2', '3', '4']\n",
      "['apple', 'orange', 'grape']\n"
     ]
    }
   ],
   "source": [
    "l=[1,2,3,4]\n",
    "print(l)\n",
    "s=\"1234\"\n",
    "k=list(s)\n",
    "print(k)\n",
    "s=\"apple;orange;grape\"\n",
    "m=s.split(\";\")\n",
    "print(m)"
   ]
  },
  {
   "cell_type": "code",
   "execution_count": 3,
   "metadata": {},
   "outputs": [
    {
     "name": "stdout",
     "output_type": "stream",
     "text": [
      "[1, 1.2, (1+2j), True, None, [10, 20, 30, 40], (1, 2, 3, 4), {'k1': 'v1'}, {1, 2, 3, 4}]\n"
     ]
    }
   ],
   "source": [
    "l=[1,1.2,1+2j,True,None,[10,20,30,40],(1,2,3,4),{\"k1\":\"v1\"},{1,2,3,4}]\n",
    "print(l)"
   ]
  },
  {
   "cell_type": "code",
   "execution_count": 4,
   "metadata": {},
   "outputs": [
    {
     "name": "stdout",
     "output_type": "stream",
     "text": [
      "[[1, 2, 3, 4], 10, 20, [30, 40, 50, [60, 70], 80], 90]\n"
     ]
    }
   ],
   "source": [
    "l=[[1,2,3,4],10,20,[30,40,50,[60,70],80],90]\n",
    "print(l)"
   ]
  },
  {
   "cell_type": "code",
   "execution_count": 5,
   "metadata": {},
   "outputs": [
    {
     "name": "stdout",
     "output_type": "stream",
     "text": [
      "[[1, 2, 3, 4], 10, 20, [30, 40, 50, [60, 70], 80], 90]\n",
      "5\n"
     ]
    }
   ],
   "source": [
    "l=[[1,2,3,4],10,20,[30,40,50,[60,70],80],90]\n",
    "print(l)\n",
    "print(len(l))"
   ]
  },
  {
   "cell_type": "code",
   "execution_count": 6,
   "metadata": {},
   "outputs": [
    {
     "name": "stdout",
     "output_type": "stream",
     "text": [
      "[[1, 2, 3, 4], 10, 20, [30, 40, 50, [60, 70], 80], 90]\n",
      "5\n",
      "[1, 2, 3, 4]\n",
      "10\n"
     ]
    }
   ],
   "source": [
    "l=[[1,2,3,4],10,20,[30,40,50,[60,70],80],90]\n",
    "print(l)\n",
    "print(len(l))\n",
    "print(l[0])\n",
    "print(l[1])"
   ]
  },
  {
   "cell_type": "code",
   "execution_count": 7,
   "metadata": {},
   "outputs": [
    {
     "name": "stdout",
     "output_type": "stream",
     "text": [
      "[[1, 2, 3, 4], 10, 20, [30, 40, 50, [60, 70], 80], 90]\n",
      "5\n",
      "[1, 2, 3, 4]\n",
      "10\n",
      "[30, 40, 50, [60, 70], 80]\n"
     ]
    }
   ],
   "source": [
    "l=[[1,2,3,4],10,20,[30,40,50,[60,70],80],90]\n",
    "print(l)\n",
    "print(len(l))\n",
    "print(l[0])\n",
    "print(l[1])\n",
    "print(l[3])"
   ]
  },
  {
   "cell_type": "code",
   "execution_count": 8,
   "metadata": {},
   "outputs": [
    {
     "name": "stdout",
     "output_type": "stream",
     "text": [
      "[[1, 2, 3, 4], 10, 20, [30, 40, 50, [60, 70], 80], 90]\n",
      "5\n",
      "[1, 2, 3, 4]\n",
      "10\n",
      "[30, 40, 50, [60, 70], 80]\n",
      "30\n"
     ]
    }
   ],
   "source": [
    "l=[[1,2,3,4],10,20,[30,40,50,[60,70],80],90]\n",
    "print(l)\n",
    "print(len(l))\n",
    "print(l[0])\n",
    "print(l[1])\n",
    "print(l[3])\n",
    "print(l[3][0])"
   ]
  },
  {
   "cell_type": "code",
   "execution_count": 9,
   "metadata": {},
   "outputs": [
    {
     "name": "stdout",
     "output_type": "stream",
     "text": [
      "[[1, 2, 3, 4], 10, 20, [30, 40, 50, [60, 70], 80], 90]\n",
      "5\n",
      "[1, 2, 3, 4]\n",
      "10\n",
      "[30, 40, 50, [60, 70], 80]\n",
      "[60, 70]\n"
     ]
    }
   ],
   "source": [
    "l=[[1,2,3,4],10,20,[30,40,50,[60,70],80],90]\n",
    "print(l)\n",
    "print(len(l))\n",
    "print(l[0])\n",
    "print(l[1])\n",
    "print(l[3])\n",
    "print(l[3][3])"
   ]
  },
  {
   "cell_type": "code",
   "execution_count": 10,
   "metadata": {},
   "outputs": [
    {
     "name": "stdout",
     "output_type": "stream",
     "text": [
      "[[1, 2, 3, 4], 10, 20, [30, 40, 50, [60, 70], 80], 90]\n",
      "5\n",
      "[1, 2, 3, 4]\n",
      "10\n",
      "[30, 40, 50, [60, 70], 80]\n",
      "70\n"
     ]
    }
   ],
   "source": [
    "l=[[1,2,3,4],10,20,[30,40,50,[60,70],80],90]\n",
    "print(l)\n",
    "print(len(l))\n",
    "print(l[0])\n",
    "print(l[1])\n",
    "print(l[3])\n",
    "print(l[3][3][1])"
   ]
  },
  {
   "cell_type": "code",
   "execution_count": 11,
   "metadata": {},
   "outputs": [
    {
     "name": "stdout",
     "output_type": "stream",
     "text": [
      "grap\n"
     ]
    }
   ],
   "source": [
    "l=[\"apple\",\"ornage\",\"grape\"]\n",
    "print(l[2])"
   ]
  },
  {
   "cell_type": "code",
   "execution_count": 12,
   "metadata": {},
   "outputs": [
    {
     "name": "stdout",
     "output_type": "stream",
     "text": [
      "r\n"
     ]
    }
   ],
   "source": [
    "l=[\"apple\",\"ornage\",\"grape\"]\n",
    "print(l[2][1])"
   ]
  },
  {
   "cell_type": "code",
   "execution_count": 14,
   "metadata": {},
   "outputs": [
    {
     "name": "stdout",
     "output_type": "stream",
     "text": [
      "ape\n"
     ]
    }
   ],
   "source": [
    "l=[\"apple\",\"ornage\",\"grape\"]\n",
    "print(l[2][2:10])"
   ]
  },
  {
   "cell_type": "code",
   "execution_count": 15,
   "metadata": {},
   "outputs": [
    {
     "name": "stdout",
     "output_type": "stream",
     "text": [
      "[30, 40, 50, 60]\n"
     ]
    }
   ],
   "source": [
    "l=[10,20,30,40,50,60]\n",
    "print(l[2:6])"
   ]
  },
  {
   "cell_type": "code",
   "execution_count": 16,
   "metadata": {},
   "outputs": [
    {
     "name": "stdout",
     "output_type": "stream",
     "text": [
      "[1, 2, 3, 4, 5, 6, 7, 8]\n"
     ]
    }
   ],
   "source": [
    "l1=[1,2,3,4]\n",
    "l2=[5,6,7,8]\n",
    "print(l1+l2)"
   ]
  },
  {
   "cell_type": "code",
   "execution_count": 17,
   "metadata": {},
   "outputs": [
    {
     "ename": "TypeError",
     "evalue": "can only concatenate list (not \"int\") to list",
     "output_type": "error",
     "traceback": [
      "\u001b[1;31m---------------------------------------------------------------------------\u001b[0m",
      "\u001b[1;31mTypeError\u001b[0m                                 Traceback (most recent call last)",
      "\u001b[1;32m<ipython-input-17-b4502321157b>\u001b[0m in \u001b[0;36m<module>\u001b[1;34m\u001b[0m\n\u001b[0;32m      1\u001b[0m \u001b[0ml1\u001b[0m\u001b[1;33m=\u001b[0m\u001b[1;33m[\u001b[0m\u001b[1;36m1\u001b[0m\u001b[1;33m,\u001b[0m\u001b[1;36m2\u001b[0m\u001b[1;33m,\u001b[0m\u001b[1;36m3\u001b[0m\u001b[1;33m,\u001b[0m\u001b[1;36m4\u001b[0m\u001b[1;33m]\u001b[0m\u001b[1;33m\u001b[0m\u001b[1;33m\u001b[0m\u001b[0m\n\u001b[0;32m      2\u001b[0m \u001b[0ma\u001b[0m\u001b[1;33m=\u001b[0m\u001b[1;36m10\u001b[0m\u001b[1;33m\u001b[0m\u001b[1;33m\u001b[0m\u001b[0m\n\u001b[1;32m----> 3\u001b[1;33m \u001b[0mprint\u001b[0m\u001b[1;33m(\u001b[0m\u001b[0ml1\u001b[0m\u001b[1;33m+\u001b[0m\u001b[0ma\u001b[0m\u001b[1;33m)\u001b[0m\u001b[1;33m\u001b[0m\u001b[1;33m\u001b[0m\u001b[0m\n\u001b[0m",
      "\u001b[1;31mTypeError\u001b[0m: can only concatenate list (not \"int\") to list"
     ]
    }
   ],
   "source": [
    "l1=[1,2,3,4]\n",
    "a=10\n",
    "print(l1+a)"
   ]
  },
  {
   "cell_type": "code",
   "execution_count": 18,
   "metadata": {},
   "outputs": [
    {
     "name": "stdout",
     "output_type": "stream",
     "text": [
      "[1, 2, 3, 4, 1, 2, 3, 4, 1, 2, 3, 4, 1, 2, 3, 4, 1, 2, 3, 4, 1, 2, 3, 4, 1, 2, 3, 4, 1, 2, 3, 4, 1, 2, 3, 4, 1, 2, 3, 4]\n"
     ]
    }
   ],
   "source": [
    "l1=[1,2,3,4]\n",
    "a=10\n",
    "print(l1*a)"
   ]
  },
  {
   "cell_type": "code",
   "execution_count": 19,
   "metadata": {},
   "outputs": [
    {
     "name": "stdout",
     "output_type": "stream",
     "text": [
      "[1, 2, 3, 4, 5]\n"
     ]
    }
   ],
   "source": [
    "l1=[1,2,3,4]\n",
    "a=5\n",
    "print(l1+[a])"
   ]
  },
  {
   "cell_type": "code",
   "execution_count": 20,
   "metadata": {},
   "outputs": [
    {
     "name": "stdout",
     "output_type": "stream",
     "text": [
      "[1, 2, 3, 4, 5]\n"
     ]
    },
    {
     "ename": "TypeError",
     "evalue": "can only concatenate list (not \"int\") to list",
     "output_type": "error",
     "traceback": [
      "\u001b[1;31m---------------------------------------------------------------------------\u001b[0m",
      "\u001b[1;31mTypeError\u001b[0m                                 Traceback (most recent call last)",
      "\u001b[1;32m<ipython-input-20-4789eeb8c0ea>\u001b[0m in \u001b[0;36m<module>\u001b[1;34m\u001b[0m\n\u001b[0;32m      2\u001b[0m \u001b[0ma\u001b[0m\u001b[1;33m=\u001b[0m\u001b[1;36m5\u001b[0m\u001b[1;33m\u001b[0m\u001b[1;33m\u001b[0m\u001b[0m\n\u001b[0;32m      3\u001b[0m \u001b[0mprint\u001b[0m\u001b[1;33m(\u001b[0m\u001b[0ml1\u001b[0m\u001b[1;33m+\u001b[0m\u001b[1;33m[\u001b[0m\u001b[0ma\u001b[0m\u001b[1;33m]\u001b[0m\u001b[1;33m)\u001b[0m\u001b[1;33m\u001b[0m\u001b[1;33m\u001b[0m\u001b[0m\n\u001b[1;32m----> 4\u001b[1;33m \u001b[0mprint\u001b[0m\u001b[1;33m(\u001b[0m\u001b[0ml1\u001b[0m\u001b[1;33m+\u001b[0m\u001b[0ma\u001b[0m\u001b[1;33m)\u001b[0m\u001b[1;33m\u001b[0m\u001b[1;33m\u001b[0m\u001b[0m\n\u001b[0m",
      "\u001b[1;31mTypeError\u001b[0m: can only concatenate list (not \"int\") to list"
     ]
    }
   ],
   "source": [
    "l1=[1,2,3,4]\n",
    "a=5\n",
    "print(l1+[a])\n",
    "print(l1+a)"
   ]
  },
  {
   "cell_type": "code",
   "execution_count": 21,
   "metadata": {},
   "outputs": [
    {
     "name": "stdout",
     "output_type": "stream",
     "text": [
      "[100, 20, 30, 40]\n"
     ]
    }
   ],
   "source": [
    "l=[10,20,30,40]\n",
    "l[0]=100\n",
    "print(l)"
   ]
  },
  {
   "cell_type": "code",
   "execution_count": 22,
   "metadata": {},
   "outputs": [
    {
     "name": "stdout",
     "output_type": "stream",
     "text": [
      "[10, 20, 30, 40] [10, 20, 30, 40]\n"
     ]
    }
   ],
   "source": [
    "l=[10,20,30,40]\n",
    "k=l\n",
    "print(l,k)"
   ]
  },
  {
   "cell_type": "code",
   "execution_count": null,
   "metadata": {},
   "outputs": [],
   "source": [
    "l=[10,20,30,40]\n",
    "k=l\n",
    "print(l,k)\n",
    "l[0]=100\n",
    "print(l,k)"
   ]
  },
  {
   "cell_type": "code",
   "execution_count": 23,
   "metadata": {},
   "outputs": [
    {
     "name": "stdout",
     "output_type": "stream",
     "text": [
      "10\n"
     ]
    }
   ],
   "source": [
    "a=10\n",
    "b=a\n",
    "a=1000\n",
    "print(b)"
   ]
  },
  {
   "cell_type": "code",
   "execution_count": 24,
   "metadata": {},
   "outputs": [
    {
     "name": "stdout",
     "output_type": "stream",
     "text": [
      "[10, 20, 30, 40] [10, 20, 30, 40]\n",
      "[100, 20, 30, 40] [100, 20, 30, 40]\n"
     ]
    }
   ],
   "source": [
    "l=[10,20,30,40]\n",
    "k=l\n",
    "print(l,k)\n",
    "l[0]=100\n",
    "print(l,k)"
   ]
  },
  {
   "cell_type": "code",
   "execution_count": null,
   "metadata": {},
   "outputs": [],
   "source": [
    "l=[[10,20],[50,60]]\n",
    "k=l\n",
    "m=l.copy()\n",
    "l[0][0]=1000\n",
    "print(l)\n",
    "print(k)\n",
    "print(m)"
   ]
  },
  {
   "cell_type": "code",
   "execution_count": 25,
   "metadata": {},
   "outputs": [
    {
     "name": "stdout",
     "output_type": "stream",
     "text": [
      "[10, 20]\n"
     ]
    }
   ],
   "source": [
    "l=[[10,20],[50,60]]\n",
    "print(l[0])"
   ]
  },
  {
   "cell_type": "code",
   "execution_count": 26,
   "metadata": {},
   "outputs": [
    {
     "name": "stdout",
     "output_type": "stream",
     "text": [
      "10\n"
     ]
    }
   ],
   "source": [
    "l=[[10,20],[50,60]]\n",
    "print(l[0][0])"
   ]
  },
  {
   "cell_type": "code",
   "execution_count": 27,
   "metadata": {},
   "outputs": [
    {
     "name": "stdout",
     "output_type": "stream",
     "text": [
      "10\n",
      "[[1000, 20], [50, 60]]\n"
     ]
    }
   ],
   "source": [
    "l=[[10,20],[50,60]]\n",
    "print(l[0][0])\n",
    "l[0][0]=1000\n",
    "print(l)"
   ]
  },
  {
   "cell_type": "code",
   "execution_count": 28,
   "metadata": {},
   "outputs": [
    {
     "name": "stdout",
     "output_type": "stream",
     "text": [
      "[[1000, 20], [50, 60]]\n",
      "[[1000, 20], [50, 60]]\n",
      "[[1000, 20], [50, 60]]\n"
     ]
    }
   ],
   "source": [
    "l=[[10,20],[50,60]]\n",
    "k=l\n",
    "m=l.copy()\n",
    "l[0][0]=1000\n",
    "print(l)\n",
    "print(k)\n",
    "print(m)"
   ]
  },
  {
   "cell_type": "code",
   "execution_count": 30,
   "metadata": {},
   "outputs": [
    {
     "name": "stdout",
     "output_type": "stream",
     "text": [
      "[1000, 20, 50, 60]\n",
      "[1000, 20, 50, 60]\n",
      "[10, 20, 50, 60]\n"
     ]
    }
   ],
   "source": [
    "l=[10,20,50,60]\n",
    "k=l\n",
    "m=l.copy()\n",
    "l[0]=1000\n",
    "print(l)\n",
    "print(k)\n",
    "print(m)"
   ]
  },
  {
   "cell_type": "code",
   "execution_count": 31,
   "metadata": {},
   "outputs": [
    {
     "name": "stdout",
     "output_type": "stream",
     "text": [
      "[[1000, 20], [50, 60]]\n",
      "[[1000, 20], [50, 60]]\n",
      "[[1000, 20], [50, 60]]\n"
     ]
    }
   ],
   "source": [
    "l=[[10,20],[50,60]]\n",
    "k=l\n",
    "m=l.copy()\n",
    "l[0][0]=1000\n",
    "print(l)\n",
    "print(k)\n",
    "print(m)"
   ]
  },
  {
   "cell_type": "code",
   "execution_count": 32,
   "metadata": {},
   "outputs": [
    {
     "name": "stdout",
     "output_type": "stream",
     "text": [
      "[[1000, 20], [50, 60]]\n",
      "[[1000, 20], [50, 60]]\n",
      "[[1000, 20], [50, 60]]\n",
      "[[10, 20], [50, 60]]\n"
     ]
    }
   ],
   "source": [
    "from copy import deepcopy\n",
    "l=[[10,20],[50,60]]\n",
    "k=l\n",
    "m=l.copy()\n",
    "n=deepcopy(l)\n",
    "l[0][0]=1000\n",
    "print(l)\n",
    "print(k)\n",
    "print(m)\n",
    "print(n)"
   ]
  },
  {
   "cell_type": "code",
   "execution_count": 33,
   "metadata": {},
   "outputs": [
    {
     "name": "stdout",
     "output_type": "stream",
     "text": [
      "k= None\n",
      "l [10, 20, 30, 40, 50]\n"
     ]
    }
   ],
   "source": [
    "l=[10,20,30,40]\n",
    "k=l.append(50)\n",
    "print(\"k=\",k)\n",
    "print(\"l\",l)"
   ]
  },
  {
   "cell_type": "code",
   "execution_count": 34,
   "metadata": {},
   "outputs": [
    {
     "name": "stdout",
     "output_type": "stream",
     "text": [
      "k= [10, 20, 30, 40, 50]\n",
      "l [10, 20, 30, 40]\n"
     ]
    }
   ],
   "source": [
    "l=[10,20,30,40]\n",
    "k=l+[50]\n",
    "print(\"k=\",k)\n",
    "print(\"l\",l)"
   ]
  },
  {
   "cell_type": "code",
   "execution_count": null,
   "metadata": {},
   "outputs": [],
   "source": [
    "l=[10,20,30,40]\n",
    "k=l+[50]\n",
    "m=l.aapend(60)\n",
    "print(\"k=\",k)\n",
    "print(\"l=\",l)\n",
    "print(\"m=\",m)"
   ]
  },
  {
   "cell_type": "code",
   "execution_count": 35,
   "metadata": {},
   "outputs": [
    {
     "name": "stdout",
     "output_type": "stream",
     "text": [
      "[[10, 20], [50, 60], 70]\n"
     ]
    }
   ],
   "source": [
    "l=[[10,20],[50,60]]\n",
    "k=l+[70]\n",
    "print(k)"
   ]
  },
  {
   "cell_type": "code",
   "execution_count": 36,
   "metadata": {},
   "outputs": [
    {
     "name": "stdout",
     "output_type": "stream",
     "text": [
      "[[10, 20], [50, 60], 70]\n",
      "[[1000, 20], [50, 60], 70]\n"
     ]
    }
   ],
   "source": [
    "l=[[10,20],[50,60]]\n",
    "k=l+[70]# for k, l is not deep copy\n",
    "print(k)\n",
    "l[0][0]=1000\n",
    "print(k)"
   ]
  },
  {
   "cell_type": "code",
   "execution_count": 39,
   "metadata": {},
   "outputs": [
    {
     "name": "stdout",
     "output_type": "stream",
     "text": [
      "[10, 20, 30, 40, 70]\n",
      "[1000, 20, 30, 40]\n",
      "[10, 20, 30, 40, 70]\n"
     ]
    }
   ],
   "source": [
    "l=[10,20,30,40]\n",
    "k=l+[70]# for k, l is shallow copy\n",
    "print(k)\n",
    "l[0]=1000\n",
    "print(l)\n",
    "print(k)"
   ]
  },
  {
   "cell_type": "code",
   "execution_count": null,
   "metadata": {},
   "outputs": [],
   "source": [
    "l=[10,20,30,40]\n",
    "k=l+[70]# for k, l is shallow copy\n",
    "print(k)\n",
    "l[0]=1000\n",
    "print(l)\n",
    "print(k)"
   ]
  },
  {
   "cell_type": "code",
   "execution_count": 41,
   "metadata": {},
   "outputs": [
    {
     "name": "stdout",
     "output_type": "stream",
     "text": [
      "[10, 20, 30, 40, 'python']\n",
      "None\n"
     ]
    }
   ],
   "source": [
    "l=[10,20,30,40]\n",
    "k=l.append(\"python\")\n",
    "print(l)\n",
    "print(k)"
   ]
  },
  {
   "cell_type": "code",
   "execution_count": 42,
   "metadata": {},
   "outputs": [
    {
     "name": "stdout",
     "output_type": "stream",
     "text": [
      "[10, 20, 30, 40, 'p', 'y', 't', 'h', 'o', 'n']\n",
      "None\n"
     ]
    }
   ],
   "source": [
    "l=[10,20,30,40]\n",
    "k=l.extend(\"python\")\n",
    "print(l)\n",
    "print(k)"
   ]
  },
  {
   "cell_type": "code",
   "execution_count": 43,
   "metadata": {},
   "outputs": [
    {
     "name": "stdout",
     "output_type": "stream",
     "text": [
      "[10, 20, 30, 40, 'p', 'y', 't', 'h', 'o', 'n']\n",
      "None\n"
     ]
    }
   ],
   "source": [
    "l=[10,20,30,40]\n",
    "#k=l.extend(\"python\")\n",
    "for i in \"python\":\n",
    "    l.append(i)\n",
    "print(l)\n",
    "print(k)"
   ]
  },
  {
   "cell_type": "code",
   "execution_count": 45,
   "metadata": {},
   "outputs": [
    {
     "name": "stdout",
     "output_type": "stream",
     "text": [
      "[1000, 10, 20, 30, 40]\n",
      "None\n"
     ]
    }
   ],
   "source": [
    "l=[10,20,30,40]\n",
    "k=l.insert(0,1000)\n",
    "print(l)\n",
    "print(k)\n"
   ]
  },
  {
   "cell_type": "code",
   "execution_count": 46,
   "metadata": {},
   "outputs": [
    {
     "name": "stdout",
     "output_type": "stream",
     "text": [
      "[10, 1000, 20, 30, 40]\n",
      "None\n"
     ]
    }
   ],
   "source": [
    "l=[10,20,30,40]\n",
    "k=l.insert(1,1000)\n",
    "print(l)\n",
    "print(k)\n"
   ]
  },
  {
   "cell_type": "code",
   "execution_count": 47,
   "metadata": {},
   "outputs": [
    {
     "name": "stdout",
     "output_type": "stream",
     "text": [
      "[10, 20, 30]\n",
      "40\n"
     ]
    }
   ],
   "source": [
    "l=[10,20,30,40]\n",
    "k=l.pop()\n",
    "print(l)\n",
    "print(k)\n"
   ]
  },
  {
   "cell_type": "code",
   "execution_count": 48,
   "metadata": {},
   "outputs": [
    {
     "name": "stdout",
     "output_type": "stream",
     "text": [
      "[10, 30, 40]\n",
      "20\n"
     ]
    }
   ],
   "source": [
    "l=[10,20,30,40]\n",
    "k=l.pop(1)\n",
    "print(l)\n",
    "print(k)\n"
   ]
  },
  {
   "cell_type": "code",
   "execution_count": 49,
   "metadata": {},
   "outputs": [
    {
     "name": "stdout",
     "output_type": "stream",
     "text": [
      "[10, 30, 40]\n",
      "None\n"
     ]
    }
   ],
   "source": [
    "l=[10,20,30,40]\n",
    "k=l.remove(20)\n",
    "print(l)\n",
    "print(k)\n"
   ]
  },
  {
   "cell_type": "code",
   "execution_count": 50,
   "metadata": {},
   "outputs": [
    {
     "name": "stdout",
     "output_type": "stream",
     "text": [
      "[10, 20, 30, 40]\n",
      "1\n"
     ]
    }
   ],
   "source": [
    "l=[10,20,30,40]\n",
    "k=l.index(20)\n",
    "print(l)\n",
    "print(k)\n"
   ]
  },
  {
   "cell_type": "code",
   "execution_count": 51,
   "metadata": {},
   "outputs": [
    {
     "name": "stdout",
     "output_type": "stream",
     "text": [
      "[10, 20, 30, 40]\n",
      "None\n"
     ]
    }
   ],
   "source": [
    "l=[20,10,30,40]\n",
    "k=l.sort()\n",
    "print(l)\n",
    "print(k)"
   ]
  },
  {
   "cell_type": "code",
   "execution_count": 52,
   "metadata": {},
   "outputs": [
    {
     "name": "stdout",
     "output_type": "stream",
     "text": [
      "[40, 30, 20, 10]\n",
      "None\n"
     ]
    }
   ],
   "source": [
    "l=[20,10,30,40]\n",
    "k=l.sort(reverse=True)\n",
    "print(l)\n",
    "print(k)"
   ]
  },
  {
   "cell_type": "code",
   "execution_count": 53,
   "metadata": {},
   "outputs": [
    {
     "name": "stdout",
     "output_type": "stream",
     "text": [
      "[40, 30, 10, 20]\n",
      "None\n"
     ]
    }
   ],
   "source": [
    "l=[20,10,30,40]\n",
    "k=l.reverse()\n",
    "print(l)\n",
    "print(k)"
   ]
  },
  {
   "cell_type": "code",
   "execution_count": 54,
   "metadata": {},
   "outputs": [
    {
     "name": "stdout",
     "output_type": "stream",
     "text": [
      "['__add__', '__class__', '__contains__', '__delattr__', '__delitem__', '__dir__', '__doc__', '__eq__', '__format__', '__ge__', '__getattribute__', '__getitem__', '__gt__', '__hash__', '__iadd__', '__imul__', '__init__', '__init_subclass__', '__iter__', '__le__', '__len__', '__lt__', '__mul__', '__ne__', '__new__', '__reduce__', '__reduce_ex__', '__repr__', '__reversed__', '__rmul__', '__setattr__', '__setitem__', '__sizeof__', '__str__', '__subclasshook__', 'append', 'clear', 'copy', 'count', 'extend', 'index', 'insert', 'pop', 'remove', 'reverse', 'sort']\n"
     ]
    }
   ],
   "source": [
    "print(dir(l))"
   ]
  },
  {
   "cell_type": "code",
   "execution_count": 55,
   "metadata": {},
   "outputs": [
    {
     "name": "stdout",
     "output_type": "stream",
     "text": [
      "[]\n",
      "None\n"
     ]
    }
   ],
   "source": [
    "l=[20,10,30,40]\n",
    "k=l.clear()\n",
    "print(l)\n",
    "print(k)"
   ]
  },
  {
   "cell_type": "code",
   "execution_count": 56,
   "metadata": {},
   "outputs": [],
   "source": [
    "# how empty string impact the string functions"
   ]
  },
  {
   "cell_type": "code",
   "execution_count": 57,
   "metadata": {},
   "outputs": [],
   "source": [
    "#how the out of index will impact the list functions"
   ]
  },
  {
   "cell_type": "code",
   "execution_count": 58,
   "metadata": {},
   "outputs": [
    {
     "name": "stdout",
     "output_type": "stream",
     "text": [
      "1\n"
     ]
    }
   ],
   "source": [
    "s=\"python\"\n",
    "print(s.count(\"p\"))"
   ]
  },
  {
   "cell_type": "code",
   "execution_count": 59,
   "metadata": {},
   "outputs": [
    {
     "name": "stdout",
     "output_type": "stream",
     "text": [
      "7\n"
     ]
    }
   ],
   "source": [
    "s=\"python\"\n",
    "print(s.count(\"\"))"
   ]
  },
  {
   "cell_type": "code",
   "execution_count": 60,
   "metadata": {},
   "outputs": [
    {
     "ename": "IndexError",
     "evalue": "pop index out of range",
     "output_type": "error",
     "traceback": [
      "\u001b[1;31m---------------------------------------------------------------------------\u001b[0m",
      "\u001b[1;31mIndexError\u001b[0m                                Traceback (most recent call last)",
      "\u001b[1;32m<ipython-input-60-e375d86174ca>\u001b[0m in \u001b[0;36m<module>\u001b[1;34m\u001b[0m\n\u001b[0;32m      1\u001b[0m \u001b[0ml\u001b[0m\u001b[1;33m=\u001b[0m\u001b[1;33m[\u001b[0m\u001b[1;36m20\u001b[0m\u001b[1;33m,\u001b[0m\u001b[1;36m10\u001b[0m\u001b[1;33m,\u001b[0m\u001b[1;36m30\u001b[0m\u001b[1;33m,\u001b[0m\u001b[1;36m40\u001b[0m\u001b[1;33m]\u001b[0m\u001b[1;33m\u001b[0m\u001b[1;33m\u001b[0m\u001b[0m\n\u001b[1;32m----> 2\u001b[1;33m \u001b[0mprint\u001b[0m\u001b[1;33m(\u001b[0m\u001b[0ml\u001b[0m\u001b[1;33m.\u001b[0m\u001b[0mpop\u001b[0m\u001b[1;33m(\u001b[0m\u001b[1;36m5\u001b[0m\u001b[1;33m)\u001b[0m\u001b[1;33m)\u001b[0m\u001b[1;33m\u001b[0m\u001b[1;33m\u001b[0m\u001b[0m\n\u001b[0m",
      "\u001b[1;31mIndexError\u001b[0m: pop index out of range"
     ]
    }
   ],
   "source": [
    "l=[20,10,30,40]\n",
    "print(l.pop(5))"
   ]
  },
  {
   "cell_type": "code",
   "execution_count": null,
   "metadata": {},
   "outputs": [],
   "source": []
  }
 ],
 "metadata": {
  "kernelspec": {
   "display_name": "Python 3",
   "language": "python",
   "name": "python3"
  },
  "language_info": {
   "codemirror_mode": {
    "name": "ipython",
    "version": 3
   },
   "file_extension": ".py",
   "mimetype": "text/x-python",
   "name": "python",
   "nbconvert_exporter": "python",
   "pygments_lexer": "ipython3",
   "version": "3.8.3"
  }
 },
 "nbformat": 4,
 "nbformat_minor": 4
}
