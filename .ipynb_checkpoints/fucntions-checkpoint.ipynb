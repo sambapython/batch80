{
 "cells": [
  {
   "cell_type": "code",
   "execution_count": 1,
   "metadata": {},
   "outputs": [
    {
     "name": "stdout",
     "output_type": "stream",
     "text": [
      "a=10, b=20, res=30\n",
      "1\n",
      "2\n",
      "a=100, b=200, res=300\n",
      "hederabad\n",
      "chennail\n",
      "a=1000, b=2000, res=3000\n",
      "hello\n",
      "hi\n",
      "a=10000, b=20000, res=30000\n"
     ]
    }
   ],
   "source": [
    "a=10\n",
    "b=20\n",
    "res=a+b\n",
    "print(f\"a={a}, b={b}, res={a+b}\")\n",
    "print(\"1\")\n",
    "print(\"2\")\n",
    "a=100\n",
    "b=200\n",
    "res=a+b\n",
    "print(f\"a={a}, b={b}, res={a+b}\")\n",
    "print(\"hederabad\")\n",
    "print(\"chennail\")\n",
    "a=1000\n",
    "b=2000\n",
    "res=a+b\n",
    "print(f\"a={a}, b={b}, res={a+b}\")\n",
    "print(\"hello\")\n",
    "print(\"hi\")\n",
    "a=10000\n",
    "b=20000\n",
    "res=a+b\n",
    "print(f\"a={a}, b={b}, res={a+b}\")"
   ]
  },
  {
   "cell_type": "code",
   "execution_count": 3,
   "metadata": {},
   "outputs": [
    {
     "name": "stdout",
     "output_type": "stream",
     "text": [
      "a=10, b=20, summation=30\n",
      "1\n",
      "2\n",
      "a=100, b=200, summationi=300\n",
      "hederabad\n",
      "chennail\n",
      "a=1000, b=2000, summation=3000\n",
      "hello\n",
      "hi\n",
      "a=10000, b=20000, summation=30000\n"
     ]
    }
   ],
   "source": [
    "a=10\n",
    "b=20\n",
    "res=a+b\n",
    "print(f\"a={a}, b={b}, summation={a+b}\")\n",
    "print(\"1\")\n",
    "print(\"2\")\n",
    "a=100\n",
    "b=200\n",
    "res=a+b\n",
    "print(f\"a={a}, b={b}, summationi={a+b}\")\n",
    "print(\"hederabad\")\n",
    "print(\"chennail\")\n",
    "a=1000\n",
    "b=2000\n",
    "res=a+b\n",
    "print(f\"a={a}, b={b}, summation={a+b}\")\n",
    "print(\"hello\")\n",
    "print(\"hi\")\n",
    "a=10000\n",
    "b=20000\n",
    "res=a+b\n",
    "print(f\"a={a}, b={b}, summation={a+b}\")"
   ]
  },
  {
   "cell_type": "code",
   "execution_count": 4,
   "metadata": {},
   "outputs": [
    {
     "name": "stdout",
     "output_type": "stream",
     "text": [
      "a=10, b=20, res=30\n",
      "1\n",
      "2\n",
      "a=100, b=200, res=300\n",
      "hederabad\n",
      "chennail\n",
      "a=1000, b=2000, res=3000\n",
      "hello\n",
      "hi\n",
      "a=10000, b=2000, res=12000\n"
     ]
    }
   ],
   "source": [
    "def add(a,b):\n",
    "    res=a+b\n",
    "    print(f\"a={a}, b={b}, res={a+b}\")\n",
    "add(10,20)\n",
    "print(\"1\")\n",
    "print(\"2\")\n",
    "add(100,200)\n",
    "print(\"hederabad\")\n",
    "print(\"chennail\")\n",
    "add(1000,2000)\n",
    "print(\"hello\")\n",
    "print(\"hi\")\n",
    "add(10000,2000)"
   ]
  },
  {
   "cell_type": "code",
   "execution_count": 5,
   "metadata": {},
   "outputs": [
    {
     "name": "stdout",
     "output_type": "stream",
     "text": [
      "a=10, b=20, summation=30\n",
      "1\n",
      "2\n",
      "a=100, b=200, summation=300\n",
      "hederabad\n",
      "chennail\n",
      "a=1000, b=2000, summation=3000\n",
      "hello\n",
      "hi\n",
      "a=10000, b=2000, summation=12000\n"
     ]
    }
   ],
   "source": [
    "def add(a,b):\n",
    "    res=a+b\n",
    "    print(f\"a={a}, b={b}, summation={a+b}\")\n",
    "add(10,20)\n",
    "print(\"1\")\n",
    "print(\"2\")\n",
    "add(100,200)\n",
    "print(\"hederabad\")\n",
    "print(\"chennail\")\n",
    "add(1000,2000)\n",
    "print(\"hello\")\n",
    "print(\"hi\")\n",
    "add(10000,2000)"
   ]
  },
  {
   "cell_type": "raw",
   "metadata": {},
   "source": [
    "print(\"hello\")"
   ]
  },
  {
   "cell_type": "code",
   "execution_count": 6,
   "metadata": {},
   "outputs": [
    {
     "name": "stdout",
     "output_type": "stream",
     "text": [
      "started\n",
      "ended\n"
     ]
    }
   ],
   "source": [
    "print(\"started\")\n",
    "# function definition\n",
    "def fun():# signature\n",
    "    #body\n",
    "    print(\"hello\")\n",
    "    print(\"hi\")\n",
    "    print(\"hyderabad\")\n",
    "print(\"ended\")"
   ]
  },
  {
   "cell_type": "code",
   "execution_count": 7,
   "metadata": {},
   "outputs": [
    {
     "name": "stdout",
     "output_type": "stream",
     "text": [
      "started\n",
      "ended\n",
      "hello\n",
      "hi\n",
      "hyderabad\n"
     ]
    }
   ],
   "source": [
    "print(\"started\")\n",
    "# function definition\n",
    "def fun():# signature\n",
    "    #body\n",
    "    print(\"hello\")\n",
    "    print(\"hi\")\n",
    "    print(\"hyderabad\")\n",
    "print(\"ended\")\n",
    "fun() # function call."
   ]
  },
  {
   "cell_type": "code",
   "execution_count": 8,
   "metadata": {},
   "outputs": [
    {
     "name": "stdout",
     "output_type": "stream",
     "text": [
      "started\n",
      "ended\n"
     ]
    }
   ],
   "source": [
    "def say_hi():\n",
    "    print(\"HI\")\n",
    "def say_hello():\n",
    "    print(\"HELLO\")\n",
    "print(\"started\")\n",
    "print(\"ended\")"
   ]
  },
  {
   "cell_type": "code",
   "execution_count": 9,
   "metadata": {},
   "outputs": [
    {
     "name": "stdout",
     "output_type": "stream",
     "text": [
      "started\n",
      "ended\n",
      "HELLO\n"
     ]
    }
   ],
   "source": [
    "def say_hi():\n",
    "    print(\"HI\")\n",
    "def say_hello():\n",
    "    print(\"HELLO\")\n",
    "print(\"started\")\n",
    "print(\"ended\")\n",
    "say_hello()"
   ]
  },
  {
   "cell_type": "code",
   "execution_count": 10,
   "metadata": {},
   "outputs": [
    {
     "name": "stdout",
     "output_type": "stream",
     "text": [
      "started\n",
      "ended\n",
      "HELLO\n",
      "HI\n"
     ]
    }
   ],
   "source": [
    "def say_hi():\n",
    "    print(\"HI\")\n",
    "def say_hello():\n",
    "    print(\"HELLO\")\n",
    "print(\"started\")\n",
    "print(\"ended\")\n",
    "say_hello()\n",
    "say_hi()"
   ]
  },
  {
   "cell_type": "code",
   "execution_count": 12,
   "metadata": {},
   "outputs": [
    {
     "name": "stdout",
     "output_type": "stream",
     "text": [
      "started\n",
      "ended\n",
      "HELLO\n",
      "HI\n",
      "HI\n",
      "HI\n",
      "HELLO\n"
     ]
    }
   ],
   "source": [
    "def say_hi():\n",
    "    print(\"HI\")\n",
    "def say_hello():\n",
    "    print(\"HELLO\")\n",
    "print(\"started\")\n",
    "print(\"ended\")\n",
    "say_hello()\n",
    "say_hi()\n",
    "say_hi()\n",
    "say_hi()\n",
    "say_hello()"
   ]
  },
  {
   "cell_type": "code",
   "execution_count": 13,
   "metadata": {},
   "outputs": [
    {
     "name": "stdout",
     "output_type": "stream",
     "text": [
      "x=10, y=20\n"
     ]
    }
   ],
   "source": [
    "def add(x,y):\n",
    "    print(f\"x={x}, y={y}\")\n",
    "add(10,20)\n"
   ]
  },
  {
   "cell_type": "code",
   "execution_count": 14,
   "metadata": {},
   "outputs": [
    {
     "name": "stdout",
     "output_type": "stream",
     "text": [
      "x=20, y=10\n"
     ]
    }
   ],
   "source": [
    "def add(x,y):\n",
    "    print(f\"x={x}, y={y}\")\n",
    "add(20,10)\n"
   ]
  },
  {
   "cell_type": "code",
   "execution_count": 15,
   "metadata": {},
   "outputs": [
    {
     "name": "stdout",
     "output_type": "stream",
     "text": [
      "x=20, y=10\n",
      "result= 30\n",
      "x=100, y=200\n",
      "result= 300\n",
      "x=1000, y=2000\n",
      "result= 3000\n",
      "x=1, y=2\n",
      "result= 3\n"
     ]
    }
   ],
   "source": [
    "def add(x,y):# x,y are parameters\n",
    "    print(f\"x={x}, y={y}\")\n",
    "    res=x+y\n",
    "    print(\"result=\",res)\n",
    "add(20,10)# 20, 10 are arguments\n",
    "add(100,200)\n",
    "add(1000,2000)\n",
    "add(1,2)"
   ]
  },
  {
   "cell_type": "code",
   "execution_count": null,
   "metadata": {},
   "outputs": [],
   "source": [
    "# write three functions: 1. add 2. substrction 3. multiplication\n",
    "# call the functions multiple times with different values "
   ]
  },
  {
   "cell_type": "code",
   "execution_count": 16,
   "metadata": {},
   "outputs": [
    {
     "ename": "TypeError",
     "evalue": "add() missing 6 required positional arguments: 'a', 'b', 'c', 'd', 'e', and 'f'",
     "output_type": "error",
     "traceback": [
      "\u001b[1;31m---------------------------------------------------------------------------\u001b[0m",
      "\u001b[1;31mTypeError\u001b[0m                                 Traceback (most recent call last)",
      "\u001b[1;32m<ipython-input-16-fe76909a654b>\u001b[0m in \u001b[0;36m<module>\u001b[1;34m\u001b[0m\n\u001b[0;32m      1\u001b[0m \u001b[1;32mdef\u001b[0m \u001b[0madd\u001b[0m\u001b[1;33m(\u001b[0m\u001b[0ma\u001b[0m\u001b[1;33m,\u001b[0m\u001b[0mb\u001b[0m\u001b[1;33m,\u001b[0m\u001b[0mc\u001b[0m\u001b[1;33m,\u001b[0m\u001b[0md\u001b[0m\u001b[1;33m,\u001b[0m\u001b[0me\u001b[0m\u001b[1;33m,\u001b[0m\u001b[0mf\u001b[0m\u001b[1;33m)\u001b[0m\u001b[1;33m:\u001b[0m\u001b[1;33m\u001b[0m\u001b[1;33m\u001b[0m\u001b[0m\n\u001b[0;32m      2\u001b[0m     \u001b[0mprint\u001b[0m\u001b[1;33m(\u001b[0m\u001b[1;34mf\"a={a},b={b},c={c},d={d},e={e},f={f}\"\u001b[0m\u001b[1;33m)\u001b[0m\u001b[1;33m\u001b[0m\u001b[1;33m\u001b[0m\u001b[0m\n\u001b[1;32m----> 3\u001b[1;33m \u001b[0madd\u001b[0m\u001b[1;33m(\u001b[0m\u001b[1;33m)\u001b[0m\u001b[1;33m\u001b[0m\u001b[1;33m\u001b[0m\u001b[0m\n\u001b[0m",
      "\u001b[1;31mTypeError\u001b[0m: add() missing 6 required positional arguments: 'a', 'b', 'c', 'd', 'e', and 'f'"
     ]
    }
   ],
   "source": [
    "def add(a,b,c,d,e,f):\n",
    "    print(f\"a={a},b={b},c={c},d={d},e={e},f={f}\")    \n",
    "add()"
   ]
  },
  {
   "cell_type": "code",
   "execution_count": 17,
   "metadata": {},
   "outputs": [
    {
     "name": "stdout",
     "output_type": "stream",
     "text": [
      "a=10,b=20,c=30,d=40,e=50,f=60\n"
     ]
    }
   ],
   "source": [
    "def add(a,b,c,d,e,f):\n",
    "    print(f\"a={a},b={b},c={c},d={d},e={e},f={f}\")    \n",
    "add(10,20,30,40,50,60)"
   ]
  },
  {
   "cell_type": "code",
   "execution_count": 18,
   "metadata": {},
   "outputs": [
    {
     "ename": "TypeError",
     "evalue": "add() takes 6 positional arguments but 7 were given",
     "output_type": "error",
     "traceback": [
      "\u001b[1;31m---------------------------------------------------------------------------\u001b[0m",
      "\u001b[1;31mTypeError\u001b[0m                                 Traceback (most recent call last)",
      "\u001b[1;32m<ipython-input-18-1f98f0967e89>\u001b[0m in \u001b[0;36m<module>\u001b[1;34m\u001b[0m\n\u001b[0;32m      1\u001b[0m \u001b[1;32mdef\u001b[0m \u001b[0madd\u001b[0m\u001b[1;33m(\u001b[0m\u001b[0ma\u001b[0m\u001b[1;33m,\u001b[0m\u001b[0mb\u001b[0m\u001b[1;33m,\u001b[0m\u001b[0mc\u001b[0m\u001b[1;33m,\u001b[0m\u001b[0md\u001b[0m\u001b[1;33m,\u001b[0m\u001b[0me\u001b[0m\u001b[1;33m,\u001b[0m\u001b[0mf\u001b[0m\u001b[1;33m)\u001b[0m\u001b[1;33m:\u001b[0m\u001b[1;33m\u001b[0m\u001b[1;33m\u001b[0m\u001b[0m\n\u001b[0;32m      2\u001b[0m     \u001b[0mprint\u001b[0m\u001b[1;33m(\u001b[0m\u001b[1;34mf\"a={a},b={b},c={c},d={d},e={e},f={f}\"\u001b[0m\u001b[1;33m)\u001b[0m\u001b[1;33m\u001b[0m\u001b[1;33m\u001b[0m\u001b[0m\n\u001b[1;32m----> 3\u001b[1;33m \u001b[0madd\u001b[0m\u001b[1;33m(\u001b[0m\u001b[1;36m10\u001b[0m\u001b[1;33m,\u001b[0m\u001b[1;36m20\u001b[0m\u001b[1;33m,\u001b[0m\u001b[1;36m30\u001b[0m\u001b[1;33m,\u001b[0m\u001b[1;36m40\u001b[0m\u001b[1;33m,\u001b[0m\u001b[1;36m50\u001b[0m\u001b[1;33m,\u001b[0m\u001b[1;36m60\u001b[0m\u001b[1;33m,\u001b[0m\u001b[1;36m70\u001b[0m\u001b[1;33m)\u001b[0m\u001b[1;33m\u001b[0m\u001b[1;33m\u001b[0m\u001b[0m\n\u001b[0m",
      "\u001b[1;31mTypeError\u001b[0m: add() takes 6 positional arguments but 7 were given"
     ]
    }
   ],
   "source": [
    "def add(a,b,c,d,e,f):\n",
    "    print(f\"a={a},b={b},c={c},d={d},e={e},f={f}\")    \n",
    "add(10,20,30,40,50,60,70)"
   ]
  },
  {
   "cell_type": "code",
   "execution_count": 19,
   "metadata": {},
   "outputs": [
    {
     "ename": "TypeError",
     "evalue": "add() missing 1 required positional argument: 'f'",
     "output_type": "error",
     "traceback": [
      "\u001b[1;31m---------------------------------------------------------------------------\u001b[0m",
      "\u001b[1;31mTypeError\u001b[0m                                 Traceback (most recent call last)",
      "\u001b[1;32m<ipython-input-19-b2c7ac1e2ce8>\u001b[0m in \u001b[0;36m<module>\u001b[1;34m\u001b[0m\n\u001b[0;32m      1\u001b[0m \u001b[1;32mdef\u001b[0m \u001b[0madd\u001b[0m\u001b[1;33m(\u001b[0m\u001b[0ma\u001b[0m\u001b[1;33m,\u001b[0m\u001b[0mb\u001b[0m\u001b[1;33m,\u001b[0m\u001b[0mc\u001b[0m\u001b[1;33m,\u001b[0m\u001b[0md\u001b[0m\u001b[1;33m,\u001b[0m\u001b[0me\u001b[0m\u001b[1;33m,\u001b[0m\u001b[0mf\u001b[0m\u001b[1;33m)\u001b[0m\u001b[1;33m:\u001b[0m\u001b[1;33m\u001b[0m\u001b[1;33m\u001b[0m\u001b[0m\n\u001b[0;32m      2\u001b[0m     \u001b[0mprint\u001b[0m\u001b[1;33m(\u001b[0m\u001b[1;34mf\"a={a},b={b},c={c},d={d},e={e},f={f}\"\u001b[0m\u001b[1;33m)\u001b[0m\u001b[1;33m\u001b[0m\u001b[1;33m\u001b[0m\u001b[0m\n\u001b[1;32m----> 3\u001b[1;33m \u001b[0madd\u001b[0m\u001b[1;33m(\u001b[0m\u001b[1;36m10\u001b[0m\u001b[1;33m,\u001b[0m\u001b[1;36m20\u001b[0m\u001b[1;33m,\u001b[0m\u001b[1;36m30\u001b[0m\u001b[1;33m,\u001b[0m\u001b[1;36m40\u001b[0m\u001b[1;33m,\u001b[0m\u001b[1;36m50\u001b[0m\u001b[1;33m)\u001b[0m\u001b[1;33m\u001b[0m\u001b[1;33m\u001b[0m\u001b[0m\n\u001b[0m",
      "\u001b[1;31mTypeError\u001b[0m: add() missing 1 required positional argument: 'f'"
     ]
    }
   ],
   "source": [
    "def add(a,b,c,d,e,f):\n",
    "    print(f\"a={a},b={b},c={c},d={d},e={e},f={f}\")    \n",
    "add(10,20,30,40,50)"
   ]
  },
  {
   "cell_type": "code",
   "execution_count": 20,
   "metadata": {},
   "outputs": [
    {
     "name": "stdout",
     "output_type": "stream",
     "text": [
      "name=jay, age=34, pan=PAN@123, passport=passport@123\n"
     ]
    }
   ],
   "source": [
    "#to open bank acount\n",
    "def person(name, age, pan, adhar, passport):\n",
    "    print(f\"name={name}, age={age}, pan={pan}, passport={passport}\")\n",
    "person(\"jay\",34,\"PAN@123\",\"ADHAR@123\",\"passport@123\")\n",
    "    \n",
    "    "
   ]
  },
  {
   "cell_type": "code",
   "execution_count": 21,
   "metadata": {},
   "outputs": [
    {
     "name": "stdout",
     "output_type": "stream",
     "text": [
      "name=jay, age=34, pan=PAN@123, passport=passport@123\n"
     ]
    },
    {
     "ename": "TypeError",
     "evalue": "person() missing 1 required positional argument: 'passport'",
     "output_type": "error",
     "traceback": [
      "\u001b[1;31m---------------------------------------------------------------------------\u001b[0m",
      "\u001b[1;31mTypeError\u001b[0m                                 Traceback (most recent call last)",
      "\u001b[1;32m<ipython-input-21-1bab0bd15baf>\u001b[0m in \u001b[0;36m<module>\u001b[1;34m\u001b[0m\n\u001b[0;32m      3\u001b[0m     \u001b[0mprint\u001b[0m\u001b[1;33m(\u001b[0m\u001b[1;34mf\"name={name}, age={age}, pan={pan}, passport={passport}\"\u001b[0m\u001b[1;33m)\u001b[0m\u001b[1;33m\u001b[0m\u001b[1;33m\u001b[0m\u001b[0m\n\u001b[0;32m      4\u001b[0m \u001b[0mperson\u001b[0m\u001b[1;33m(\u001b[0m\u001b[1;34m\"jay\"\u001b[0m\u001b[1;33m,\u001b[0m\u001b[1;36m34\u001b[0m\u001b[1;33m,\u001b[0m\u001b[1;34m\"PAN@123\"\u001b[0m\u001b[1;33m,\u001b[0m\u001b[1;34m\"ADHAR@123\"\u001b[0m\u001b[1;33m,\u001b[0m\u001b[1;34m\"passport@123\"\u001b[0m\u001b[1;33m)\u001b[0m\u001b[1;33m\u001b[0m\u001b[1;33m\u001b[0m\u001b[0m\n\u001b[1;32m----> 5\u001b[1;33m \u001b[0mperson\u001b[0m\u001b[1;33m(\u001b[0m\u001b[1;34m\"vedha\"\u001b[0m\u001b[1;33m,\u001b[0m\u001b[1;36m24\u001b[0m\u001b[1;33m,\u001b[0m\u001b[1;34m\"PAN@234\"\u001b[0m\u001b[1;33m,\u001b[0m\u001b[1;34m\"ADHAR@234\"\u001b[0m\u001b[1;33m)\u001b[0m\u001b[1;33m\u001b[0m\u001b[1;33m\u001b[0m\u001b[0m\n\u001b[0m",
      "\u001b[1;31mTypeError\u001b[0m: person() missing 1 required positional argument: 'passport'"
     ]
    }
   ],
   "source": [
    "#to open bank acount\n",
    "def person(name, age, pan, adhar, passport):\n",
    "    print(f\"name={name}, age={age}, pan={pan}, passport={passport}\")\n",
    "person(\"jay\",34,\"PAN@123\",\"ADHAR@123\",\"passport@123\")\n",
    "person(\"vedha\",24,\"PAN@234\",\"ADHAR@234\")"
   ]
  },
  {
   "cell_type": "code",
   "execution_count": 22,
   "metadata": {},
   "outputs": [
    {
     "name": "stdout",
     "output_type": "stream",
     "text": [
      "name=jay, age=34, pan=PAN@123, passport=passport@123\n",
      "name=vedha, age=24, pan=PAN@234, passport=\n"
     ]
    }
   ],
   "source": [
    "#to open bank acount\n",
    "def person(name, age, pan, adhar, passport=\"\"):\n",
    "    # name,age, pan, adhar are madatory parameters\n",
    "    # passport optional parameter\n",
    "    print(f\"name={name}, age={age}, pan={pan}, passport={passport}\")\n",
    "person(\"jay\",34,\"PAN@123\",\"ADHAR@123\",\"passport@123\")\n",
    "person(\"vedha\",24,\"PAN@234\",\"ADHAR@234\")"
   ]
  },
  {
   "cell_type": "code",
   "execution_count": 24,
   "metadata": {},
   "outputs": [
    {
     "name": "stdout",
     "output_type": "stream",
     "text": [
      "name=jay, age=34, pan=PAN@123, adhar=ADHAR@123 passport=passport@123\n",
      "name=vedha, age=24, pan=PAN@234, adhar=ADHAR@234 passport=\n",
      "name=sai, age=32, pan=PAN@123, adhar=None passport=\n"
     ]
    }
   ],
   "source": [
    "def person(name, age, pan=\"PAN@123\", adhar=None, passport=\"\"):\n",
    "    # name, age  are madatory parameters\n",
    "    # passport,pan, adhar optional parameter\n",
    "    print(f\"name={name}, age={age}, pan={pan}, adhar={adhar} passport={passport}\")\n",
    "person(\"jay\",34,\"PAN@123\",\"ADHAR@123\",\"passport@123\")\n",
    "person(\"vedha\",24,\"PAN@234\",\"ADHAR@234\")\n",
    "person(\"sai\",32)"
   ]
  },
  {
   "cell_type": "code",
   "execution_count": 1,
   "metadata": {},
   "outputs": [
    {
     "name": "stdout",
     "output_type": "stream",
     "text": [
      "name=jay, age=34, pan=adhar@123, adhar=None passport=\n"
     ]
    }
   ],
   "source": [
    "def person(name, age, pan=\"PAN@123\", adhar=None, passport=\"\"):\n",
    "    # name, age  are madatory parameters\n",
    "    # passport,pan, adhar optional parameter\n",
    "    print(f\"name={name}, age={age}, pan={pan}, adhar={adhar} passport={passport}\")\n",
    "person(\"jay\",34,\"adhar@123\")"
   ]
  },
  {
   "cell_type": "code",
   "execution_count": 2,
   "metadata": {},
   "outputs": [
    {
     "name": "stdout",
     "output_type": "stream",
     "text": [
      "name=jay, age=34, pan=PAN@123, adhar=adhar@123 passport=\n"
     ]
    }
   ],
   "source": [
    "def person(name, age, pan=\"PAN@123\", adhar=None, passport=\"\"):\n",
    "    # name, age  are madatory parameters\n",
    "    # passport,pan, adhar optional parameter\n",
    "    print(f\"name={name}, age={age}, pan={pan}, adhar={adhar} passport={passport}\")\n",
    "person(\"jay\",34,'PAN@123',\"adhar@123\")# position arguments"
   ]
  },
  {
   "cell_type": "code",
   "execution_count": 3,
   "metadata": {},
   "outputs": [],
   "source": [
    "import pandas as pd"
   ]
  },
  {
   "cell_type": "code",
   "execution_count": 4,
   "metadata": {},
   "outputs": [],
   "source": [
    "pd.read_csv?"
   ]
  },
  {
   "cell_type": "code",
   "execution_count": 5,
   "metadata": {},
   "outputs": [
    {
     "name": "stdout",
     "output_type": "stream",
     "text": [
      "name=jay, age=34, pan=PAN@123, adhar=adhar@123 passport=\n",
      "name=jay, age=34, pan=PAN@123, adhar=adhar@123 passport=\n"
     ]
    }
   ],
   "source": [
    "def person(name, age, pan=\"PAN@123\", adhar=None, passport=\"\"):\n",
    "    # name, age  are madatory parameters\n",
    "    # passport,pan, adhar optional parameter\n",
    "    print(f\"name={name}, age={age}, pan={pan}, adhar={adhar} passport={passport}\")\n",
    "person(\"jay\",34,'PAN@123',\"adhar@123\")# position arguments\n",
    "person(\"jay\",34,adhar=\"adhar@123\")#jay,34 are positional arguments, adhar=   keyword argument"
   ]
  },
  {
   "cell_type": "code",
   "execution_count": 6,
   "metadata": {},
   "outputs": [
    {
     "name": "stdout",
     "output_type": "stream",
     "text": [
      "name=jay, age=34, pan=PAN@123, adhar=adhar@123 passport=\n",
      "name=jay, age=34, pan=PAN@123, adhar=adhar@123 passport=\n"
     ]
    }
   ],
   "source": [
    "def person(name, age, pan=\"PAN@123\", adhar=None, passport=\"\"):\n",
    "    # name, age  are madatory parameters\n",
    "    # passport,pan, adhar optional parameter\n",
    "    print(f\"name={name}, age={age}, pan={pan}, adhar={adhar} passport={passport}\")\n",
    "person(\"jay\",34,'PAN@123',\"adhar@123\")# position arguments\n",
    "person(name=\"jay\",age=34,adhar=\"adhar@123\")#jay,34 are positional arguments, adhar=   keyword argument"
   ]
  },
  {
   "cell_type": "code",
   "execution_count": 7,
   "metadata": {},
   "outputs": [
    {
     "name": "stdout",
     "output_type": "stream",
     "text": [
      "name=jay, age=34, pan=PAN@123, adhar=adhar@123 passport=\n",
      "name=jay, age=34, pan=PAN@123, adhar=adhar@123 passport=\n"
     ]
    }
   ],
   "source": [
    "def person(name, age, pan=\"PAN@123\", adhar=None, passport=\"\"):\n",
    "    # name, age  are madatory parameters\n",
    "    # passport,pan, adhar optional parameter\n",
    "    print(f\"name={name}, age={age}, pan={pan}, adhar={adhar} passport={passport}\")\n",
    "person(\"jay\",34,'PAN@123',\"adhar@123\")# position arguments\n",
    "person(adhar=\"adhar@123\", name=\"jay\",age=34)#   keyword arguments"
   ]
  },
  {
   "cell_type": "code",
   "execution_count": 8,
   "metadata": {},
   "outputs": [
    {
     "name": "stdout",
     "output_type": "stream",
     "text": [
      "name=jay, age=34, pan=PAN@123, adhar=adhar@123 passport=\n"
     ]
    },
    {
     "ename": "TypeError",
     "evalue": "person() got multiple values for argument 'age'",
     "output_type": "error",
     "traceback": [
      "\u001b[1;31m---------------------------------------------------------------------------\u001b[0m",
      "\u001b[1;31mTypeError\u001b[0m                                 Traceback (most recent call last)",
      "\u001b[1;32m<ipython-input-8-463c935cfd86>\u001b[0m in \u001b[0;36m<module>\u001b[1;34m\u001b[0m\n\u001b[0;32m      4\u001b[0m     \u001b[0mprint\u001b[0m\u001b[1;33m(\u001b[0m\u001b[1;34mf\"name={name}, age={age}, pan={pan}, adhar={adhar} passport={passport}\"\u001b[0m\u001b[1;33m)\u001b[0m\u001b[1;33m\u001b[0m\u001b[1;33m\u001b[0m\u001b[0m\n\u001b[0;32m      5\u001b[0m \u001b[0mperson\u001b[0m\u001b[1;33m(\u001b[0m\u001b[1;34m\"jay\"\u001b[0m\u001b[1;33m,\u001b[0m\u001b[1;36m34\u001b[0m\u001b[1;33m,\u001b[0m\u001b[1;34m'PAN@123'\u001b[0m\u001b[1;33m,\u001b[0m\u001b[1;34m\"adhar@123\"\u001b[0m\u001b[1;33m)\u001b[0m\u001b[1;31m# position arguments\u001b[0m\u001b[1;33m\u001b[0m\u001b[1;33m\u001b[0m\u001b[0m\n\u001b[1;32m----> 6\u001b[1;33m \u001b[0mperson\u001b[0m\u001b[1;33m(\u001b[0m\u001b[1;34m\"jay\"\u001b[0m\u001b[1;33m,\u001b[0m\u001b[1;36m35\u001b[0m\u001b[1;33m,\u001b[0m\u001b[0mage\u001b[0m\u001b[1;33m=\u001b[0m\u001b[1;36m36\u001b[0m\u001b[1;33m)\u001b[0m\u001b[1;31m#   keyword arguments\u001b[0m\u001b[1;33m\u001b[0m\u001b[1;33m\u001b[0m\u001b[0m\n\u001b[0m",
      "\u001b[1;31mTypeError\u001b[0m: person() got multiple values for argument 'age'"
     ]
    }
   ],
   "source": [
    "def person(name, age, pan=\"PAN@123\", adhar=None, passport=\"\"):\n",
    "    # name, age  are madatory parameters\n",
    "    # passport,pan, adhar optional parameter\n",
    "    print(f\"name={name}, age={age}, pan={pan}, adhar={adhar} passport={passport}\")\n",
    "person(\"jay\",34,'PAN@123',\"adhar@123\")# position arguments\n",
    "person(\"jay\",35,age=36)#   keyword arguments"
   ]
  },
  {
   "cell_type": "code",
   "execution_count": 9,
   "metadata": {},
   "outputs": [
    {
     "ename": "SyntaxError",
     "evalue": "positional argument follows keyword argument (<ipython-input-9-b0141d1016ed>, line 4)",
     "output_type": "error",
     "traceback": [
      "\u001b[1;36m  File \u001b[1;32m\"<ipython-input-9-b0141d1016ed>\"\u001b[1;36m, line \u001b[1;32m4\u001b[0m\n\u001b[1;33m    person(name=\"jay\",34)\u001b[0m\n\u001b[1;37m                      ^\u001b[0m\n\u001b[1;31mSyntaxError\u001b[0m\u001b[1;31m:\u001b[0m positional argument follows keyword argument\n"
     ]
    }
   ],
   "source": [
    "def person(name, age, pan=\"PAN@123\", adhar=None, passport=\"\"):\n",
    "    print(f\"name={name}, age={age}, pan={pan}, adhar={adhar} passport={passport}\")\n",
    "person(\"jay\",34,'PAN@123',\"adhar@123\")# position arguments\n",
    "person(name=\"jay\",34)"
   ]
  },
  {
   "cell_type": "code",
   "execution_count": 10,
   "metadata": {},
   "outputs": [
    {
     "ename": "SyntaxError",
     "evalue": "non-default argument follows default argument (<ipython-input-10-0d958573dd74>, line 1)",
     "output_type": "error",
     "traceback": [
      "\u001b[1;36m  File \u001b[1;32m\"<ipython-input-10-0d958573dd74>\"\u001b[1;36m, line \u001b[1;32m1\u001b[0m\n\u001b[1;33m    def person(name, age, pan=\"PAN@123\", adhar=None, passport=\"\",cityId):\u001b[0m\n\u001b[1;37m               ^\u001b[0m\n\u001b[1;31mSyntaxError\u001b[0m\u001b[1;31m:\u001b[0m non-default argument follows default argument\n"
     ]
    }
   ],
   "source": [
    "def person(name, age, pan=\"PAN@123\", adhar=None, passport=\"\",cityId):\n",
    "\n",
    "    print(f\"name={name}, age={age}, pan={pan}, adhar={adhar} passport={passport}\")\n",
    "person(\"jay\",34,'PAN@123',\"adhar@123\")# position arguments\n",
    "person(\"jay\",35,age=36)#   keyword arguments"
   ]
  },
  {
   "cell_type": "code",
   "execution_count": 11,
   "metadata": {},
   "outputs": [
    {
     "name": "stdout",
     "output_type": "stream",
     "text": [
      "30\n",
      "300\n"
     ]
    }
   ],
   "source": [
    "def add(a,b):\n",
    "    print(a+b)\n",
    "add(10,20)\n",
    "add(100,200)"
   ]
  },
  {
   "cell_type": "code",
   "execution_count": 12,
   "metadata": {},
   "outputs": [
    {
     "name": "stdout",
     "output_type": "stream",
     "text": [
      "a=0,b=0,c=0,d=0\n",
      "0\n",
      "a=100,b=0,c=0,d=0\n",
      "100\n",
      "a=100,b=200,c=0,d=0\n",
      "300\n",
      "a=100,b=200,c=300,d=0\n",
      "600\n",
      "a=1,b=2,c=3,d=4\n",
      "10\n"
     ]
    }
   ],
   "source": [
    "def add(a=0,b=0,c=0,d=0):\n",
    "    print(f\"a={a},b={b},c={c},d={d}\")\n",
    "    print(a+b+c+d)\n",
    "add()\n",
    "add(100)\n",
    "add(100,200)\n",
    "add(100,200,300)\n",
    "add(1,2,3,4)"
   ]
  },
  {
   "cell_type": "code",
   "execution_count": 13,
   "metadata": {},
   "outputs": [
    {
     "name": "stdout",
     "output_type": "stream",
     "text": [
      "a=0,b=0,c=0,d=0\n",
      "0\n",
      "a=100,b=0,c=0,d=0\n",
      "100\n",
      "a=100,b=200,c=0,d=0\n",
      "300\n",
      "a=100,b=200,c=300,d=0\n",
      "600\n",
      "a=1,b=2,c=3,d=4\n",
      "10\n"
     ]
    },
    {
     "ename": "TypeError",
     "evalue": "add() takes from 0 to 4 positional arguments but 5 were given",
     "output_type": "error",
     "traceback": [
      "\u001b[1;31m---------------------------------------------------------------------------\u001b[0m",
      "\u001b[1;31mTypeError\u001b[0m                                 Traceback (most recent call last)",
      "\u001b[1;32m<ipython-input-13-5aecfced7c5d>\u001b[0m in \u001b[0;36m<module>\u001b[1;34m\u001b[0m\n\u001b[0;32m      7\u001b[0m \u001b[0madd\u001b[0m\u001b[1;33m(\u001b[0m\u001b[1;36m100\u001b[0m\u001b[1;33m,\u001b[0m\u001b[1;36m200\u001b[0m\u001b[1;33m,\u001b[0m\u001b[1;36m300\u001b[0m\u001b[1;33m)\u001b[0m\u001b[1;33m\u001b[0m\u001b[1;33m\u001b[0m\u001b[0m\n\u001b[0;32m      8\u001b[0m \u001b[0madd\u001b[0m\u001b[1;33m(\u001b[0m\u001b[1;36m1\u001b[0m\u001b[1;33m,\u001b[0m\u001b[1;36m2\u001b[0m\u001b[1;33m,\u001b[0m\u001b[1;36m3\u001b[0m\u001b[1;33m,\u001b[0m\u001b[1;36m4\u001b[0m\u001b[1;33m)\u001b[0m\u001b[1;33m\u001b[0m\u001b[1;33m\u001b[0m\u001b[0m\n\u001b[1;32m----> 9\u001b[1;33m \u001b[0madd\u001b[0m\u001b[1;33m(\u001b[0m\u001b[1;36m1\u001b[0m\u001b[1;33m,\u001b[0m\u001b[1;36m2\u001b[0m\u001b[1;33m,\u001b[0m\u001b[1;36m3\u001b[0m\u001b[1;33m,\u001b[0m\u001b[1;36m4\u001b[0m\u001b[1;33m,\u001b[0m\u001b[1;36m5\u001b[0m\u001b[1;33m)\u001b[0m\u001b[1;33m\u001b[0m\u001b[1;33m\u001b[0m\u001b[0m\n\u001b[0m",
      "\u001b[1;31mTypeError\u001b[0m: add() takes from 0 to 4 positional arguments but 5 were given"
     ]
    }
   ],
   "source": [
    "def add(a=0,b=0,c=0,d=0):\n",
    "    print(f\"a={a},b={b},c={c},d={d}\")\n",
    "    print(a+b+c+d)\n",
    "add()\n",
    "add(100)\n",
    "add(100,200)\n",
    "add(100,200,300)\n",
    "add(1,2,3,4)\n",
    "add(1,2,3,4,5)"
   ]
  },
  {
   "cell_type": "code",
   "execution_count": 14,
   "metadata": {},
   "outputs": [],
   "source": [
    "# define function which does not have limitation on the number of arguments."
   ]
  },
  {
   "cell_type": "code",
   "execution_count": 15,
   "metadata": {},
   "outputs": [
    {
     "name": "stdout",
     "output_type": "stream",
     "text": [
      "() <class 'tuple'>\n",
      "(1,) <class 'tuple'>\n",
      "(1, 2, 3, 4, 5, 6, 7, 78, 89, 9, 12, 34, 35, 5, 4, 46, 56, 5, 57, 67, 6, 76) <class 'tuple'>\n"
     ]
    }
   ],
   "source": [
    "def add(*k): #*args\n",
    "    print(k, type(k))\n",
    "add()\n",
    "add(1)\n",
    "add(1,2,3,4,5,6,7,78,89,9,12,34,35,5,4,46,56,5,57,67,6,76)"
   ]
  },
  {
   "cell_type": "code",
   "execution_count": 16,
   "metadata": {},
   "outputs": [
    {
     "name": "stdout",
     "output_type": "stream",
     "text": [
      "() <class 'tuple'>\n",
      "0\n",
      "(1,) <class 'tuple'>\n",
      "1\n",
      "(1, 2, 3, 4, 5, 6, 7, 78, 89, 9, 12, 34, 35, 5, 4, 46, 56, 5, 57, 67, 6, 76) <class 'tuple'>\n",
      "607\n"
     ]
    }
   ],
   "source": [
    "def add(*k): #*args. Can pass n number of positional arguments.\n",
    "    print(k, type(k))\n",
    "    print(sum(k))\n",
    "add()\n",
    "add(1)\n",
    "add(1,2,3,4,5,6,7,78,89,9,12,34,35,5,4,46,56,5,57,67,6,76)"
   ]
  },
  {
   "cell_type": "code",
   "execution_count": 17,
   "metadata": {},
   "outputs": [
    {
     "ename": "TypeError",
     "evalue": "add() got an unexpected keyword argument 'a'",
     "output_type": "error",
     "traceback": [
      "\u001b[1;31m---------------------------------------------------------------------------\u001b[0m",
      "\u001b[1;31mTypeError\u001b[0m                                 Traceback (most recent call last)",
      "\u001b[1;32m<ipython-input-17-90bc316d9e2a>\u001b[0m in \u001b[0;36m<module>\u001b[1;34m\u001b[0m\n\u001b[0;32m      2\u001b[0m     \u001b[0mprint\u001b[0m\u001b[1;33m(\u001b[0m\u001b[0mk\u001b[0m\u001b[1;33m,\u001b[0m \u001b[0mtype\u001b[0m\u001b[1;33m(\u001b[0m\u001b[0mk\u001b[0m\u001b[1;33m)\u001b[0m\u001b[1;33m)\u001b[0m\u001b[1;33m\u001b[0m\u001b[1;33m\u001b[0m\u001b[0m\n\u001b[0;32m      3\u001b[0m     \u001b[0mprint\u001b[0m\u001b[1;33m(\u001b[0m\u001b[0msum\u001b[0m\u001b[1;33m(\u001b[0m\u001b[0mk\u001b[0m\u001b[1;33m)\u001b[0m\u001b[1;33m)\u001b[0m\u001b[1;33m\u001b[0m\u001b[1;33m\u001b[0m\u001b[0m\n\u001b[1;32m----> 4\u001b[1;33m \u001b[0madd\u001b[0m\u001b[1;33m(\u001b[0m\u001b[0ma\u001b[0m\u001b[1;33m=\u001b[0m\u001b[1;36m10\u001b[0m\u001b[1;33m,\u001b[0m\u001b[0mb\u001b[0m\u001b[1;33m=\u001b[0m\u001b[1;36m20\u001b[0m\u001b[1;33m)\u001b[0m\u001b[1;33m\u001b[0m\u001b[1;33m\u001b[0m\u001b[0m\n\u001b[0m",
      "\u001b[1;31mTypeError\u001b[0m: add() got an unexpected keyword argument 'a'"
     ]
    }
   ],
   "source": [
    "def add(*k): #*args. Can pass n number of positional arguments.\n",
    "    print(k, type(k))\n",
    "    print(sum(k))\n",
    "add(a=10,b=20)"
   ]
  },
  {
   "cell_type": "code",
   "execution_count": 18,
   "metadata": {},
   "outputs": [
    {
     "name": "stdout",
     "output_type": "stream",
     "text": [
      "{'a': 10, 'b': 20} <class 'dict'>\n",
      "{} <class 'dict'>\n",
      "{'x': 10, 'b': 20, 'p': 30} <class 'dict'>\n"
     ]
    }
   ],
   "source": [
    "def add(**k): #**kwargs. Can pass n number of keyword arguments.\n",
    "    print(k, type(k))\n",
    "add(a=10,b=20)\n",
    "add()\n",
    "add(x=10,b=20,p=30)"
   ]
  },
  {
   "cell_type": "code",
   "execution_count": 19,
   "metadata": {},
   "outputs": [
    {
     "name": "stdout",
     "output_type": "stream",
     "text": [
      "name=jay, age=34, pan=PAN@123, k=('adhar@123',), context={}\n",
      "name=jay, age=35, pan=pan@1234, k=('election@1233', 1234), context={'passport': 'pass@123', 'adhar': 'adhar@1234'}\n"
     ]
    }
   ],
   "source": [
    "def person(name, age, pan=\"PAN@123\", *k,**context):\n",
    "    print(f\"name={name}, age={age}, pan={pan}, k={k}, context={context}\")\n",
    "person(\"jay\",34,'PAN@123',\"adhar@123\")# position arguments\n",
    "person(\"jay\",35,\"pan@1234\", \"election@1233\",1234,passport=\"pass@123\", adhar=\"adhar@1234\")#   keyword arguments"
   ]
  },
  {
   "cell_type": "code",
   "execution_count": 20,
   "metadata": {},
   "outputs": [
    {
     "name": "stdout",
     "output_type": "stream",
     "text": [
      "a=10,b=20\n",
      "result= None\n"
     ]
    }
   ],
   "source": [
    "def add(a,b):\n",
    "    print(f\"a={a},b={b}\")\n",
    "    c=a+b\n",
    "res=add(10,20)\n",
    "print(\"result=\",res)"
   ]
  },
  {
   "cell_type": "code",
   "execution_count": 21,
   "metadata": {},
   "outputs": [
    {
     "name": "stdout",
     "output_type": "stream",
     "text": [
      "a=10,b=20\n",
      "result= HELLO\n"
     ]
    }
   ],
   "source": [
    "def add(a,b):\n",
    "    print(f\"a={a},b={b}\")\n",
    "    c=a+b\n",
    "    return \"HELLO\"\n",
    "res=add(10,20)\n",
    "print(\"result=\",res)"
   ]
  },
  {
   "cell_type": "code",
   "execution_count": 22,
   "metadata": {},
   "outputs": [
    {
     "name": "stdout",
     "output_type": "stream",
     "text": [
      "a=10,b=20\n",
      "result= 30\n"
     ]
    }
   ],
   "source": [
    "def add(a,b):\n",
    "    print(f\"a={a},b={b}\")\n",
    "    c=a+b\n",
    "    return c\n",
    "res=add(10,20)\n",
    "print(\"result=\",res)"
   ]
  },
  {
   "cell_type": "code",
   "execution_count": 23,
   "metadata": {},
   "outputs": [
    {
     "name": "stdout",
     "output_type": "stream",
     "text": [
      "a=10,b=20\n",
      "result= 30\n"
     ]
    }
   ],
   "source": [
    "def add(a,b):\n",
    "    print(f\"a={a},b={b}\")\n",
    "    c=a+b\n",
    "    d=a-b\n",
    "    e=a*b\n",
    "    f=a/b\n",
    "    return c\n",
    "res=add(10,20)\n",
    "print(\"result=\",res)"
   ]
  },
  {
   "cell_type": "code",
   "execution_count": 24,
   "metadata": {},
   "outputs": [
    {
     "name": "stdout",
     "output_type": "stream",
     "text": [
      "a=10,b=20\n",
      "result= (30, -10, 200, 0.5)\n"
     ]
    }
   ],
   "source": [
    "def add(a,b):\n",
    "    print(f\"a={a},b={b}\")\n",
    "    c=a+b\n",
    "    d=a-b\n",
    "    e=a*b\n",
    "    f=a/b\n",
    "    return c,d,e,f\n",
    "res=add(10,20)\n",
    "print(\"result=\",res)"
   ]
  },
  {
   "cell_type": "code",
   "execution_count": 25,
   "metadata": {},
   "outputs": [
    {
     "name": "stdout",
     "output_type": "stream",
     "text": [
      "hello\n",
      "res= None\n"
     ]
    }
   ],
   "source": [
    "def fun():\n",
    "    print(\"hello\")\n",
    "res=fun()\n",
    "print(\"res=\",res)"
   ]
  },
  {
   "cell_type": "code",
   "execution_count": 26,
   "metadata": {},
   "outputs": [
    {
     "name": "stdout",
     "output_type": "stream",
     "text": [
      "hello\n",
      "res= Hi\n"
     ]
    }
   ],
   "source": [
    "def fun():\n",
    "    print(\"hello\")\n",
    "    return \"Hi\"\n",
    "res=fun()\n",
    "print(\"res=\",res)"
   ]
  },
  {
   "cell_type": "code",
   "execution_count": 27,
   "metadata": {},
   "outputs": [
    {
     "name": "stdout",
     "output_type": "stream",
     "text": [
      "hello\n",
      "res= Hi\n"
     ]
    }
   ],
   "source": [
    "def fun():\n",
    "    print(\"hello\")\n",
    "    return \"Hi\"\n",
    "    print(\"Hyderabad\")\n",
    "    return \"Banglore\"\n",
    "res=fun()\n",
    "print(\"res=\",res)"
   ]
  },
  {
   "cell_type": "code",
   "execution_count": 28,
   "metadata": {},
   "outputs": [
    {
     "name": "stdout",
     "output_type": "stream",
     "text": [
      "x=10,y=20\n",
      "hello\n"
     ]
    }
   ],
   "source": [
    "def add(x,y):\n",
    "    print(f\"x={x},y={y}\")\n",
    "    return x+y\n",
    "    print(f\"x={x},y={y}\")\n",
    "    return x-y\n",
    "    print(f\"x={x},y={y}\")\n",
    "    return x*y\n",
    "add(10,20)\n",
    "print(\"hello\")"
   ]
  },
  {
   "cell_type": "code",
   "execution_count": 29,
   "metadata": {},
   "outputs": [
    {
     "name": "stdout",
     "output_type": "stream",
     "text": [
      "x=10,y=20\n",
      "x=10,y=20\n",
      "x=10,y=20\n",
      "result= 200\n",
      "hello\n"
     ]
    }
   ],
   "source": [
    "def add(x,y):\n",
    "    print(f\"x={x},y={y}\")\n",
    "    if x==100:\n",
    "        return x+y\n",
    "    print(f\"x={x},y={y}\")\n",
    "    if y==200:\n",
    "        return x-y\n",
    "    print(f\"x={x},y={y}\")\n",
    "    return x*y\n",
    "res = add(10,20)\n",
    "print(\"result=\",res)\n",
    "print(\"hello\")"
   ]
  },
  {
   "cell_type": "code",
   "execution_count": 30,
   "metadata": {},
   "outputs": [
    {
     "name": "stdout",
     "output_type": "stream",
     "text": [
      "x=10,y=200\n",
      "x=10,y=200\n",
      "result= -190\n",
      "hello\n"
     ]
    }
   ],
   "source": [
    "def add(x,y):\n",
    "    print(f\"x={x},y={y}\")\n",
    "    if x==100:\n",
    "        return x+y\n",
    "    print(f\"x={x},y={y}\")\n",
    "    if y==200:\n",
    "        return x-y\n",
    "    print(f\"x={x},y={y}\")\n",
    "    return x*y\n",
    "res = add(10,200)\n",
    "print(\"result=\",res)\n",
    "print(\"hello\")"
   ]
  },
  {
   "cell_type": "code",
   "execution_count": 31,
   "metadata": {},
   "outputs": [
    {
     "name": "stdout",
     "output_type": "stream",
     "text": [
      "x=100,y=2\n",
      "result= 102\n",
      "hello\n"
     ]
    }
   ],
   "source": [
    "def add(x,y):\n",
    "    print(f\"x={x},y={y}\")\n",
    "    if x==100:\n",
    "        return x+y\n",
    "    print(f\"x={x},y={y}\")\n",
    "    if y==200:\n",
    "        return x-y\n",
    "    print(f\"x={x},y={y}\")\n",
    "    return x*y\n",
    "res = add(100,2)\n",
    "print(\"result=\",res)\n",
    "print(\"hello\")"
   ]
  },
  {
   "cell_type": "code",
   "execution_count": 32,
   "metadata": {},
   "outputs": [
    {
     "name": "stdout",
     "output_type": "stream",
     "text": [
      "x=100,y=200\n",
      "result= 300\n",
      "hello\n"
     ]
    }
   ],
   "source": [
    "def add(x,y):\n",
    "    print(f\"x={x},y={y}\")\n",
    "    if x==100:\n",
    "        return x+y\n",
    "    print(f\"x={x},y={y}\")\n",
    "    if y==200:\n",
    "        return x-y\n",
    "    print(f\"x={x},y={y}\")\n",
    "    return x*y\n",
    "res = add(100,200)\n",
    "print(\"result=\",res)\n",
    "print(\"hello\")"
   ]
  },
  {
   "cell_type": "code",
   "execution_count": 33,
   "metadata": {},
   "outputs": [
    {
     "name": "stdout",
     "output_type": "stream",
     "text": [
      "x=100,y=200\n",
      "result1= 300\n",
      "x=1,y=2\n",
      "result2= 3\n",
      "x=10,y=20\n",
      "result3= 30\n"
     ]
    }
   ],
   "source": [
    "def add(x,y):\n",
    "    print(f\"x={x},y={y}\")\n",
    "    return x+y\n",
    "    print(f\"x={x},y={y}\")\n",
    "    return x-y\n",
    "    print(f\"x={x},y={y}\")\n",
    "    return x*y\n",
    "res1 = add(100,200)\n",
    "print(\"result1=\",res1)\n",
    "res2=add(1,2)\n",
    "print(\"result2=\", res2)\n",
    "res3=add(10,20)\n",
    "print(\"result3=\", res3)"
   ]
  },
  {
   "cell_type": "code",
   "execution_count": 34,
   "metadata": {},
   "outputs": [
    {
     "name": "stdout",
     "output_type": "stream",
     "text": [
      "result1= <generator object add at 0x000002019481B4A0>\n",
      "result2= <generator object add at 0x000002019481B270>\n",
      "result3= <generator object add at 0x000002019481B3C0>\n"
     ]
    }
   ],
   "source": [
    "def add(x,y):\n",
    "    print(f\"x={x},y={y}\")\n",
    "    yield x+y\n",
    "    print(f\"x={x},y={y}\")\n",
    "    yield x-y\n",
    "    print(f\"x={x},y={y}\")\n",
    "    yield x*y\n",
    "res1 = add(100,200)\n",
    "print(\"result1=\",res1)\n",
    "res2=add(1,2)\n",
    "print(\"result2=\", res2)\n",
    "res3=add(10,20)\n",
    "print(\"result3=\", res3)"
   ]
  },
  {
   "cell_type": "code",
   "execution_count": 35,
   "metadata": {},
   "outputs": [
    {
     "name": "stdout",
     "output_type": "stream",
     "text": [
      "result1= <generator object add at 0x000002019481B040>\n"
     ]
    }
   ],
   "source": [
    "def add(x,y):\n",
    "    print(f\"x={x},y={y}\")\n",
    "    yield x+y\n",
    "    print(f\"x={x},y={y}\")\n",
    "    yield x-y\n",
    "    print(f\"x={x},y={y}\")\n",
    "    yield x*y\n",
    "res1 = add(100,200)\n",
    "print(\"result1=\",res1)"
   ]
  },
  {
   "cell_type": "code",
   "execution_count": 36,
   "metadata": {},
   "outputs": [
    {
     "name": "stdout",
     "output_type": "stream",
     "text": [
      "result1= <generator object add at 0x000002019481B4A0>\n",
      "1\n",
      "x=100,y=200\n",
      "r1= 300\n",
      "2\n",
      "x=100,y=200\n",
      "r2= -100\n",
      "3\n",
      "x=100,y=200\n",
      "r3= 20000\n"
     ]
    }
   ],
   "source": [
    "def add(x,y):\n",
    "    print(\"1\")\n",
    "    print(f\"x={x},y={y}\")\n",
    "    yield x+y\n",
    "    print(\"2\")\n",
    "    print(f\"x={x},y={y}\")\n",
    "    yield x-y\n",
    "    print(\"3\")\n",
    "    print(f\"x={x},y={y}\")\n",
    "    yield x*y\n",
    "res1 = add(100,200)\n",
    "print(\"result1=\",res1)\n",
    "r1=next(res1)\n",
    "print(\"r1=\",r1)\n",
    "r2=next(res1)\n",
    "print(\"r2=\",r2)\n",
    "r3=next(res1)\n",
    "print(\"r3=\",r3)\n"
   ]
  },
  {
   "cell_type": "code",
   "execution_count": 37,
   "metadata": {},
   "outputs": [
    {
     "name": "stdout",
     "output_type": "stream",
     "text": [
      "result1= <generator object add at 0x000002019481BEB0>\n",
      "1\n",
      "x=100,y=200\n",
      "r1= 300\n",
      "2\n",
      "x=100,y=200\n",
      "r2= -100\n",
      "3\n",
      "x=100,y=200\n",
      "r3= 20000\n"
     ]
    },
    {
     "ename": "StopIteration",
     "evalue": "",
     "output_type": "error",
     "traceback": [
      "\u001b[1;31m---------------------------------------------------------------------------\u001b[0m",
      "\u001b[1;31mStopIteration\u001b[0m                             Traceback (most recent call last)",
      "\u001b[1;32m<ipython-input-37-e6ce6d9dc5b2>\u001b[0m in \u001b[0;36m<module>\u001b[1;34m\u001b[0m\n\u001b[0;32m     17\u001b[0m \u001b[0mr3\u001b[0m\u001b[1;33m=\u001b[0m\u001b[0mnext\u001b[0m\u001b[1;33m(\u001b[0m\u001b[0mres1\u001b[0m\u001b[1;33m)\u001b[0m\u001b[1;33m\u001b[0m\u001b[1;33m\u001b[0m\u001b[0m\n\u001b[0;32m     18\u001b[0m \u001b[0mprint\u001b[0m\u001b[1;33m(\u001b[0m\u001b[1;34m\"r3=\"\u001b[0m\u001b[1;33m,\u001b[0m\u001b[0mr3\u001b[0m\u001b[1;33m)\u001b[0m\u001b[1;33m\u001b[0m\u001b[1;33m\u001b[0m\u001b[0m\n\u001b[1;32m---> 19\u001b[1;33m \u001b[0mr4\u001b[0m\u001b[1;33m=\u001b[0m\u001b[0mnext\u001b[0m\u001b[1;33m(\u001b[0m\u001b[0mres1\u001b[0m\u001b[1;33m)\u001b[0m\u001b[1;33m\u001b[0m\u001b[1;33m\u001b[0m\u001b[0m\n\u001b[0m\u001b[0;32m     20\u001b[0m \u001b[0mprint\u001b[0m\u001b[1;33m(\u001b[0m\u001b[1;34m\"r4=\"\u001b[0m\u001b[1;33m,\u001b[0m\u001b[0mr4\u001b[0m\u001b[1;33m)\u001b[0m\u001b[1;33m\u001b[0m\u001b[1;33m\u001b[0m\u001b[0m\n",
      "\u001b[1;31mStopIteration\u001b[0m: "
     ]
    }
   ],
   "source": [
    "def add(x,y):\n",
    "    print(\"1\")\n",
    "    print(f\"x={x},y={y}\")\n",
    "    yield x+y\n",
    "    print(\"2\")\n",
    "    print(f\"x={x},y={y}\")\n",
    "    yield x-y\n",
    "    print(\"3\")\n",
    "    print(f\"x={x},y={y}\")\n",
    "    yield x*y\n",
    "res1 = add(100,200)\n",
    "print(\"result1=\",res1)\n",
    "r1=next(res1)\n",
    "print(\"r1=\",r1)\n",
    "r2=next(res1)\n",
    "print(\"r2=\",r2)\n",
    "r3=next(res1)\n",
    "print(\"r3=\",r3)\n",
    "r4=next(res1)\n",
    "print(\"r4=\",r4)"
   ]
  },
  {
   "cell_type": "code",
   "execution_count": 38,
   "metadata": {},
   "outputs": [
    {
     "name": "stdout",
     "output_type": "stream",
     "text": [
      "result1= <generator object add at 0x000002019482C040>\n",
      "1\n",
      "x=100,y=200\n",
      "iteration started\n",
      "result= 300\n",
      "iteration ended\n",
      "2\n",
      "x=100,y=200\n",
      "iteration started\n",
      "result= -100\n",
      "iteration ended\n",
      "3\n",
      "x=100,y=200\n",
      "iteration started\n",
      "result= 20000\n",
      "iteration ended\n",
      "ended\n"
     ]
    }
   ],
   "source": [
    "def add(x,y):\n",
    "    print(\"1\")\n",
    "    print(f\"x={x},y={y}\")\n",
    "    yield x+y\n",
    "    print(\"2\")\n",
    "    print(f\"x={x},y={y}\")\n",
    "    yield x-y\n",
    "    print(\"3\")\n",
    "    print(f\"x={x},y={y}\")\n",
    "    yield x*y\n",
    "res1 = add(100,200)\n",
    "print(\"result1=\",res1)\n",
    "for i in res1:#next(res1),i=300: next(res1),i=-100: next(res1),i=20000: next(res1): raise stop iteration error\n",
    "    print(\"iteration started\")\n",
    "    print(\"result=\",i)\n",
    "    print(\"iteration ended\")\n",
    "print(\"ended\")"
   ]
  },
  {
   "cell_type": "code",
   "execution_count": 40,
   "metadata": {},
   "outputs": [
    {
     "name": "stdout",
     "output_type": "stream",
     "text": [
      "-------------1\n",
      "1\n",
      "2\n",
      "3\n",
      "4\n",
      "-------------2\n",
      "1\n",
      "2\n",
      "3\n",
      "4\n",
      "-----------3\n",
      "1\n",
      "2\n",
      "3\n",
      "4\n"
     ]
    }
   ],
   "source": [
    "l=[1,2,3,4]\n",
    "print(\"-------------1\")\n",
    "for i in l:\n",
    "    print(i)\n",
    "print(\"-------------2\")\n",
    "for i in l:\n",
    "    print(i)\n",
    "print(\"-----------3\")\n",
    "for i in l:\n",
    "    print(i)"
   ]
  },
  {
   "cell_type": "code",
   "execution_count": 41,
   "metadata": {},
   "outputs": [
    {
     "name": "stdout",
     "output_type": "stream",
     "text": [
      "result1= <generator object add at 0x000002019482C4A0>\n",
      "1\n",
      "x=100,y=200\n",
      "iteration started\n",
      "result= 300\n",
      "iteration ended\n",
      "2\n",
      "x=100,y=200\n",
      "iteration started\n",
      "result= -100\n",
      "iteration ended\n",
      "3\n",
      "x=100,y=200\n",
      "iteration started\n",
      "result= 20000\n",
      "iteration ended\n",
      "iteration second time.................\n"
     ]
    }
   ],
   "source": [
    "def add(x,y):\n",
    "    print(\"1\")\n",
    "    print(f\"x={x},y={y}\")\n",
    "    yield x+y\n",
    "    print(\"2\")\n",
    "    print(f\"x={x},y={y}\")\n",
    "    yield x-y\n",
    "    print(\"3\")\n",
    "    print(f\"x={x},y={y}\")\n",
    "    yield x*y\n",
    "res1 = add(100,200)\n",
    "print(\"result1=\",res1)\n",
    "for i in res1:#next(res1),i=300: next(res1),i=-100: next(res1),i=20000: next(res1): raise stop iteration error\n",
    "    print(\"iteration started\")\n",
    "    print(\"result=\",i)\n",
    "    print(\"iteration ended\")\n",
    "print(\"iteration second time.................\")\n",
    "for i in res1:\n",
    "    print(\"iteration started\")\n",
    "    print(\"result=\",i)\n",
    "    print(\"iteration ended\")"
   ]
  },
  {
   "cell_type": "code",
   "execution_count": 1,
   "metadata": {},
   "outputs": [
    {
     "name": "stdout",
     "output_type": "stream",
     "text": [
      "x= 1000\n"
     ]
    }
   ],
   "source": [
    "x=1000\n",
    "def fun():\n",
    "    \n",
    "    print(\"x=\",x)\n",
    "fun()"
   ]
  },
  {
   "cell_type": "code",
   "execution_count": 2,
   "metadata": {},
   "outputs": [
    {
     "name": "stdout",
     "output_type": "stream",
     "text": [
      "x= 1\n"
     ]
    }
   ],
   "source": [
    "x=1000\n",
    "def fun():\n",
    "    x=1\n",
    "    print(\"x=\",x)\n",
    "fun()"
   ]
  },
  {
   "cell_type": "code",
   "execution_count": 3,
   "metadata": {},
   "outputs": [
    {
     "name": "stdout",
     "output_type": "stream",
     "text": [
      "x before fun call: 1000\n",
      "x inside fun: 1\n",
      "x after fun call: 1000\n"
     ]
    }
   ],
   "source": [
    "x=1000\n",
    "def fun():\n",
    "    x=1\n",
    "    print(\"x inside fun:\",x)\n",
    "print(\"x before fun call:\",x)\n",
    "fun()\n",
    "print(\"x after fun call:\",x)"
   ]
  },
  {
   "cell_type": "code",
   "execution_count": 4,
   "metadata": {},
   "outputs": [
    {
     "name": "stdout",
     "output_type": "stream",
     "text": [
      "before fun call x=1000, y=2000\n",
      "inside fun x=1, y=2\n",
      "after fun call x=1000, y=2\n"
     ]
    }
   ],
   "source": [
    "x=1000\n",
    "y=2000\n",
    "def fun():\n",
    "    global y\n",
    "    x=1\n",
    "    y=2\n",
    "    print(f\"inside fun x={x}, y={y}\")\n",
    "print(f\"before fun call x={x}, y={y}\")\n",
    "fun()\n",
    "print(f\"after fun call x={x}, y={y}\")"
   ]
  },
  {
   "cell_type": "code",
   "execution_count": 5,
   "metadata": {},
   "outputs": [
    {
     "name": "stdout",
     "output_type": "stream",
     "text": [
      "hello\n",
      "None\n"
     ]
    }
   ],
   "source": [
    "def fun():\n",
    "    print(\"hello\")\n",
    "print(fun())"
   ]
  },
  {
   "cell_type": "code",
   "execution_count": 6,
   "metadata": {},
   "outputs": [
    {
     "name": "stdout",
     "output_type": "stream",
     "text": [
      "<function fun at 0x000001A6EC34DCA0>\n"
     ]
    }
   ],
   "source": [
    "def fun():\n",
    "    print(\"hello\")\n",
    "print(fun)"
   ]
  },
  {
   "cell_type": "code",
   "execution_count": 7,
   "metadata": {},
   "outputs": [
    {
     "name": "stdout",
     "output_type": "stream",
     "text": [
      "<function fun at 0x000001A6EC34D3A0> 1816439083936 <class 'function'>\n"
     ]
    }
   ],
   "source": [
    "def fun():\n",
    "    print(\"hello\")\n",
    "print(fun, id(fun), type(fun))"
   ]
  },
  {
   "cell_type": "code",
   "execution_count": 8,
   "metadata": {},
   "outputs": [
    {
     "ename": "NameError",
     "evalue": "name 'res' is not defined",
     "output_type": "error",
     "traceback": [
      "\u001b[1;31m---------------------------------------------------------------------------\u001b[0m",
      "\u001b[1;31mNameError\u001b[0m                                 Traceback (most recent call last)",
      "\u001b[1;32m<ipython-input-8-b8bf6a8686c3>\u001b[0m in \u001b[0;36m<module>\u001b[1;34m\u001b[0m\n\u001b[0;32m      2\u001b[0m     \u001b[0mres\u001b[0m\u001b[1;33m=\u001b[0m\u001b[1;34m\"python\"\u001b[0m\u001b[1;33m\u001b[0m\u001b[1;33m\u001b[0m\u001b[0m\n\u001b[0;32m      3\u001b[0m \u001b[0mfun\u001b[0m\u001b[1;33m(\u001b[0m\u001b[1;33m)\u001b[0m\u001b[1;33m\u001b[0m\u001b[1;33m\u001b[0m\u001b[0m\n\u001b[1;32m----> 4\u001b[1;33m \u001b[0mprint\u001b[0m\u001b[1;33m(\u001b[0m\u001b[1;34m\"result=\"\u001b[0m\u001b[1;33m,\u001b[0m \u001b[0mres\u001b[0m\u001b[1;33m)\u001b[0m\u001b[1;33m\u001b[0m\u001b[1;33m\u001b[0m\u001b[0m\n\u001b[0m",
      "\u001b[1;31mNameError\u001b[0m: name 'res' is not defined"
     ]
    }
   ],
   "source": [
    "def fun():\n",
    "    res=\"python\"\n",
    "fun()\n",
    "print(\"result=\", res)"
   ]
  },
  {
   "cell_type": "code",
   "execution_count": null,
   "metadata": {},
   "outputs": [],
   "source": []
  }
 ],
 "metadata": {
  "kernelspec": {
   "display_name": "Python 3",
   "language": "python",
   "name": "python3"
  },
  "language_info": {
   "codemirror_mode": {
    "name": "ipython",
    "version": 3
   },
   "file_extension": ".py",
   "mimetype": "text/x-python",
   "name": "python",
   "nbconvert_exporter": "python",
   "pygments_lexer": "ipython3",
   "version": "3.8.3"
  }
 },
 "nbformat": 4,
 "nbformat_minor": 4
}
