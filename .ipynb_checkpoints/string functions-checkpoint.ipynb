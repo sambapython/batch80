{
 "cells": [
  {
   "cell_type": "code",
   "execution_count": 1,
   "metadata": {},
   "outputs": [
    {
     "name": "stdout",
     "output_type": "stream",
     "text": [
      "['__add__', '__class__', '__contains__', '__delattr__', '__dir__', '__doc__', '__eq__', '__format__', '__ge__', '__getattribute__', '__getitem__', '__getnewargs__', '__gt__', '__hash__', '__init__', '__init_subclass__', '__iter__', '__le__', '__len__', '__lt__', '__mod__', '__mul__', '__ne__', '__new__', '__reduce__', '__reduce_ex__', '__repr__', '__rmod__', '__rmul__', '__setattr__', '__sizeof__', '__str__', '__subclasshook__', 'capitalize', 'casefold', 'center', 'count', 'encode', 'endswith', 'expandtabs', 'find', 'format', 'format_map', 'index', 'isalnum', 'isalpha', 'isascii', 'isdecimal', 'isdigit', 'isidentifier', 'islower', 'isnumeric', 'isprintable', 'isspace', 'istitle', 'isupper', 'join', 'ljust', 'lower', 'lstrip', 'maketrans', 'partition', 'replace', 'rfind', 'rindex', 'rjust', 'rpartition', 'rsplit', 'rstrip', 'split', 'splitlines', 'startswith', 'strip', 'swapcase', 'title', 'translate', 'upper', 'zfill']\n"
     ]
    }
   ],
   "source": [
    "s=\"python\"\n",
    "print(dir(s))"
   ]
  },
  {
   "cell_type": "code",
   "execution_count": 3,
   "metadata": {},
   "outputs": [
    {
     "name": "stdout",
     "output_type": "stream",
     "text": [
      "s= pyTHon proGRAm\n",
      "lower: python program\n",
      "upper: PYTHON PROGRAM\n",
      "casefold: python program\n",
      "title: Python Program\n",
      "captitalize: Python program\n",
      "swapcase: PYthON PROgraM\n"
     ]
    }
   ],
   "source": [
    "#string translations functions\n",
    "s=\"pyTHon proGRAm\"\n",
    "print(\"s=\",s)\n",
    "print(\"lower:\",s.lower())\n",
    "print(\"upper:\",s.upper())\n",
    "print(\"casefold:\",s.casefold())\n",
    "print(\"title:\",s.title())\n",
    "print(\"captitalize:\",s.capitalize())\n",
    "print(\"swapcase:\",s.swapcase())"
   ]
  },
  {
   "cell_type": "code",
   "execution_count": 4,
   "metadata": {},
   "outputs": [
    {
     "name": "stdout",
     "output_type": "stream",
     "text": [
      "lower: python program\n",
      "casefold: python program\n"
     ]
    }
   ],
   "source": [
    "s=\"pyTHon proGRAm\"\n",
    "print(\"lower:\",s.lower())\n",
    "print(\"casefold:\",s.casefold())"
   ]
  },
  {
   "cell_type": "code",
   "execution_count": 5,
   "metadata": {},
   "outputs": [
    {
     "name": "stdout",
     "output_type": "stream",
     "text": [
      "False\n"
     ]
    }
   ],
   "source": [
    "s=\"python\"\n",
    "s1=\"PYthON\"\n",
    "print(s==s1)"
   ]
  },
  {
   "cell_type": "code",
   "execution_count": 6,
   "metadata": {},
   "outputs": [
    {
     "name": "stdout",
     "output_type": "stream",
     "text": [
      "True\n"
     ]
    }
   ],
   "source": [
    "s=\"python\"\n",
    "s1=\"PYthON\"\n",
    "print(s.lower()==s1.lower())"
   ]
  },
  {
   "cell_type": "code",
   "execution_count": 7,
   "metadata": {},
   "outputs": [
    {
     "name": "stdout",
     "output_type": "stream",
     "text": [
      "True\n"
     ]
    }
   ],
   "source": [
    "s=\"python\"\n",
    "s1=\"PYthON\"\n",
    "print(s.casefold()==s1.casefold())"
   ]
  },
  {
   "cell_type": "code",
   "execution_count": 8,
   "metadata": {},
   "outputs": [
    {
     "name": "stdout",
     "output_type": "stream",
     "text": [
      "True\n"
     ]
    }
   ],
   "source": [
    "s=\"PYTHON\"\n",
    "s1=\"PYthON\"\n",
    "print(s.casefold()==s1.casefold())"
   ]
  },
  {
   "cell_type": "code",
   "execution_count": 9,
   "metadata": {},
   "outputs": [
    {
     "name": "stdout",
     "output_type": "stream",
     "text": [
      "title: Python Program\n"
     ]
    }
   ],
   "source": [
    "s=\"pyTHon proGRAm\"\n",
    "print(\"title:\",s.title())"
   ]
  },
  {
   "cell_type": "code",
   "execution_count": 11,
   "metadata": {},
   "outputs": [
    {
     "name": "stdout",
     "output_type": "stream",
     "text": [
      "title: Pyt3Hon Prog@Ram\n"
     ]
    }
   ],
   "source": [
    "s=\"pyT3Hon proG@RAm\"\n",
    "print(\"title:\",s.title())"
   ]
  },
  {
   "cell_type": "code",
   "execution_count": 12,
   "metadata": {},
   "outputs": [
    {
     "name": "stdout",
     "output_type": "stream",
     "text": [
      "title: Python Program\n"
     ]
    }
   ],
   "source": [
    "s=\"pyTHon proGRAm\"\n",
    "print(\"title:\",s.title())"
   ]
  },
  {
   "cell_type": "code",
   "execution_count": 13,
   "metadata": {},
   "outputs": [
    {
     "name": "stdout",
     "output_type": "stream",
     "text": [
      "title: Python Prog@Ram\n"
     ]
    }
   ],
   "source": [
    "s=\"pyTHon proG@rAm\"\n",
    "print(\"title:\",s.title())"
   ]
  },
  {
   "cell_type": "code",
   "execution_count": 14,
   "metadata": {},
   "outputs": [
    {
     "name": "stdout",
     "output_type": "stream",
     "text": [
      "captitalize: Python program\n"
     ]
    }
   ],
   "source": [
    "s=\"pyTHon proGRAm\"\n",
    "print(\"captitalize:\",s.capitalize())"
   ]
  },
  {
   "cell_type": "code",
   "execution_count": 15,
   "metadata": {},
   "outputs": [
    {
     "name": "stdout",
     "output_type": "stream",
     "text": [
      "captitalize: 12python program\n"
     ]
    }
   ],
   "source": [
    "s=\"12pyTHon proGRAm\"\n",
    "print(\"captitalize:\",s.capitalize())"
   ]
  },
  {
   "cell_type": "code",
   "execution_count": 16,
   "metadata": {},
   "outputs": [
    {
     "name": "stdout",
     "output_type": "stream",
     "text": [
      "                                                     python program                                                     \n",
      "python program                                                                                                          \n",
      "                                                                                                          python program\n"
     ]
    }
   ],
   "source": [
    "s=\"python program\"\n",
    "print(s.center(120))# 120 is the output length of your text box\n",
    "print(s.ljust(120))\n",
    "print(s.rjust(120))"
   ]
  },
  {
   "cell_type": "code",
   "execution_count": 17,
   "metadata": {},
   "outputs": [
    {
     "name": "stdout",
     "output_type": "stream",
     "text": [
      "                       python program                       \n",
      "python program                                              \n",
      "                                              python program\n"
     ]
    }
   ],
   "source": [
    "s=\"python program\"\n",
    "print(s.center(60))# 120 is the output length of your text box\n",
    "print(s.ljust(60))\n",
    "print(s.rjust(60))"
   ]
  },
  {
   "cell_type": "code",
   "execution_count": null,
   "metadata": {},
   "outputs": [],
   "source": [
    "s=\"python program\"\n",
    "print(s.center(60))# 120 is the output length of your text box\n",
    "print(s.ljust(60))\n",
    "print(s.rjust(60))"
   ]
  },
  {
   "cell_type": "code",
   "execution_count": 18,
   "metadata": {},
   "outputs": [
    {
     "data": {
      "text/plain": [
       "46"
      ]
     },
     "execution_count": 18,
     "metadata": {},
     "output_type": "execute_result"
    }
   ],
   "source": [
    "60-len(s)"
   ]
  },
  {
   "cell_type": "code",
   "execution_count": 19,
   "metadata": {},
   "outputs": [
    {
     "name": "stdout",
     "output_type": "stream",
     "text": [
      "***********************python program***********************\n",
      "python program**********************************************\n",
      "**********************************************python program\n"
     ]
    }
   ],
   "source": [
    "s=\"python program\"\n",
    "print(s.center(60,\"*\"))# 120 is the output length of your text box\n",
    "print(s.ljust(60,\"*\"))\n",
    "print(s.rjust(60,\"*\"))"
   ]
  },
  {
   "cell_type": "code",
   "execution_count": 20,
   "metadata": {},
   "outputs": [
    {
     "name": "stdout",
     "output_type": "stream",
     "text": [
      "python program\n",
      "python program\n",
      "python program\n"
     ]
    }
   ],
   "source": [
    "s=\"python program\"\n",
    "print(s.center(10,\"*\"))# 120 is the output length of your text box\n",
    "print(s.ljust(10,\"*\"))\n",
    "print(s.rjust(10,\"*\"))"
   ]
  },
  {
   "cell_type": "code",
   "execution_count": 21,
   "metadata": {},
   "outputs": [
    {
     "name": "stdout",
     "output_type": "stream",
     "text": [
      "name=jay, age=4, weight=19.24\n"
     ]
    }
   ],
   "source": [
    "# format\n",
    "name=\"jay\"\n",
    "age=4\n",
    "weight=19.23575785\n",
    "print(f\"name={name}, age={age}, weight={weight:.2f}\")"
   ]
  },
  {
   "cell_type": "code",
   "execution_count": 23,
   "metadata": {},
   "outputs": [
    {
     "name": "stdout",
     "output_type": "stream",
     "text": [
      "name=jay, age=4, weight=19.24\n",
      "name=jay, age=4, weight=19.23575785\n"
     ]
    }
   ],
   "source": [
    "# format\n",
    "name=\"jay\"\n",
    "age=4\n",
    "weight=19.23575785\n",
    "print(f\"name={name}, age={age}, weight={weight:.2f}\")\n",
    "print(\"name={0}, age={1}, weight={2}\".format(name, age, weight))"
   ]
  },
  {
   "cell_type": "code",
   "execution_count": 24,
   "metadata": {},
   "outputs": [
    {
     "name": "stdout",
     "output_type": "stream",
     "text": [
      "name=jay, age=4, weight=19.24\n",
      "name=jay, age=jay, weight=jay\n"
     ]
    }
   ],
   "source": [
    "# format\n",
    "name=\"jay\"\n",
    "age=4\n",
    "weight=19.23575785\n",
    "print(f\"name={name}, age={age}, weight={weight:.2f}\")\n",
    "print(\"name={0}, age={0}, weight={0}\".format(name, age, weight))"
   ]
  },
  {
   "cell_type": "code",
   "execution_count": 25,
   "metadata": {},
   "outputs": [
    {
     "name": "stdout",
     "output_type": "stream",
     "text": [
      "name=jay, age=4, weight=19.24\n",
      "name=4, age=jay, weight=19.23575785\n"
     ]
    }
   ],
   "source": [
    "# format\n",
    "name=\"jay\"\n",
    "age=4\n",
    "weight=19.23575785\n",
    "print(f\"name={name}, age={age}, weight={weight:.2f}\")\n",
    "print(\"name={0}, age={1}, weight={2}\".format(age, name, weight))"
   ]
  },
  {
   "cell_type": "code",
   "execution_count": 26,
   "metadata": {},
   "outputs": [
    {
     "name": "stdout",
     "output_type": "stream",
     "text": [
      "name=jay, age=4, weight=19.24\n",
      "name=4, age=jay, weight=19.24\n"
     ]
    }
   ],
   "source": [
    "# format\n",
    "name=\"jay\"\n",
    "age=4\n",
    "weight=19.23575785\n",
    "print(f\"name={name}, age={age}, weight={weight:.2f}\")\n",
    "print(\"name={0}, age={1}, weight={2:.2f}\".format(age, name, weight))"
   ]
  },
  {
   "cell_type": "code",
   "execution_count": 27,
   "metadata": {},
   "outputs": [
    {
     "name": "stdout",
     "output_type": "stream",
     "text": [
      "Name=jay,Age=4,Wieght=19.235876\n"
     ]
    }
   ],
   "source": [
    "#format_map\n",
    "d={\"name\":\"jay\",\"age\":4, \"weight\":19.235876}\n",
    "print(\"Name=%(name)s,Age=%(age)s,Wieght=%(weight)s\"%d)"
   ]
  },
  {
   "cell_type": "code",
   "execution_count": 28,
   "metadata": {},
   "outputs": [
    {
     "name": "stdout",
     "output_type": "stream",
     "text": [
      "Name=jay, Age=4, Wieght=19.235876\n",
      "Name:jay, Age=4, Weight=19.235876\n"
     ]
    }
   ],
   "source": [
    "#format_map\n",
    "d={\"name\":\"jay\",\"age\":4, \"weight\":19.235876}\n",
    "print(\"Name=%(name)s, Age=%(age)s, Wieght=%(weight)s\"%d)\n",
    "print(\"Name:{name}, Age={age}, Weight={weight}\".format_map(d))"
   ]
  },
  {
   "cell_type": "code",
   "execution_count": 29,
   "metadata": {},
   "outputs": [
    {
     "name": "stdout",
     "output_type": "stream",
     "text": [
      "Name=jay, Age=4, Wieght=19.235876\n",
      "Name:4, Age=jay, Weight=19.235876\n"
     ]
    }
   ],
   "source": [
    "#format_map\n",
    "d={\"name\":\"jay\",\"age\":4, \"weight\":19.235876}\n",
    "print(\"Name=%(name)s, Age=%(age)s, Wieght=%(weight)s\"%d)\n",
    "print(\"Name:{age}, Age={name}, Weight={weight}\".format_map(d))"
   ]
  },
  {
   "cell_type": "code",
   "execution_count": 30,
   "metadata": {},
   "outputs": [
    {
     "name": "stdout",
     "output_type": "stream",
     "text": [
      "Name=jay, Age=4, Wieght=19.235876\n",
      "Name:4, Age=jay, Weight=19.235876\n",
      "1:4, 2=jay, 3=19.235876\n"
     ]
    }
   ],
   "source": [
    "#format_map\n",
    "d={\"name\":\"jay\",\"age\":4, \"weight\":19.235876}\n",
    "print(\"Name=%(name)s, Age=%(age)s, Wieght=%(weight)s\"%d)\n",
    "print(\"Name:{age}, Age={name}, Weight={weight}\".format_map(d))\n",
    "print(\"1:{age}, 2={name}, 3={weight}\".format_map(d))"
   ]
  },
  {
   "cell_type": "code",
   "execution_count": 31,
   "metadata": {},
   "outputs": [
    {
     "name": "stdout",
     "output_type": "stream",
     "text": [
      "True\n",
      "False\n"
     ]
    }
   ],
   "source": [
    "s=\"abcd\"\n",
    "print(s.islower())\n",
    "print(s.isupper())"
   ]
  },
  {
   "cell_type": "code",
   "execution_count": 32,
   "metadata": {},
   "outputs": [
    {
     "name": "stdout",
     "output_type": "stream",
     "text": [
      "False\n",
      "False\n"
     ]
    }
   ],
   "source": [
    "s=\"abCD\"\n",
    "print(s.islower())\n",
    "print(s.isupper())"
   ]
  },
  {
   "cell_type": "code",
   "execution_count": 33,
   "metadata": {},
   "outputs": [
    {
     "name": "stdout",
     "output_type": "stream",
     "text": [
      "True\n",
      "False\n"
     ]
    }
   ],
   "source": [
    "s=\"abcd12344\"\n",
    "print(s.islower())\n",
    "print(s.isupper())"
   ]
  },
  {
   "cell_type": "code",
   "execution_count": 34,
   "metadata": {},
   "outputs": [
    {
     "name": "stdout",
     "output_type": "stream",
     "text": [
      "False\n",
      "False\n"
     ]
    }
   ],
   "source": [
    "s=\"abcd123A44\"\n",
    "print(s.islower())\n",
    "print(s.isupper())"
   ]
  },
  {
   "cell_type": "code",
   "execution_count": 35,
   "metadata": {},
   "outputs": [
    {
     "name": "stdout",
     "output_type": "stream",
     "text": [
      "False\n",
      "True\n"
     ]
    }
   ],
   "source": [
    "s=\"ABCD123A44\"\n",
    "print(s.islower())\n",
    "print(s.isupper())"
   ]
  },
  {
   "cell_type": "code",
   "execution_count": 36,
   "metadata": {},
   "outputs": [
    {
     "name": "stdout",
     "output_type": "stream",
     "text": [
      "False\n",
      "False\n"
     ]
    }
   ],
   "source": [
    "s=\"ABcD123A44\"\n",
    "print(s.islower())\n",
    "print(s.isupper())"
   ]
  },
  {
   "cell_type": "code",
   "execution_count": 37,
   "metadata": {},
   "outputs": [
    {
     "name": "stdout",
     "output_type": "stream",
     "text": [
      "True\n",
      "True\n",
      "True\n"
     ]
    }
   ],
   "source": [
    "s=\"1234\"\n",
    "print(s.isdigit())\n",
    "print(s.isnumeric())\n",
    "print(s.isdecimal())"
   ]
  },
  {
   "cell_type": "code",
   "execution_count": 38,
   "metadata": {},
   "outputs": [
    {
     "name": "stdout",
     "output_type": "stream",
     "text": [
      "False\n",
      "False\n",
      "False\n"
     ]
    }
   ],
   "source": [
    "s=\"12.34\"\n",
    "print(s.isdigit())\n",
    "print(s.isnumeric())\n",
    "print(s.isdecimal())"
   ]
  },
  {
   "cell_type": "code",
   "execution_count": 39,
   "metadata": {},
   "outputs": [
    {
     "name": "stdout",
     "output_type": "stream",
     "text": [
      "False\n",
      "False\n",
      "False\n"
     ]
    }
   ],
   "source": [
    "s=\"12q34\"\n",
    "print(s.isdigit())\n",
    "print(s.isnumeric())\n",
    "print(s.isdecimal())"
   ]
  },
  {
   "cell_type": "code",
   "execution_count": 40,
   "metadata": {},
   "outputs": [
    {
     "name": "stdout",
     "output_type": "stream",
     "text": [
      "2³\n"
     ]
    }
   ],
   "source": [
    "s=\"2\\u00b3\"\n",
    "print(s)"
   ]
  },
  {
   "cell_type": "code",
   "execution_count": 41,
   "metadata": {},
   "outputs": [
    {
     "name": "stdout",
     "output_type": "stream",
     "text": [
      "True\n",
      "True\n",
      "False\n"
     ]
    }
   ],
   "source": [
    "s=\"2³\"\n",
    "print(s.isdigit())\n",
    "print(s.isnumeric())\n",
    "print(s.isdecimal())"
   ]
  },
  {
   "cell_type": "code",
   "execution_count": 42,
   "metadata": {},
   "outputs": [
    {
     "name": "stdout",
     "output_type": "stream",
     "text": [
      "True\n",
      "True\n"
     ]
    }
   ],
   "source": [
    "s=\"2³\"\n",
    "print(s.isdigit())\n",
    "print(s.isnumeric())"
   ]
  },
  {
   "cell_type": "code",
   "execution_count": 43,
   "metadata": {},
   "outputs": [
    {
     "name": "stdout",
     "output_type": "stream",
     "text": [
      "False\n",
      "True\n"
     ]
    }
   ],
   "source": [
    "s=\"四\"\n",
    "print(s.isdigit())\n",
    "print(s.isnumeric())"
   ]
  },
  {
   "cell_type": "code",
   "execution_count": 44,
   "metadata": {},
   "outputs": [
    {
     "name": "stdout",
     "output_type": "stream",
     "text": [
      "True\n",
      "True\n"
     ]
    }
   ],
   "source": [
    "s=\"۰\"\n",
    "print(s.isdigit())\n",
    "print(s.isnumeric())"
   ]
  },
  {
   "cell_type": "code",
   "execution_count": 45,
   "metadata": {},
   "outputs": [
    {
     "name": "stdout",
     "output_type": "stream",
     "text": [
      "0\n"
     ]
    }
   ],
   "source": [
    "s=\"۰\"\n",
    "print(int(s))"
   ]
  },
  {
   "cell_type": "code",
   "execution_count": 46,
   "metadata": {},
   "outputs": [
    {
     "name": "stdout",
     "output_type": "stream",
     "text": [
      "10\n"
     ]
    }
   ],
   "source": [
    "s=\"۱۰\"\n",
    "print(int(s))"
   ]
  },
  {
   "cell_type": "code",
   "execution_count": 1,
   "metadata": {},
   "outputs": [
    {
     "name": "stdout",
     "output_type": "stream",
     "text": [
      "True\n",
      "True\n"
     ]
    }
   ],
   "source": [
    "s=\"abcd\"\n",
    "print(s.isalpha())\n",
    "print(s.isalnum())"
   ]
  },
  {
   "cell_type": "code",
   "execution_count": 2,
   "metadata": {},
   "outputs": [
    {
     "name": "stdout",
     "output_type": "stream",
     "text": [
      "False\n",
      "True\n"
     ]
    }
   ],
   "source": [
    "s=\"abcd1234\"\n",
    "print(s.isalpha())\n",
    "print(s.isalnum())"
   ]
  },
  {
   "cell_type": "code",
   "execution_count": 3,
   "metadata": {},
   "outputs": [
    {
     "name": "stdout",
     "output_type": "stream",
     "text": [
      "False\n",
      "False\n"
     ]
    }
   ],
   "source": [
    "s=\"abcd1234@#$%\"\n",
    "print(s.isalpha())\n",
    "print(s.isalnum())"
   ]
  },
  {
   "cell_type": "code",
   "execution_count": 4,
   "metadata": {},
   "outputs": [
    {
     "name": "stdout",
     "output_type": "stream",
     "text": [
      "wert2345\n",
      "it does not contains special symbols\n"
     ]
    }
   ],
   "source": [
    "if input().isalnum():\n",
    "    print(\"it does not contains special symbols\")\n",
    "else:\n",
    "    print(\"it contains special symbols\")"
   ]
  },
  {
   "cell_type": "code",
   "execution_count": 5,
   "metadata": {},
   "outputs": [
    {
     "name": "stdout",
     "output_type": "stream",
     "text": [
      "qwer123$%\n",
      "it contains special symbols\n"
     ]
    }
   ],
   "source": [
    "if input().isalnum():\n",
    "    print(\"it does not contains special symbols\")\n",
    "else:\n",
    "    print(\"it contains special symbols\")"
   ]
  },
  {
   "cell_type": "code",
   "execution_count": 6,
   "metadata": {},
   "outputs": [
    {
     "name": "stdout",
     "output_type": "stream",
     "text": [
      "\n",
      "it contains special symbols\n"
     ]
    }
   ],
   "source": [
    "if input().isalnum():\n",
    "    print(\"it does not contains special symbols\")\n",
    "else:\n",
    "    print(\"it contains special symbols\")"
   ]
  },
  {
   "cell_type": "code",
   "execution_count": 7,
   "metadata": {},
   "outputs": [
    {
     "data": {
      "text/plain": [
       "False"
      ]
     },
     "execution_count": 7,
     "metadata": {},
     "output_type": "execute_result"
    }
   ],
   "source": [
    "\"\".isalnum()"
   ]
  },
  {
   "cell_type": "code",
   "execution_count": 8,
   "metadata": {},
   "outputs": [
    {
     "name": "stdout",
     "output_type": "stream",
     "text": [
      "qwe123\n",
      "it does not contains special symbols\n"
     ]
    }
   ],
   "source": [
    "if data:=input():\n",
    "    if data.isalnum():\n",
    "        print(\"it does not contains special symbols\")\n",
    "    else:\n",
    "        print(\"it contains special symbols\")\n",
    "else:\n",
    "    print(\"it does not contains special symbols\")"
   ]
  },
  {
   "cell_type": "code",
   "execution_count": 9,
   "metadata": {},
   "outputs": [
    {
     "name": "stdout",
     "output_type": "stream",
     "text": [
      "qwe123#\n",
      "it contains special symbols\n"
     ]
    }
   ],
   "source": [
    "if data:=input():\n",
    "    if data.isalnum():\n",
    "        print(\"it does not contains special symbols\")\n",
    "    else:\n",
    "        print(\"it contains special symbols\")\n",
    "else:\n",
    "    print(\"it does not contains special symbols\")"
   ]
  },
  {
   "cell_type": "code",
   "execution_count": 10,
   "metadata": {},
   "outputs": [
    {
     "name": "stdout",
     "output_type": "stream",
     "text": [
      "\n",
      "it does not contains special symbols\n"
     ]
    }
   ],
   "source": [
    "if data:=input(): #:= call it as walrus operator\n",
    "    if data.isalnum():\n",
    "        print(\"it does not contains special symbols\")\n",
    "    else:\n",
    "        print(\"it contains special symbols\")\n",
    "else:\n",
    "    print(\"it does not contains special symbols\")"
   ]
  },
  {
   "cell_type": "code",
   "execution_count": null,
   "metadata": {},
   "outputs": [],
   "source": [
    "data = input()\n",
    "if data:\n",
    "    if data.isalnum():\n",
    "        print(\"it does not contains special symbols\")\n",
    "    else:\n",
    "        print(\"it contains special symbols\")\n",
    "else:\n",
    "    print(\"it does not contains special symbols\")"
   ]
  },
  {
   "cell_type": "code",
   "execution_count": 11,
   "metadata": {},
   "outputs": [
    {
     "name": "stdout",
     "output_type": "stream",
     "text": [
      "a\n"
     ]
    }
   ],
   "source": [
    "s=\"apple;orange;grape;mango;banana\"\n",
    "for i in s:\n",
    "    print(i)\n",
    "    break"
   ]
  },
  {
   "cell_type": "code",
   "execution_count": 12,
   "metadata": {},
   "outputs": [
    {
     "name": "stdout",
     "output_type": "stream",
     "text": [
      "apple\n",
      "orange\n",
      "grape\n",
      "mango\n"
     ]
    }
   ],
   "source": [
    "s=\"apple;orange;grape;mango;banana\"\n",
    "sub=\"\"\n",
    "for i in s:\n",
    "    if i==\";\":\n",
    "        print(sub)\n",
    "        sub=''\n",
    "    else:\n",
    "        sub=sub+i"
   ]
  },
  {
   "cell_type": "code",
   "execution_count": 13,
   "metadata": {},
   "outputs": [
    {
     "name": "stdout",
     "output_type": "stream",
     "text": [
      "['apple', 'orange', 'grape', 'mango', 'banana']\n"
     ]
    }
   ],
   "source": [
    "s=\"apple;orange;grape;mango;banana\"\n",
    "print(s.split(\";\"))"
   ]
  },
  {
   "cell_type": "code",
   "execution_count": 14,
   "metadata": {},
   "outputs": [
    {
     "name": "stdout",
     "output_type": "stream",
     "text": [
      "apple\n",
      "orange\n",
      "grape\n",
      "mango\n",
      "banana\n"
     ]
    }
   ],
   "source": [
    "s=\"apple;orange;grape;mango;banana\"\n",
    "for fruit in s.split(\";\"):\n",
    "    print(fruit)"
   ]
  },
  {
   "cell_type": "code",
   "execution_count": 16,
   "metadata": {},
   "outputs": [
    {
     "name": "stdout",
     "output_type": "stream",
     "text": [
      "apple;orange;grape;mango;banana\n"
     ]
    }
   ],
   "source": [
    "l=['apple', 'orange', 'grape', 'mango', 'banana']\n",
    "s=\";\".join(l)\n",
    "print(s)"
   ]
  },
  {
   "cell_type": "code",
   "execution_count": 18,
   "metadata": {},
   "outputs": [
    {
     "name": "stdout",
     "output_type": "stream",
     "text": [
      "apple\n",
      "orange\n",
      "grape\n",
      "mango\n",
      "banana\n"
     ]
    }
   ],
   "source": [
    "s=\"apple,orange,grape,mango,banana\"\n",
    "for fruit in s.split(\",\"):\n",
    "    print(fruit)"
   ]
  },
  {
   "cell_type": "code",
   "execution_count": 19,
   "metadata": {},
   "outputs": [
    {
     "name": "stdout",
     "output_type": "stream",
     "text": [
      "['apple', 'orange', 'grape', 'mango', 'banana']\n",
      "['apple', 'orange', 'grape,mango,banana']\n"
     ]
    }
   ],
   "source": [
    "s=\"apple,orange,grape,mango,banana\"\n",
    "print(s.split(\",\"))\n",
    "print(s.split(\",\",2))"
   ]
  },
  {
   "cell_type": "code",
   "execution_count": 20,
   "metadata": {},
   "outputs": [
    {
     "name": "stdout",
     "output_type": "stream",
     "text": [
      "['apple', 'orange', 'grape', 'mango', 'banana']\n",
      "['apple', 'orange', 'grape,mango,banana']\n",
      "['apple,orange,grape', 'mango', 'banana']\n"
     ]
    }
   ],
   "source": [
    "s=\"apple,orange,grape,mango,banana\"\n",
    "print(s.split(\",\"))\n",
    "print(s.split(\",\",2))\n",
    "print(s.rsplit(\",\",2))"
   ]
  },
  {
   "cell_type": "code",
   "execution_count": 21,
   "metadata": {},
   "outputs": [
    {
     "name": "stdout",
     "output_type": "stream",
     "text": [
      "['apple', 'orange', 'grape', 'mango', 'banana']\n",
      "['apple', 'orange', 'grape,mango,banana']\n",
      "['apple,orange', 'grape', 'mango', 'banana']\n"
     ]
    }
   ],
   "source": [
    "s=\"apple,orange,grape,mango,banana\"\n",
    "print(s.split(\",\"))\n",
    "print(s.split(\",\",2))\n",
    "print(s.rsplit(\",\",3))"
   ]
  },
  {
   "cell_type": "code",
   "execution_count": 22,
   "metadata": {},
   "outputs": [
    {
     "name": "stdout",
     "output_type": "stream",
     "text": [
      "('apple', ',', 'orange,grape,mango,banana')\n"
     ]
    }
   ],
   "source": [
    "s=\"apple,orange,grape,mango,banana\"\n",
    "print(s.partition(\",\"))#"
   ]
  },
  {
   "cell_type": "code",
   "execution_count": 23,
   "metadata": {},
   "outputs": [
    {
     "name": "stdout",
     "output_type": "stream",
     "text": [
      "('apple', ',', 'orange,grape,mango,banana')\n",
      "('apple,orange,grape,mango', ',', 'banana')\n"
     ]
    }
   ],
   "source": [
    "s=\"apple,orange,grape,mango,banana\"\n",
    "print(s.partition(\",\"))#\n",
    "print(s.rpartition(\",\"))"
   ]
  },
  {
   "cell_type": "code",
   "execution_count": 24,
   "metadata": {},
   "outputs": [
    {
     "name": "stdout",
     "output_type": "stream",
     "text": [
      "['apple', 'orange', 'grape', 'mango,banana']\n"
     ]
    }
   ],
   "source": [
    "s=\"apple\\norange\\ngrape\\nmango,banana\"\n",
    "print(s.splitlines())"
   ]
  },
  {
   "cell_type": "code",
   "execution_count": 25,
   "metadata": {},
   "outputs": [
    {
     "name": "stdout",
     "output_type": "stream",
     "text": [
      "['apple', 'orange', 'grape', 'mango', 'banana']\n"
     ]
    }
   ],
   "source": [
    "s=\"apple;orange;grape;mango;banana\"\n",
    "print(s.split(\";\"))"
   ]
  },
  {
   "cell_type": "code",
   "execution_count": 26,
   "metadata": {},
   "outputs": [
    {
     "name": "stdout",
     "output_type": "stream",
     "text": [
      "['__add__', '__class__', '__contains__', '__delattr__', '__dir__', '__doc__', '__eq__', '__format__', '__ge__', '__getattribute__', '__getitem__', '__getnewargs__', '__gt__', '__hash__', '__init__', '__init_subclass__', '__iter__', '__le__', '__len__', '__lt__', '__mod__', '__mul__', '__ne__', '__new__', '__reduce__', '__reduce_ex__', '__repr__', '__rmod__', '__rmul__', '__setattr__', '__sizeof__', '__str__', '__subclasshook__', 'capitalize', 'casefold', 'center', 'count', 'encode', 'endswith', 'expandtabs', 'find', 'format', 'format_map', 'index', 'isalnum', 'isalpha', 'isascii', 'isdecimal', 'isdigit', 'isidentifier', 'islower', 'isnumeric', 'isprintable', 'isspace', 'istitle', 'isupper', 'join', 'ljust', 'lower', 'lstrip', 'maketrans', 'partition', 'replace', 'rfind', 'rindex', 'rjust', 'rpartition', 'rsplit', 'rstrip', 'split', 'splitlines', 'startswith', 'strip', 'swapcase', 'title', 'translate', 'upper', 'zfill']\n"
     ]
    }
   ],
   "source": [
    "s=\"apple;orange;grape;mango;banana\"\n",
    "print(dir(s))"
   ]
  },
  {
   "cell_type": "code",
   "execution_count": 27,
   "metadata": {},
   "outputs": [
    {
     "name": "stdout",
     "output_type": "stream",
     "text": [
      "#$user#$@name$#\n",
      "#$user#$@name$#@\n",
      "@#$user#$@name$#\n"
     ]
    }
   ],
   "source": [
    "s=\"@#$user#$@name$#@\"\n",
    "print(s.strip(\"@\"))\n",
    "print(s.lstrip(\"@\"))\n",
    "print(s.rstrip(\"@\"))"
   ]
  },
  {
   "cell_type": "code",
   "execution_count": 28,
   "metadata": {},
   "outputs": [
    {
     "name": "stdout",
     "output_type": "stream",
     "text": [
      "@#$user#$@name$#@\n",
      "@#$user#$@name$#@\n",
      "@#$user#$@name$#@\n"
     ]
    }
   ],
   "source": [
    "s=\"@#$user#$@name$#@\"\n",
    "print(s.strip(\"#\"))\n",
    "print(s.lstrip(\"#\"))\n",
    "print(s.rstrip(\"#\"))"
   ]
  },
  {
   "cell_type": "code",
   "execution_count": 29,
   "metadata": {},
   "outputs": [
    {
     "name": "stdout",
     "output_type": "stream",
     "text": [
      "$user#$@name$\n",
      "$user#$@name$#@\n",
      "@#$user#$@name$\n"
     ]
    }
   ],
   "source": [
    "s=\"@#$user#$@name$#@\"\n",
    "print(s.strip(\"@#\"))\n",
    "print(s.lstrip(\"@#\"))\n",
    "print(s.rstrip(\"@#\"))"
   ]
  },
  {
   "cell_type": "code",
   "execution_count": 30,
   "metadata": {},
   "outputs": [
    {
     "name": "stdout",
     "output_type": "stream",
     "text": [
      "user#$@name\n",
      "user#$@name$#@\n",
      "@#$user#$@name\n"
     ]
    }
   ],
   "source": [
    "s=\"@#$user#$@name$#@\"\n",
    "print(s.strip(\"@$#\"))\n",
    "print(s.lstrip(\"@$#\"))\n",
    "print(s.rstrip(\"@$#\"))"
   ]
  },
  {
   "cell_type": "code",
   "execution_count": 32,
   "metadata": {},
   "outputs": [
    {
     "name": "stdout",
     "output_type": "stream",
     "text": [
      "apple,orange,grape,mango,banana\n"
     ]
    }
   ],
   "source": [
    "s=\"apple;orange;grape;mango;banana\"\n",
    "print(s.replace(\";\",\",\"))"
   ]
  },
  {
   "cell_type": "code",
   "execution_count": 33,
   "metadata": {},
   "outputs": [
    {
     "name": "stdout",
     "output_type": "stream",
     "text": [
      "apple,orange,grape;mango;banana\n"
     ]
    }
   ],
   "source": [
    "s=\"apple;orange;grape;mango;banana\"\n",
    "print(s.replace(\";\",\",\",2))"
   ]
  },
  {
   "cell_type": "code",
   "execution_count": 35,
   "metadata": {},
   "outputs": [
    {
     "name": "stdout",
     "output_type": "stream",
     "text": [
      "['apple', 'orange', 'grape', 'mango', 'banana']\n",
      "apple,orange,grape,mango,banana\n"
     ]
    }
   ],
   "source": [
    "s=\"apple;orange;grape;mango;banana\"\n",
    "l=s.split(\";\")\n",
    "print(l)\n",
    "s1=\",\".join(l)\n",
    "print(s1)"
   ]
  },
  {
   "cell_type": "code",
   "execution_count": 36,
   "metadata": {},
   "outputs": [
    {
     "name": "stdout",
     "output_type": "stream",
     "text": [
      "['apple;orange;grape', 'mango', 'banana']\n",
      "apple;orange;grape,mango,banana\n"
     ]
    }
   ],
   "source": [
    "s=\"apple;orange;grape;mango;banana\"\n",
    "l=s.rsplit(\";\",2)\n",
    "print(l)\n",
    "s1=\",\".join(l)\n",
    "print(s1)"
   ]
  },
  {
   "cell_type": "code",
   "execution_count": 37,
   "metadata": {},
   "outputs": [
    {
     "name": "stdout",
     "output_type": "stream",
     "text": [
      "apple,orange,grape,mango,banana\n"
     ]
    }
   ],
   "source": [
    "s=\"apple;orange;grape;mango;banana\"\n",
    "print(s.replace(\";\",\",\"))"
   ]
  },
  {
   "cell_type": "code",
   "execution_count": 38,
   "metadata": {},
   "outputs": [
    {
     "name": "stdout",
     "output_type": "stream",
     "text": [
      "appleorangegrapemangobanana\n"
     ]
    }
   ],
   "source": [
    "s=\"apple;orange;grape;mango;banana\"\n",
    "print(s.replace(\";\",\"\"))"
   ]
  },
  {
   "cell_type": "code",
   "execution_count": 39,
   "metadata": {},
   "outputs": [
    {
     "name": "stdout",
     "output_type": "stream",
     "text": [
      "apple,orange,grape,mango,banana\n"
     ]
    }
   ],
   "source": [
    "s=\"apple;orange;grape;mango;banana\"\n",
    "print(s.replace(\";\",\",\"))"
   ]
  },
  {
   "cell_type": "code",
   "execution_count": 40,
   "metadata": {},
   "outputs": [
    {
     "name": "stdout",
     "output_type": "stream",
     "text": [
      "apple,orange,grape;mango;banana\n"
     ]
    }
   ],
   "source": [
    "s=\"apple;orange;grape;mango;banana\"\n",
    "print(s.replace(\";\",\",\",2))"
   ]
  },
  {
   "cell_type": "code",
   "execution_count": 41,
   "metadata": {},
   "outputs": [],
   "source": [
    "s=\"apple;orange;grape;mango;banana\"\n",
    "#a=!\n",
    "#b=@\n",
    "#c=#\n",
    "#d=$"
   ]
  },
  {
   "cell_type": "code",
   "execution_count": null,
   "metadata": {},
   "outputs": [],
   "source": [
    "s=\"apple;orange;grape;mango;banana\"\n",
    "print(s.translate({97:33,98:64}))"
   ]
  },
  {
   "cell_type": "code",
   "execution_count": 42,
   "metadata": {},
   "outputs": [
    {
     "data": {
      "text/plain": [
       "97"
      ]
     },
     "execution_count": 42,
     "metadata": {},
     "output_type": "execute_result"
    }
   ],
   "source": [
    "ord(\"a\")"
   ]
  },
  {
   "cell_type": "code",
   "execution_count": 43,
   "metadata": {},
   "outputs": [
    {
     "data": {
      "text/plain": [
       "33"
      ]
     },
     "execution_count": 43,
     "metadata": {},
     "output_type": "execute_result"
    }
   ],
   "source": [
    "ord(\"!\")"
   ]
  },
  {
   "cell_type": "code",
   "execution_count": 44,
   "metadata": {},
   "outputs": [
    {
     "data": {
      "text/plain": [
       "98"
      ]
     },
     "execution_count": 44,
     "metadata": {},
     "output_type": "execute_result"
    }
   ],
   "source": [
    "ord(\"b\")"
   ]
  },
  {
   "cell_type": "code",
   "execution_count": 45,
   "metadata": {},
   "outputs": [
    {
     "data": {
      "text/plain": [
       "64"
      ]
     },
     "execution_count": 45,
     "metadata": {},
     "output_type": "execute_result"
    }
   ],
   "source": [
    "ord(\"@\")"
   ]
  },
  {
   "cell_type": "code",
   "execution_count": 46,
   "metadata": {},
   "outputs": [
    {
     "name": "stdout",
     "output_type": "stream",
     "text": [
      "!pple;or!nge;gr!pe;m!ngo;@!n!n!\n"
     ]
    }
   ],
   "source": [
    "s=\"apple;orange;grape;mango;banana\"\n",
    "print(s.translate({97:33,98:64}))"
   ]
  },
  {
   "cell_type": "code",
   "execution_count": 47,
   "metadata": {},
   "outputs": [
    {
     "data": {
      "text/plain": [
       "{97: 33, 98: 64, 99: 35, 100: 36}"
      ]
     },
     "execution_count": 47,
     "metadata": {},
     "output_type": "execute_result"
    }
   ],
   "source": [
    "\"\".maketrans(\"abcd\",\"!@#$\")"
   ]
  },
  {
   "cell_type": "code",
   "execution_count": 49,
   "metadata": {},
   "outputs": [
    {
     "name": "stdout",
     "output_type": "stream",
     "text": [
      "!pple;or!nge;gr!pe;m!ngo;@!n!n!;!@#$;#$@!\n"
     ]
    }
   ],
   "source": [
    "s=\"apple;orange;grape;mango;banana;abcd;cdba\"\n",
    "print(s.translate(\"\".maketrans(\"abcd\",\"!@#$\")))"
   ]
  },
  {
   "cell_type": "code",
   "execution_count": 50,
   "metadata": {},
   "outputs": [
    {
     "name": "stdout",
     "output_type": "stream",
     "text": [
      "['__add__', '__class__', '__contains__', '__delattr__', '__dir__', '__doc__', '__eq__', '__format__', '__ge__', '__getattribute__', '__getitem__', '__getnewargs__', '__gt__', '__hash__', '__init__', '__init_subclass__', '__iter__', '__le__', '__len__', '__lt__', '__mod__', '__mul__', '__ne__', '__new__', '__reduce__', '__reduce_ex__', '__repr__', '__rmod__', '__rmul__', '__setattr__', '__sizeof__', '__str__', '__subclasshook__', 'capitalize', 'casefold', 'center', 'count', 'encode', 'endswith', 'expandtabs', 'find', 'format', 'format_map', 'index', 'isalnum', 'isalpha', 'isascii', 'isdecimal', 'isdigit', 'isidentifier', 'islower', 'isnumeric', 'isprintable', 'isspace', 'istitle', 'isupper', 'join', 'ljust', 'lower', 'lstrip', 'maketrans', 'partition', 'replace', 'rfind', 'rindex', 'rjust', 'rpartition', 'rsplit', 'rstrip', 'split', 'splitlines', 'startswith', 'strip', 'swapcase', 'title', 'translate', 'upper', 'zfill']\n"
     ]
    }
   ],
   "source": [
    "s=\"\"\n",
    "print(dir(s))"
   ]
  },
  {
   "cell_type": "code",
   "execution_count": 51,
   "metadata": {},
   "outputs": [
    {
     "name": "stdout",
     "output_type": "stream",
     "text": [
      "True\n",
      "True\n"
     ]
    }
   ],
   "source": [
    "s=\"sambaodoo@gmail.com\"\n",
    "print(s.startswith(\"samba\"))\n",
    "print(s.endswith(\".com\"))"
   ]
  },
  {
   "cell_type": "code",
   "execution_count": 52,
   "metadata": {},
   "outputs": [
    {
     "name": "stdout",
     "output_type": "stream",
     "text": [
      "False\n",
      "False\n"
     ]
    }
   ],
   "source": [
    "s=\"sambaodoo@gmail.com\"\n",
    "print(s.startswith(\"com\"))\n",
    "print(s.endswith(\"samba\"))"
   ]
  },
  {
   "cell_type": "code",
   "execution_count": 53,
   "metadata": {},
   "outputs": [
    {
     "name": "stdout",
     "output_type": "stream",
     "text": [
      "3\n"
     ]
    }
   ],
   "source": [
    "s=\"apple;orange;grape;apple;orange;mango;apple\"\n",
    "print(s.count(\"apple\"))"
   ]
  },
  {
   "cell_type": "code",
   "execution_count": 54,
   "metadata": {},
   "outputs": [
    {
     "name": "stdout",
     "output_type": "stream",
     "text": [
      "0\n"
     ]
    }
   ],
   "source": [
    "s=\"apple;orange;grape;apple;orange;mango;apple\"\n",
    "print(s.count(\"lpe\"))"
   ]
  },
  {
   "cell_type": "code",
   "execution_count": 55,
   "metadata": {},
   "outputs": [
    {
     "name": "stdout",
     "output_type": "stream",
     "text": [
      "3\n"
     ]
    }
   ],
   "source": [
    "s=\"apple;orange;grape;apple;orange;mango;apple\"\n",
    "print(s.count(\"ple\"))"
   ]
  },
  {
   "cell_type": "code",
   "execution_count": 56,
   "metadata": {},
   "outputs": [
    {
     "name": "stdout",
     "output_type": "stream",
     "text": [
      "['__add__', '__class__', '__contains__', '__delattr__', '__dir__', '__doc__', '__eq__', '__format__', '__ge__', '__getattribute__', '__getitem__', '__getnewargs__', '__gt__', '__hash__', '__init__', '__init_subclass__', '__iter__', '__le__', '__len__', '__lt__', '__mod__', '__mul__', '__ne__', '__new__', '__reduce__', '__reduce_ex__', '__repr__', '__rmod__', '__rmul__', '__setattr__', '__sizeof__', '__str__', '__subclasshook__', 'capitalize', 'casefold', 'center', 'count', 'encode', 'endswith', 'expandtabs', 'find', 'format', 'format_map', 'index', 'isalnum', 'isalpha', 'isascii', 'isdecimal', 'isdigit', 'isidentifier', 'islower', 'isnumeric', 'isprintable', 'isspace', 'istitle', 'isupper', 'join', 'ljust', 'lower', 'lstrip', 'maketrans', 'partition', 'replace', 'rfind', 'rindex', 'rjust', 'rpartition', 'rsplit', 'rstrip', 'split', 'splitlines', 'startswith', 'strip', 'swapcase', 'title', 'translate', 'upper', 'zfill']\n"
     ]
    }
   ],
   "source": [
    "print(dir(s))"
   ]
  },
  {
   "cell_type": "code",
   "execution_count": 57,
   "metadata": {},
   "outputs": [
    {
     "name": "stdout",
     "output_type": "stream",
     "text": [
      "python <class 'str'>\n",
      "b'python' <class 'bytes'>\n"
     ]
    }
   ],
   "source": [
    "s=\"python\"\n",
    "print(s, type(s))\n",
    "s1=s.encode(\"utf-8\")\n",
    "print(s1, type(s1))"
   ]
  },
  {
   "cell_type": "code",
   "execution_count": 58,
   "metadata": {},
   "outputs": [
    {
     "name": "stdout",
     "output_type": "stream",
     "text": [
      "python <class 'str'>\n",
      "b'python' <class 'bytes'>\n",
      "python <class 'str'>\n"
     ]
    }
   ],
   "source": [
    "s=\"python\"\n",
    "print(s, type(s))\n",
    "s1=s.encode(\"utf-8\")\n",
    "print(s1, type(s1))\n",
    "s2=s1.decode('utf-8')\n",
    "print(s2, type(s2))"
   ]
  },
  {
   "cell_type": "code",
   "execution_count": 59,
   "metadata": {},
   "outputs": [
    {
     "name": "stdout",
     "output_type": "stream",
     "text": [
      "PYthon PROGRAM\n"
     ]
    }
   ],
   "source": [
    "s=\"pyTHON program\"\n",
    "print(s.swapcase())"
   ]
  },
  {
   "cell_type": "code",
   "execution_count": 60,
   "metadata": {},
   "outputs": [
    {
     "name": "stdout",
     "output_type": "stream",
     "text": [
      "True\n"
     ]
    }
   ],
   "source": [
    "s=\"abcd\"\n",
    "print(s.isascii())"
   ]
  },
  {
   "cell_type": "code",
   "execution_count": 61,
   "metadata": {},
   "outputs": [
    {
     "name": "stdout",
     "output_type": "stream",
     "text": [
      "False\n"
     ]
    }
   ],
   "source": [
    "s=\"١\"\n",
    "print(s.isascii())\n"
   ]
  },
  {
   "cell_type": "code",
   "execution_count": null,
   "metadata": {},
   "outputs": [],
   "source": []
  }
 ],
 "metadata": {
  "kernelspec": {
   "display_name": "Python 3",
   "language": "python",
   "name": "python3"
  },
  "language_info": {
   "codemirror_mode": {
    "name": "ipython",
    "version": 3
   },
   "file_extension": ".py",
   "mimetype": "text/x-python",
   "name": "python",
   "nbconvert_exporter": "python",
   "pygments_lexer": "ipython3",
   "version": "3.8.3"
  }
 },
 "nbformat": 4,
 "nbformat_minor": 4
}
