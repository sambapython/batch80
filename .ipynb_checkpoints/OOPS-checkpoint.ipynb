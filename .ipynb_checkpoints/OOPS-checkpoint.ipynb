{
 "cells": [
  {
   "cell_type": "code",
   "execution_count": 1,
   "metadata": {},
   "outputs": [
    {
     "name": "stdout",
     "output_type": "stream",
     "text": [
      "this is class\n"
     ]
    }
   ],
   "source": [
    "def fun():\n",
    "    print(\"this is fun\")\n",
    "class Emp:\n",
    "    print(\"this is class\")"
   ]
  },
  {
   "cell_type": "code",
   "execution_count": 2,
   "metadata": {},
   "outputs": [
    {
     "name": "stdout",
     "output_type": "stream",
     "text": [
      "this is class\n"
     ]
    }
   ],
   "source": [
    "def fun():\n",
    "    print(\"this is fun\")\n",
    "class Emp:\n",
    "    print(\"this is class\")\n",
    "    def fun1(x):\n",
    "        print(\"this is fun1 in class\")"
   ]
  },
  {
   "cell_type": "code",
   "execution_count": 3,
   "metadata": {},
   "outputs": [
    {
     "ename": "NameError",
     "evalue": "name 'x' is not defined",
     "output_type": "error",
     "traceback": [
      "\u001b[1;31m---------------------------------------------------------------------------\u001b[0m",
      "\u001b[1;31mNameError\u001b[0m                                 Traceback (most recent call last)",
      "\u001b[1;32m<ipython-input-3-9cb06ca6b68f>\u001b[0m in \u001b[0;36m<module>\u001b[1;34m\u001b[0m\n\u001b[0;32m      2\u001b[0m     \u001b[0mx\u001b[0m\u001b[1;33m=\u001b[0m\u001b[1;36m100\u001b[0m\u001b[1;33m\u001b[0m\u001b[1;33m\u001b[0m\u001b[0m\n\u001b[0;32m      3\u001b[0m     \u001b[0my\u001b[0m\u001b[1;33m=\u001b[0m\u001b[1;36m200\u001b[0m\u001b[1;33m\u001b[0m\u001b[1;33m\u001b[0m\u001b[0m\n\u001b[1;32m----> 4\u001b[1;33m \u001b[0mprint\u001b[0m\u001b[1;33m(\u001b[0m\u001b[0mx\u001b[0m\u001b[1;33m,\u001b[0m\u001b[0my\u001b[0m\u001b[1;33m)\u001b[0m\u001b[1;33m\u001b[0m\u001b[1;33m\u001b[0m\u001b[0m\n\u001b[0m",
      "\u001b[1;31mNameError\u001b[0m: name 'x' is not defined"
     ]
    }
   ],
   "source": [
    "class Emp:\n",
    "    x=100\n",
    "    y=200\n",
    "print(x,y)"
   ]
  },
  {
   "cell_type": "code",
   "execution_count": 4,
   "metadata": {},
   "outputs": [
    {
     "name": "stdout",
     "output_type": "stream",
     "text": [
      "100 200\n"
     ]
    }
   ],
   "source": [
    "class Emp:\n",
    "    x=100\n",
    "    y=200\n",
    "print(Emp.x,Emp.y)"
   ]
  },
  {
   "cell_type": "code",
   "execution_count": 5,
   "metadata": {},
   "outputs": [
    {
     "name": "stdout",
     "output_type": "stream",
     "text": [
      "100 200\n",
      "Jayaram Vedhanvesh\n"
     ]
    }
   ],
   "source": [
    "class Emp:\n",
    "    x=100\n",
    "    y=200\n",
    "print(Emp.x,Emp.y)\n",
    "jay=Emp()\n",
    "jay.name=\"Jayaram\"\n",
    "vedha=Emp()\n",
    "vedha.name=\"Vedhanvesh\"\n",
    "print(jay.name, vedha.name, )"
   ]
  },
  {
   "cell_type": "code",
   "execution_count": 6,
   "metadata": {},
   "outputs": [
    {
     "name": "stdout",
     "output_type": "stream",
     "text": [
      "100 200\n",
      "Jayaram Vedhanvesh\n"
     ]
    },
    {
     "ename": "AttributeError",
     "evalue": "type object 'Emp' has no attribute 'name'",
     "output_type": "error",
     "traceback": [
      "\u001b[1;31m---------------------------------------------------------------------------\u001b[0m",
      "\u001b[1;31mAttributeError\u001b[0m                            Traceback (most recent call last)",
      "\u001b[1;32m<ipython-input-6-daea1c2143e6>\u001b[0m in \u001b[0;36m<module>\u001b[1;34m\u001b[0m\n\u001b[0;32m      8\u001b[0m \u001b[0mvedha\u001b[0m\u001b[1;33m.\u001b[0m\u001b[0mname\u001b[0m\u001b[1;33m=\u001b[0m\u001b[1;34m\"Vedhanvesh\"\u001b[0m\u001b[1;33m\u001b[0m\u001b[1;33m\u001b[0m\u001b[0m\n\u001b[0;32m      9\u001b[0m \u001b[0mprint\u001b[0m\u001b[1;33m(\u001b[0m\u001b[0mjay\u001b[0m\u001b[1;33m.\u001b[0m\u001b[0mname\u001b[0m\u001b[1;33m,\u001b[0m \u001b[0mvedha\u001b[0m\u001b[1;33m.\u001b[0m\u001b[0mname\u001b[0m\u001b[1;33m)\u001b[0m\u001b[1;33m\u001b[0m\u001b[1;33m\u001b[0m\u001b[0m\n\u001b[1;32m---> 10\u001b[1;33m \u001b[0mprint\u001b[0m\u001b[1;33m(\u001b[0m\u001b[0mEmp\u001b[0m\u001b[1;33m.\u001b[0m\u001b[0mname\u001b[0m\u001b[1;33m)\u001b[0m\u001b[1;33m\u001b[0m\u001b[1;33m\u001b[0m\u001b[0m\n\u001b[0m",
      "\u001b[1;31mAttributeError\u001b[0m: type object 'Emp' has no attribute 'name'"
     ]
    }
   ],
   "source": [
    "class Emp:\n",
    "    x=100\n",
    "    y=200\n",
    "print(Emp.x,Emp.y)\n",
    "jay=Emp()\n",
    "jay.name=\"Jayaram\"\n",
    "vedha=Emp()\n",
    "vedha.name=\"Vedhanvesh\"\n",
    "print(jay.name, vedha.name)\n",
    "print(Emp.name)"
   ]
  },
  {
   "cell_type": "code",
   "execution_count": 8,
   "metadata": {},
   "outputs": [
    {
     "name": "stdout",
     "output_type": "stream",
     "text": [
      "100 200\n",
      "Jayaram Vedhanvesh\n",
      "100 200\n",
      "100 200\n"
     ]
    }
   ],
   "source": [
    "class Emp:\n",
    "    x=100\n",
    "    y=200\n",
    "print(Emp.x,Emp.y)\n",
    "jay=Emp()\n",
    "jay.name=\"Jayaram\"\n",
    "vedha=Emp()\n",
    "vedha.name=\"Vedhanvesh\"\n",
    "print(jay.name, vedha.name)\n",
    "\n",
    "print(jay.x,jay.y)\n",
    "print(vedha.x, vedha.y)"
   ]
  },
  {
   "cell_type": "code",
   "execution_count": 9,
   "metadata": {},
   "outputs": [
    {
     "name": "stdout",
     "output_type": "stream",
     "text": [
      "jayaram 1 28\n",
      "Sai Lakshmi 3 32\n",
      "Vedhanvesh 2 29\n"
     ]
    }
   ],
   "source": [
    "class Emp:\n",
    "    pass\n",
    "jay = Emp()\n",
    "jay.name=\"jayaram\"\n",
    "jay.id=1\n",
    "jay.age=28\n",
    "vedha = Emp()\n",
    "vedha.name=\"Vedhanvesh\"\n",
    "vedha.id=2\n",
    "vedha.age=29\n",
    "sai = Emp()\n",
    "sai.name=\"Sai Lakshmi\"\n",
    "sai.id=3\n",
    "sai.age=32\n",
    "print(jay.name,jay.id,jay.age)\n",
    "print(sai.name,sai.id,sai.age)\n",
    "print(vedha.name,vedha.id,vedha.age)"
   ]
  },
  {
   "cell_type": "code",
   "execution_count": 10,
   "metadata": {},
   "outputs": [
    {
     "name": "stdout",
     "output_type": "stream",
     "text": [
      "('jayaram', 1, 28)\n",
      "('Sai Lakshmi', 3, 32)\n",
      "('Vedhanvesh', 2, 29)\n"
     ]
    }
   ],
   "source": [
    "class Emp:\n",
    "    def get(x):\n",
    "        return x.name,x.id,x.age\n",
    "        \n",
    "jay = Emp()\n",
    "jay.name=\"jayaram\"\n",
    "jay.id=1\n",
    "jay.age=28\n",
    "vedha = Emp()\n",
    "vedha.name=\"Vedhanvesh\"\n",
    "vedha.id=2\n",
    "vedha.age=29\n",
    "sai = Emp()\n",
    "sai.name=\"Sai Lakshmi\"\n",
    "sai.id=3\n",
    "sai.age=32\n",
    "print(Emp.get(jay))\n",
    "print(Emp.get(sai))\n",
    "print(Emp.get(vedha))"
   ]
  },
  {
   "cell_type": "code",
   "execution_count": 11,
   "metadata": {},
   "outputs": [
    {
     "name": "stdout",
     "output_type": "stream",
     "text": [
      "('Jayaram', 1, 28)\n",
      "('Sai lakshmi', 3, 32)\n",
      "('Vedhanvesh', 2, 29)\n"
     ]
    }
   ],
   "source": [
    "class Emp:\n",
    "    def set_data(x,name,emp_id,age):\n",
    "        x.name=name\n",
    "        x.id=emp_id\n",
    "        x.age=age\n",
    "        \n",
    "    def get(x):\n",
    "        return x.name,x.id,x.age\n",
    "        \n",
    "jay = Emp()\n",
    "Emp.set_data(jay,\"Jayaram\",1,28)\n",
    "# jay.name=\"jayaram\"\n",
    "# jay.id=1\n",
    "# jay.age=28\n",
    "vedha = Emp()\n",
    "Emp.set_data(vedha,\"Vedhanvesh\",2,29)\n",
    "# vedha.name=\"Vedhanvesh\"\n",
    "# vedha.id=2\n",
    "# vedha.age=29\n",
    "sai = Emp()\n",
    "Emp.set_data(sai,\"Sai lakshmi\",3,32)\n",
    "# sai.name=\"Sai Lakshmi\"\n",
    "# sai.id=3\n",
    "# sai.age=32\n",
    "print(Emp.get(jay))\n",
    "print(Emp.get(sai))\n",
    "print(Emp.get(vedha))"
   ]
  },
  {
   "cell_type": "code",
   "execution_count": 12,
   "metadata": {},
   "outputs": [
    {
     "name": "stdout",
     "output_type": "stream",
     "text": [
      "('Jayaram', 1, 28)\n",
      "('Sai lakshmi', 3, 32)\n",
      "('Vedhanvesh', 2, 29)\n"
     ]
    }
   ],
   "source": [
    "class Emp:\n",
    "    def set_data(x,name,emp_id,age):\n",
    "        x.name=name\n",
    "        x.id=emp_id\n",
    "        x.age=age\n",
    "        \n",
    "    def get(x):\n",
    "        return x.name,x.id,x.age\n",
    "jay = Emp()\n",
    "Emp.set_data(jay,\"Jayaram\",1,28)\n",
    "vedha = Emp()\n",
    "Emp.set_data(vedha,\"Vedhanvesh\",2,29)\n",
    "sai = Emp()\n",
    "Emp.set_data(sai,\"Sai lakshmi\",3,32)\n",
    "print(Emp.get(jay))\n",
    "print(Emp.get(sai))\n",
    "print(Emp.get(vedha))"
   ]
  },
  {
   "cell_type": "code",
   "execution_count": 13,
   "metadata": {},
   "outputs": [
    {
     "name": "stdout",
     "output_type": "stream",
     "text": [
      "('Jayaram', 1, 28)\n",
      "('Sai lakshmi', 3, 32)\n",
      "('Vedhanvesh', 2, 29)\n"
     ]
    },
    {
     "ename": "AttributeError",
     "evalue": "'Emp' object has no attribute 'name'",
     "output_type": "error",
     "traceback": [
      "\u001b[1;31m---------------------------------------------------------------------------\u001b[0m",
      "\u001b[1;31mAttributeError\u001b[0m                            Traceback (most recent call last)",
      "\u001b[1;32m<ipython-input-13-3106c3b10449>\u001b[0m in \u001b[0;36m<module>\u001b[1;34m\u001b[0m\n\u001b[0;32m     17\u001b[0m \u001b[0mprint\u001b[0m\u001b[1;33m(\u001b[0m\u001b[0mEmp\u001b[0m\u001b[1;33m.\u001b[0m\u001b[0mget\u001b[0m\u001b[1;33m(\u001b[0m\u001b[0mvedha\u001b[0m\u001b[1;33m)\u001b[0m\u001b[1;33m)\u001b[0m\u001b[1;33m\u001b[0m\u001b[1;33m\u001b[0m\u001b[0m\n\u001b[0;32m     18\u001b[0m \u001b[0msamba\u001b[0m \u001b[1;33m=\u001b[0m \u001b[0mEmp\u001b[0m\u001b[1;33m(\u001b[0m\u001b[1;33m)\u001b[0m\u001b[1;33m\u001b[0m\u001b[1;33m\u001b[0m\u001b[0m\n\u001b[1;32m---> 19\u001b[1;33m \u001b[0mprint\u001b[0m\u001b[1;33m(\u001b[0m\u001b[0mEmp\u001b[0m\u001b[1;33m.\u001b[0m\u001b[0mget\u001b[0m\u001b[1;33m(\u001b[0m\u001b[0msamba\u001b[0m\u001b[1;33m)\u001b[0m\u001b[1;33m)\u001b[0m\u001b[1;33m\u001b[0m\u001b[1;33m\u001b[0m\u001b[0m\n\u001b[0m",
      "\u001b[1;32m<ipython-input-13-3106c3b10449>\u001b[0m in \u001b[0;36mget\u001b[1;34m(x)\u001b[0m\n\u001b[0;32m      6\u001b[0m \u001b[1;33m\u001b[0m\u001b[0m\n\u001b[0;32m      7\u001b[0m     \u001b[1;32mdef\u001b[0m \u001b[0mget\u001b[0m\u001b[1;33m(\u001b[0m\u001b[0mx\u001b[0m\u001b[1;33m)\u001b[0m\u001b[1;33m:\u001b[0m\u001b[1;33m\u001b[0m\u001b[1;33m\u001b[0m\u001b[0m\n\u001b[1;32m----> 8\u001b[1;33m         \u001b[1;32mreturn\u001b[0m \u001b[0mx\u001b[0m\u001b[1;33m.\u001b[0m\u001b[0mname\u001b[0m\u001b[1;33m,\u001b[0m\u001b[0mx\u001b[0m\u001b[1;33m.\u001b[0m\u001b[0mid\u001b[0m\u001b[1;33m,\u001b[0m\u001b[0mx\u001b[0m\u001b[1;33m.\u001b[0m\u001b[0mage\u001b[0m\u001b[1;33m\u001b[0m\u001b[1;33m\u001b[0m\u001b[0m\n\u001b[0m\u001b[0;32m      9\u001b[0m \u001b[0mjay\u001b[0m \u001b[1;33m=\u001b[0m \u001b[0mEmp\u001b[0m\u001b[1;33m(\u001b[0m\u001b[1;33m)\u001b[0m\u001b[1;33m\u001b[0m\u001b[1;33m\u001b[0m\u001b[0m\n\u001b[0;32m     10\u001b[0m \u001b[0mEmp\u001b[0m\u001b[1;33m.\u001b[0m\u001b[0mset_data\u001b[0m\u001b[1;33m(\u001b[0m\u001b[0mjay\u001b[0m\u001b[1;33m,\u001b[0m\u001b[1;34m\"Jayaram\"\u001b[0m\u001b[1;33m,\u001b[0m\u001b[1;36m1\u001b[0m\u001b[1;33m,\u001b[0m\u001b[1;36m28\u001b[0m\u001b[1;33m)\u001b[0m\u001b[1;33m\u001b[0m\u001b[1;33m\u001b[0m\u001b[0m\n",
      "\u001b[1;31mAttributeError\u001b[0m: 'Emp' object has no attribute 'name'"
     ]
    }
   ],
   "source": [
    "class Emp:\n",
    "    def set_data(x,name,emp_id,age):\n",
    "        x.name=name\n",
    "        x.id=emp_id\n",
    "        x.age=age\n",
    "        \n",
    "    def get(x):\n",
    "        return x.name,x.id,x.age\n",
    "jay = Emp()\n",
    "Emp.set_data(jay,\"Jayaram\",1,28)\n",
    "vedha = Emp()\n",
    "Emp.set_data(vedha,\"Vedhanvesh\",2,29)\n",
    "sai = Emp()\n",
    "Emp.set_data(sai,\"Sai lakshmi\",3,32)\n",
    "print(Emp.get(jay))\n",
    "print(Emp.get(sai))\n",
    "print(Emp.get(vedha))\n",
    "samba = Emp()\n",
    "print(Emp.get(samba))"
   ]
  },
  {
   "cell_type": "code",
   "execution_count": 14,
   "metadata": {},
   "outputs": [
    {
     "name": "stdout",
     "output_type": "stream",
     "text": [
      "this is class\n"
     ]
    }
   ],
   "source": [
    "class Emp:\n",
    "    print(\"this is class\")\n",
    "    def get(x):\n",
    "        print(\"this is get\")\n",
    "    def __init__(x):\n",
    "        print(\"this is init\")"
   ]
  },
  {
   "cell_type": "code",
   "execution_count": 15,
   "metadata": {},
   "outputs": [
    {
     "name": "stdout",
     "output_type": "stream",
     "text": [
      "this is class\n",
      "this is init\n"
     ]
    }
   ],
   "source": [
    "class Emp:\n",
    "    print(\"this is class\")\n",
    "    def get(x):\n",
    "        print(\"this is get\")\n",
    "    def __init__(x):\n",
    "        print(\"this is init\")\n",
    "jay=Emp()# it will call internally __init__ method."
   ]
  },
  {
   "cell_type": "code",
   "execution_count": 1,
   "metadata": {},
   "outputs": [
    {
     "name": "stdout",
     "output_type": "stream",
     "text": [
      "this is class\n",
      "x= <__main__.Emp object at 0x0000022AFFB7C700>\n",
      "this is init\n",
      "jay= <__main__.Emp object at 0x0000022AFFB7C700>\n",
      "x= <__main__.Emp object at 0x0000022AFFB7CCA0>\n",
      "this is init\n",
      "vedha= <__main__.Emp object at 0x0000022AFFB7CCA0>\n",
      "x= <__main__.Emp object at 0x0000022AFFB5E4C0>\n",
      "this is init\n",
      "sai= <__main__.Emp object at 0x0000022AFFB5E4C0>\n"
     ]
    }
   ],
   "source": [
    "class Emp:\n",
    "    print(\"this is class\")\n",
    "    def get(x):\n",
    "        print(\"this is get\")\n",
    "    def __init__(x):\n",
    "        print(\"x=\",x)\n",
    "        print(\"this is init\")\n",
    "jay=Emp()# it will call internally __init__ method.\n",
    "print(\"jay=\",jay)\n",
    "vedha=Emp()\n",
    "print(\"vedha=\",vedha)\n",
    "sai=Emp()\n",
    "print(\"sai=\",sai)"
   ]
  },
  {
   "cell_type": "code",
   "execution_count": 2,
   "metadata": {},
   "outputs": [
    {
     "name": "stdout",
     "output_type": "stream",
     "text": [
      "this is class\n",
      "x= <__main__.Emp object at 0x0000022AFFB7C640>\n",
      "this is init\n",
      "jay= <__main__.Emp object at 0x0000022AFFB7C640>\n",
      "x= <__main__.Emp object at 0x0000022AFFB7C700>\n",
      "this is init\n",
      "vedha= <__main__.Emp object at 0x0000022AFFB7C700>\n",
      "x= <__main__.Emp object at 0x0000022AFFB7CCA0>\n",
      "this is init\n",
      "sai= <__main__.Emp object at 0x0000022AFFB7CCA0>\n"
     ]
    }
   ],
   "source": [
    "class Emp:\n",
    "    print(\"this is class\")\n",
    "    def get(x):\n",
    "        print(\"this is get\")\n",
    "    def __init__(x):\n",
    "        print(\"x=\",x)\n",
    "        print(\"this is init\")\n",
    "jay=Emp()# it will call internally __init__ method. #Emp.__init__(jay)\n",
    "print(\"jay=\",jay)#Emp.__init__(jay)\n",
    "vedha=Emp()##Emp.__init__(vedha)\n",
    "print(\"vedha=\",vedha)#\n",
    "sai=Emp()##Emp.__init__(sai)\n",
    "print(\"sai=\",sai)#"
   ]
  },
  {
   "cell_type": "code",
   "execution_count": 3,
   "metadata": {},
   "outputs": [
    {
     "name": "stdout",
     "output_type": "stream",
     "text": [
      "this is class\n",
      "this is init\n",
      "jay= <__main__.Emp object at 0x0000022AFFB7CD30>\n",
      "this is init\n",
      "vedha= <__main__.Emp object at 0x0000022AFFB7C640>\n",
      "this is init\n",
      "sai= <__main__.Emp object at 0x0000022AFFB7C700>\n"
     ]
    }
   ],
   "source": [
    "class Emp:\n",
    "    print(\"this is class\")\n",
    "    def get(x):\n",
    "        print(\"this is get\")\n",
    "    def __init__(x):\n",
    "        print(\"this is init\")\n",
    "jay=Emp()#Emp.__init__(jay)\n",
    "print(\"jay=\",jay)\n",
    "vedha=Emp()#Emp.__init__(vedha)\n",
    "print(\"vedha=\",vedha)\n",
    "sai=Emp()#Emp.__init__(sai)\n",
    "print(\"sai=\",sai)"
   ]
  },
  {
   "cell_type": "code",
   "execution_count": 4,
   "metadata": {},
   "outputs": [
    {
     "name": "stdout",
     "output_type": "stream",
     "text": [
      "this is class\n"
     ]
    },
    {
     "ename": "TypeError",
     "evalue": "__init__() takes 1 positional argument but 2 were given",
     "output_type": "error",
     "traceback": [
      "\u001b[1;31m---------------------------------------------------------------------------\u001b[0m",
      "\u001b[1;31mTypeError\u001b[0m                                 Traceback (most recent call last)",
      "\u001b[1;32m<ipython-input-4-a7d3db8d6099>\u001b[0m in \u001b[0;36m<module>\u001b[1;34m\u001b[0m\n\u001b[0;32m      5\u001b[0m     \u001b[1;32mdef\u001b[0m \u001b[0m__init__\u001b[0m\u001b[1;33m(\u001b[0m\u001b[0mx\u001b[0m\u001b[1;33m)\u001b[0m\u001b[1;33m:\u001b[0m\u001b[1;33m\u001b[0m\u001b[1;33m\u001b[0m\u001b[0m\n\u001b[0;32m      6\u001b[0m         \u001b[0mprint\u001b[0m\u001b[1;33m(\u001b[0m\u001b[1;34m\"this is init\"\u001b[0m\u001b[1;33m)\u001b[0m\u001b[1;33m\u001b[0m\u001b[1;33m\u001b[0m\u001b[0m\n\u001b[1;32m----> 7\u001b[1;33m \u001b[0mjay\u001b[0m\u001b[1;33m=\u001b[0m\u001b[0mEmp\u001b[0m\u001b[1;33m(\u001b[0m\u001b[1;34m\"JAYRAM\"\u001b[0m\u001b[1;33m)\u001b[0m\u001b[1;31m#Emp.__init__(jay,\"JAYRAM\")\u001b[0m\u001b[1;33m\u001b[0m\u001b[1;33m\u001b[0m\u001b[0m\n\u001b[0m\u001b[0;32m      8\u001b[0m \u001b[0mprint\u001b[0m\u001b[1;33m(\u001b[0m\u001b[1;34m\"jay=\"\u001b[0m\u001b[1;33m,\u001b[0m\u001b[0mjay\u001b[0m\u001b[1;33m)\u001b[0m\u001b[1;33m\u001b[0m\u001b[1;33m\u001b[0m\u001b[0m\n\u001b[0;32m      9\u001b[0m \u001b[0mvedha\u001b[0m\u001b[1;33m=\u001b[0m\u001b[0mEmp\u001b[0m\u001b[1;33m(\u001b[0m\u001b[1;34m\"VEDHANVESH\"\u001b[0m\u001b[1;33m)\u001b[0m\u001b[1;31m#Emp.__init__(vedha, \"VEDHANVESH\")\u001b[0m\u001b[1;33m\u001b[0m\u001b[1;33m\u001b[0m\u001b[0m\n",
      "\u001b[1;31mTypeError\u001b[0m: __init__() takes 1 positional argument but 2 were given"
     ]
    }
   ],
   "source": [
    "class Emp:\n",
    "    print(\"this is class\")\n",
    "    def get(x):\n",
    "        print(\"this is get\")\n",
    "    def __init__(x):\n",
    "        print(\"this is init\")\n",
    "jay=Emp(\"JAYRAM\")#Emp.__init__(jay,\"JAYRAM\")\n",
    "print(\"jay=\",jay)\n",
    "vedha=Emp(\"VEDHANVESH\")#Emp.__init__(vedha, \"VEDHANVESH\")\n",
    "print(\"vedha=\",vedha)\n",
    "sai=Emp(\"Sai Lakshmi\")#Emp.__init__(sai, \"Sai Lakshmi\")\n",
    "print(\"sai=\",sai)"
   ]
  },
  {
   "cell_type": "code",
   "execution_count": 5,
   "metadata": {},
   "outputs": [
    {
     "name": "stdout",
     "output_type": "stream",
     "text": [
      "this is class\n",
      "name= JAYRAM\n",
      "this is init\n",
      "jay= <__main__.Emp object at 0x0000022AFFC3A0A0>\n",
      "name= VEDHANVESH\n",
      "this is init\n",
      "vedha= <__main__.Emp object at 0x0000022AFFB7CD30>\n",
      "name= Sai Lakshmi\n",
      "this is init\n",
      "sai= <__main__.Emp object at 0x0000022AFFB7C640>\n"
     ]
    }
   ],
   "source": [
    "class Emp:\n",
    "    print(\"this is class\")\n",
    "    def get(x):\n",
    "        print(\"this is get\")\n",
    "    def __init__(x, name):\n",
    "        print(\"name=\",name)\n",
    "        print(\"this is init\")\n",
    "jay=Emp(\"JAYRAM\")#Emp.__init__(jay,\"JAYRAM\")\n",
    "print(\"jay=\",jay)\n",
    "vedha=Emp(\"VEDHANVESH\")#Emp.__init__(vedha, \"VEDHANVESH\")\n",
    "print(\"vedha=\",vedha)\n",
    "sai=Emp(\"Sai Lakshmi\")#Emp.__init__(sai, \"Sai Lakshmi\")\n",
    "print(\"sai=\",sai)"
   ]
  },
  {
   "cell_type": "code",
   "execution_count": 9,
   "metadata": {},
   "outputs": [
    {
     "name": "stdout",
     "output_type": "stream",
     "text": [
      "this is class\n",
      "('JAYRAM', 1, 28)\n",
      "('VEDHANVESH', 2, 29)\n",
      "('Sai Lakshmi', 3, 32)\n"
     ]
    }
   ],
   "source": [
    "class Emp:\n",
    "    print(\"this is class\")\n",
    "    def get(x):\n",
    "        return x.name,x.id,x.age\n",
    "    def __init__(x, name,emp_id, age):\n",
    "        x.name=name\n",
    "        x.age=age\n",
    "        x.id=emp_id\n",
    "        \n",
    "jay=Emp(\"JAYRAM\",1,28)\n",
    "vedha=Emp(\"VEDHANVESH\",2,29)\n",
    "sai=Emp(\"Sai Lakshmi\",3,32)\n",
    "print(Emp.get(jay))\n",
    "print(Emp.get(vedha))\n",
    "print(Emp.get(sai))"
   ]
  },
  {
   "cell_type": "code",
   "execution_count": 10,
   "metadata": {},
   "outputs": [
    {
     "name": "stdout",
     "output_type": "stream",
     "text": [
      "this is class\n",
      "('JAYRAM', 1, 28)\n",
      "('VEDHANVESH', 2, 29)\n",
      "('Sai Lakshmi', 3, 32)\n"
     ]
    }
   ],
   "source": [
    "class Emp:\n",
    "    print(\"this is class\")\n",
    "    def get(x):\n",
    "        return x.name,x.id,x.age\n",
    "    def __init__(x, name,emp_id, age):\n",
    "        x.name=name\n",
    "        x.age=age\n",
    "        x.id=emp_id\n",
    "        \n",
    "jay=Emp(\"JAYRAM\",1,28)\n",
    "vedha=Emp(\"VEDHANVESH\",2,29)\n",
    "sai=Emp(\"Sai Lakshmi\",3,32)\n",
    "print(Emp.get(jay))\n",
    "print(Emp.get(vedha))\n",
    "print(Emp.get(sai))"
   ]
  },
  {
   "cell_type": "code",
   "execution_count": 11,
   "metadata": {},
   "outputs": [
    {
     "name": "stdout",
     "output_type": "stream",
     "text": [
      "this is class\n",
      "('JAYRAM', 1, 28)\n",
      "('VEDHANVESH', 2, 29)\n",
      "('Sai Lakshmi', 3, 32)\n"
     ]
    }
   ],
   "source": [
    "class Emp:\n",
    "    print(\"this is class\")\n",
    "    def get(x):\n",
    "        return x.name,x.id,x.age\n",
    "    def __init__(x, name,emp_id, age):\n",
    "        x.name=name\n",
    "        x.age=age\n",
    "        x.id=emp_id\n",
    "        \n",
    "jay=Emp(\"JAYRAM\",1,28)\n",
    "vedha=Emp(\"VEDHANVESH\",2,29)\n",
    "sai=Emp(\"Sai Lakshmi\",3,32)\n",
    "#print(Emp.get(jay))\n",
    "print(jay.get())\n",
    "#print(Emp.get(vedha))\n",
    "print(vedha.get())\n",
    "#print(Emp.get(sai))\n",
    "print(sai.get())"
   ]
  },
  {
   "cell_type": "code",
   "execution_count": 12,
   "metadata": {},
   "outputs": [
    {
     "name": "stdout",
     "output_type": "stream",
     "text": [
      "this is class\n",
      "('JAYRAM', 1, 28)\n",
      "('VEDHANVESH', 2, 29)\n",
      "('Sai Lakshmi', 3, 32)\n"
     ]
    }
   ],
   "source": [
    "class Emp:\n",
    "    print(\"this is class\")\n",
    "    def get(x):\n",
    "        return x.name,x.id,x.age\n",
    "    def __init__(x, name,emp_id, age):\n",
    "        x.name=name\n",
    "        x.age=age\n",
    "        x.id=emp_id\n",
    "        \n",
    "jay=Emp(\"JAYRAM\",1,28)\n",
    "vedha=Emp(\"VEDHANVESH\",2,29)\n",
    "sai=Emp(\"Sai Lakshmi\",3,32)\n",
    "print(jay.get())\n",
    "print(vedha.get())\n",
    "print(sai.get())"
   ]
  },
  {
   "cell_type": "code",
   "execution_count": 13,
   "metadata": {},
   "outputs": [
    {
     "name": "stdout",
     "output_type": "stream",
     "text": [
      "this is class\n",
      "('JAYRAM', 1, 28)\n",
      "('VEDHANVESH', 2, 29)\n",
      "('Sai Lakshmi', 3, 32)\n"
     ]
    }
   ],
   "source": [
    "class Emp:\n",
    "    print(\"this is class\")\n",
    "    def get(self):\n",
    "        return self.name,self.id,self.age\n",
    "    def __init__(self, name,emp_id, age):\n",
    "        self.name=name\n",
    "        self.age=age\n",
    "        self.id=emp_id\n",
    "        \n",
    "jay=Emp(\"JAYRAM\",1,28)\n",
    "vedha=Emp(\"VEDHANVESH\",2,29)\n",
    "sai=Emp(\"Sai Lakshmi\",3,32)\n",
    "print(jay.get())\n",
    "print(vedha.get())\n",
    "print(sai.get())"
   ]
  },
  {
   "cell_type": "code",
   "execution_count": 1,
   "metadata": {},
   "outputs": [],
   "source": [
    "# write a class for product, which has name,color,cost,deliverycharges as an attibutes.\n",
    "# write __init__, get methods.\n",
    "# write sale_cost method with the below formula:\n",
    "#cost+deliverycharge\n",
    "#samsung = Product(\"Samsung note7\",\"Blue\",23000,200)\n",
    "#samsun.sales_cost()# 23200."
   ]
  },
  {
   "cell_type": "code",
   "execution_count": 3,
   "metadata": {},
   "outputs": [],
   "source": [
    "class Product:\n",
    "    def __init__(self, name, color, cost, delivery):\n",
    "        self.name=name\n",
    "        self.const=cost\n",
    "        self.color=color\n",
    "        self.delivery=delivery\n",
    "    def get(self):\n",
    "        pass\n",
    "    \n",
    "samsung_phone = Product(\"Samsung note 7\", \"RED\",3000,300)"
   ]
  },
  {
   "cell_type": "code",
   "execution_count": 4,
   "metadata": {},
   "outputs": [
    {
     "name": "stdout",
     "output_type": "stream",
     "text": [
      "Samsung note 7\n"
     ]
    }
   ],
   "source": [
    "class Product:\n",
    "    def __init__(self, name, color, cost, delivery):\n",
    "        self.name=name\n",
    "        self.const=cost\n",
    "        self.color=color\n",
    "        self.delivery=delivery\n",
    "    def get(self):\n",
    "        pass\n",
    "    \n",
    "samsung_phone = Product(\"Samsung note 7\", \"RED\",3000,300)\n",
    "print(samsung_phone.name)"
   ]
  },
  {
   "cell_type": "code",
   "execution_count": 6,
   "metadata": {},
   "outputs": [
    {
     "name": "stdout",
     "output_type": "stream",
     "text": [
      "Samsung note 7\n",
      "('Samsung note 7', 3000, 'RED', 300)\n"
     ]
    }
   ],
   "source": [
    "class Product:\n",
    "    def __init__(self, name, color, cost, delivery):\n",
    "        self.name=name\n",
    "        self.cost=cost\n",
    "        self.color=color\n",
    "        self.delivery=delivery\n",
    "    def get(self):\n",
    "        return self.name, self.cost, self.color, self.delivery\n",
    "    \n",
    "samsung_phone = Product(\"Samsung note 7\", \"RED\",3000,300)\n",
    "print(samsung_phone.name)\n",
    "print(samsung_phone.get())# Product.get(samsung_phone)"
   ]
  },
  {
   "cell_type": "code",
   "execution_count": 8,
   "metadata": {},
   "outputs": [
    {
     "name": "stdout",
     "output_type": "stream",
     "text": [
      "Samsung note 7\n",
      "('Samsung note 7', 3000, 'RED', 300)\n",
      "3300\n"
     ]
    }
   ],
   "source": [
    "class Product:\n",
    "    def __init__(self, name, color, cost, delivery):\n",
    "        self.name=name\n",
    "        self.cost=cost\n",
    "        self.color=color\n",
    "        self.delivery=delivery\n",
    "    def get(self):\n",
    "        return self.name, self.cost, self.color, self.delivery\n",
    "    def sale_cost(self):\n",
    "        return self.cost+self.delivery\n",
    "    \n",
    "samsung_phone = Product(\"Samsung note 7\", \"RED\",3000,300)\n",
    "print(samsung_phone.name)\n",
    "print(samsung_phone.get())# Product.get(samsung_phone)\n",
    "print(samsung_phone.sale_cost())"
   ]
  },
  {
   "cell_type": "code",
   "execution_count": 1,
   "metadata": {},
   "outputs": [
    {
     "name": "stdout",
     "output_type": "stream",
     "text": [
      "{'message': 'Done', 'details': ('Samsung note 7', 3000, 'RED', 300)}\n"
     ]
    }
   ],
   "source": [
    "class Product:\n",
    "    def __init__(self, name, color, cost, delivery):\n",
    "        self.name=name\n",
    "        self.cost=cost\n",
    "        self.color=color\n",
    "        self.delivery=delivery\n",
    "    def get(self):\n",
    "        return self.name, self.cost, self.color, self.delivery\n",
    "    def sale_cost(self):\n",
    "        return self.cost+self.delivery\n",
    "    def data(self):\n",
    "        return {\"message\":\"Done\",\"details\":self.get()}\n",
    "        \n",
    "    \n",
    "samsung_phone = Product(\"Samsung note 7\", \"RED\",3000,300)\n",
    "print(samsung_phone.data())"
   ]
  },
  {
   "cell_type": "code",
   "execution_count": 2,
   "metadata": {},
   "outputs": [
    {
     "name": "stdout",
     "output_type": "stream",
     "text": [
      "this is operations\n"
     ]
    }
   ],
   "source": [
    "class c1:\n",
    "    def op1(self):\n",
    "        print(\"this is op1 in c1\")        \n",
    "class c2:\n",
    "    def op2(self):\n",
    "        print(\"this is op2 in c2\")\n",
    "class c3:\n",
    "    def operations(self):\n",
    "        print(\"this is operations\")\n",
    "o3=c3()\n",
    "o3.operations()"
   ]
  },
  {
   "cell_type": "code",
   "execution_count": 3,
   "metadata": {},
   "outputs": [
    {
     "name": "stdout",
     "output_type": "stream",
     "text": [
      "this is operations\n",
      "this is op2 in c2\n"
     ]
    }
   ],
   "source": [
    "class c1:\n",
    "    def op1(self):\n",
    "        print(\"this is op1 in c1\")        \n",
    "class c2:\n",
    "    def op2(self):\n",
    "        print(\"this is op2 in c2\")\n",
    "class c3:\n",
    "    def operations(self):\n",
    "        print(\"this is operations\")\n",
    "o3=c3()\n",
    "o3.operations()\n",
    "o2=c2()\n",
    "o2.op2()"
   ]
  },
  {
   "cell_type": "code",
   "execution_count": 4,
   "metadata": {},
   "outputs": [
    {
     "name": "stdout",
     "output_type": "stream",
     "text": [
      "this is operations\n",
      "this is op2 in c2\n",
      "this is op1 in c1\n"
     ]
    }
   ],
   "source": [
    "class c1:\n",
    "    def op1(self):\n",
    "        print(\"this is op1 in c1\")        \n",
    "class c2:\n",
    "    def op2(self):\n",
    "        print(\"this is op2 in c2\")\n",
    "class c3:\n",
    "    def operations(self):\n",
    "        print(\"this is operations\")\n",
    "o3=c3()\n",
    "o3.operations()\n",
    "o2=c2()\n",
    "o2.op2()\n",
    "o1=c1()\n",
    "o1.op1()"
   ]
  },
  {
   "cell_type": "code",
   "execution_count": 5,
   "metadata": {},
   "outputs": [
    {
     "name": "stdout",
     "output_type": "stream",
     "text": [
      "this is operations\n",
      "this is op2 in c2\n",
      "this is op1 in c1\n"
     ]
    }
   ],
   "source": [
    "class c1:\n",
    "    def op1(self):\n",
    "        print(\"this is op1 in c1\")        \n",
    "class c2:\n",
    "    def op2(self):\n",
    "        print(\"this is op2 in c2\")\n",
    "class c3:\n",
    "    def operations(self):\n",
    "        print(\"this is operations\")\n",
    "        o2=c2()\n",
    "        o2.op2()\n",
    "        o1=c1()\n",
    "        o1.op1()\n",
    "        \n",
    "o3=c3()\n",
    "o3.operations()"
   ]
  },
  {
   "cell_type": "code",
   "execution_count": 6,
   "metadata": {},
   "outputs": [
    {
     "name": "stdout",
     "output_type": "stream",
     "text": [
      "this is operations\n"
     ]
    },
    {
     "ename": "AttributeError",
     "evalue": "'c3' object has no attribute 'op2'",
     "output_type": "error",
     "traceback": [
      "\u001b[1;31m---------------------------------------------------------------------------\u001b[0m",
      "\u001b[1;31mAttributeError\u001b[0m                            Traceback (most recent call last)",
      "\u001b[1;32m<ipython-input-6-73d5f8cd1c77>\u001b[0m in \u001b[0;36m<module>\u001b[1;34m\u001b[0m\n\u001b[0;32m     12\u001b[0m \u001b[1;33m\u001b[0m\u001b[0m\n\u001b[0;32m     13\u001b[0m \u001b[0mo3\u001b[0m\u001b[1;33m=\u001b[0m\u001b[0mc3\u001b[0m\u001b[1;33m(\u001b[0m\u001b[1;33m)\u001b[0m\u001b[1;33m\u001b[0m\u001b[1;33m\u001b[0m\u001b[0m\n\u001b[1;32m---> 14\u001b[1;33m \u001b[0mo3\u001b[0m\u001b[1;33m.\u001b[0m\u001b[0moperations\u001b[0m\u001b[1;33m(\u001b[0m\u001b[1;33m)\u001b[0m\u001b[1;33m\u001b[0m\u001b[1;33m\u001b[0m\u001b[0m\n\u001b[0m",
      "\u001b[1;32m<ipython-input-6-73d5f8cd1c77>\u001b[0m in \u001b[0;36moperations\u001b[1;34m(self)\u001b[0m\n\u001b[0;32m      8\u001b[0m     \u001b[1;32mdef\u001b[0m \u001b[0moperations\u001b[0m\u001b[1;33m(\u001b[0m\u001b[0mself\u001b[0m\u001b[1;33m)\u001b[0m\u001b[1;33m:\u001b[0m\u001b[1;33m\u001b[0m\u001b[1;33m\u001b[0m\u001b[0m\n\u001b[0;32m      9\u001b[0m         \u001b[0mprint\u001b[0m\u001b[1;33m(\u001b[0m\u001b[1;34m\"this is operations\"\u001b[0m\u001b[1;33m)\u001b[0m\u001b[1;33m\u001b[0m\u001b[1;33m\u001b[0m\u001b[0m\n\u001b[1;32m---> 10\u001b[1;33m         \u001b[0mself\u001b[0m\u001b[1;33m.\u001b[0m\u001b[0mop2\u001b[0m\u001b[1;33m(\u001b[0m\u001b[1;33m)\u001b[0m\u001b[1;33m\u001b[0m\u001b[1;33m\u001b[0m\u001b[0m\n\u001b[0m\u001b[0;32m     11\u001b[0m         \u001b[0mself\u001b[0m\u001b[1;33m.\u001b[0m\u001b[0mop1\u001b[0m\u001b[1;33m(\u001b[0m\u001b[1;33m)\u001b[0m\u001b[1;33m\u001b[0m\u001b[1;33m\u001b[0m\u001b[0m\n\u001b[0;32m     12\u001b[0m \u001b[1;33m\u001b[0m\u001b[0m\n",
      "\u001b[1;31mAttributeError\u001b[0m: 'c3' object has no attribute 'op2'"
     ]
    }
   ],
   "source": [
    "class c1:\n",
    "    def op1(self):\n",
    "        print(\"this is op1 in c1\")        \n",
    "class c2:\n",
    "    def op2(self):\n",
    "        print(\"this is op2 in c2\")\n",
    "class c3:\n",
    "    def operations(self):\n",
    "        print(\"this is operations\")\n",
    "        self.op2()\n",
    "        self.op1()\n",
    "        \n",
    "o3=c3()\n",
    "o3.operations()"
   ]
  },
  {
   "cell_type": "code",
   "execution_count": 7,
   "metadata": {},
   "outputs": [
    {
     "name": "stdout",
     "output_type": "stream",
     "text": [
      "this is operations\n",
      "this is op2 in c2\n"
     ]
    },
    {
     "ename": "AttributeError",
     "evalue": "'c3' object has no attribute 'op1'",
     "output_type": "error",
     "traceback": [
      "\u001b[1;31m---------------------------------------------------------------------------\u001b[0m",
      "\u001b[1;31mAttributeError\u001b[0m                            Traceback (most recent call last)",
      "\u001b[1;32m<ipython-input-7-1f520ed10485>\u001b[0m in \u001b[0;36m<module>\u001b[1;34m\u001b[0m\n\u001b[0;32m     12\u001b[0m \u001b[1;33m\u001b[0m\u001b[0m\n\u001b[0;32m     13\u001b[0m \u001b[0mo3\u001b[0m\u001b[1;33m=\u001b[0m\u001b[0mc3\u001b[0m\u001b[1;33m(\u001b[0m\u001b[1;33m)\u001b[0m\u001b[1;33m\u001b[0m\u001b[1;33m\u001b[0m\u001b[0m\n\u001b[1;32m---> 14\u001b[1;33m \u001b[0mo3\u001b[0m\u001b[1;33m.\u001b[0m\u001b[0moperations\u001b[0m\u001b[1;33m(\u001b[0m\u001b[1;33m)\u001b[0m\u001b[1;33m\u001b[0m\u001b[1;33m\u001b[0m\u001b[0m\n\u001b[0m",
      "\u001b[1;32m<ipython-input-7-1f520ed10485>\u001b[0m in \u001b[0;36moperations\u001b[1;34m(self)\u001b[0m\n\u001b[0;32m      9\u001b[0m         \u001b[0mprint\u001b[0m\u001b[1;33m(\u001b[0m\u001b[1;34m\"this is operations\"\u001b[0m\u001b[1;33m)\u001b[0m\u001b[1;33m\u001b[0m\u001b[1;33m\u001b[0m\u001b[0m\n\u001b[0;32m     10\u001b[0m         \u001b[0mself\u001b[0m\u001b[1;33m.\u001b[0m\u001b[0mop2\u001b[0m\u001b[1;33m(\u001b[0m\u001b[1;33m)\u001b[0m\u001b[1;33m\u001b[0m\u001b[1;33m\u001b[0m\u001b[0m\n\u001b[1;32m---> 11\u001b[1;33m         \u001b[0mself\u001b[0m\u001b[1;33m.\u001b[0m\u001b[0mop1\u001b[0m\u001b[1;33m(\u001b[0m\u001b[1;33m)\u001b[0m\u001b[1;33m\u001b[0m\u001b[1;33m\u001b[0m\u001b[0m\n\u001b[0m\u001b[0;32m     12\u001b[0m \u001b[1;33m\u001b[0m\u001b[0m\n\u001b[0;32m     13\u001b[0m \u001b[0mo3\u001b[0m\u001b[1;33m=\u001b[0m\u001b[0mc3\u001b[0m\u001b[1;33m(\u001b[0m\u001b[1;33m)\u001b[0m\u001b[1;33m\u001b[0m\u001b[1;33m\u001b[0m\u001b[0m\n",
      "\u001b[1;31mAttributeError\u001b[0m: 'c3' object has no attribute 'op1'"
     ]
    }
   ],
   "source": [
    "class c1:\n",
    "    def op1(self):\n",
    "        print(\"this is op1 in c1\")        \n",
    "class c2:\n",
    "    def op2(self):\n",
    "        print(\"this is op2 in c2\")\n",
    "class c3(c2):\n",
    "    def operations(self):\n",
    "        print(\"this is operations\")\n",
    "        self.op2()\n",
    "        self.op1()\n",
    "        \n",
    "o3=c3()\n",
    "o3.operations()"
   ]
  },
  {
   "cell_type": "code",
   "execution_count": 8,
   "metadata": {},
   "outputs": [
    {
     "name": "stdout",
     "output_type": "stream",
     "text": [
      "this is operations\n",
      "this is op2 in c2\n",
      "this is op1 in c1\n"
     ]
    }
   ],
   "source": [
    "class c1:\n",
    "    def op1(self):\n",
    "        print(\"this is op1 in c1\")        \n",
    "class c2:\n",
    "    def op2(self):\n",
    "        print(\"this is op2 in c2\")\n",
    "class c3(c2, c1):# inheritance, c3 child class, c1,c2 parent classes.\n",
    "    def operations(self):\n",
    "        print(\"this is operations\")\n",
    "        self.op2()\n",
    "        self.op1()\n",
    "        \n",
    "o3=c3()\n",
    "o3.operations()"
   ]
  },
  {
   "cell_type": "code",
   "execution_count": 9,
   "metadata": {},
   "outputs": [
    {
     "name": "stdout",
     "output_type": "stream",
     "text": [
      "(<class '__main__.c3'>, <class '__main__.c2'>, <class '__main__.c1'>, <class 'object'>)\n",
      "this is op1 in c1\n"
     ]
    }
   ],
   "source": [
    "class c1:\n",
    "    def op1(self):\n",
    "        print(\"this is op1 in c1\")        \n",
    "class c2:\n",
    "    def op2(self):\n",
    "        print(\"this is op2 in c2\")\n",
    "class c3(c2, c1):# inheritance, c3 child class, c1,c2 parent classes.\n",
    "    def operations(self):\n",
    "        print(\"this is operations\")\n",
    "        self.op2()\n",
    "        self.op1()\n",
    "        \n",
    "o3=c3()\n",
    "print(c3.__mro__)# method resolution order..\n",
    "o3.op1()"
   ]
  },
  {
   "cell_type": "code",
   "execution_count": 10,
   "metadata": {},
   "outputs": [
    {
     "name": "stdout",
     "output_type": "stream",
     "text": [
      "this is op1 in c2\n"
     ]
    }
   ],
   "source": [
    "class c1:\n",
    "    def op1(self):\n",
    "        print(\"this is op1 in c1\")        \n",
    "class c2:\n",
    "    def op2(self):\n",
    "        print(\"this is op2 in c2\")\n",
    "    def op1(self):\n",
    "        print(\"this is op1 in c2\")\n",
    "\n",
    "class c3(c2, c1):# inheritance, c3 child class, c1,c2 parent classes.\n",
    "    def operations(self):\n",
    "        print(\"this is operations\")\n",
    "        self.op2()\n",
    "        self.op1()\n",
    "        \n",
    "o3=c3()\n",
    "o3.op1()"
   ]
  },
  {
   "cell_type": "code",
   "execution_count": 11,
   "metadata": {},
   "outputs": [
    {
     "name": "stdout",
     "output_type": "stream",
     "text": [
      "this is op1 in c3\n"
     ]
    }
   ],
   "source": [
    "class c1:\n",
    "    def op1(self):\n",
    "        print(\"this is op1 in c1\")        \n",
    "class c2:\n",
    "    def op2(self):\n",
    "        print(\"this is op2 in c2\")\n",
    "    def op1(self):\n",
    "        print(\"this is op1 in c2\")\n",
    "\n",
    "class c3(c2, c1):# inheritance, c3 child class, c1,c2 parent classes.\n",
    "    def operations(self):\n",
    "        print(\"this is operations\")\n",
    "        self.op2()\n",
    "        self.op1()\n",
    "        \n",
    "    def op1(self):# method overriding\n",
    "        print(\"this is op1 in c3\")\n",
    "        \n",
    "o3=c3()\n",
    "o3.op1()"
   ]
  },
  {
   "cell_type": "code",
   "execution_count": 14,
   "metadata": {},
   "outputs": [
    {
     "name": "stdout",
     "output_type": "stream",
     "text": [
      "this is operations\n",
      "this is op2 in c2\n",
      "this is op1 in c2\n"
     ]
    }
   ],
   "source": [
    "class c3:\n",
    "    def operations(self):\n",
    "        print(\"this is operations\")\n",
    "        self.op2()\n",
    "        self.op1()\n",
    "    def op2(self):\n",
    "        print(\"this is op2 in c2\")\n",
    "    def op1(self):\n",
    "        print(\"this is op1 in c2\")\n",
    "        \n",
    "o3=c3()\n",
    "o3.operations()"
   ]
  },
  {
   "cell_type": "code",
   "execution_count": 15,
   "metadata": {},
   "outputs": [
    {
     "name": "stdout",
     "output_type": "stream",
     "text": [
      "this is op1 in Customer\n",
      "this is op2 in Customer\n"
     ]
    }
   ],
   "source": [
    "#sales: v1\n",
    "#sales.py\n",
    "class Customer:\n",
    "    def op1(self):\n",
    "        print(\"this is op1 in Customer\")\n",
    "    #own code, this is not availbale in v1 of sales\n",
    "    def op2(self):\n",
    "        print(\"this is op2 in Customer\")\n",
    "        \n",
    "#app.py\n",
    "# from sales import Customer\n",
    "c1=Customer()\n",
    "c1.op1()\n",
    "c1.op2()\n",
    "        \n"
   ]
  },
  {
   "cell_type": "code",
   "execution_count": 16,
   "metadata": {},
   "outputs": [
    {
     "name": "stdout",
     "output_type": "stream",
     "text": [
      "this is op1 in Customer\n",
      "this is op2 in OwnCustomer\n"
     ]
    }
   ],
   "source": [
    "#sales: v1, these guys released a one more version: v2. \n",
    "# what's happen if we upgrade sales from v1 to v2\n",
    "#sales.py\n",
    "class Customer:\n",
    "    def op1(self):\n",
    "        print(\"this is op1 in Customer\")\n",
    "        \n",
    "#app.py\n",
    "# from sales import Customer\n",
    "class OwnCustomer(Customer):\n",
    "    def op2(self):\n",
    "        print(\"this is op2 in OwnCustomer\")\n",
    "    \n",
    "\n",
    "c1=OwnCustomer()\n",
    "c1.op1()\n",
    "c1.op2()"
   ]
  },
  {
   "cell_type": "code",
   "execution_count": 17,
   "metadata": {},
   "outputs": [
    {
     "name": "stdout",
     "output_type": "stream",
     "text": [
      "insert data to customer table\n",
      "insert data to product table\n",
      "insert data to category table\n"
     ]
    }
   ],
   "source": [
    "class Customer:\n",
    "    def create(self):\n",
    "        print(\"insert data to customer table\")\n",
    "        \n",
    "class Product:\n",
    "    def create(self):\n",
    "        print(\"insert data to product table\")\n",
    "        \n",
    "class Category:\n",
    "    def create(self):\n",
    "        print(\"insert data to category table\")\n",
    "c=Customer()\n",
    "c.create()\n",
    "p=Product()\n",
    "p.create()\n",
    "c1=Category()\n",
    "c1.create()"
   ]
  },
  {
   "cell_type": "code",
   "execution_count": 18,
   "metadata": {},
   "outputs": [
    {
     "name": "stdout",
     "output_type": "stream",
     "text": [
      "insert data to customer table\n",
      "insert data to product table\n",
      "insert data to category table\n"
     ]
    }
   ],
   "source": [
    "class DB:\n",
    "    def __init__(self, name):\n",
    "        self.name=name\n",
    "    def create(self):\n",
    "        print(\"insert data to %s table\"%self.name)\n",
    "        \n",
    "class Customer(DB):\n",
    "    pass\n",
    "class Product(DB):\n",
    "    pass\n",
    "        \n",
    "class Category(DB):\n",
    "    pass\n",
    "c=Customer(\"customer\")\n",
    "c.create()\n",
    "p=Product(\"product\")\n",
    "p.create()\n",
    "c1=Category(\"category\")\n",
    "c1.create()"
   ]
  },
  {
   "cell_type": "code",
   "execution_count": 19,
   "metadata": {},
   "outputs": [
    {
     "name": "stdout",
     "output_type": "stream",
     "text": [
      "insert customer to {'name': 'cust1'} table\n",
      "insert product to {'name': 'p1'} table\n",
      "insert category to {'name': 'cat1'} table\n"
     ]
    }
   ],
   "source": [
    "class DB:\n",
    "    def __init__(self, table, data):\n",
    "        self.data=data\n",
    "        self.table=table\n",
    "    def create(self):\n",
    "        print(\"insert %s to %s table\"%(self.data,self.table))\n",
    "        \n",
    "class Customer(DB):\n",
    "    pass\n",
    "class Product(DB):\n",
    "    pass\n",
    "        \n",
    "class Category(DB):\n",
    "    pass\n",
    "c=Customer({\"name\":\"cust1\"},\"customer\")\n",
    "c.create()\n",
    "p=Product({\"name\":\"p1\"},\"product\")\n",
    "p.create()\n",
    "c1=Category({\"name\":\"cat1\"},\"category\")\n",
    "c1.create()"
   ]
  },
  {
   "cell_type": "code",
   "execution_count": 20,
   "metadata": {},
   "outputs": [
    {
     "name": "stdout",
     "output_type": "stream",
     "text": [
      "insert customer to {'name': 'cust1'} table\n",
      "insert product to {'name': 'p1_@qwert'} table\n",
      "insert category to {'name': 'cat1'} table\n"
     ]
    }
   ],
   "source": [
    "class DB:\n",
    "    def __init__(self, table, data):\n",
    "        self.data=data\n",
    "        self.table=table\n",
    "    def create(self):\n",
    "        print(\"insert %s to %s table\"%(self.data,self.table))\n",
    "        \n",
    "class Customer(DB):\n",
    "    pass\n",
    "class Product(DB):\n",
    "    pass\n",
    "        \n",
    "class Category(DB):\n",
    "    pass\n",
    "c=Customer({\"name\":\"cust1\"},\"customer\")\n",
    "c.create()\n",
    "p=Product({\"name\":\"p1_@qwert\"},\"product\")\n",
    "p.create()\n",
    "c1=Category({\"name\":\"cat1\"},\"category\")\n",
    "c1.create()"
   ]
  },
  {
   "cell_type": "code",
   "execution_count": 22,
   "metadata": {},
   "outputs": [
    {
     "name": "stdout",
     "output_type": "stream",
     "text": [
      "insert {'name': 'cust1'} to customer table\n",
      "Not a valid name\n",
      "insert {'name': 'cat1'} to category table\n"
     ]
    }
   ],
   "source": [
    "class DB:\n",
    "    def __init__(self, data, table):\n",
    "        self.data=data\n",
    "        self.table=table\n",
    "    def create(self):\n",
    "        print(\"insert %s to %s table\"%(self.data,self.table))\n",
    "class Customer(DB):\n",
    "    pass\n",
    "class Product(DB):\n",
    "    def insert(self):\n",
    "        if self.data.get(\"name\").isalnum():\n",
    "            print(\"insert %s to %s table\"%(self.data,self.table))\n",
    "        else:\n",
    "            print(\"Not a valid name\")\n",
    "class Category(DB):\n",
    "    pass\n",
    "c=Customer({\"name\":\"cust1\"},\"customer\")\n",
    "c.create()\n",
    "p=Product({\"name\":\"p1_@qwert\"},\"product\")\n",
    "p.insert()\n",
    "c1=Category({\"name\":\"cat1\"},\"category\")\n",
    "c1.create()"
   ]
  },
  {
   "cell_type": "code",
   "execution_count": 23,
   "metadata": {},
   "outputs": [
    {
     "name": "stdout",
     "output_type": "stream",
     "text": [
      "insert {'name': 'cust1'} to customer table\n",
      "insert {'name': 'p1_@qwert'} to product table\n"
     ]
    }
   ],
   "source": [
    "class DB:\n",
    "    def __init__(self, data, table):\n",
    "        self.data=data\n",
    "        self.table=table\n",
    "    def create(self):\n",
    "        print(\"insert %s to %s table\"%(self.data,self.table))\n",
    "class Customer(DB):\n",
    "    pass\n",
    "class Product(DB):\n",
    "    def insert(self):\n",
    "        if self.data.get(\"name\").isalnum():\n",
    "            print(\"insert %s to %s table\"%(self.data,self.table))\n",
    "        else:\n",
    "            print(\"Not a valid name\")\n",
    "class Category(DB):\n",
    "    pass\n",
    "c=Customer({\"name\":\"cust1\"},\"customer\")\n",
    "c.create()\n",
    "p=Product({\"name\":\"p1_@qwert\"},\"product\")\n",
    "p.create()"
   ]
  },
  {
   "cell_type": "code",
   "execution_count": 24,
   "metadata": {},
   "outputs": [
    {
     "name": "stdout",
     "output_type": "stream",
     "text": [
      "insert {'name': 'cust1'} to customer table\n",
      "Not a valid name\n"
     ]
    }
   ],
   "source": [
    "class DB:\n",
    "    def __init__(self, data, table):\n",
    "        self.data=data\n",
    "        self.table=table\n",
    "    def create(self):\n",
    "        print(\"insert %s to %s table\"%(self.data,self.table))\n",
    "class Customer(DB):\n",
    "    pass\n",
    "class Product(DB):\n",
    "    def insert(self):\n",
    "        if self.data.get(\"name\").isalnum():\n",
    "            print(\"insert %s to %s table\"%(self.data,self.table))\n",
    "        else:\n",
    "            print(\"Not a valid name\")\n",
    "class Category(DB):\n",
    "    pass\n",
    "c=Customer({\"name\":\"cust1\"},\"customer\")\n",
    "c.create()\n",
    "p=Product({\"name\":\"p1_@qwert\"},\"product\")\n",
    "p.insert()"
   ]
  },
  {
   "cell_type": "code",
   "execution_count": 25,
   "metadata": {},
   "outputs": [
    {
     "name": "stdout",
     "output_type": "stream",
     "text": [
      "insert {'name': 'cust1'} to customer table\n",
      "insert {'name': 'p1'} to product table\n"
     ]
    }
   ],
   "source": [
    "class DB:\n",
    "    def __init__(self, data, table):\n",
    "        self.data=data\n",
    "        self.table=table\n",
    "    def create(self):\n",
    "        print(\"insert %s to %s table\"%(self.data,self.table))\n",
    "class Customer(DB):\n",
    "    pass\n",
    "class Product(DB):\n",
    "    def insert(self):\n",
    "        if self.data.get(\"name\").isalnum():\n",
    "            self.create()\n",
    "        else:\n",
    "            print(\"Not a valid name\")\n",
    "class Category(DB):\n",
    "    pass\n",
    "c=Customer({\"name\":\"cust1\"},\"customer\")\n",
    "c.create()\n",
    "p=Product({\"name\":\"p1\"},\"product\")\n",
    "p.insert()"
   ]
  },
  {
   "cell_type": "code",
   "execution_count": 26,
   "metadata": {},
   "outputs": [
    {
     "name": "stdout",
     "output_type": "stream",
     "text": [
      "insert {'name': 'cust1'} to customer table\n",
      "Not a valid name\n"
     ]
    }
   ],
   "source": [
    "class DB:\n",
    "    def __init__(self, data, table):\n",
    "        self.data=data\n",
    "        self.table=table\n",
    "    def create(self):\n",
    "        print(\"insert %s to %s table\"%(self.data,self.table))\n",
    "class Customer(DB):\n",
    "    pass\n",
    "class Product(DB):\n",
    "    def insert(self):\n",
    "        if self.data.get(\"name\").isalnum():\n",
    "            self.create()\n",
    "        else:\n",
    "            print(\"Not a valid name\")\n",
    "class Category(DB):\n",
    "    pass\n",
    "c=Customer({\"name\":\"cust1\"},\"customer\")\n",
    "c.create()\n",
    "p=Product({\"name\":\"p1_224\"},\"product\")\n",
    "p.insert()"
   ]
  },
  {
   "cell_type": "code",
   "execution_count": 27,
   "metadata": {},
   "outputs": [
    {
     "name": "stdout",
     "output_type": "stream",
     "text": [
      "insert {'name': 'cust1'} to customer table\n",
      "insert {'name': 'p1_224'} to product table\n"
     ]
    }
   ],
   "source": [
    "class DB:\n",
    "    def __init__(self, data, table):\n",
    "        self.data=data\n",
    "        self.table=table\n",
    "    def create(self):\n",
    "        print(\"insert %s to %s table\"%(self.data,self.table))\n",
    "class Customer(DB):\n",
    "    pass\n",
    "class Product(DB):\n",
    "    def insert(self):\n",
    "        if self.data.get(\"name\").isalnum():\n",
    "            self.create()\n",
    "        else:\n",
    "            print(\"Not a valid name\")\n",
    "class Category(DB):\n",
    "    pass\n",
    "c=Customer({\"name\":\"cust1\"},\"customer\")\n",
    "c.create()\n",
    "p=Product({\"name\":\"p1_224\"},\"product\")\n",
    "p.create()"
   ]
  },
  {
   "cell_type": "code",
   "execution_count": 28,
   "metadata": {},
   "outputs": [
    {
     "name": "stdout",
     "output_type": "stream",
     "text": [
      "insert {'name': 'cust1'} to customer table\n",
      "Not a valid name\n"
     ]
    }
   ],
   "source": [
    "class DB:\n",
    "    def __init__(self, data, table):\n",
    "        self.data=data\n",
    "        self.table=table\n",
    "    def create(self):\n",
    "        print(\"insert %s to %s table\"%(self.data,self.table))\n",
    "class Customer(DB):\n",
    "    pass\n",
    "class Product(DB):\n",
    "    def create(self):\n",
    "        if self.data.get(\"name\").isalnum():\n",
    "            self.create()\n",
    "        else:\n",
    "            print(\"Not a valid name\")\n",
    "class Category(DB):\n",
    "    pass\n",
    "c=Customer({\"name\":\"cust1\"},\"customer\")\n",
    "c.create()\n",
    "p=Product({\"name\":\"p1_224\"},\"product\")\n",
    "p.create()"
   ]
  },
  {
   "cell_type": "code",
   "execution_count": null,
   "metadata": {},
   "outputs": [],
   "source": [
    "class DB:\n",
    "    def __init__(self, data, table):\n",
    "        self.data=data\n",
    "        self.table=table\n",
    "    def create(self):\n",
    "        print(\"insert %s to %s table\"%(self.data,self.table))\n",
    "class Customer(DB):\n",
    "    pass\n",
    "class Product(DB):\n",
    "    def create(self):\n",
    "        if self.data.get(\"name\").isalnum():\n",
    "            self.create()\n",
    "        else:\n",
    "            print(\"Not a valid name\")\n",
    "class Category(DB):\n",
    "    pass\n",
    "c=Customer({\"name\":\"cust1\"},\"customer\")\n",
    "c.create()\n",
    "p=Product({\"name\":\"p1\"},\"product\")\n",
    "p.create()"
   ]
  },
  {
   "cell_type": "code",
   "execution_count": 1,
   "metadata": {},
   "outputs": [
    {
     "name": "stdout",
     "output_type": "stream",
     "text": [
      "insert {'name': 'cust1'} to customer table\n",
      "insert {'name': 'p1'} to product table\n"
     ]
    }
   ],
   "source": [
    "#method overriding.\n",
    "class DB:\n",
    "    def __init__(self, data, table):\n",
    "        self.data=data\n",
    "        self.table=table\n",
    "    def create(self):\n",
    "        print(\"insert %s to %s table\"%(self.data,self.table))\n",
    "class Customer(DB):\n",
    "    pass\n",
    "class Product(DB):\n",
    "    def create(self):\n",
    "        if self.data.get(\"name\").isalnum():\n",
    "            #self.create()\n",
    "            DB.create(self)\n",
    "        else:\n",
    "            print(\"Not a valid name\")\n",
    "class Category(DB):\n",
    "    pass\n",
    "c=Customer({\"name\":\"cust1\"},\"customer\")\n",
    "c.create()\n",
    "p=Product({\"name\":\"p1\"},\"product\")\n",
    "p.create()"
   ]
  },
  {
   "cell_type": "code",
   "execution_count": 2,
   "metadata": {},
   "outputs": [
    {
     "name": "stdout",
     "output_type": "stream",
     "text": [
      "('Jay', None, None)\n",
      "('Jay', 'pan@123', None)\n",
      "('Jay', 'pan@123', 'Adhar@123')\n"
     ]
    }
   ],
   "source": [
    "class Emp:\n",
    "    def __init__(self, name, pan=None,adhar=None):\n",
    "        self.name=name\n",
    "        self.pan=pan\n",
    "        self.adhar=adhar\n",
    "    def get(self):\n",
    "        return self.name, self.pan, self.adhar\n",
    "e1=Emp(\"Jay\")\n",
    "print(e1.get())\n",
    "e2=Emp(\"Jay\",\"pan@123\")\n",
    "print(e2.get())\n",
    "e3=Emp(\"Jay\",\"pan@123\",\"Adhar@123\")\n",
    "print(e3.get())\n"
   ]
  },
  {
   "cell_type": "code",
   "execution_count": 3,
   "metadata": {},
   "outputs": [
    {
     "name": "stdout",
     "output_type": "stream",
     "text": [
      "0\n",
      "1\n",
      "21\n"
     ]
    }
   ],
   "source": [
    "#method overloading..\n",
    "def add(*args):\n",
    "    return sum(args)\n",
    "print(add())\n",
    "print(add(1))\n",
    "print(add(1,2,3,4,5,6))"
   ]
  },
  {
   "cell_type": "code",
   "execution_count": 4,
   "metadata": {},
   "outputs": [
    {
     "name": "stdout",
     "output_type": "stream",
     "text": [
      "30\n"
     ]
    }
   ],
   "source": [
    "a=10\n",
    "b=20\n",
    "print(a+b)"
   ]
  },
  {
   "cell_type": "code",
   "execution_count": 5,
   "metadata": {},
   "outputs": [
    {
     "name": "stdout",
     "output_type": "stream",
     "text": [
      "pythonprogram\n"
     ]
    }
   ],
   "source": [
    "s1=\"python\"\n",
    "s2=\"program\"\n",
    "print(s1+s2)"
   ]
  },
  {
   "cell_type": "code",
   "execution_count": 6,
   "metadata": {},
   "outputs": [
    {
     "name": "stdout",
     "output_type": "stream",
     "text": [
      "<class 'int'>\n",
      "<class 'str'>\n"
     ]
    }
   ],
   "source": [
    "print(type(a))\n",
    "print(type(s1))"
   ]
  },
  {
   "cell_type": "code",
   "execution_count": 7,
   "metadata": {},
   "outputs": [
    {
     "name": "stdout",
     "output_type": "stream",
     "text": [
      "<class '__main__.Emp'>\n"
     ]
    }
   ],
   "source": [
    "class Emp:\n",
    "    def __init__(self, name, pan=None,adhar=None):\n",
    "        self.name=name\n",
    "        self.pan=pan\n",
    "        self.adhar=adhar\n",
    "    def get(self):\n",
    "        return self.name, self.pan, self.adhar\n",
    "e1=Emp(\"Jay\")\n",
    "e2=Emp(\"Jay\",\"pan@123\")\n",
    "e3=Emp(\"Jay\",\"pan@123\",\"Adhar@123\")\n",
    "print(type(e1))"
   ]
  },
  {
   "cell_type": "code",
   "execution_count": 8,
   "metadata": {},
   "outputs": [
    {
     "ename": "TypeError",
     "evalue": "unsupported operand type(s) for +: 'Emp' and 'Emp'",
     "output_type": "error",
     "traceback": [
      "\u001b[1;31m---------------------------------------------------------------------------\u001b[0m",
      "\u001b[1;31mTypeError\u001b[0m                                 Traceback (most recent call last)",
      "\u001b[1;32m<ipython-input-8-0656d17e5bc5>\u001b[0m in \u001b[0;36m<module>\u001b[1;34m\u001b[0m\n\u001b[0;32m      9\u001b[0m \u001b[0me2\u001b[0m\u001b[1;33m=\u001b[0m\u001b[0mEmp\u001b[0m\u001b[1;33m(\u001b[0m\u001b[1;34m\"Jay\"\u001b[0m\u001b[1;33m,\u001b[0m\u001b[1;36m12345\u001b[0m\u001b[1;33m)\u001b[0m\u001b[1;33m\u001b[0m\u001b[1;33m\u001b[0m\u001b[0m\n\u001b[0;32m     10\u001b[0m \u001b[0me3\u001b[0m\u001b[1;33m=\u001b[0m\u001b[0mEmp\u001b[0m\u001b[1;33m(\u001b[0m\u001b[1;34m\"Jay\"\u001b[0m\u001b[1;33m,\u001b[0m\u001b[1;36m3524567\u001b[0m\u001b[1;33m,\u001b[0m\u001b[1;34m\"Adhar@123\"\u001b[0m\u001b[1;33m)\u001b[0m\u001b[1;33m\u001b[0m\u001b[1;33m\u001b[0m\u001b[0m\n\u001b[1;32m---> 11\u001b[1;33m \u001b[0mprint\u001b[0m\u001b[1;33m(\u001b[0m\u001b[0me1\u001b[0m\u001b[1;33m+\u001b[0m\u001b[0me2\u001b[0m\u001b[1;33m)\u001b[0m\u001b[1;33m\u001b[0m\u001b[1;33m\u001b[0m\u001b[0m\n\u001b[0m",
      "\u001b[1;31mTypeError\u001b[0m: unsupported operand type(s) for +: 'Emp' and 'Emp'"
     ]
    }
   ],
   "source": [
    "class Emp:\n",
    "    def __init__(self, name, pan=None,adhar=None):\n",
    "        self.name=name\n",
    "        self.pan=pan\n",
    "        self.adhar=adhar\n",
    "    def get(self):\n",
    "        return self.name, self.pan, self.adhar\n",
    "e1=Emp(\"Jay\")\n",
    "e2=Emp(\"Jay\",12345)\n",
    "e3=Emp(\"Jay\",3524567,\"Adhar@123\")\n",
    "print(e1+e2)"
   ]
  },
  {
   "cell_type": "code",
   "execution_count": 9,
   "metadata": {},
   "outputs": [
    {
     "ename": "TypeError",
     "evalue": "unsupported operand type(s) for +: 'int' and 'str'",
     "output_type": "error",
     "traceback": [
      "\u001b[1;31m---------------------------------------------------------------------------\u001b[0m",
      "\u001b[1;31mTypeError\u001b[0m                                 Traceback (most recent call last)",
      "\u001b[1;32m<ipython-input-9-c508a2b86ccd>\u001b[0m in \u001b[0;36m<module>\u001b[1;34m\u001b[0m\n\u001b[1;32m----> 1\u001b[1;33m \u001b[1;36m1\u001b[0m\u001b[1;33m+\u001b[0m\u001b[1;34m\"pyt\"\u001b[0m\u001b[1;33m\u001b[0m\u001b[1;33m\u001b[0m\u001b[0m\n\u001b[0m",
      "\u001b[1;31mTypeError\u001b[0m: unsupported operand type(s) for +: 'int' and 'str'"
     ]
    }
   ],
   "source": [
    "1+\"pyt\""
   ]
  },
  {
   "cell_type": "code",
   "execution_count": null,
   "metadata": {},
   "outputs": [],
   "source": [
    "class Emp:\n",
    "    def __init__(self, name, pan=None,adhar=None):\n",
    "        self.name=name\n",
    "        self.pan=pan\n",
    "        self.adhar=adhar\n",
    "    def get(self):\n",
    "        return self.name, self.pan, self.adhar\n",
    "    def __add__(self1,self2):\n",
    "        return 10\n",
    "e1=Emp(\"Jay\")\n",
    "e2=Emp(\"Jay\",12345)\n",
    "e3=Emp(\"Jay\",3524567,\"Adhar@123\")\n",
    "print(e1+e2)"
   ]
  },
  {
   "cell_type": "code",
   "execution_count": 10,
   "metadata": {},
   "outputs": [
    {
     "ename": "TypeError",
     "evalue": "unsupported operand type(s) for +: 'dict' and 'dict'",
     "output_type": "error",
     "traceback": [
      "\u001b[1;31m---------------------------------------------------------------------------\u001b[0m",
      "\u001b[1;31mTypeError\u001b[0m                                 Traceback (most recent call last)",
      "\u001b[1;32m<ipython-input-10-65e555459418>\u001b[0m in \u001b[0;36m<module>\u001b[1;34m\u001b[0m\n\u001b[0;32m      1\u001b[0m \u001b[0md1\u001b[0m\u001b[1;33m=\u001b[0m\u001b[1;33m{\u001b[0m\u001b[1;36m1\u001b[0m\u001b[1;33m:\u001b[0m\u001b[1;36m2\u001b[0m\u001b[1;33m}\u001b[0m\u001b[1;33m\u001b[0m\u001b[1;33m\u001b[0m\u001b[0m\n\u001b[0;32m      2\u001b[0m \u001b[0md2\u001b[0m\u001b[1;33m=\u001b[0m\u001b[1;33m{\u001b[0m\u001b[1;36m2\u001b[0m\u001b[1;33m:\u001b[0m\u001b[1;36m3\u001b[0m\u001b[1;33m}\u001b[0m\u001b[1;33m\u001b[0m\u001b[1;33m\u001b[0m\u001b[0m\n\u001b[1;32m----> 3\u001b[1;33m \u001b[0md1\u001b[0m\u001b[1;33m+\u001b[0m\u001b[0md2\u001b[0m\u001b[1;33m\u001b[0m\u001b[1;33m\u001b[0m\u001b[0m\n\u001b[0m",
      "\u001b[1;31mTypeError\u001b[0m: unsupported operand type(s) for +: 'dict' and 'dict'"
     ]
    }
   ],
   "source": [
    "d1={1:2}\n",
    "d2={2:3}\n",
    "d1+d2"
   ]
  },
  {
   "cell_type": "code",
   "execution_count": 11,
   "metadata": {},
   "outputs": [
    {
     "name": "stdout",
     "output_type": "stream",
     "text": [
      "10\n"
     ]
    }
   ],
   "source": [
    "class Emp:\n",
    "    def __init__(self, name, pan=None,adhar=None):\n",
    "        self.name=name\n",
    "        self.pan=pan\n",
    "        self.adhar=adhar\n",
    "    def get(self):\n",
    "        return self.name, self.pan, self.adhar\n",
    "    def __add__(self1,self2):\n",
    "        return 10\n",
    "e1=Emp(\"Jay\")\n",
    "e2=Emp(\"Jay\",12345)\n",
    "e3=Emp(\"Jay\",3524567,\"Adhar@123\")\n",
    "print(e1+e2)"
   ]
  },
  {
   "cell_type": "code",
   "execution_count": 12,
   "metadata": {},
   "outputs": [
    {
     "name": "stdout",
     "output_type": "stream",
     "text": [
      "JayJay\n"
     ]
    }
   ],
   "source": [
    "class Emp:\n",
    "    def __init__(self, name, pan=None,adhar=None):\n",
    "        self.name=name\n",
    "        self.pan=pan\n",
    "        self.adhar=adhar\n",
    "    def get(self):\n",
    "        return self.name, self.pan, self.adhar\n",
    "    def __add__(self1,self2):\n",
    "        return self1.name+self2.name\n",
    "e1=Emp(\"Jay\")\n",
    "e2=Emp(\"Jay\",12345)\n",
    "e3=Emp(\"Jay\",3524567,\"Adhar@123\")\n",
    "print(e1+e2)"
   ]
  },
  {
   "cell_type": "code",
   "execution_count": 13,
   "metadata": {},
   "outputs": [
    {
     "name": "stdout",
     "output_type": "stream",
     "text": [
      "JayJay\n",
      "200\n"
     ]
    }
   ],
   "source": [
    "class Emp:\n",
    "    def __init__(self, name, pan=None,adhar=None):\n",
    "        self.name=name\n",
    "        self.pan=pan\n",
    "        self.adhar=adhar\n",
    "    def get(self):\n",
    "        return self.name, self.pan, self.adhar\n",
    "    def __add__(self1,self2):\n",
    "        return self1.name+self2.name\n",
    "    def __sub__(self1,self2):\n",
    "        return 200\n",
    "e1=Emp(\"Jay\")\n",
    "e2=Emp(\"Jay\",12345)\n",
    "e3=Emp(\"Jay\",3524567,\"Adhar@123\")\n",
    "print(e1+e2)\n",
    "print(e1-e2)"
   ]
  },
  {
   "cell_type": "code",
   "execution_count": 14,
   "metadata": {},
   "outputs": [
    {
     "name": "stdout",
     "output_type": "stream",
     "text": [
      "['__abs__', '__add__', '__and__', '__bool__', '__ceil__', '__class__', '__delattr__', '__dir__', '__divmod__', '__doc__', '__eq__', '__float__', '__floor__', '__floordiv__', '__format__', '__ge__', '__getattribute__', '__getnewargs__', '__gt__', '__hash__', '__index__', '__init__', '__init_subclass__', '__int__', '__invert__', '__le__', '__lshift__', '__lt__', '__mod__', '__mul__', '__ne__', '__neg__', '__new__', '__or__', '__pos__', '__pow__', '__radd__', '__rand__', '__rdivmod__', '__reduce__', '__reduce_ex__', '__repr__', '__rfloordiv__', '__rlshift__', '__rmod__', '__rmul__', '__ror__', '__round__', '__rpow__', '__rrshift__', '__rshift__', '__rsub__', '__rtruediv__', '__rxor__', '__setattr__', '__sizeof__', '__str__', '__sub__', '__subclasshook__', '__truediv__', '__trunc__', '__xor__', 'as_integer_ratio', 'bit_length', 'conjugate', 'denominator', 'from_bytes', 'imag', 'numerator', 'real', 'to_bytes']\n"
     ]
    }
   ],
   "source": [
    "a=10\n",
    "print(dir(a))"
   ]
  },
  {
   "cell_type": "code",
   "execution_count": null,
   "metadata": {},
   "outputs": [],
   "source": [
    "class Emp:\n",
    "    def __init__(self, name, pan=None,adhar=None):\n",
    "        self.name=name\n",
    "        self.pan=pan\n",
    "        self.adhar=adhar\n",
    "    def get(self):\n",
    "        return self.name, self.pan, self.adhar\n",
    "    def __add__(self1,self2):\n",
    "        return self1.name+self2.name\n",
    "    def __sub__(self1,self2):\n",
    "        return 200\n",
    "    def __and__(self1, self2):\n",
    "        return self1.name and self2.name\n",
    "e1=Emp(\"Jay\")\n",
    "e2=Emp(\"Jay\",12345)\n",
    "e3=Emp(\"Jay\",3524567,\"Adhar@123\")\n",
    "print(e1+e2)\n",
    "print(e1-e2)"
   ]
  },
  {
   "cell_type": "code",
   "execution_count": 16,
   "metadata": {},
   "outputs": [
    {
     "data": {
      "text/plain": [
       "False"
      ]
     },
     "execution_count": 16,
     "metadata": {},
     "output_type": "execute_result"
    }
   ],
   "source": [
    "bool(\"\" and \"jay\")"
   ]
  },
  {
   "cell_type": "code",
   "execution_count": 20,
   "metadata": {},
   "outputs": [
    {
     "name": "stdout",
     "output_type": "stream",
     "text": [
      "JayJay\n",
      "200\n",
      "hello\n",
      "True\n"
     ]
    }
   ],
   "source": [
    "class Emp:\n",
    "    def __init__(self, name, pan=None,adhar=None):\n",
    "        self.name=name\n",
    "        self.pan=pan\n",
    "        self.adhar=adhar\n",
    "    def get(self):\n",
    "        return self.name, self.pan, self.adhar\n",
    "    def __add__(self1,self2):\n",
    "        return self1.name+self2.name\n",
    "    def __sub__(self1,self2):\n",
    "        return 200\n",
    "    def __and__(self1, self2):\n",
    "        return bool(self1.name and self2.name)\n",
    "e1=Emp(\"Jay\")\n",
    "e2=Emp(\"Jay\",12345)\n",
    "e3=Emp(\"Jay\",3524567,\"Adhar@123\")\n",
    "print(e1+e2)\n",
    "print(e1-e2)\n",
    "print(e1.__and__(e2))"
   ]
  },
  {
   "cell_type": "code",
   "execution_count": 21,
   "metadata": {},
   "outputs": [
    {
     "name": "stdout",
     "output_type": "stream",
     "text": [
      "JayJay\n",
      "200\n"
     ]
    }
   ],
   "source": [
    "class Emp:\n",
    "    def __init__(self, name, pan=None,adhar=None):\n",
    "        self.name=name\n",
    "        self.pan=pan\n",
    "        self.adhar=adhar\n",
    "    def get(self):\n",
    "        return self.name, self.pan, self.adhar\n",
    "    def __add__(self1,self2):\n",
    "        return self1.name+self2.name\n",
    "    def __sub__(self1,self2):\n",
    "        return 200\n",
    "    def __and__(self1, self2):\n",
    "        return bool(self1.name and self2.name)\n",
    "e1=Emp(\"Jay\")\n",
    "e2=Emp(\"Jay\",12345)\n",
    "e3=Emp(\"Jay\",3524567,\"Adhar@123\")\n",
    "print(e1+e2)\n",
    "print(e1-e2)\n"
   ]
  },
  {
   "cell_type": "code",
   "execution_count": 22,
   "metadata": {},
   "outputs": [
    {
     "ename": "TypeError",
     "evalue": "object of type 'int' has no len()",
     "output_type": "error",
     "traceback": [
      "\u001b[1;31m---------------------------------------------------------------------------\u001b[0m",
      "\u001b[1;31mTypeError\u001b[0m                                 Traceback (most recent call last)",
      "\u001b[1;32m<ipython-input-22-5b9a136e64ec>\u001b[0m in \u001b[0;36m<module>\u001b[1;34m\u001b[0m\n\u001b[0;32m      1\u001b[0m \u001b[0ma\u001b[0m\u001b[1;33m=\u001b[0m\u001b[1;36m100\u001b[0m\u001b[1;33m\u001b[0m\u001b[1;33m\u001b[0m\u001b[0m\n\u001b[1;32m----> 2\u001b[1;33m \u001b[0mprint\u001b[0m\u001b[1;33m(\u001b[0m\u001b[0mlen\u001b[0m\u001b[1;33m(\u001b[0m\u001b[0ma\u001b[0m\u001b[1;33m)\u001b[0m\u001b[1;33m)\u001b[0m\u001b[1;33m\u001b[0m\u001b[1;33m\u001b[0m\u001b[0m\n\u001b[0m",
      "\u001b[1;31mTypeError\u001b[0m: object of type 'int' has no len()"
     ]
    }
   ],
   "source": [
    "a=100\n",
    "print(len(a))"
   ]
  },
  {
   "cell_type": "code",
   "execution_count": 23,
   "metadata": {},
   "outputs": [
    {
     "name": "stdout",
     "output_type": "stream",
     "text": [
      "JayJay\n",
      "200\n"
     ]
    },
    {
     "ename": "TypeError",
     "evalue": "object of type 'Emp' has no len()",
     "output_type": "error",
     "traceback": [
      "\u001b[1;31m---------------------------------------------------------------------------\u001b[0m",
      "\u001b[1;31mTypeError\u001b[0m                                 Traceback (most recent call last)",
      "\u001b[1;32m<ipython-input-23-3e463fe752e7>\u001b[0m in \u001b[0;36m<module>\u001b[1;34m\u001b[0m\n\u001b[0;32m     17\u001b[0m \u001b[0mprint\u001b[0m\u001b[1;33m(\u001b[0m\u001b[0me1\u001b[0m\u001b[1;33m+\u001b[0m\u001b[0me2\u001b[0m\u001b[1;33m)\u001b[0m\u001b[1;33m\u001b[0m\u001b[1;33m\u001b[0m\u001b[0m\n\u001b[0;32m     18\u001b[0m \u001b[0mprint\u001b[0m\u001b[1;33m(\u001b[0m\u001b[0me1\u001b[0m\u001b[1;33m-\u001b[0m\u001b[0me2\u001b[0m\u001b[1;33m)\u001b[0m\u001b[1;33m\u001b[0m\u001b[1;33m\u001b[0m\u001b[0m\n\u001b[1;32m---> 19\u001b[1;33m \u001b[0mprint\u001b[0m\u001b[1;33m(\u001b[0m\u001b[0mlen\u001b[0m\u001b[1;33m(\u001b[0m\u001b[0me1\u001b[0m\u001b[1;33m)\u001b[0m\u001b[1;33m)\u001b[0m\u001b[1;33m\u001b[0m\u001b[1;33m\u001b[0m\u001b[0m\n\u001b[0m",
      "\u001b[1;31mTypeError\u001b[0m: object of type 'Emp' has no len()"
     ]
    }
   ],
   "source": [
    "class Emp:\n",
    "    def __init__(self, name, pan=None,adhar=None):\n",
    "        self.name=name\n",
    "        self.pan=pan\n",
    "        self.adhar=adhar\n",
    "    def get(self):\n",
    "        return self.name, self.pan, self.adhar\n",
    "    def __add__(self1,self2):\n",
    "        return self1.name+self2.name\n",
    "    def __sub__(self1,self2):\n",
    "        return 200\n",
    "    def __and__(self1, self2):\n",
    "        return bool(self1.name and self2.name)\n",
    "e1=Emp(\"Jay\")\n",
    "e2=Emp(\"Jay\",12345)\n",
    "e3=Emp(\"Jay\",3524567,\"Adhar@123\")\n",
    "print(e1+e2)\n",
    "print(e1-e2)\n",
    "print(len(e1))"
   ]
  },
  {
   "cell_type": "code",
   "execution_count": 24,
   "metadata": {},
   "outputs": [
    {
     "name": "stdout",
     "output_type": "stream",
     "text": [
      "JayJay\n",
      "200\n",
      "20\n"
     ]
    }
   ],
   "source": [
    "class Emp:\n",
    "    def __init__(self, name, pan=None,adhar=None):\n",
    "        self.name=name\n",
    "        self.pan=pan\n",
    "        self.adhar=adhar\n",
    "    def get(self):\n",
    "        return self.name, self.pan, self.adhar\n",
    "    def __add__(self1,self2):\n",
    "        return self1.name+self2.name\n",
    "    def __sub__(self1,self2):\n",
    "        return 200\n",
    "    def __and__(self1, self2):\n",
    "        return bool(self1.name and self2.name)\n",
    "    def __len__(self):\n",
    "        return 20\n",
    "e1=Emp(\"Jay\")\n",
    "e2=Emp(\"Jay\",12345)\n",
    "e3=Emp(\"Jay\",3524567,\"Adhar@123\")\n",
    "print(e1+e2)\n",
    "print(e1-e2)\n",
    "print(len(e1))"
   ]
  },
  {
   "cell_type": "code",
   "execution_count": 25,
   "metadata": {},
   "outputs": [
    {
     "name": "stdout",
     "output_type": "stream",
     "text": [
      "JayJay\n",
      "200\n",
      "3\n"
     ]
    }
   ],
   "source": [
    "#operator overloading.\n",
    "class Emp:\n",
    "    def __init__(self, name, pan=None,adhar=None):\n",
    "        self.name=name\n",
    "        self.pan=pan\n",
    "        self.adhar=adhar\n",
    "    def get(self):\n",
    "        return self.name, self.pan, self.adhar\n",
    "    def __add__(self1,self2):\n",
    "        return self1.name+self2.name\n",
    "    def __sub__(self1,self2):\n",
    "        return 200\n",
    "    def __and__(self1, self2):\n",
    "        return bool(self1.name and self2.name)\n",
    "    def __len__(self):\n",
    "        return len(self.name)\n",
    "e1=Emp(\"Jay\")\n",
    "e2=Emp(\"Jay\",12345)\n",
    "e3=Emp(\"Jay\",3524567,\"Adhar@123\")\n",
    "print(e1+e2)\n",
    "print(e1-e2)\n",
    "print(len(e1))"
   ]
  },
  {
   "cell_type": "code",
   "execution_count": 26,
   "metadata": {},
   "outputs": [
    {
     "name": "stdout",
     "output_type": "stream",
     "text": [
      "['__add__', '__class__', '__contains__', '__delattr__', '__dir__', '__doc__', '__eq__', '__format__', '__ge__', '__getattribute__', '__getitem__', '__getnewargs__', '__gt__', '__hash__', '__init__', '__init_subclass__', '__iter__', '__le__', '__len__', '__lt__', '__mod__', '__mul__', '__ne__', '__new__', '__reduce__', '__reduce_ex__', '__repr__', '__rmod__', '__rmul__', '__setattr__', '__sizeof__', '__str__', '__subclasshook__', 'capitalize', 'casefold', 'center', 'count', 'encode', 'endswith', 'expandtabs', 'find', 'format', 'format_map', 'index', 'isalnum', 'isalpha', 'isascii', 'isdecimal', 'isdigit', 'isidentifier', 'islower', 'isnumeric', 'isprintable', 'isspace', 'istitle', 'isupper', 'join', 'ljust', 'lower', 'lstrip', 'maketrans', 'partition', 'replace', 'rfind', 'rindex', 'rjust', 'rpartition', 'rsplit', 'rstrip', 'split', 'splitlines', 'startswith', 'strip', 'swapcase', 'title', 'translate', 'upper', 'zfill']\n"
     ]
    }
   ],
   "source": [
    "s=\"python\"\n",
    "print(dir(s))"
   ]
  },
  {
   "cell_type": "code",
   "execution_count": 27,
   "metadata": {},
   "outputs": [
    {
     "name": "stdout",
     "output_type": "stream",
     "text": [
      "['__abs__', '__add__', '__and__', '__bool__', '__ceil__', '__class__', '__delattr__', '__dir__', '__divmod__', '__doc__', '__eq__', '__float__', '__floor__', '__floordiv__', '__format__', '__ge__', '__getattribute__', '__getnewargs__', '__gt__', '__hash__', '__index__', '__init__', '__init_subclass__', '__int__', '__invert__', '__le__', '__lshift__', '__lt__', '__mod__', '__mul__', '__ne__', '__neg__', '__new__', '__or__', '__pos__', '__pow__', '__radd__', '__rand__', '__rdivmod__', '__reduce__', '__reduce_ex__', '__repr__', '__rfloordiv__', '__rlshift__', '__rmod__', '__rmul__', '__ror__', '__round__', '__rpow__', '__rrshift__', '__rshift__', '__rsub__', '__rtruediv__', '__rxor__', '__setattr__', '__sizeof__', '__str__', '__sub__', '__subclasshook__', '__truediv__', '__trunc__', '__xor__', 'as_integer_ratio', 'bit_length', 'conjugate', 'denominator', 'from_bytes', 'imag', 'numerator', 'real', 'to_bytes']\n"
     ]
    }
   ],
   "source": [
    "a=10\n",
    "print(dir(a))"
   ]
  },
  {
   "cell_type": "code",
   "execution_count": 28,
   "metadata": {},
   "outputs": [],
   "source": [
    "class Emp:\n",
    "    def __init__(self, name, pan=None,adhar=None):\n",
    "        self.name=name\n",
    "        self.pan=pan\n",
    "        self.adhar=adhar\n",
    "e1=Emp(\"jay\")#Emp.__init__(dataobject,\"Jay\")\n",
    "# the data object creating in __new__ method"
   ]
  },
  {
   "cell_type": "code",
   "execution_count": null,
   "metadata": {},
   "outputs": [],
   "source": [
    "class Emp:\n",
    "    def __init__(self, name, pan=None,adhar=None):\n",
    "        self.name=name\n",
    "        self.pan=pan\n",
    "        self.adhar=adhar\n",
    "e1=Emp(\"jay\")\n",
    "\"\"\"\n",
    "Emp(\"jay\")  triggers two internal method calls __new__, __init__\n",
    "__new__: it will create a data object and returns the dataobject.\n",
    "__init__: dataobject.__init__(args)\n",
    "          dataobject.__init__(\"jay\")\n",
    "          Emp.__init__(dataobject, \"jay\")\n",
    "\"\"\""
   ]
  },
  {
   "cell_type": "code",
   "execution_count": null,
   "metadata": {},
   "outputs": [],
   "source": [
    "class Emp:\n",
    "    def __new__(self):\n",
    "        print(\"this is new\")\n",
    "        return 20\n",
    "        \n",
    "    def __init__(self, name, pan=None,adhar=None):\n",
    "        print(\"this is init\")\n",
    "        self.name=name\n",
    "        self.pan=pan\n",
    "        self.adhar=adhar\n",
    "e1=Emp(\"jay\")\n",
    "\"\"\"\n",
    "Emp(\"jay\")  triggers two internal method calls __new__, __init__\n",
    "__new__: it will create a data object and returns the dataobject.\n",
    "__init__: dataobject.__init__(args)\n",
    "          dataobject.__init__(\"jay\")\n",
    "          Emp.__init__(dataobject, \"jay\")\n",
    "\"\"\""
   ]
  },
  {
   "cell_type": "code",
   "execution_count": null,
   "metadata": {},
   "outputs": [],
   "source": [
    "def fun(a):\n",
    "    print(a)"
   ]
  }
 ],
 "metadata": {
  "kernelspec": {
   "display_name": "Python 3",
   "language": "python",
   "name": "python3"
  },
  "language_info": {
   "codemirror_mode": {
    "name": "ipython",
    "version": 3
   },
   "file_extension": ".py",
   "mimetype": "text/x-python",
   "name": "python",
   "nbconvert_exporter": "python",
   "pygments_lexer": "ipython3",
   "version": "3.8.3"
  }
 },
 "nbformat": 4,
 "nbformat_minor": 4
}
