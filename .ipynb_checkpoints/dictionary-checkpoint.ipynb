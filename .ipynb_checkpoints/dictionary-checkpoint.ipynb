{
 "cells": [
  {
   "cell_type": "code",
   "execution_count": 1,
   "metadata": {},
   "outputs": [
    {
     "name": "stdout",
     "output_type": "stream",
     "text": [
      "3\n"
     ]
    }
   ],
   "source": [
    "d={\"name\":\"jay\",\"age\":5,\"weight\":19.34}\n",
    "print(len(d))"
   ]
  },
  {
   "cell_type": "code",
   "execution_count": 2,
   "metadata": {},
   "outputs": [
    {
     "name": "stdout",
     "output_type": "stream",
     "text": [
      "{'name': 'jay', 'age': 5, 'weight': 19.34}\n"
     ]
    }
   ],
   "source": [
    "d=dict([(\"name\",\"jay\"),(\"age\",5),(\"weight\",19.34)])\n",
    "print(d)"
   ]
  },
  {
   "cell_type": "code",
   "execution_count": 3,
   "metadata": {},
   "outputs": [
    {
     "ename": "TypeError",
     "evalue": "unsupported operand type(s) for +: 'dict' and 'dict'",
     "output_type": "error",
     "traceback": [
      "\u001b[1;31m---------------------------------------------------------------------------\u001b[0m",
      "\u001b[1;31mTypeError\u001b[0m                                 Traceback (most recent call last)",
      "\u001b[1;32m<ipython-input-3-3e59c5ce6bd1>\u001b[0m in \u001b[0;36m<module>\u001b[1;34m\u001b[0m\n\u001b[0;32m      1\u001b[0m \u001b[0md\u001b[0m\u001b[1;33m=\u001b[0m\u001b[1;33m{\u001b[0m\u001b[1;34m\"name\"\u001b[0m\u001b[1;33m:\u001b[0m\u001b[1;34m\"jay\"\u001b[0m\u001b[1;33m,\u001b[0m\u001b[1;34m\"age\"\u001b[0m\u001b[1;33m:\u001b[0m\u001b[1;36m5\u001b[0m\u001b[1;33m,\u001b[0m\u001b[1;34m\"weight\"\u001b[0m\u001b[1;33m:\u001b[0m\u001b[1;36m19.34\u001b[0m\u001b[1;33m}\u001b[0m\u001b[1;33m\u001b[0m\u001b[1;33m\u001b[0m\u001b[0m\n\u001b[0;32m      2\u001b[0m \u001b[0maddress\u001b[0m \u001b[1;33m=\u001b[0m \u001b[1;33m{\u001b[0m\u001b[1;34m\"city\"\u001b[0m\u001b[1;33m:\u001b[0m\u001b[1;34m\"hyderabad\"\u001b[0m\u001b[1;33m,\u001b[0m\u001b[1;34m\"state\"\u001b[0m\u001b[1;33m:\u001b[0m \u001b[1;34m\"TS\"\u001b[0m\u001b[1;33m,\u001b[0m \u001b[1;34m\"County\"\u001b[0m\u001b[1;33m:\u001b[0m\u001b[1;34m\"Inida\"\u001b[0m\u001b[1;33m}\u001b[0m\u001b[1;33m\u001b[0m\u001b[1;33m\u001b[0m\u001b[0m\n\u001b[1;32m----> 3\u001b[1;33m \u001b[0md\u001b[0m\u001b[1;33m+\u001b[0m\u001b[0maddress\u001b[0m\u001b[1;33m\u001b[0m\u001b[1;33m\u001b[0m\u001b[0m\n\u001b[0m",
      "\u001b[1;31mTypeError\u001b[0m: unsupported operand type(s) for +: 'dict' and 'dict'"
     ]
    }
   ],
   "source": [
    "d={\"name\":\"jay\",\"age\":5,\"weight\":19.34}\n",
    "address = {\"city\":\"hyderabad\",\"state\": \"TS\", \"County\":\"Inida\"}\n",
    "d+address"
   ]
  },
  {
   "cell_type": "code",
   "execution_count": 4,
   "metadata": {},
   "outputs": [
    {
     "ename": "TypeError",
     "evalue": "'>' not supported between instances of 'dict' and 'dict'",
     "output_type": "error",
     "traceback": [
      "\u001b[1;31m---------------------------------------------------------------------------\u001b[0m",
      "\u001b[1;31mTypeError\u001b[0m                                 Traceback (most recent call last)",
      "\u001b[1;32m<ipython-input-4-2292a809758b>\u001b[0m in \u001b[0;36m<module>\u001b[1;34m\u001b[0m\n\u001b[0;32m      1\u001b[0m \u001b[0md\u001b[0m\u001b[1;33m=\u001b[0m\u001b[1;33m{\u001b[0m\u001b[1;34m\"name\"\u001b[0m\u001b[1;33m:\u001b[0m\u001b[1;34m\"jay\"\u001b[0m\u001b[1;33m,\u001b[0m\u001b[1;34m\"age\"\u001b[0m\u001b[1;33m:\u001b[0m\u001b[1;36m5\u001b[0m\u001b[1;33m,\u001b[0m\u001b[1;34m\"weight\"\u001b[0m\u001b[1;33m:\u001b[0m\u001b[1;36m19.34\u001b[0m\u001b[1;33m}\u001b[0m\u001b[1;33m\u001b[0m\u001b[1;33m\u001b[0m\u001b[0m\n\u001b[0;32m      2\u001b[0m \u001b[0maddress\u001b[0m \u001b[1;33m=\u001b[0m \u001b[1;33m{\u001b[0m\u001b[1;34m\"city\"\u001b[0m\u001b[1;33m:\u001b[0m\u001b[1;34m\"hyderabad\"\u001b[0m\u001b[1;33m,\u001b[0m\u001b[1;34m\"state\"\u001b[0m\u001b[1;33m:\u001b[0m \u001b[1;34m\"TS\"\u001b[0m\u001b[1;33m,\u001b[0m \u001b[1;34m\"County\"\u001b[0m\u001b[1;33m:\u001b[0m\u001b[1;34m\"Inida\"\u001b[0m\u001b[1;33m}\u001b[0m\u001b[1;33m\u001b[0m\u001b[1;33m\u001b[0m\u001b[0m\n\u001b[1;32m----> 3\u001b[1;33m \u001b[0md\u001b[0m\u001b[1;33m>\u001b[0m\u001b[0maddress\u001b[0m\u001b[1;33m\u001b[0m\u001b[1;33m\u001b[0m\u001b[0m\n\u001b[0m",
      "\u001b[1;31mTypeError\u001b[0m: '>' not supported between instances of 'dict' and 'dict'"
     ]
    }
   ],
   "source": [
    "d={\"name\":\"jay\",\"age\":5,\"weight\":19.34}\n",
    "address = {\"city\":\"hyderabad\",\"state\": \"TS\", \"County\":\"Inida\"}\n",
    "d>address"
   ]
  },
  {
   "cell_type": "code",
   "execution_count": 5,
   "metadata": {},
   "outputs": [
    {
     "data": {
      "text/plain": [
       "False"
      ]
     },
     "execution_count": 5,
     "metadata": {},
     "output_type": "execute_result"
    }
   ],
   "source": [
    "d={\"name\":\"jay\",\"age\":5,\"weight\":19.34}\n",
    "address = {\"city\":\"hyderabad\",\"state\": \"TS\", \"County\":\"Inida\"}\n",
    "d==address"
   ]
  },
  {
   "cell_type": "code",
   "execution_count": 6,
   "metadata": {},
   "outputs": [
    {
     "data": {
      "text/plain": [
       "True"
      ]
     },
     "execution_count": 6,
     "metadata": {},
     "output_type": "execute_result"
    }
   ],
   "source": [
    "d={\"1\":\"one\",\"2\":\"two\"}\n",
    "d1={\"1\":\"one\",\"2\":\"two\"}\n",
    "d==d1"
   ]
  },
  {
   "cell_type": "code",
   "execution_count": 7,
   "metadata": {},
   "outputs": [
    {
     "data": {
      "text/plain": [
       "True"
      ]
     },
     "execution_count": 7,
     "metadata": {},
     "output_type": "execute_result"
    }
   ],
   "source": [
    "d={\"1\":\"one\",\"2\":\"two\"}\n",
    "d1={\"2\":\"two\",\"1\":\"one\"}\n",
    "d==d1"
   ]
  },
  {
   "cell_type": "code",
   "execution_count": 8,
   "metadata": {},
   "outputs": [
    {
     "name": "stdout",
     "output_type": "stream",
     "text": [
      "name\n",
      "age\n",
      "weight\n"
     ]
    }
   ],
   "source": [
    "d={\"name\":\"jay\",\"age\":5,\"weight\":19.34}\n",
    "for i in d:\n",
    "    print(i)"
   ]
  },
  {
   "cell_type": "code",
   "execution_count": 9,
   "metadata": {},
   "outputs": [
    {
     "name": "stdout",
     "output_type": "stream",
     "text": [
      "jay\n",
      "5\n",
      "19.34\n"
     ]
    }
   ],
   "source": [
    "d={\"name\":\"jay\",\"age\":5,\"weight\":19.34}\n",
    "for i in d.values():\n",
    "    print(i)"
   ]
  },
  {
   "cell_type": "code",
   "execution_count": 10,
   "metadata": {},
   "outputs": [
    {
     "name": "stdout",
     "output_type": "stream",
     "text": [
      "('name', 'jay')\n",
      "('age', 5)\n",
      "('weight', 19.34)\n"
     ]
    }
   ],
   "source": [
    "d={\"name\":\"jay\",\"age\":5,\"weight\":19.34}\n",
    "for i in d.items():\n",
    "    print(i)"
   ]
  },
  {
   "cell_type": "code",
   "execution_count": 11,
   "metadata": {},
   "outputs": [
    {
     "ename": "KeyError",
     "evalue": "0",
     "output_type": "error",
     "traceback": [
      "\u001b[1;31m---------------------------------------------------------------------------\u001b[0m",
      "\u001b[1;31mKeyError\u001b[0m                                  Traceback (most recent call last)",
      "\u001b[1;32m<ipython-input-11-906ee3c8dcfe>\u001b[0m in \u001b[0;36m<module>\u001b[1;34m\u001b[0m\n\u001b[0;32m      1\u001b[0m \u001b[0md\u001b[0m\u001b[1;33m=\u001b[0m\u001b[1;33m{\u001b[0m\u001b[1;34m\"name\"\u001b[0m\u001b[1;33m:\u001b[0m\u001b[1;34m\"jay\"\u001b[0m\u001b[1;33m,\u001b[0m\u001b[1;34m\"age\"\u001b[0m\u001b[1;33m:\u001b[0m\u001b[1;36m5\u001b[0m\u001b[1;33m,\u001b[0m\u001b[1;34m\"weight\"\u001b[0m\u001b[1;33m:\u001b[0m\u001b[1;36m19.34\u001b[0m\u001b[1;33m}\u001b[0m\u001b[1;33m\u001b[0m\u001b[1;33m\u001b[0m\u001b[0m\n\u001b[1;32m----> 2\u001b[1;33m \u001b[0mprint\u001b[0m\u001b[1;33m(\u001b[0m\u001b[0md\u001b[0m\u001b[1;33m[\u001b[0m\u001b[1;36m0\u001b[0m\u001b[1;33m]\u001b[0m\u001b[1;33m)\u001b[0m\u001b[1;33m\u001b[0m\u001b[1;33m\u001b[0m\u001b[0m\n\u001b[0m",
      "\u001b[1;31mKeyError\u001b[0m: 0"
     ]
    }
   ],
   "source": [
    "d={\"name\":\"jay\",\"age\":5,\"weight\":19.34}\n",
    "print(d[0])"
   ]
  },
  {
   "cell_type": "code",
   "execution_count": 12,
   "metadata": {},
   "outputs": [
    {
     "name": "stdout",
     "output_type": "stream",
     "text": [
      "ZERO\n"
     ]
    }
   ],
   "source": [
    "d={\"name\":\"jay\",\"age\":5,\"weight\":19.34,0:\"ZERO\"}\n",
    "print(d[0])"
   ]
  },
  {
   "cell_type": "code",
   "execution_count": 13,
   "metadata": {},
   "outputs": [
    {
     "name": "stdout",
     "output_type": "stream",
     "text": [
      "jay\n"
     ]
    }
   ],
   "source": [
    "d={\"name\":\"jay\",\"age\":5,\"weight\":19.34,0:\"ZERO\"}\n",
    "print(d[\"name\"])"
   ]
  },
  {
   "cell_type": "code",
   "execution_count": 14,
   "metadata": {},
   "outputs": [
    {
     "ename": "KeyError",
     "evalue": "'phone'",
     "output_type": "error",
     "traceback": [
      "\u001b[1;31m---------------------------------------------------------------------------\u001b[0m",
      "\u001b[1;31mKeyError\u001b[0m                                  Traceback (most recent call last)",
      "\u001b[1;32m<ipython-input-14-30883f3589ad>\u001b[0m in \u001b[0;36m<module>\u001b[1;34m\u001b[0m\n\u001b[0;32m      1\u001b[0m \u001b[0md\u001b[0m\u001b[1;33m=\u001b[0m\u001b[1;33m{\u001b[0m\u001b[1;34m\"name\"\u001b[0m\u001b[1;33m:\u001b[0m\u001b[1;34m\"jay\"\u001b[0m\u001b[1;33m,\u001b[0m\u001b[1;34m\"age\"\u001b[0m\u001b[1;33m:\u001b[0m\u001b[1;36m5\u001b[0m\u001b[1;33m,\u001b[0m\u001b[1;34m\"weight\"\u001b[0m\u001b[1;33m:\u001b[0m\u001b[1;36m19.34\u001b[0m\u001b[1;33m,\u001b[0m\u001b[1;36m0\u001b[0m\u001b[1;33m:\u001b[0m\u001b[1;34m\"ZERO\"\u001b[0m\u001b[1;33m}\u001b[0m\u001b[1;33m\u001b[0m\u001b[1;33m\u001b[0m\u001b[0m\n\u001b[1;32m----> 2\u001b[1;33m \u001b[0mprint\u001b[0m\u001b[1;33m(\u001b[0m\u001b[0md\u001b[0m\u001b[1;33m[\u001b[0m\u001b[1;34m\"phone\"\u001b[0m\u001b[1;33m]\u001b[0m\u001b[1;33m)\u001b[0m\u001b[1;33m\u001b[0m\u001b[1;33m\u001b[0m\u001b[0m\n\u001b[0m",
      "\u001b[1;31mKeyError\u001b[0m: 'phone'"
     ]
    }
   ],
   "source": [
    "d={\"name\":\"jay\",\"age\":5,\"weight\":19.34,0:\"ZERO\"}\n",
    "print(d[\"phone\"])"
   ]
  },
  {
   "cell_type": "code",
   "execution_count": 16,
   "metadata": {},
   "outputs": [
    {
     "name": "stdout",
     "output_type": "stream",
     "text": [
      "None\n"
     ]
    }
   ],
   "source": [
    "d={\"name\":\"jay\",\"age\":5,\"weight\":19.34,0:\"ZERO\"}\n",
    "print(d.get(\"phone\"))"
   ]
  },
  {
   "cell_type": "code",
   "execution_count": 17,
   "metadata": {},
   "outputs": [
    {
     "name": "stdout",
     "output_type": "stream",
     "text": [
      "DEFAULT\n"
     ]
    }
   ],
   "source": [
    "d={\"name\":\"jay\",\"age\":5,\"weight\":19.34,0:\"ZERO\"}\n",
    "print(d.get(\"phone\",\"DEFAULT\"))"
   ]
  },
  {
   "cell_type": "code",
   "execution_count": 18,
   "metadata": {},
   "outputs": [
    {
     "name": "stdout",
     "output_type": "stream",
     "text": [
      "XXXXXXXXX\n"
     ]
    }
   ],
   "source": [
    "d={\"name\":\"jay\",\"age\":5,\"weight\":19.34,0:\"ZERO\"}\n",
    "print(d.get(\"phone\",\"XXXXXXXXX\"))"
   ]
  },
  {
   "cell_type": "code",
   "execution_count": 19,
   "metadata": {},
   "outputs": [
    {
     "name": "stdout",
     "output_type": "stream",
     "text": [
      "jay\n"
     ]
    }
   ],
   "source": [
    "d={\"name\":\"jay\",\"age\":5,\"weight\":19.34,0:\"ZERO\"}\n",
    "print(d.get(\"name\",\"XXXXXXXXX\"))"
   ]
  },
  {
   "cell_type": "code",
   "execution_count": 20,
   "metadata": {},
   "outputs": [
    {
     "name": "stdout",
     "output_type": "stream",
     "text": [
      "jay\n"
     ]
    }
   ],
   "source": [
    "d={\"name\":\"jay\",\"age\":5,\"weight\":19.34,0:\"ZERO\"}\n",
    "print(d[\"name\"])"
   ]
  },
  {
   "cell_type": "code",
   "execution_count": 21,
   "metadata": {},
   "outputs": [
    {
     "name": "stdout",
     "output_type": "stream",
     "text": [
      "jay\n"
     ]
    }
   ],
   "source": [
    "d={\"name\":\"jay\",\"age\":5,\"weight\":19.34,0:\"ZERO\"}\n",
    "print(d.get(\"name\"))"
   ]
  },
  {
   "cell_type": "code",
   "execution_count": 22,
   "metadata": {},
   "outputs": [
    {
     "name": "stdout",
     "output_type": "stream",
     "text": [
      "None\n"
     ]
    }
   ],
   "source": [
    "d={\"name\":\"jay\",\"age\":5,\"weight\":19.34,0:\"ZERO\"}\n",
    "print(d.get(\"phone\"))"
   ]
  },
  {
   "cell_type": "code",
   "execution_count": 23,
   "metadata": {},
   "outputs": [
    {
     "ename": "KeyError",
     "evalue": "'phone'",
     "output_type": "error",
     "traceback": [
      "\u001b[1;31m---------------------------------------------------------------------------\u001b[0m",
      "\u001b[1;31mKeyError\u001b[0m                                  Traceback (most recent call last)",
      "\u001b[1;32m<ipython-input-23-30883f3589ad>\u001b[0m in \u001b[0;36m<module>\u001b[1;34m\u001b[0m\n\u001b[0;32m      1\u001b[0m \u001b[0md\u001b[0m\u001b[1;33m=\u001b[0m\u001b[1;33m{\u001b[0m\u001b[1;34m\"name\"\u001b[0m\u001b[1;33m:\u001b[0m\u001b[1;34m\"jay\"\u001b[0m\u001b[1;33m,\u001b[0m\u001b[1;34m\"age\"\u001b[0m\u001b[1;33m:\u001b[0m\u001b[1;36m5\u001b[0m\u001b[1;33m,\u001b[0m\u001b[1;34m\"weight\"\u001b[0m\u001b[1;33m:\u001b[0m\u001b[1;36m19.34\u001b[0m\u001b[1;33m,\u001b[0m\u001b[1;36m0\u001b[0m\u001b[1;33m:\u001b[0m\u001b[1;34m\"ZERO\"\u001b[0m\u001b[1;33m}\u001b[0m\u001b[1;33m\u001b[0m\u001b[1;33m\u001b[0m\u001b[0m\n\u001b[1;32m----> 2\u001b[1;33m \u001b[0mprint\u001b[0m\u001b[1;33m(\u001b[0m\u001b[0md\u001b[0m\u001b[1;33m[\u001b[0m\u001b[1;34m\"phone\"\u001b[0m\u001b[1;33m]\u001b[0m\u001b[1;33m)\u001b[0m\u001b[1;33m\u001b[0m\u001b[1;33m\u001b[0m\u001b[0m\n\u001b[0m",
      "\u001b[1;31mKeyError\u001b[0m: 'phone'"
     ]
    }
   ],
   "source": [
    "d={\"name\":\"jay\",\"age\":5,\"weight\":19.34,0:\"ZERO\"}\n",
    "print(d[\"phone\"])"
   ]
  },
  {
   "cell_type": "code",
   "execution_count": 24,
   "metadata": {},
   "outputs": [
    {
     "name": "stdout",
     "output_type": "stream",
     "text": [
      "{'name': 'jay', 'age': 5, 'weight': 19.34, 0: 'ZERO', 'phone': '9676622023'}\n"
     ]
    }
   ],
   "source": [
    "d={\"name\":\"jay\",\"age\":5,\"weight\":19.34,0:\"ZERO\"}\n",
    "d[\"phone\"]=\"9676622023\"\n",
    "print(d)"
   ]
  },
  {
   "cell_type": "code",
   "execution_count": null,
   "metadata": {},
   "outputs": [],
   "source": [
    "d={\"name\":\"jay\",\"age\":5,\"weight\":19.34,0:\"ZERO\"}\n",
    "d[\"phone\"]=\"9676622023\"\n",
    "print(d)"
   ]
  },
  {
   "cell_type": "code",
   "execution_count": 25,
   "metadata": {},
   "outputs": [
    {
     "name": "stdout",
     "output_type": "stream",
     "text": [
      "city hyderabad\n",
      "state TS\n",
      "County Inida\n"
     ]
    }
   ],
   "source": [
    "d={\"name\":\"jay\",\"age\":5,\"weight\":19.34}\n",
    "address = {\"city\":\"hyderabad\",\"state\": \"TS\", \"County\":\"Inida\"}\n",
    "for key,value in address.items():\n",
    "    print(key, value)"
   ]
  },
  {
   "cell_type": "code",
   "execution_count": 26,
   "metadata": {},
   "outputs": [
    {
     "name": "stdout",
     "output_type": "stream",
     "text": [
      "{'name': 'jay', 'age': 5, 'weight': 19.34, 'city': 'hyderabad', 'state': 'TS', 'County': 'Inida'}\n"
     ]
    }
   ],
   "source": [
    "d={\"name\":\"jay\",\"age\":5,\"weight\":19.34}\n",
    "address = {\"city\":\"hyderabad\",\"state\": \"TS\", \"County\":\"Inida\"}\n",
    "for key,value in address.items():\n",
    "    d[key]=value\n",
    "print(d)"
   ]
  },
  {
   "cell_type": "code",
   "execution_count": 27,
   "metadata": {},
   "outputs": [
    {
     "name": "stdout",
     "output_type": "stream",
     "text": [
      "{'name': 'jay', 'age': 5, 'weight': 19.34, 'city': 'hyderabad', 'state': 'TS', 'County': 'Inida'}\n",
      "{'city': 'hyderabad', 'state': 'TS', 'County': 'Inida'}\n"
     ]
    }
   ],
   "source": [
    "d={\"name\":\"jay\",\"age\":5,\"weight\":19.34}\n",
    "address = {\"city\":\"hyderabad\",\"state\": \"TS\", \"County\":\"Inida\"}\n",
    "d.update(address)\n",
    "print(d)\n",
    "print(address)"
   ]
  },
  {
   "cell_type": "code",
   "execution_count": 28,
   "metadata": {},
   "outputs": [
    {
     "name": "stdout",
     "output_type": "stream",
     "text": [
      "{'name': 'jay', 'age': 5, 'weight': 19.34}\n",
      "{'city': 'hyderabad', 'state': 'TS', 'County': 'Inida', 'name': 'jay', 'age': 5, 'weight': 19.34}\n"
     ]
    }
   ],
   "source": [
    "d={\"name\":\"jay\",\"age\":5,\"weight\":19.34}\n",
    "address = {\"city\":\"hyderabad\",\"state\": \"TS\", \"County\":\"Inida\"}\n",
    "address.update(d)\n",
    "print(d)\n",
    "print(address)"
   ]
  },
  {
   "cell_type": "code",
   "execution_count": 29,
   "metadata": {},
   "outputs": [
    {
     "name": "stdout",
     "output_type": "stream",
     "text": [
      "{'name': 'jay', 'age': 5, 'weight': 19.34}\n",
      "{'city': 'hyderabad', 'state': 'TS', 'County': 'Inida', 'name': 'jay', 'age': 5, 'weight': 19.34}\n"
     ]
    }
   ],
   "source": [
    "d={\"name\":\"jay\",\"age\":5,\"weight\":19.34}\n",
    "address = {\"city\":\"hyderabad\",\"state\": \"TS\", \"County\":\"Inida\",\"name\":\"JAYARAM\"}\n",
    "address.update(d)\n",
    "print(d)\n",
    "print(address)"
   ]
  },
  {
   "cell_type": "code",
   "execution_count": 30,
   "metadata": {},
   "outputs": [
    {
     "name": "stdout",
     "output_type": "stream",
     "text": [
      "{'name': 'JAYARAM', 'age': 5, 'weight': 19.34, 'city': 'hyderabad', 'state': 'TS', 'County': 'Inida'}\n",
      "{'city': 'hyderabad', 'state': 'TS', 'County': 'Inida', 'name': 'JAYARAM'}\n"
     ]
    }
   ],
   "source": [
    "d={\"name\":\"jay\",\"age\":5,\"weight\":19.34}\n",
    "address = {\"city\":\"hyderabad\",\"state\": \"TS\", \"County\":\"Inida\",\"name\":\"JAYARAM\"}\n",
    "d.update(address)\n",
    "print(d)\n",
    "print(address)"
   ]
  },
  {
   "cell_type": "code",
   "execution_count": 31,
   "metadata": {},
   "outputs": [
    {
     "name": "stdout",
     "output_type": "stream",
     "text": [
      "{'name': 'jay', 'age': 5, 'weight': 19.34, 'phone': '9676622023'}\n"
     ]
    }
   ],
   "source": [
    "d={\"name\":\"jay\",\"age\":5,\"weight\":19.34}\n",
    "d.setdefault(\"phone\",\"9676622023\")\n",
    "print(d)"
   ]
  },
  {
   "cell_type": "code",
   "execution_count": 32,
   "metadata": {},
   "outputs": [
    {
     "name": "stdout",
     "output_type": "stream",
     "text": [
      "{'name': 'jay', 'age': 5, 'weight': 19.34}\n"
     ]
    }
   ],
   "source": [
    "d={\"name\":\"jay\",\"age\":5,\"weight\":19.34}\n",
    "d.setdefault(\"name\",\"JAYARAM\")\n",
    "print(d)"
   ]
  },
  {
   "cell_type": "code",
   "execution_count": 33,
   "metadata": {},
   "outputs": [
    {
     "name": "stdout",
     "output_type": "stream",
     "text": [
      "{'name': 'JAYARAM', 'age': 5, 'weight': 19.34}\n"
     ]
    }
   ],
   "source": [
    "d={\"name\":\"jay\",\"age\":5,\"weight\":19.34}\n",
    "d.update({\"name\":\"JAYARAM\"})\n",
    "print(d)"
   ]
  },
  {
   "cell_type": "code",
   "execution_count": 34,
   "metadata": {},
   "outputs": [
    {
     "name": "stdout",
     "output_type": "stream",
     "text": [
      "{'name': 'JAYARAM', 'age': 5, 'weight': 19.34}\n"
     ]
    }
   ],
   "source": [
    "d={\"name\":\"jay\",\"age\":5,\"weight\":19.34}\n",
    "d.update({\"name\":\"JAYARAM\"})\n",
    "print(d)"
   ]
  },
  {
   "cell_type": "code",
   "execution_count": 35,
   "metadata": {},
   "outputs": [
    {
     "name": "stdout",
     "output_type": "stream",
     "text": [
      "{'name': 'jay', 'weight': 19.34}\n",
      "5\n"
     ]
    }
   ],
   "source": [
    "d={\"name\":\"jay\",\"age\":5,\"weight\":19.34}\n",
    "rem = d.pop(\"age\")\n",
    "print(d)\n",
    "print(rem)"
   ]
  },
  {
   "cell_type": "code",
   "execution_count": 36,
   "metadata": {},
   "outputs": [
    {
     "ename": "KeyError",
     "evalue": "'phone'",
     "output_type": "error",
     "traceback": [
      "\u001b[1;31m---------------------------------------------------------------------------\u001b[0m",
      "\u001b[1;31mKeyError\u001b[0m                                  Traceback (most recent call last)",
      "\u001b[1;32m<ipython-input-36-b8cbf7216671>\u001b[0m in \u001b[0;36m<module>\u001b[1;34m\u001b[0m\n\u001b[0;32m      1\u001b[0m \u001b[0md\u001b[0m\u001b[1;33m=\u001b[0m\u001b[1;33m{\u001b[0m\u001b[1;34m\"name\"\u001b[0m\u001b[1;33m:\u001b[0m\u001b[1;34m\"jay\"\u001b[0m\u001b[1;33m,\u001b[0m\u001b[1;34m\"age\"\u001b[0m\u001b[1;33m:\u001b[0m\u001b[1;36m5\u001b[0m\u001b[1;33m,\u001b[0m\u001b[1;34m\"weight\"\u001b[0m\u001b[1;33m:\u001b[0m\u001b[1;36m19.34\u001b[0m\u001b[1;33m}\u001b[0m\u001b[1;33m\u001b[0m\u001b[1;33m\u001b[0m\u001b[0m\n\u001b[1;32m----> 2\u001b[1;33m \u001b[0mrem\u001b[0m \u001b[1;33m=\u001b[0m \u001b[0md\u001b[0m\u001b[1;33m.\u001b[0m\u001b[0mpop\u001b[0m\u001b[1;33m(\u001b[0m\u001b[1;34m\"phone\"\u001b[0m\u001b[1;33m)\u001b[0m\u001b[1;33m\u001b[0m\u001b[1;33m\u001b[0m\u001b[0m\n\u001b[0m\u001b[0;32m      3\u001b[0m \u001b[0mprint\u001b[0m\u001b[1;33m(\u001b[0m\u001b[0md\u001b[0m\u001b[1;33m)\u001b[0m\u001b[1;33m\u001b[0m\u001b[1;33m\u001b[0m\u001b[0m\n\u001b[0;32m      4\u001b[0m \u001b[0mprint\u001b[0m\u001b[1;33m(\u001b[0m\u001b[0mrem\u001b[0m\u001b[1;33m)\u001b[0m\u001b[1;33m\u001b[0m\u001b[1;33m\u001b[0m\u001b[0m\n",
      "\u001b[1;31mKeyError\u001b[0m: 'phone'"
     ]
    }
   ],
   "source": [
    "d={\"name\":\"jay\",\"age\":5,\"weight\":19.34}\n",
    "rem = d.pop(\"phone\")\n",
    "print(d)\n",
    "print(rem)"
   ]
  },
  {
   "cell_type": "code",
   "execution_count": 37,
   "metadata": {},
   "outputs": [
    {
     "name": "stdout",
     "output_type": "stream",
     "text": [
      "{'name': 'jay', 'age': 5, 'weight': 19.34}\n",
      "None\n"
     ]
    }
   ],
   "source": [
    "d={\"name\":\"jay\",\"age\":5,\"weight\":19.34}\n",
    "rem = d.pop(\"phone\",None)\n",
    "print(d)\n",
    "print(rem)"
   ]
  },
  {
   "cell_type": "code",
   "execution_count": 38,
   "metadata": {},
   "outputs": [
    {
     "name": "stdout",
     "output_type": "stream",
     "text": [
      "{'age': 5, 'weight': 19.34}\n",
      "jay\n"
     ]
    }
   ],
   "source": [
    "d={\"name\":\"jay\",\"age\":5,\"weight\":19.34}\n",
    "rem = d.pop(\"name\",None)\n",
    "print(d)\n",
    "print(rem)"
   ]
  },
  {
   "cell_type": "code",
   "execution_count": 39,
   "metadata": {},
   "outputs": [
    {
     "name": "stdout",
     "output_type": "stream",
     "text": [
      "{'name': 'jay', 'age': 5, 'weight': 19.34}\n",
      "None\n"
     ]
    }
   ],
   "source": [
    "d={\"name\":\"jay\",\"age\":5,\"weight\":19.34}\n",
    "rem = d.pop(\"jay\",None)\n",
    "print(d)\n",
    "print(rem)"
   ]
  },
  {
   "cell_type": "code",
   "execution_count": 40,
   "metadata": {},
   "outputs": [
    {
     "name": "stdout",
     "output_type": "stream",
     "text": [
      "{'name': 'jay', 'age': 5}\n",
      "('weight', 19.34)\n"
     ]
    }
   ],
   "source": [
    "d={\"name\":\"jay\",\"age\":5,\"weight\":19.34}\n",
    "rem = d.popitem()\n",
    "print(d)\n",
    "print(rem)"
   ]
  },
  {
   "cell_type": "code",
   "execution_count": 41,
   "metadata": {},
   "outputs": [
    {
     "name": "stdout",
     "output_type": "stream",
     "text": [
      "{'name': 'JAYARAM', 'age': 5, 'weight': 19.34}\n",
      "{'name': 'JAYARAM', 'age': 5, 'weight': 19.34}\n",
      "{'name': 'jay', 'age': 5, 'weight': 19.34}\n",
      "{'name': 'jay', 'age': 5, 'weight': 19.34}\n"
     ]
    }
   ],
   "source": [
    "from copy import deepcopy\n",
    "d={\"name\":\"jay\",\"age\":5,\"weight\":19.34}\n",
    "d1=d\n",
    "d2=d.copy()\n",
    "d3=deepcopy(d)\n",
    "d[\"name\"]=\"JAYARAM\"\n",
    "print(d)\n",
    "print(d1)\n",
    "print(d2)\n",
    "print(d3)"
   ]
  },
  {
   "cell_type": "code",
   "execution_count": 42,
   "metadata": {},
   "outputs": [
    {
     "name": "stdout",
     "output_type": "stream",
     "text": [
      "{'names': ['jay', 'vedha', 'sai'], 'age': 5, 'weight': 19.34}\n",
      "{'names': ['jay', 'vedha', 'sai'], 'age': 5, 'weight': 19.34}\n",
      "{'names': ['jay', 'vedha', 'sai'], 'age': 5, 'weight': 19.34}\n",
      "{'names': ['jay', 'vedha'], 'age': 5, 'weight': 19.34}\n"
     ]
    }
   ],
   "source": [
    "from copy import deepcopy\n",
    "d={\"names\":[\"jay\",\"vedha\"],\"age\":5,\"weight\":19.34}\n",
    "d1=d\n",
    "d2=d.copy()\n",
    "d3=deepcopy(d)\n",
    "d[\"names\"].append(\"sai\")\n",
    "print(d)\n",
    "print(d1)\n",
    "print(d2)\n",
    "print(d3)"
   ]
  },
  {
   "cell_type": "code",
   "execution_count": 43,
   "metadata": {},
   "outputs": [
    {
     "name": "stdout",
     "output_type": "stream",
     "text": [
      "1786290860224\n",
      "1786290860224\n",
      "1786290860224\n",
      "1786290776000\n"
     ]
    }
   ],
   "source": [
    "from copy import deepcopy\n",
    "d={\"names\":[\"jay\",\"vedha\"],\"age\":5,\"weight\":19.34}\n",
    "d1=d\n",
    "d2=d.copy()\n",
    "d3=deepcopy(d)\n",
    "print(id(d[\"names\"]))\n",
    "print(id(d1[\"names\"]))\n",
    "print(id(d2[\"names\"]))\n",
    "print(id(d3[\"names\"]))"
   ]
  },
  {
   "cell_type": "code",
   "execution_count": 44,
   "metadata": {},
   "outputs": [
    {
     "name": "stdout",
     "output_type": "stream",
     "text": [
      "{'name': 'jay', 12: 'tw', 1.2: 'float', (1+2j): '23', (1, 2, 3): 'tuple'}\n"
     ]
    }
   ],
   "source": [
    "d={\"name\":\"jay\",12:\"tw\",1.2:\"float\",1+2j:\"23\",(1,2,3):\"tuple\"}\n",
    "print(d)"
   ]
  },
  {
   "cell_type": "code",
   "execution_count": 45,
   "metadata": {},
   "outputs": [
    {
     "ename": "TypeError",
     "evalue": "unhashable type: 'list'",
     "output_type": "error",
     "traceback": [
      "\u001b[1;31m---------------------------------------------------------------------------\u001b[0m",
      "\u001b[1;31mTypeError\u001b[0m                                 Traceback (most recent call last)",
      "\u001b[1;32m<ipython-input-45-9f81f47ca4df>\u001b[0m in \u001b[0;36m<module>\u001b[1;34m\u001b[0m\n\u001b[1;32m----> 1\u001b[1;33m \u001b[0md\u001b[0m\u001b[1;33m=\u001b[0m\u001b[1;33m{\u001b[0m\u001b[1;33m[\u001b[0m\u001b[1;36m1\u001b[0m\u001b[1;33m,\u001b[0m\u001b[1;36m2\u001b[0m\u001b[1;33m,\u001b[0m\u001b[1;36m3\u001b[0m\u001b[1;33m]\u001b[0m\u001b[1;33m:\u001b[0m\u001b[1;34m\"list\"\u001b[0m\u001b[1;33m}\u001b[0m\u001b[1;33m\u001b[0m\u001b[1;33m\u001b[0m\u001b[0m\n\u001b[0m",
      "\u001b[1;31mTypeError\u001b[0m: unhashable type: 'list'"
     ]
    }
   ],
   "source": [
    "d={[1,2,3]:\"list\"}"
   ]
  },
  {
   "cell_type": "code",
   "execution_count": 46,
   "metadata": {},
   "outputs": [
    {
     "ename": "TypeError",
     "evalue": "unhashable type: 'set'",
     "output_type": "error",
     "traceback": [
      "\u001b[1;31m---------------------------------------------------------------------------\u001b[0m",
      "\u001b[1;31mTypeError\u001b[0m                                 Traceback (most recent call last)",
      "\u001b[1;32m<ipython-input-46-82b8d65a760b>\u001b[0m in \u001b[0;36m<module>\u001b[1;34m\u001b[0m\n\u001b[1;32m----> 1\u001b[1;33m \u001b[0md\u001b[0m\u001b[1;33m=\u001b[0m\u001b[1;33m{\u001b[0m\u001b[1;33m{\u001b[0m\u001b[1;36m1\u001b[0m\u001b[1;33m,\u001b[0m\u001b[1;36m2\u001b[0m\u001b[1;33m,\u001b[0m\u001b[1;36m3\u001b[0m\u001b[1;33m}\u001b[0m\u001b[1;33m:\u001b[0m\u001b[1;34m\"list\"\u001b[0m\u001b[1;33m}\u001b[0m\u001b[1;33m\u001b[0m\u001b[1;33m\u001b[0m\u001b[0m\n\u001b[0m",
      "\u001b[1;31mTypeError\u001b[0m: unhashable type: 'set'"
     ]
    }
   ],
   "source": [
    "d={{1,2,3}:\"list\"}"
   ]
  },
  {
   "cell_type": "code",
   "execution_count": 47,
   "metadata": {},
   "outputs": [
    {
     "name": "stdout",
     "output_type": "stream",
     "text": [
      "frozenset({1, 2, 3, 4})\n"
     ]
    }
   ],
   "source": [
    "s=frozenset([1,2,3,4])\n",
    "print(s)"
   ]
  },
  {
   "cell_type": "code",
   "execution_count": 48,
   "metadata": {},
   "outputs": [
    {
     "name": "stdout",
     "output_type": "stream",
     "text": [
      "{frozenset({1, 2, 3, 4}): 'fset'}\n"
     ]
    }
   ],
   "source": [
    "s=frozenset([1,2,3,4])\n",
    "d={s:\"fset\"}\n",
    "print(d)"
   ]
  },
  {
   "cell_type": "code",
   "execution_count": null,
   "metadata": {},
   "outputs": [],
   "source": [
    "l=[1000,2000,3000,4000]\n",
    "t=(1000,2000,3000,4000)"
   ]
  }
 ],
 "metadata": {
  "kernelspec": {
   "display_name": "Python 3",
   "language": "python",
   "name": "python3"
  },
  "language_info": {
   "codemirror_mode": {
    "name": "ipython",
    "version": 3
   },
   "file_extension": ".py",
   "mimetype": "text/x-python",
   "name": "python",
   "nbconvert_exporter": "python",
   "pygments_lexer": "ipython3",
   "version": "3.8.3"
  }
 },
 "nbformat": 4,
 "nbformat_minor": 4
}
