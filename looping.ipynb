{
 "cells": [
  {
   "cell_type": "code",
   "execution_count": 1,
   "metadata": {},
   "outputs": [
    {
     "name": "stdout",
     "output_type": "stream",
     "text": [
      "start\n",
      "0\n",
      "end\n"
     ]
    }
   ],
   "source": [
    "print(\"start\")\n",
    "c=0\n",
    "if c<10:\n",
    "    print(c)\n",
    "    c=c+1\n",
    "print(\"end\")"
   ]
  },
  {
   "cell_type": "code",
   "execution_count": 2,
   "metadata": {},
   "outputs": [
    {
     "name": "stdout",
     "output_type": "stream",
     "text": [
      "start\n",
      "0\n",
      "1\n",
      "2\n",
      "end\n"
     ]
    }
   ],
   "source": [
    "print(\"start\")\n",
    "c=0\n",
    "while c<3:#c=0, 0<3: True, 1<3: True,2<3: True, 3<3: False\n",
    "    print(c)\n",
    "    c=c+1# c=0+1:1,c=1+1:2, c=2+1: 3\n",
    "print(\"end\")"
   ]
  },
  {
   "cell_type": "code",
   "execution_count": 3,
   "metadata": {},
   "outputs": [
    {
     "name": "stdout",
     "output_type": "stream",
     "text": [
      "even\n"
     ]
    }
   ],
   "source": [
    "n=10\n",
    "if n%2==0:\n",
    "    print(\"even\")\n",
    "else:\n",
    "    print(\"odd\")"
   ]
  },
  {
   "cell_type": "code",
   "execution_count": 4,
   "metadata": {},
   "outputs": [
    {
     "name": "stdout",
     "output_type": "stream",
     "text": [
      "even\n",
      "odd\n",
      "even\n",
      "even\n",
      "even\n"
     ]
    }
   ],
   "source": [
    "l=[10,13,14,16,18]\n",
    "if l[0]%2==0:\n",
    "    print(\"even\")\n",
    "else:\n",
    "    print(\"odd\")\n",
    "if l[1]%2==0:\n",
    "    print(\"even\")\n",
    "else:\n",
    "    print(\"odd\")\n",
    "if l[2]%2==0:\n",
    "    print(\"even\")\n",
    "else:\n",
    "    print(\"odd\")\n",
    "if l[3]%2==0:\n",
    "    print(\"even\")\n",
    "else:\n",
    "    print(\"odd\")\n",
    "if l[4]%2==0:\n",
    "    print(\"even\")\n",
    "else:\n",
    "    print(\"odd\")"
   ]
  },
  {
   "cell_type": "code",
   "execution_count": 5,
   "metadata": {},
   "outputs": [
    {
     "name": "stdout",
     "output_type": "stream",
     "text": [
      "10\n",
      "13\n",
      "14\n",
      "16\n",
      "18\n"
     ]
    }
   ],
   "source": [
    "l=[10,13,14,16,18]\n",
    "for number in l:\n",
    "    print(number)"
   ]
  },
  {
   "cell_type": "code",
   "execution_count": 6,
   "metadata": {},
   "outputs": [
    {
     "name": "stdout",
     "output_type": "stream",
     "text": [
      "start\n",
      "10\n",
      "13\n",
      "14\n",
      "16\n",
      "18\n",
      "end\n"
     ]
    }
   ],
   "source": [
    "print(\"start\")\n",
    "l=[10,13,14,16,18]\n",
    "for number in l:#number=10, 13\n",
    "    print(number)\n",
    "print(\"end\")"
   ]
  },
  {
   "cell_type": "code",
   "execution_count": 7,
   "metadata": {},
   "outputs": [
    {
     "name": "stdout",
     "output_type": "stream",
     "text": [
      "start\n",
      "10: EVEN\n",
      "13: ODD\n",
      "14: EVEN\n",
      "16: EVEN\n",
      "18: EVEN\n",
      "end\n"
     ]
    }
   ],
   "source": [
    "print(\"start\")\n",
    "l=[10,13,14,16,18]\n",
    "for number in l:#number=10\n",
    "    if number%2==0:# 0==0: True\n",
    "        print(f\"{number}: EVEN\")\n",
    "    else:\n",
    "        print(f\"{number}: ODD\")\n",
    "    \n",
    "print(\"end\")"
   ]
  },
  {
   "cell_type": "code",
   "execution_count": 8,
   "metadata": {},
   "outputs": [
    {
     "name": "stdout",
     "output_type": "stream",
     "text": [
      "start\n",
      "iteration satrted\n",
      "10: EVEN\n",
      "iteration ended\n",
      "iteration satrted\n",
      "13: ODD\n",
      "iteration ended\n",
      "iteration satrted\n",
      "14: EVEN\n",
      "iteration ended\n",
      "iteration satrted\n",
      "16: EVEN\n",
      "iteration ended\n",
      "iteration satrted\n",
      "18: EVEN\n",
      "iteration ended\n",
      "end\n"
     ]
    }
   ],
   "source": [
    "print(\"start\")\n",
    "l=[10,13,14,16,18]\n",
    "for number in l:#number=10, 13, 14\n",
    "    print(\"iteration satrted\")\n",
    "    if number%2==0:# 10%2=0==0: True, 13%2=1==0:False, 14%2=0==0:True\n",
    "        print(f\"{number}: EVEN\")\n",
    "    else:\n",
    "        print(f\"{number}: ODD\")\n",
    "    print(\"iteration ended\")\n",
    "    \n",
    "print(\"end\")"
   ]
  },
  {
   "cell_type": "code",
   "execution_count": 9,
   "metadata": {},
   "outputs": [
    {
     "name": "stdout",
     "output_type": "stream",
     "text": [
      "12: POSTIVE\n",
      "-5: Negative\n",
      "6: POSTIVE\n",
      "7: POSTIVE\n",
      "-8: Negative\n"
     ]
    }
   ],
   "source": [
    "l=[12,-5,6,7,-8]\n",
    "for n in l:\n",
    "    print(f\"{n}: POSTIVE\" if n>0 else f\"{n}: Negative\")\n",
    "# print the number is positive or negative.\n",
    "\n",
    "#12: positive\n",
    "#-5: negative\n",
    "#6: positive\n",
    "#7: positive\n",
    "#-8: negative"
   ]
  },
  {
   "cell_type": "code",
   "execution_count": 10,
   "metadata": {},
   "outputs": [
    {
     "name": "stdout",
     "output_type": "stream",
     "text": [
      "12: POSTIVE -5: Negative 6: POSTIVE 7: POSTIVE -8: Negative "
     ]
    }
   ],
   "source": [
    "l=[12,-5,6,7,-8]\n",
    "for n in l:\n",
    "    print(f\"{n}: POSTIVE\" if n>0 else f\"{n}: Negative\", end=\" \")"
   ]
  },
  {
   "cell_type": "code",
   "execution_count": 11,
   "metadata": {},
   "outputs": [
    {
     "name": "stdout",
     "output_type": "stream",
     "text": [
      "12: POSTIVE,-5: Negative,6: POSTIVE,7: POSTIVE,-8: Negative,"
     ]
    }
   ],
   "source": [
    "l=[12,-5,6,7,-8]\n",
    "for n in l:\n",
    "    print(f\"{n}: POSTIVE\" if n>0 else f\"{n}: Negative\", end=\",\")"
   ]
  },
  {
   "cell_type": "code",
   "execution_count": 12,
   "metadata": {},
   "outputs": [
    {
     "name": "stdout",
     "output_type": "stream",
     "text": [
      "apple\n",
      "orange\n",
      "grapes\n"
     ]
    }
   ],
   "source": [
    "fruits = [\"apple\",\"orange\", \"grapes\"]\n",
    "for fruit in fruits:\n",
    "    print(fruit)"
   ]
  },
  {
   "cell_type": "code",
   "execution_count": 14,
   "metadata": {},
   "outputs": [
    {
     "name": "stdout",
     "output_type": "stream",
     "text": [
      "2000\n",
      "3000\n",
      "4000\n",
      "5000\n"
     ]
    }
   ],
   "source": [
    "salaries = [2000,3000,4000,5000]\n",
    "for salary in salaries:\n",
    "    print(salary)"
   ]
  },
  {
   "cell_type": "code",
   "execution_count": null,
   "metadata": {},
   "outputs": [],
   "source": [
    "data=1000\n",
    "for i in data:\n",
    "    print(i)"
   ]
  },
  {
   "cell_type": "code",
   "execution_count": null,
   "metadata": {},
   "outputs": [],
   "source": [
    "data=\"python\"\n",
    "for i in data:\n",
    "    print(i)"
   ]
  },
  {
   "cell_type": "code",
   "execution_count": null,
   "metadata": {},
   "outputs": [],
   "source": [
    "data=(10,20,30,40)\n",
    "for i in data:\n",
    "    print(i)"
   ]
  },
  {
   "cell_type": "code",
   "execution_count": null,
   "metadata": {},
   "outputs": [],
   "source": [
    "data={10,20,30,40}\n",
    "for i in data:\n",
    "    print(i)"
   ]
  },
  {
   "cell_type": "code",
   "execution_count": null,
   "metadata": {},
   "outputs": [],
   "source": [
    "data={\"name\":\"jay\",\"age\":5,\"scholl\":\"Akruthi\"}\n",
    "for i in data:\n",
    "    print(i)"
   ]
  },
  {
   "cell_type": "code",
   "execution_count": null,
   "metadata": {},
   "outputs": [],
   "source": [
    "data=None\n",
    "for i in data:\n",
    "    print(i)"
   ]
  },
  {
   "cell_type": "code",
   "execution_count": null,
   "metadata": {},
   "outputs": [],
   "source": [
    "data=False\n",
    "for i in data:\n",
    "    print(i)"
   ]
  },
  {
   "cell_type": "code",
   "execution_count": 15,
   "metadata": {},
   "outputs": [
    {
     "name": "stdout",
     "output_type": "stream",
     "text": [
      "name\n",
      "age\n",
      "scholl\n"
     ]
    }
   ],
   "source": [
    "data={\"name\":\"jay\",\"age\":5,\"scholl\":\"Akruthi\"}\n",
    "for i in data:\n",
    "    print(i)"
   ]
  },
  {
   "cell_type": "code",
   "execution_count": 16,
   "metadata": {},
   "outputs": [
    {
     "name": "stdout",
     "output_type": "stream",
     "text": [
      "EVEN: 5\n",
      "ODD: 3\n"
     ]
    }
   ],
   "source": [
    "l=[12,13,14,16,18,17,19,20]\n",
    "# how many number of even and odd numbers are there?\n",
    "# even: 5, odd:3\n",
    "even_count=0\n",
    "odd_cout=0\n",
    "for number in l:\n",
    "    if number%2==0:\n",
    "        even_count = even_count+1\n",
    "    else:\n",
    "        odd_cout = odd_cout+1\n",
    "print(\"EVEN:\", even_count)\n",
    "print(\"ODD:\", odd_cout)   "
   ]
  },
  {
   "cell_type": "code",
   "execution_count": null,
   "metadata": {},
   "outputs": [],
   "source": [
    "l=[12,13,14,16,18,17,19,20]\n",
    "# check whther the list has atleast one even number.\n",
    "#it has evenumbers"
   ]
  },
  {
   "cell_type": "code",
   "execution_count": 17,
   "metadata": {},
   "outputs": [],
   "source": [
    "l=[13,15,17]\n",
    "# it has no evenumbers"
   ]
  },
  {
   "cell_type": "code",
   "execution_count": 18,
   "metadata": {},
   "outputs": [],
   "source": [
    "l=[13,15,17,18,21]\n",
    "#it has even numbers"
   ]
  },
  {
   "cell_type": "code",
   "execution_count": 19,
   "metadata": {},
   "outputs": [
    {
     "name": "stdout",
     "output_type": "stream",
     "text": [
      "5\n"
     ]
    }
   ],
   "source": [
    "l=[12,13,14,16,18,17,19,20]\n",
    "c=0\n",
    "for i in l:\n",
    "    if i%2==0:\n",
    "        c=c+1\n",
    "print(c)"
   ]
  },
  {
   "cell_type": "code",
   "execution_count": 20,
   "metadata": {},
   "outputs": [
    {
     "name": "stdout",
     "output_type": "stream",
     "text": [
      "0\n"
     ]
    }
   ],
   "source": [
    "l=[13,15,17]\n",
    "c=0\n",
    "for i in l:\n",
    "    if i%2==0:\n",
    "        c=c+1\n",
    "print(c)"
   ]
  },
  {
   "cell_type": "code",
   "execution_count": 21,
   "metadata": {},
   "outputs": [
    {
     "name": "stdout",
     "output_type": "stream",
     "text": [
      "1\n"
     ]
    }
   ],
   "source": [
    "l=[13,15,17,18]\n",
    "c=0\n",
    "for i in l:\n",
    "    if i%2==0:\n",
    "        c=c+1\n",
    "print(c)"
   ]
  },
  {
   "cell_type": "code",
   "execution_count": 22,
   "metadata": {},
   "outputs": [
    {
     "name": "stdout",
     "output_type": "stream",
     "text": [
      "it has no evenumbers\n"
     ]
    }
   ],
   "source": [
    "l=[13,15,17]\n",
    "c=0\n",
    "for i in l:\n",
    "    if i%2==0:\n",
    "        c=c+1\n",
    "if c==0:\n",
    "    print(\"it has no evenumbers\")\n",
    "else:\n",
    "    print(\"it has even numbers\")"
   ]
  },
  {
   "cell_type": "code",
   "execution_count": 24,
   "metadata": {},
   "outputs": [
    {
     "name": "stdout",
     "output_type": "stream",
     "text": [
      "it has no evens\n"
     ]
    }
   ],
   "source": [
    "l=[13,15,17]\n",
    "c=0\n",
    "for i in l:\n",
    "    if i%2==0:\n",
    "        c=c+1\n",
    "print(\"it has no evens\" if c==0 else \"it has evens\")"
   ]
  },
  {
   "cell_type": "code",
   "execution_count": 25,
   "metadata": {},
   "outputs": [
    {
     "name": "stdout",
     "output_type": "stream",
     "text": [
      "it has evens\n"
     ]
    }
   ],
   "source": [
    "l=[13,15,17,18]\n",
    "c=0\n",
    "for i in l:\n",
    "    if i%2==0:\n",
    "        c=c+1\n",
    "print(\"it has no evens\" if c==0 else \"it has evens\")"
   ]
  },
  {
   "cell_type": "code",
   "execution_count": 26,
   "metadata": {},
   "outputs": [
    {
     "name": "stdout",
     "output_type": "stream",
     "text": [
      "20\n",
      "21\n",
      "24\n",
      "13\n",
      "15\n",
      "17\n",
      "18\n",
      "it has evens\n"
     ]
    }
   ],
   "source": [
    "l=[20,21,24,13,15,17,18]\n",
    "c=0\n",
    "for i in l:\n",
    "    print(i)\n",
    "    if i%2==0:\n",
    "        c=c+1\n",
    "print(\"it has no evens\" if c==0 else \"it has evens\")"
   ]
  },
  {
   "cell_type": "code",
   "execution_count": null,
   "metadata": {},
   "outputs": [],
   "source": [
    "l=[20,21,24,13,15,17,18]\n",
    "c=0\n",
    "for i in l:\n",
    "    print(i)\n",
    "    if i%2==0:\n",
    "        c=c+1\n",
    "print(\"it has no evens\" if c==0 else \"it has evens\")"
   ]
  },
  {
   "cell_type": "code",
   "execution_count": 27,
   "metadata": {},
   "outputs": [
    {
     "name": "stdout",
     "output_type": "stream",
     "text": [
      "satrted\n",
      "p\n",
      "ended\n"
     ]
    }
   ],
   "source": [
    "print(\"satrted\")\n",
    "for i in \"python\":\n",
    "    if i==\"y\":\n",
    "        break\n",
    "    print(i)\n",
    "print(\"ended\")"
   ]
  },
  {
   "cell_type": "code",
   "execution_count": 28,
   "metadata": {},
   "outputs": [
    {
     "name": "stdout",
     "output_type": "stream",
     "text": [
      "satrted\n",
      "iteration started\n",
      "p\n",
      "iteration ended\n",
      "iteration started\n",
      "y\n",
      "iteration ended\n",
      "iteration started\n",
      "ended\n"
     ]
    }
   ],
   "source": [
    "print(\"satrted\")\n",
    "for i in \"python\":\n",
    "    print(\"iteration started\")\n",
    "    if i==\"t\":\n",
    "        break\n",
    "    print(i)\n",
    "    print(\"iteration ended\")\n",
    "print(\"ended\")"
   ]
  },
  {
   "cell_type": "code",
   "execution_count": 29,
   "metadata": {},
   "outputs": [
    {
     "name": "stdout",
     "output_type": "stream",
     "text": [
      "20\n",
      "it has evens\n"
     ]
    }
   ],
   "source": [
    "l=[20,21,24,13,15,17,18]\n",
    "c=0\n",
    "for i in l:\n",
    "    print(i)\n",
    "    if i%2==0:\n",
    "        c=c+1\n",
    "        break\n",
    "print(\"it has no evens\" if c==0 else \"it has evens\")"
   ]
  },
  {
   "cell_type": "code",
   "execution_count": 30,
   "metadata": {},
   "outputs": [
    {
     "name": "stdout",
     "output_type": "stream",
     "text": [
      "21\n",
      "24\n",
      "it has evens\n"
     ]
    }
   ],
   "source": [
    "l=[21,24,13,15,17,18]\n",
    "c=0\n",
    "for i in l:\n",
    "    print(i)\n",
    "    if i%2==0:\n",
    "        c=c+1\n",
    "        break\n",
    "print(\"it has no evens\" if c==0 else \"it has evens\")"
   ]
  },
  {
   "cell_type": "code",
   "execution_count": 31,
   "metadata": {},
   "outputs": [
    {
     "name": "stdout",
     "output_type": "stream",
     "text": [
      "21\n",
      "13\n",
      "15\n",
      "17\n",
      "18\n",
      "it has evens\n"
     ]
    }
   ],
   "source": [
    "l=[21,13,15,17,18]\n",
    "c=0\n",
    "for i in l:\n",
    "    print(i)\n",
    "    if i%2==0:\n",
    "        c=c+1\n",
    "        break\n",
    "print(\"it has no evens\" if c==0 else \"it has evens\")"
   ]
  },
  {
   "cell_type": "code",
   "execution_count": null,
   "metadata": {},
   "outputs": [],
   "source": [
    "l=[21,13,15,17,18]\n",
    "for i in l:\n",
    "    print(i)\n",
    "    if i%2==0:\n",
    "        break"
   ]
  },
  {
   "cell_type": "code",
   "execution_count": 32,
   "metadata": {},
   "outputs": [
    {
     "name": "stdout",
     "output_type": "stream",
     "text": [
      "started\n",
      "p\n",
      "y\n",
      "t\n",
      "h\n",
      "o\n",
      "n\n",
      "this is else\n",
      "ended\n"
     ]
    }
   ],
   "source": [
    "print(\"started\")\n",
    "for i in \"python\":\n",
    "    print(i)\n",
    "else:\n",
    "    print(\"this is else\")\n",
    "print(\"ended\")"
   ]
  },
  {
   "cell_type": "code",
   "execution_count": 33,
   "metadata": {},
   "outputs": [
    {
     "name": "stdout",
     "output_type": "stream",
     "text": [
      "started\n",
      "p\n",
      "ended\n"
     ]
    }
   ],
   "source": [
    "print(\"started\")\n",
    "for i in \"python\":\n",
    "    print(i)\n",
    "    break\n",
    "else:\n",
    "    print(\"this is else\")\n",
    "print(\"ended\")"
   ]
  },
  {
   "cell_type": "code",
   "execution_count": 34,
   "metadata": {},
   "outputs": [
    {
     "name": "stdout",
     "output_type": "stream",
     "text": [
      "started\n",
      "p\n",
      "y\n",
      "t\n",
      "h\n",
      "o\n",
      "n\n",
      "this is else\n",
      "ended\n"
     ]
    }
   ],
   "source": [
    "print(\"started\")\n",
    "for i in \"python\":\n",
    "    print(i)\n",
    "    if i==\"z\":\n",
    "        break\n",
    "else:\n",
    "    print(\"this is else\")\n",
    "print(\"ended\")"
   ]
  },
  {
   "cell_type": "code",
   "execution_count": 35,
   "metadata": {},
   "outputs": [
    {
     "name": "stdout",
     "output_type": "stream",
     "text": [
      "started\n",
      "p\n",
      "y\n",
      "t\n",
      "ended\n"
     ]
    }
   ],
   "source": [
    "print(\"started\")\n",
    "for i in \"python\":\n",
    "    print(i)\n",
    "    if i==\"t\":\n",
    "        break\n",
    "else:\n",
    "    print(\"this is else\")\n",
    "print(\"ended\")"
   ]
  },
  {
   "cell_type": "code",
   "execution_count": 36,
   "metadata": {},
   "outputs": [
    {
     "name": "stdout",
     "output_type": "stream",
     "text": [
      "started\n",
      "p\n",
      "y\n",
      "t\n",
      "h\n",
      "o\n",
      "n\n",
      "ended\n"
     ]
    }
   ],
   "source": [
    "print(\"started\")\n",
    "for i in \"python\":\n",
    "    print(i)\n",
    "    if i==\"n\":\n",
    "        break\n",
    "else:\n",
    "    print(\"this is else\")\n",
    "print(\"ended\")"
   ]
  },
  {
   "cell_type": "code",
   "execution_count": 37,
   "metadata": {},
   "outputs": [
    {
     "name": "stdout",
     "output_type": "stream",
     "text": [
      "It has evens\n"
     ]
    }
   ],
   "source": [
    "l=[20,21,24,13,15,17,18]\n",
    "for i in l:\n",
    "    if i%2==0:\n",
    "        print(\"It has evens\")\n",
    "        break\n",
    "else:\n",
    "    print(\"it has no evens\")\n",
    "    "
   ]
  },
  {
   "cell_type": "code",
   "execution_count": 38,
   "metadata": {},
   "outputs": [
    {
     "name": "stdout",
     "output_type": "stream",
     "text": [
      "It has evens\n"
     ]
    }
   ],
   "source": [
    "l=[21,24,13,15,17,18]\n",
    "for i in l:\n",
    "    if i%2==0:\n",
    "        print(\"It has evens\")\n",
    "        break\n",
    "else:\n",
    "    print(\"it has no evens\")\n",
    "    "
   ]
  },
  {
   "cell_type": "code",
   "execution_count": 39,
   "metadata": {},
   "outputs": [
    {
     "name": "stdout",
     "output_type": "stream",
     "text": [
      "It has evens\n"
     ]
    }
   ],
   "source": [
    "l=[21,13,15,17,18]\n",
    "for i in l:\n",
    "    if i%2==0:\n",
    "        print(\"It has evens\")\n",
    "        break\n",
    "else:\n",
    "    print(\"it has no evens\")\n",
    "    "
   ]
  },
  {
   "cell_type": "code",
   "execution_count": 40,
   "metadata": {},
   "outputs": [
    {
     "name": "stdout",
     "output_type": "stream",
     "text": [
      "it has no evens\n"
     ]
    }
   ],
   "source": [
    "l=[21,13,15,17]\n",
    "for i in l:\n",
    "    if i%2==0:\n",
    "        print(\"It has evens\")\n",
    "        break\n",
    "else:\n",
    "    print(\"it has no evens\")\n",
    "    "
   ]
  },
  {
   "cell_type": "code",
   "execution_count": null,
   "metadata": {},
   "outputs": [],
   "source": [
    "for i in \"python\""
   ]
  },
  {
   "cell_type": "code",
   "execution_count": 41,
   "metadata": {},
   "outputs": [
    {
     "name": "stdout",
     "output_type": "stream",
     "text": [
      "started\n",
      "i= p\n",
      "i= y\n",
      "i= t\n",
      "ended\n"
     ]
    }
   ],
   "source": [
    "print(\"started\")\n",
    "for i in \"python\":\n",
    "    if i==\"h\":\n",
    "        continue\n",
    "    if i==\"o\":\n",
    "        break\n",
    "    print(\"i=\",i)\n",
    "print(\"ended\")"
   ]
  },
  {
   "cell_type": "code",
   "execution_count": 42,
   "metadata": {},
   "outputs": [
    {
     "name": "stdout",
     "output_type": "stream",
     "text": [
      "i= 0\n",
      "i= 2\n",
      "i out side the loop: 4\n"
     ]
    }
   ],
   "source": [
    "i=0\n",
    "while i<4:\n",
    "    print(\"i=\",i)\n",
    "    i=i+2\n",
    "print(\"i out side the loop:\",i)"
   ]
  },
  {
   "cell_type": "code",
   "execution_count": null,
   "metadata": {},
   "outputs": [],
   "source": [
    "i=0\n",
    "while i<4:\n",
    "    print(\"i=\",i)\n",
    "    i=i-2\n",
    "print(\"i out side the loop:\",i)"
   ]
  },
  {
   "cell_type": "code",
   "execution_count": 43,
   "metadata": {},
   "outputs": [
    {
     "name": "stdout",
     "output_type": "stream",
     "text": [
      "hello\n",
      "hello\n",
      "hello\n",
      "hello\n",
      "hello\n",
      "hello\n",
      "i outside the loop: n\n"
     ]
    }
   ],
   "source": [
    "for i in \"python\":#i=p\n",
    "    print(\"hello\")\n",
    "print(\"i outside the loop:\",i)"
   ]
  },
  {
   "cell_type": "code",
   "execution_count": null,
   "metadata": {},
   "outputs": [],
   "source": []
  }
 ],
 "metadata": {
  "kernelspec": {
   "display_name": "Python 3",
   "language": "python",
   "name": "python3"
  },
  "language_info": {
   "codemirror_mode": {
    "name": "ipython",
    "version": 3
   },
   "file_extension": ".py",
   "mimetype": "text/x-python",
   "name": "python",
   "nbconvert_exporter": "python",
   "pygments_lexer": "ipython3",
   "version": "3.8.3"
  }
 },
 "nbformat": 4,
 "nbformat_minor": 4
}
