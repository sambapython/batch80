{
 "cells": [
  {
   "cell_type": "code",
   "execution_count": 3,
   "metadata": {},
   "outputs": [
    {
     "name": "stdout",
     "output_type": "stream",
     "text": [
      "Enter x1:12\n",
      "Enter x2:15\n",
      "Enter x3:16\n",
      "Enter x4:18\n",
      "12.0 15.0 16.0 18.0\n"
     ]
    }
   ],
   "source": [
    "# variance formula\n",
    "x1,x2,x3,x4=float(input(\"Enter x1:\")),float(input(\"Enter x2:\")),float(input(\"Enter x3:\")),float(input(\"Enter x4:\")),\n",
    "n=4\n",
    "print(x1,x2,x3,x4)"
   ]
  },
  {
   "cell_type": "code",
   "execution_count": 1,
   "metadata": {},
   "outputs": [],
   "source": [
    "a=10\n",
    "b=20\n",
    "c=30"
   ]
  },
  {
   "cell_type": "code",
   "execution_count": 2,
   "metadata": {},
   "outputs": [
    {
     "name": "stdout",
     "output_type": "stream",
     "text": [
      "10 20 30\n"
     ]
    }
   ],
   "source": [
    "a,b,c=10,20,30\n",
    "print(a,b,c)"
   ]
  },
  {
   "cell_type": "code",
   "execution_count": 4,
   "metadata": {},
   "outputs": [
    {
     "name": "stdout",
     "output_type": "stream",
     "text": [
      "Enter value:10\n",
      "10 <class 'str'>\n"
     ]
    }
   ],
   "source": [
    "a=input(\"Enter value:\")\n",
    "print(a, type(a))"
   ]
  },
  {
   "cell_type": "code",
   "execution_count": 5,
   "metadata": {},
   "outputs": [],
   "source": [
    "a=10\n",
    "b=\"10\""
   ]
  },
  {
   "cell_type": "code",
   "execution_count": 6,
   "metadata": {},
   "outputs": [
    {
     "name": "stdout",
     "output_type": "stream",
     "text": [
      "Enter x1:1\n",
      "Enter x2:2\n",
      "Enter x3:3\n",
      "Enter x4:4\n",
      "1.0 2.0 3.0 4.0\n",
      "7.0\n"
     ]
    }
   ],
   "source": [
    "# variance formula\n",
    "x1,x2,x3,x4=float(input(\"Enter x1:\")),float(input(\"Enter x2:\")),float(input(\"Enter x3:\")),float(input(\"Enter x4:\")),\n",
    "n=4\n",
    "print(x1,x2,x3,x4)\n",
    "x_bar = x1+x2+x3+x4/n\n",
    "print(x_bar)"
   ]
  },
  {
   "cell_type": "code",
   "execution_count": 7,
   "metadata": {},
   "outputs": [
    {
     "name": "stdout",
     "output_type": "stream",
     "text": [
      "Enter x1:1\n",
      "Enter x2:2\n",
      "Enter x3:3\n",
      "Enter x4:4\n",
      "1.0 2.0 3.0 4.0\n",
      "2.5\n"
     ]
    }
   ],
   "source": [
    "# variance formula\n",
    "x1,x2,x3,x4=float(input(\"Enter x1:\")),float(input(\"Enter x2:\")),float(input(\"Enter x3:\")),float(input(\"Enter x4:\")),\n",
    "n=4\n",
    "print(x1,x2,x3,x4)\n",
    "x_bar = (x1+x2+x3+x4)/n\n",
    "print(x_bar)"
   ]
  },
  {
   "cell_type": "code",
   "execution_count": 8,
   "metadata": {},
   "outputs": [
    {
     "name": "stdout",
     "output_type": "stream",
     "text": [
      "Enter x1:1\n",
      "Enter x2:2\n",
      "Enter x3:3\n",
      "Enter x4:4\n",
      "1.6666666666666667\n"
     ]
    }
   ],
   "source": [
    "# variance formula\n",
    "x1,x2,x3,x4=float(input(\"Enter x1:\")),float(input(\"Enter x2:\")),float(input(\"Enter x3:\")),float(input(\"Enter x4:\")),\n",
    "n=4\n",
    "x_bar = (x1+x2+x3+x4)/n\n",
    "nom = (x1-x_bar)**2+(x2-x_bar)**2+(x3-x_bar)**2+(x4-x_bar)**2\n",
    "de_nom = n-1\n",
    "variance = nom/de_nom\n",
    "print(variance)"
   ]
  },
  {
   "cell_type": "code",
   "execution_count": null,
   "metadata": {},
   "outputs": [],
   "source": []
  }
 ],
 "metadata": {
  "kernelspec": {
   "display_name": "Python 3",
   "language": "python",
   "name": "python3"
  },
  "language_info": {
   "codemirror_mode": {
    "name": "ipython",
    "version": 3
   },
   "file_extension": ".py",
   "mimetype": "text/x-python",
   "name": "python",
   "nbconvert_exporter": "python",
   "pygments_lexer": "ipython3",
   "version": "3.8.3"
  }
 },
 "nbformat": 4,
 "nbformat_minor": 4
}
