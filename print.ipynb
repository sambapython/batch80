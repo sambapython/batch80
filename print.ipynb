{
 "cells": [
  {
   "cell_type": "code",
   "execution_count": 1,
   "metadata": {},
   "outputs": [
    {
     "name": "stdout",
     "output_type": "stream",
     "text": [
      "10\n"
     ]
    }
   ],
   "source": [
    "a=10\n",
    "print(a)"
   ]
  },
  {
   "cell_type": "code",
   "execution_count": 2,
   "metadata": {},
   "outputs": [
    {
     "name": "stdout",
     "output_type": "stream",
     "text": [
      "hello\n"
     ]
    }
   ],
   "source": [
    "print(\"hello\")"
   ]
  },
  {
   "cell_type": "code",
   "execution_count": 3,
   "metadata": {},
   "outputs": [
    {
     "name": "stdout",
     "output_type": "stream",
     "text": [
      "The Jayaram\n"
     ]
    }
   ],
   "source": [
    "name=\"Jayaram\"\n",
    "age=5\n",
    "height=3.2\n",
    "weight=19\n",
    "# The jayaram is 5 years old, he is 3.2 feet height and 19KG weight.\n",
    "print(\"The\",name)"
   ]
  },
  {
   "cell_type": "code",
   "execution_count": 4,
   "metadata": {},
   "outputs": [
    {
     "name": "stdout",
     "output_type": "stream",
     "text": [
      "The,Jayaram\n"
     ]
    }
   ],
   "source": [
    "name=\"Jayaram\"\n",
    "age=5\n",
    "height=3.2\n",
    "weight=19\n",
    "# The jayaram is 5 years old, he is 3.2 feet height and 19KG weight.\n",
    "print(\"The\",name,sep=\",\")"
   ]
  },
  {
   "cell_type": "code",
   "execution_count": 5,
   "metadata": {},
   "outputs": [
    {
     "name": "stdout",
     "output_type": "stream",
     "text": [
      "10 20 30\n"
     ]
    }
   ],
   "source": [
    "a=10\n",
    "b=20\n",
    "c=30\n",
    "print(a,b,c)"
   ]
  },
  {
   "cell_type": "code",
   "execution_count": 6,
   "metadata": {},
   "outputs": [
    {
     "name": "stdout",
     "output_type": "stream",
     "text": [
      "10;20;30\n"
     ]
    }
   ],
   "source": [
    "a=10\n",
    "b=20\n",
    "c=30\n",
    "print(a,b,c, sep=\";\")"
   ]
  },
  {
   "cell_type": "code",
   "execution_count": 7,
   "metadata": {},
   "outputs": [
    {
     "name": "stdout",
     "output_type": "stream",
     "text": [
      "The Jayaram is\n"
     ]
    }
   ],
   "source": [
    "name=\"Jayaram\"\n",
    "age=5\n",
    "height=3.2\n",
    "weight=19\n",
    "# The jayaram is 5 years old, he is 3.2 feet height and 19KG weight.\n",
    "print(\"The\",name,\"is\")"
   ]
  },
  {
   "cell_type": "code",
   "execution_count": 8,
   "metadata": {},
   "outputs": [
    {
     "name": "stdout",
     "output_type": "stream",
     "text": [
      "The Jayaram is 5 years old, he is\n"
     ]
    }
   ],
   "source": [
    "name=\"Jayaram\"\n",
    "age=5\n",
    "height=3.2\n",
    "weight=19\n",
    "# The jayaram is 5 years old, he is 3.2 feet height and 19KG weight.\n",
    "print(\"The\",name,\"is\",age,\"years old, he is\")"
   ]
  },
  {
   "cell_type": "code",
   "execution_count": 9,
   "metadata": {},
   "outputs": [
    {
     "name": "stdout",
     "output_type": "stream",
     "text": [
      "The Jayaram is 5 years old, he is 3.2 feet height and  19 KG weight\n"
     ]
    }
   ],
   "source": [
    "name=\"Jayaram\"\n",
    "age=5\n",
    "height=3.2\n",
    "weight=19\n",
    "# The jayaram is 5 years old, he is 3.2feet height and 19KG weight.\n",
    "print(\"The\",name,\"is\",age,\"years old, he is\",height,\"feet height and \",weight,\"KG weight\")"
   ]
  },
  {
   "cell_type": "code",
   "execution_count": 10,
   "metadata": {},
   "outputs": [
    {
     "ename": "TypeError",
     "evalue": "unsupported operand type(s) for +: 'int' and 'str'",
     "output_type": "error",
     "traceback": [
      "\u001b[1;31m---------------------------------------------------------------------------\u001b[0m",
      "\u001b[1;31mTypeError\u001b[0m                                 Traceback (most recent call last)",
      "\u001b[1;32m<ipython-input-10-902493b848cd>\u001b[0m in \u001b[0;36m<module>\u001b[1;34m\u001b[0m\n\u001b[1;32m----> 1\u001b[1;33m \u001b[1;36m19\u001b[0m\u001b[1;33m+\u001b[0m\u001b[1;34m\"kg\"\u001b[0m\u001b[1;33m\u001b[0m\u001b[1;33m\u001b[0m\u001b[0m\n\u001b[0m",
      "\u001b[1;31mTypeError\u001b[0m: unsupported operand type(s) for +: 'int' and 'str'"
     ]
    }
   ],
   "source": [
    "19+\"kg\""
   ]
  },
  {
   "cell_type": "code",
   "execution_count": 11,
   "metadata": {},
   "outputs": [
    {
     "data": {
      "text/plain": [
       "'19kg'"
      ]
     },
     "execution_count": 11,
     "metadata": {},
     "output_type": "execute_result"
    }
   ],
   "source": [
    "str(19)+\"kg\""
   ]
  },
  {
   "cell_type": "code",
   "execution_count": 13,
   "metadata": {},
   "outputs": [
    {
     "name": "stdout",
     "output_type": "stream",
     "text": [
      "The Jayaram is 5 years old, he is 3.2feet height and 19KG weight\n"
     ]
    }
   ],
   "source": [
    "name=\"Jayaram\"\n",
    "age=5\n",
    "height=3.2\n",
    "weight=19\n",
    "# The jayaram is 5 years old, he is 3.2feet height and 19KG weight.\n",
    "print(\"The\",name,\"is\",age,\"years old, he is\",str(height)+\"feet height and\",str(weight)+\"KG weight\")"
   ]
  },
  {
   "cell_type": "code",
   "execution_count": 14,
   "metadata": {},
   "outputs": [
    {
     "name": "stdout",
     "output_type": "stream",
     "text": [
      "The {name} is\n"
     ]
    }
   ],
   "source": [
    "# template strings\n",
    "name=\"jayaram\"\n",
    "s=\"The {name} is\"\n",
    "print(s)"
   ]
  },
  {
   "cell_type": "code",
   "execution_count": 15,
   "metadata": {},
   "outputs": [
    {
     "name": "stdout",
     "output_type": "stream",
     "text": [
      "The jayaram is\n"
     ]
    }
   ],
   "source": [
    "# template strings\n",
    "name=\"jayaram\"\n",
    "s=f\"The {name} is\"\n",
    "print(s)"
   ]
  },
  {
   "cell_type": "code",
   "execution_count": 16,
   "metadata": {},
   "outputs": [
    {
     "ename": "NameError",
     "evalue": "name 'name123' is not defined",
     "output_type": "error",
     "traceback": [
      "\u001b[1;31m---------------------------------------------------------------------------\u001b[0m",
      "\u001b[1;31mNameError\u001b[0m                                 Traceback (most recent call last)",
      "\u001b[1;32m<ipython-input-16-177facc50394>\u001b[0m in \u001b[0;36m<module>\u001b[1;34m\u001b[0m\n\u001b[0;32m      1\u001b[0m \u001b[1;31m# template strings\u001b[0m\u001b[1;33m\u001b[0m\u001b[1;33m\u001b[0m\u001b[1;33m\u001b[0m\u001b[0m\n\u001b[0;32m      2\u001b[0m \u001b[0mname\u001b[0m\u001b[1;33m=\u001b[0m\u001b[1;34m\"jayaram\"\u001b[0m\u001b[1;33m\u001b[0m\u001b[1;33m\u001b[0m\u001b[0m\n\u001b[1;32m----> 3\u001b[1;33m \u001b[0ms\u001b[0m\u001b[1;33m=\u001b[0m\u001b[1;34mf\"The {name123} is\"\u001b[0m\u001b[1;33m\u001b[0m\u001b[1;33m\u001b[0m\u001b[0m\n\u001b[0m\u001b[0;32m      4\u001b[0m \u001b[0mprint\u001b[0m\u001b[1;33m(\u001b[0m\u001b[0ms\u001b[0m\u001b[1;33m)\u001b[0m\u001b[1;33m\u001b[0m\u001b[1;33m\u001b[0m\u001b[0m\n",
      "\u001b[1;31mNameError\u001b[0m: name 'name123' is not defined"
     ]
    }
   ],
   "source": [
    "# template strings\n",
    "name=\"jayaram\"\n",
    "s=f\"The {name123} is\"\n",
    "print(s)"
   ]
  },
  {
   "cell_type": "code",
   "execution_count": 17,
   "metadata": {},
   "outputs": [
    {
     "name": "stdout",
     "output_type": "stream",
     "text": [
      "sum: 30\n"
     ]
    }
   ],
   "source": [
    "# template strings\n",
    "name=\"jayaram\"\n",
    "s=f\"sum: {10+20}\"\n",
    "print(s)"
   ]
  },
  {
   "cell_type": "code",
   "execution_count": 19,
   "metadata": {},
   "outputs": [
    {
     "name": "stdout",
     "output_type": "stream",
     "text": [
      "The Jayaram is 5 years old, he is 3.2feet height and 19KG weight\n",
      "The Jayaram is 5 years old, he is 3.2feet height and 19KG weight\n"
     ]
    }
   ],
   "source": [
    "name=\"Jayaram\"\n",
    "age=5\n",
    "height=3.2\n",
    "weight=19\n",
    "# The jayaram is 5 years old, he is 3.2feet height and 19KG weight.\n",
    "print(\"The\",name,\"is\",age,\"yearsa old, he is\",str(height)+\"feet height and\",str(weight)+\"KG weight\")\n",
    "print(f\"The {name} is {age} years old, he is {height}feet height and {weight}KG weight\")"
   ]
  },
  {
   "cell_type": "code",
   "execution_count": null,
   "metadata": {},
   "outputs": [],
   "source": [
    "name=\"Jayaram\"\n",
    "age=5\n",
    "height=3.2\n",
    "weight=19\n",
    "# The jayaram is 5 years old, he is 3.2feet height and 19KG weight.\n",
    "print(\"The\",name,\"is\",age,\"yearsa old, he is\",str(height)+\"feet height and\",str(weight)+\"KG weight\")\n",
    "print(f\"The {name} is {age} years old, he is {height}feet height and {weight}KG weight\")\n",
    "# format specifiers."
   ]
  },
  {
   "cell_type": "code",
   "execution_count": 20,
   "metadata": {},
   "outputs": [
    {
     "name": "stdout",
     "output_type": "stream",
     "text": [
      "The %s is Jayaram\n"
     ]
    }
   ],
   "source": [
    "name=\"Jayaram\"\n",
    "print(\"The %s is\",name)"
   ]
  },
  {
   "cell_type": "code",
   "execution_count": 21,
   "metadata": {},
   "outputs": [
    {
     "name": "stdout",
     "output_type": "stream",
     "text": [
      "The Jayaram is\n"
     ]
    }
   ],
   "source": [
    "name=\"Jayaram\"\n",
    "print(\"The %s is\"%name)"
   ]
  },
  {
   "cell_type": "code",
   "execution_count": 24,
   "metadata": {},
   "outputs": [
    {
     "name": "stdout",
     "output_type": "stream",
     "text": [
      "The Jayaram is 5 years old, he is 3.2feet height and 19KG weight\n",
      "The Jayaram is 5 years old, he is 3.2feet height and 19KG weight\n",
      "The Jayaram is 5 years old, he is 3.2feet height and 19KG weight\n"
     ]
    }
   ],
   "source": [
    "name=\"Jayaram\"\n",
    "age=5\n",
    "height=3.2\n",
    "weight=19\n",
    "# The jayaram is 5 years old, he is 3.2feet height and 19KG weight.\n",
    "print(\"The\",name,\"is\",age,\"years old, he is\",str(height)+\"feet height and\",str(weight)+\"KG weight\")\n",
    "#template strings.\n",
    "print(f\"The {name} is {age} years old, he is {height}feet height and {weight}KG weight\")\n",
    "# format specifiers.\n",
    "print(\"The %s is %s years old, he is %sfeet height and %sKG weight\" %(name,age, height, weight))"
   ]
  },
  {
   "cell_type": "code",
   "execution_count": 25,
   "metadata": {},
   "outputs": [
    {
     "name": "stdout",
     "output_type": "stream",
     "text": [
      "The Jayaram is 5 years old, he is 3.223456feet height and 19.87346KG weight\n",
      "The Jayaram is 5 years old, he is 3.223456feet height and 19.87346KG weight\n",
      "The Jayaram is 5 years old, he is 3.223456feet height and 19.87346KG weight\n"
     ]
    }
   ],
   "source": [
    "name=\"Jayaram\"\n",
    "age=5\n",
    "height=3.227456\n",
    "weight=19.87346\n",
    "# The jayaram is 5 years old, he is 3.2feet height and 19KG weight.\n",
    "print(\"The\",name,\"is\",age,\"years old, he is\",str(height)+\"feet height and\",str(weight)+\"KG weight\")\n",
    "#template strings.\n",
    "print(f\"The {name} is {age} years old, he is {height}feet height and {weight}KG weight\")\n",
    "# format specifiers.\n",
    "print(\"The %s is %s years old, he is %sfeet height and %sKG weight\" %(name,age, height, weight))"
   ]
  },
  {
   "cell_type": "code",
   "execution_count": 26,
   "metadata": {},
   "outputs": [
    {
     "data": {
      "text/plain": [
       "3.46"
      ]
     },
     "execution_count": 26,
     "metadata": {},
     "output_type": "execute_result"
    }
   ],
   "source": [
    "round(3.45789,2)"
   ]
  },
  {
   "cell_type": "code",
   "execution_count": 27,
   "metadata": {},
   "outputs": [
    {
     "data": {
      "text/plain": [
       "3.458"
      ]
     },
     "execution_count": 27,
     "metadata": {},
     "output_type": "execute_result"
    }
   ],
   "source": [
    "round(3.45789,3)"
   ]
  },
  {
   "cell_type": "code",
   "execution_count": 28,
   "metadata": {},
   "outputs": [
    {
     "name": "stdout",
     "output_type": "stream",
     "text": [
      "The Jayaram is 5 years old, he is 3.23feet height and 19.87KG weight\n",
      "The Jayaram is 5 years old, he is 3.227456feet height and 19.87346KG weight\n",
      "The Jayaram is 5 years old, he is 3.227456feet height and 19.87346KG weight\n"
     ]
    }
   ],
   "source": [
    "name=\"Jayaram\"\n",
    "age=5\n",
    "height=3.227456\n",
    "weight=19.87346\n",
    "# The jayaram is 5 years old, he is 3.2feet height and 19KG weight.\n",
    "print(\"The\",name,\"is\",age,\"years old, he is\",str(round(height,2))+\"feet height and\",str(round(weight,2))+\"KG weight\")\n",
    "#template strings.\n",
    "print(f\"The {name} is {age} years old, he is {height}feet height and {weight}KG weight\")\n",
    "# format specifiers.\n",
    "print(\"The %s is %s years old, he is %sfeet height and %sKG weight\" %(name,age, height, weight))"
   ]
  },
  {
   "cell_type": "code",
   "execution_count": 29,
   "metadata": {},
   "outputs": [
    {
     "name": "stdout",
     "output_type": "stream",
     "text": [
      "The Jayaram is 5 years old, he is 3.23feet height and 19.87KG weight\n",
      "The Jayaram is 5 years old, he is 3.23feet height and 19.87KG weight\n",
      "The Jayaram is 5 years old, he is 3.227456feet height and 19.87346KG weight\n"
     ]
    }
   ],
   "source": [
    "name=\"Jayaram\"\n",
    "age=5\n",
    "height=3.227456\n",
    "weight=19.87346\n",
    "# The jayaram is 5 years old, he is 3.2feet height and 19KG weight.\n",
    "print(\"The\",name,\"is\",age,\"years old, he is\",str(round(height,2))+\"feet height and\",str(round(weight,2))+\"KG weight\")\n",
    "#template strings.\n",
    "print(f\"The {name} is {age} years old, he is {round(height,2)}feet height and {round(weight,2)}KG weight\")\n",
    "# format specifiers.\n",
    "print(\"The %s is %s years old, he is %sfeet height and %sKG weight\" %(name,age, height, weight))"
   ]
  },
  {
   "cell_type": "code",
   "execution_count": 31,
   "metadata": {},
   "outputs": [
    {
     "name": "stdout",
     "output_type": "stream",
     "text": [
      "The Jayaram is 5 years old, he is 3.23feet height and 19.87KG weight\n",
      "The Jayaram is 5 years old, he is 3.23feet height and 19.87KG weight\n",
      "The Jayaram is 5 years old, he is 3.23feet height and 19.87KG weight\n"
     ]
    }
   ],
   "source": [
    "name=\"Jayaram\"\n",
    "age=5\n",
    "height=3.227456\n",
    "weight=19.87346\n",
    "# The jayaram is 5 years old, he is 3.2feet height and 19KG weight.\n",
    "print(\"The\",name,\"is\",age,\"years old, he is\",str(round(height,2))+\"feet height and\",str(round(weight,2))+\"KG weight\")\n",
    "#template strings.\n",
    "print(f\"The {name} is {age} years old, he is {round(height,2)}feet height and {round(weight,2)}KG weight\")\n",
    "# format specifiers.\n",
    "print(\"The %s is %s years old, he is %sfeet height and %sKG weight\" %(name,age, round(height,2), round(weight,2)))"
   ]
  },
  {
   "cell_type": "code",
   "execution_count": 32,
   "metadata": {},
   "outputs": [
    {
     "name": "stdout",
     "output_type": "stream",
     "text": [
      "The Jayaram is 5 years old, he is 3.23feet height and 19.87KG weight\n",
      "The Jayaram is 5 years old, he is 3.227456feet height and 19.873460KG weight\n",
      "The Jayaram is 5 years old, he is 3.227456feet height and 19.873460KG weight\n"
     ]
    }
   ],
   "source": [
    "name=\"Jayaram\"\n",
    "age=5\n",
    "height=3.227456\n",
    "weight=19.87346\n",
    "# The jayaram is 5 years old, he is 3.2feet height and 19KG weight.\n",
    "print(\"The\",name,\"is\",age,\"years old, he is\",str(round(height,2))+\"feet height and\",str(round(weight,2))+\"KG weight\")\n",
    "#template strings.\n",
    "print(f\"The {name} is {age} years old, he is {height:f}feet height and {weight:f}KG weight\")\n",
    "# format specifiers.\n",
    "print(\"The %s is %s years old, he is %ffeet height and %fKG weight\" %(name,age, height, weight))"
   ]
  },
  {
   "cell_type": "code",
   "execution_count": 33,
   "metadata": {},
   "outputs": [
    {
     "name": "stdout",
     "output_type": "stream",
     "text": [
      "The Jayaram is 5 years old, he is 3.23feet height and 19.87KG weight\n",
      "The Jayaram is 5 years old, he is 3.23feet height and 19.87KG weight\n",
      "The Jayaram is 5 years old, he is 3.23feet height and 19.87KG weight\n"
     ]
    }
   ],
   "source": [
    "name=\"Jayaram\"\n",
    "age=5\n",
    "height=3.227456\n",
    "weight=19.87346\n",
    "# The jayaram is 5 years old, he is 3.2feet height and 19KG weight.\n",
    "print(\"The\",name,\"is\",age,\"years old, he is\",str(round(height,2))+\"feet height and\",str(round(weight,2))+\"KG weight\")\n",
    "#template strings.\n",
    "print(f\"The {name} is {age} years old, he is {height:.2f}feet height and {weight:.2f}KG weight\")\n",
    "# format specifiers.\n",
    "print(\"The %s is %s years old, he is %.2ffeet height and %.2fKG weight\" %(name,age, height, weight))"
   ]
  },
  {
   "cell_type": "code",
   "execution_count": 34,
   "metadata": {},
   "outputs": [
    {
     "name": "stdout",
     "output_type": "stream",
     "text": [
      "10\n"
     ]
    }
   ],
   "source": [
    "print(\"%d\"%10.23)"
   ]
  },
  {
   "cell_type": "code",
   "execution_count": 36,
   "metadata": {},
   "outputs": [
    {
     "name": "stdout",
     "output_type": "stream",
     "text": [
      "10\n",
      "12.000000\n",
      "1234\n",
      "4d2\n",
      "2322\n"
     ]
    }
   ],
   "source": [
    "print(\"%d\"%10.23)\n",
    "print(\"%f\"%12)\n",
    "print(\"%s\"%1234)\n",
    "print(\"%x\"%1234)\n",
    "print(\"%o\"%1234)"
   ]
  },
  {
   "cell_type": "code",
   "execution_count": 37,
   "metadata": {},
   "outputs": [
    {
     "data": {
      "text/plain": [
       "'0x4d2'"
      ]
     },
     "execution_count": 37,
     "metadata": {},
     "output_type": "execute_result"
    }
   ],
   "source": [
    "hex(1234)"
   ]
  },
  {
   "cell_type": "code",
   "execution_count": 38,
   "metadata": {},
   "outputs": [
    {
     "data": {
      "text/plain": [
       "'0o2322'"
      ]
     },
     "execution_count": 38,
     "metadata": {},
     "output_type": "execute_result"
    }
   ],
   "source": [
    "oct(1234)"
   ]
  },
  {
   "cell_type": "code",
   "execution_count": 39,
   "metadata": {},
   "outputs": [
    {
     "data": {
      "text/plain": [
       "'0b10011010010'"
      ]
     },
     "execution_count": 39,
     "metadata": {},
     "output_type": "execute_result"
    }
   ],
   "source": [
    "bin(1234)"
   ]
  },
  {
   "cell_type": "code",
   "execution_count": 41,
   "metadata": {},
   "outputs": [
    {
     "name": "stdout",
     "output_type": "stream",
     "text": [
      "The nuber is 12\n"
     ]
    }
   ],
   "source": [
    "number = 12.34\n",
    "print(\"The nuber is\",int(number))"
   ]
  },
  {
   "cell_type": "code",
   "execution_count": 42,
   "metadata": {},
   "outputs": [
    {
     "name": "stdout",
     "output_type": "stream",
     "text": [
      "The nuber is 12\n"
     ]
    }
   ],
   "source": [
    "number = 12.34\n",
    "print(\"The nuber is %d\" % number)"
   ]
  },
  {
   "cell_type": "code",
   "execution_count": 44,
   "metadata": {},
   "outputs": [
    {
     "ename": "ValueError",
     "evalue": "Unknown format code 'd' for object of type 'float'",
     "output_type": "error",
     "traceback": [
      "\u001b[1;31m---------------------------------------------------------------------------\u001b[0m",
      "\u001b[1;31mValueError\u001b[0m                                Traceback (most recent call last)",
      "\u001b[1;32m<ipython-input-44-ce8148749bd3>\u001b[0m in \u001b[0;36m<module>\u001b[1;34m\u001b[0m\n\u001b[0;32m      1\u001b[0m \u001b[0mnumber\u001b[0m \u001b[1;33m=\u001b[0m \u001b[1;36m12.34\u001b[0m\u001b[1;33m\u001b[0m\u001b[1;33m\u001b[0m\u001b[0m\n\u001b[1;32m----> 2\u001b[1;33m \u001b[0mprint\u001b[0m\u001b[1;33m(\u001b[0m\u001b[1;34mf\"The nuber is {number:d}\"\u001b[0m\u001b[1;33m)\u001b[0m\u001b[1;33m\u001b[0m\u001b[1;33m\u001b[0m\u001b[0m\n\u001b[0m",
      "\u001b[1;31mValueError\u001b[0m: Unknown format code 'd' for object of type 'float'"
     ]
    }
   ],
   "source": [
    "number = 12.34\n",
    "print(f\"The nuber is {number:d}\")"
   ]
  },
  {
   "cell_type": "code",
   "execution_count": 45,
   "metadata": {},
   "outputs": [
    {
     "name": "stdout",
     "output_type": "stream",
     "text": [
      "The nuber is 12\n"
     ]
    }
   ],
   "source": [
    "number = 12.34\n",
    "print(f\"The nuber is {int(number)}\")"
   ]
  },
  {
   "cell_type": "code",
   "execution_count": 46,
   "metadata": {},
   "outputs": [
    {
     "ename": "SyntaxError",
     "evalue": "invalid syntax (<ipython-input-46-4e7ac387049c>, line 1)",
     "output_type": "error",
     "traceback": [
      "\u001b[1;36m  File \u001b[1;32m\"<ipython-input-46-4e7ac387049c>\"\u001b[1;36m, line \u001b[1;32m1\u001b[0m\n\u001b[1;33m    print(\"It's raining in \"hyderabad\"\")\u001b[0m\n\u001b[1;37m                            ^\u001b[0m\n\u001b[1;31mSyntaxError\u001b[0m\u001b[1;31m:\u001b[0m invalid syntax\n"
     ]
    }
   ],
   "source": [
    "print(\"It's raining in \"hyderabad\"\")"
   ]
  },
  {
   "cell_type": "code",
   "execution_count": 47,
   "metadata": {},
   "outputs": [
    {
     "name": "stdout",
     "output_type": "stream",
     "text": [
      "hellohi\n"
     ]
    }
   ],
   "source": [
    "print(\"hello\"\"hi\")"
   ]
  },
  {
   "cell_type": "code",
   "execution_count": 48,
   "metadata": {},
   "outputs": [
    {
     "name": "stdout",
     "output_type": "stream",
     "text": [
      "hello\"\"hi\n"
     ]
    }
   ],
   "source": [
    "print(\"hello\\\"\\\"hi\")"
   ]
  },
  {
   "cell_type": "code",
   "execution_count": 49,
   "metadata": {},
   "outputs": [
    {
     "name": "stdout",
     "output_type": "stream",
     "text": [
      "It's raining in \"hyderabad\"\n"
     ]
    }
   ],
   "source": [
    "print(\"It's raining in \\\"hyderabad\\\"\")"
   ]
  },
  {
   "cell_type": "code",
   "execution_count": 50,
   "metadata": {},
   "outputs": [
    {
     "name": "stdout",
     "output_type": "stream",
     "text": [
      "hello\n",
      "hi\n"
     ]
    }
   ],
   "source": [
    "print(\"hello\")\n",
    "print(\"hi\")"
   ]
  },
  {
   "cell_type": "code",
   "execution_count": 51,
   "metadata": {},
   "outputs": [
    {
     "name": "stdout",
     "output_type": "stream",
     "text": [
      "hello,hi\n"
     ]
    }
   ],
   "source": [
    "print(\"hello\", end=\",\")\n",
    "print(\"hi\")"
   ]
  },
  {
   "cell_type": "code",
   "execution_count": 52,
   "metadata": {},
   "outputs": [],
   "source": [
    "print?"
   ]
  },
  {
   "cell_type": "code",
   "execution_count": 53,
   "metadata": {},
   "outputs": [
    {
     "name": "stdout",
     "output_type": "stream",
     "text": [
      "hello, hi\n"
     ]
    }
   ],
   "source": [
    "print(\"hello, hi\")"
   ]
  },
  {
   "cell_type": "code",
   "execution_count": 54,
   "metadata": {},
   "outputs": [
    {
     "name": "stdout",
     "output_type": "stream",
     "text": [
      "hello\n",
      "hi\n"
     ]
    }
   ],
   "source": [
    "print(\"hello\\nhi\")"
   ]
  },
  {
   "cell_type": "code",
   "execution_count": 55,
   "metadata": {},
   "outputs": [
    {
     "name": "stdout",
     "output_type": "stream",
     "text": [
      "hello\\nhi\n"
     ]
    }
   ],
   "source": [
    "print(\"hello\\\\nhi\")"
   ]
  },
  {
   "cell_type": "code",
   "execution_count": 56,
   "metadata": {},
   "outputs": [
    {
     "name": "stdout",
     "output_type": "stream",
     "text": [
      "dsfsdf\n",
      "sdfsdfs\tsdfsdf\n",
      "sdfsdf\n",
      "sdfdsf\tsfsdfsd\n"
     ]
    }
   ],
   "source": [
    "print(\"dsfsdf\\nsdfsdfs\\tsdfsdf\\nsdfsdf\\nsdfdsf\\tsfsdfsd\")"
   ]
  },
  {
   "cell_type": "code",
   "execution_count": 58,
   "metadata": {},
   "outputs": [
    {
     "name": "stdout",
     "output_type": "stream",
     "text": [
      "dsfsdf\\nsdfsdfs\\tsdfsdf\\n\\sdfsdf\\nsdfdsf\\tsfsdfsd\n"
     ]
    }
   ],
   "source": [
    "print(\"dsfsdf\\\\nsdfsdfs\\\\tsdfsdf\\\\n\\sdfsdf\\\\nsdfdsf\\\\tsfsdfsd\")"
   ]
  },
  {
   "cell_type": "code",
   "execution_count": 59,
   "metadata": {},
   "outputs": [
    {
     "name": "stdout",
     "output_type": "stream",
     "text": [
      "dsfsdf\\nsdfsdfs\\tsdfsdf\\nsdfsdf\\nsdfdsf\\tsfsdfsd\n"
     ]
    }
   ],
   "source": [
    "print(r\"dsfsdf\\nsdfsdfs\\tsdfsdf\\nsdfsdf\\nsdfdsf\\tsfsdfsd\")"
   ]
  },
  {
   "cell_type": "code",
   "execution_count": 60,
   "metadata": {},
   "outputs": [
    {
     "name": "stdout",
     "output_type": "stream",
     "text": [
      "dsfsdf\n",
      "sdfsdfs\tsdfsdf\n",
      "sdfsdf\n",
      "sdfdsf\tsfsdfsd\n"
     ]
    }
   ],
   "source": [
    "print(\"dsfsdf\\nsdfsdfs\\tsdfsdf\\nsdfsdf\\nsdfdsf\\tsfsdfsd\")"
   ]
  },
  {
   "cell_type": "code",
   "execution_count": null,
   "metadata": {},
   "outputs": [],
   "source": []
  }
 ],
 "metadata": {
  "kernelspec": {
   "display_name": "Python 3",
   "language": "python",
   "name": "python3"
  },
  "language_info": {
   "codemirror_mode": {
    "name": "ipython",
    "version": 3
   },
   "file_extension": ".py",
   "mimetype": "text/x-python",
   "name": "python",
   "nbconvert_exporter": "python",
   "pygments_lexer": "ipython3",
   "version": "3.8.3"
  }
 },
 "nbformat": 4,
 "nbformat_minor": 4
}
