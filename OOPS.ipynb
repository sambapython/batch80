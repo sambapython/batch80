{
 "cells": [
  {
   "cell_type": "code",
   "execution_count": 1,
   "metadata": {},
   "outputs": [
    {
     "name": "stdout",
     "output_type": "stream",
     "text": [
      "this is class\n"
     ]
    }
   ],
   "source": [
    "def fun():\n",
    "    print(\"this is fun\")\n",
    "class Emp:\n",
    "    print(\"this is class\")"
   ]
  },
  {
   "cell_type": "code",
   "execution_count": 2,
   "metadata": {},
   "outputs": [
    {
     "name": "stdout",
     "output_type": "stream",
     "text": [
      "this is class\n"
     ]
    }
   ],
   "source": [
    "def fun():\n",
    "    print(\"this is fun\")\n",
    "class Emp:\n",
    "    print(\"this is class\")\n",
    "    def fun1(x):\n",
    "        print(\"this is fun1 in class\")"
   ]
  },
  {
   "cell_type": "code",
   "execution_count": 3,
   "metadata": {},
   "outputs": [
    {
     "ename": "NameError",
     "evalue": "name 'x' is not defined",
     "output_type": "error",
     "traceback": [
      "\u001b[1;31m---------------------------------------------------------------------------\u001b[0m",
      "\u001b[1;31mNameError\u001b[0m                                 Traceback (most recent call last)",
      "\u001b[1;32m<ipython-input-3-9cb06ca6b68f>\u001b[0m in \u001b[0;36m<module>\u001b[1;34m\u001b[0m\n\u001b[0;32m      2\u001b[0m     \u001b[0mx\u001b[0m\u001b[1;33m=\u001b[0m\u001b[1;36m100\u001b[0m\u001b[1;33m\u001b[0m\u001b[1;33m\u001b[0m\u001b[0m\n\u001b[0;32m      3\u001b[0m     \u001b[0my\u001b[0m\u001b[1;33m=\u001b[0m\u001b[1;36m200\u001b[0m\u001b[1;33m\u001b[0m\u001b[1;33m\u001b[0m\u001b[0m\n\u001b[1;32m----> 4\u001b[1;33m \u001b[0mprint\u001b[0m\u001b[1;33m(\u001b[0m\u001b[0mx\u001b[0m\u001b[1;33m,\u001b[0m\u001b[0my\u001b[0m\u001b[1;33m)\u001b[0m\u001b[1;33m\u001b[0m\u001b[1;33m\u001b[0m\u001b[0m\n\u001b[0m",
      "\u001b[1;31mNameError\u001b[0m: name 'x' is not defined"
     ]
    }
   ],
   "source": [
    "class Emp:\n",
    "    x=100\n",
    "    y=200\n",
    "print(x,y)"
   ]
  },
  {
   "cell_type": "code",
   "execution_count": 4,
   "metadata": {},
   "outputs": [
    {
     "name": "stdout",
     "output_type": "stream",
     "text": [
      "100 200\n"
     ]
    }
   ],
   "source": [
    "class Emp:\n",
    "    x=100\n",
    "    y=200\n",
    "print(Emp.x,Emp.y)"
   ]
  },
  {
   "cell_type": "code",
   "execution_count": 5,
   "metadata": {},
   "outputs": [
    {
     "name": "stdout",
     "output_type": "stream",
     "text": [
      "100 200\n",
      "Jayaram Vedhanvesh\n"
     ]
    }
   ],
   "source": [
    "class Emp:\n",
    "    x=100\n",
    "    y=200\n",
    "print(Emp.x,Emp.y)\n",
    "jay=Emp()\n",
    "jay.name=\"Jayaram\"\n",
    "vedha=Emp()\n",
    "vedha.name=\"Vedhanvesh\"\n",
    "print(jay.name, vedha.name, )"
   ]
  },
  {
   "cell_type": "code",
   "execution_count": 6,
   "metadata": {},
   "outputs": [
    {
     "name": "stdout",
     "output_type": "stream",
     "text": [
      "100 200\n",
      "Jayaram Vedhanvesh\n"
     ]
    },
    {
     "ename": "AttributeError",
     "evalue": "type object 'Emp' has no attribute 'name'",
     "output_type": "error",
     "traceback": [
      "\u001b[1;31m---------------------------------------------------------------------------\u001b[0m",
      "\u001b[1;31mAttributeError\u001b[0m                            Traceback (most recent call last)",
      "\u001b[1;32m<ipython-input-6-daea1c2143e6>\u001b[0m in \u001b[0;36m<module>\u001b[1;34m\u001b[0m\n\u001b[0;32m      8\u001b[0m \u001b[0mvedha\u001b[0m\u001b[1;33m.\u001b[0m\u001b[0mname\u001b[0m\u001b[1;33m=\u001b[0m\u001b[1;34m\"Vedhanvesh\"\u001b[0m\u001b[1;33m\u001b[0m\u001b[1;33m\u001b[0m\u001b[0m\n\u001b[0;32m      9\u001b[0m \u001b[0mprint\u001b[0m\u001b[1;33m(\u001b[0m\u001b[0mjay\u001b[0m\u001b[1;33m.\u001b[0m\u001b[0mname\u001b[0m\u001b[1;33m,\u001b[0m \u001b[0mvedha\u001b[0m\u001b[1;33m.\u001b[0m\u001b[0mname\u001b[0m\u001b[1;33m)\u001b[0m\u001b[1;33m\u001b[0m\u001b[1;33m\u001b[0m\u001b[0m\n\u001b[1;32m---> 10\u001b[1;33m \u001b[0mprint\u001b[0m\u001b[1;33m(\u001b[0m\u001b[0mEmp\u001b[0m\u001b[1;33m.\u001b[0m\u001b[0mname\u001b[0m\u001b[1;33m)\u001b[0m\u001b[1;33m\u001b[0m\u001b[1;33m\u001b[0m\u001b[0m\n\u001b[0m",
      "\u001b[1;31mAttributeError\u001b[0m: type object 'Emp' has no attribute 'name'"
     ]
    }
   ],
   "source": [
    "class Emp:\n",
    "    x=100\n",
    "    y=200\n",
    "print(Emp.x,Emp.y)\n",
    "jay=Emp()\n",
    "jay.name=\"Jayaram\"\n",
    "vedha=Emp()\n",
    "vedha.name=\"Vedhanvesh\"\n",
    "print(jay.name, vedha.name)\n",
    "print(Emp.name)"
   ]
  },
  {
   "cell_type": "code",
   "execution_count": 8,
   "metadata": {},
   "outputs": [
    {
     "name": "stdout",
     "output_type": "stream",
     "text": [
      "100 200\n",
      "Jayaram Vedhanvesh\n",
      "100 200\n",
      "100 200\n"
     ]
    }
   ],
   "source": [
    "class Emp:\n",
    "    x=100\n",
    "    y=200\n",
    "print(Emp.x,Emp.y)\n",
    "jay=Emp()\n",
    "jay.name=\"Jayaram\"\n",
    "vedha=Emp()\n",
    "vedha.name=\"Vedhanvesh\"\n",
    "print(jay.name, vedha.name)\n",
    "\n",
    "print(jay.x,jay.y)\n",
    "print(vedha.x, vedha.y)"
   ]
  },
  {
   "cell_type": "code",
   "execution_count": 9,
   "metadata": {},
   "outputs": [
    {
     "name": "stdout",
     "output_type": "stream",
     "text": [
      "jayaram 1 28\n",
      "Sai Lakshmi 3 32\n",
      "Vedhanvesh 2 29\n"
     ]
    }
   ],
   "source": [
    "class Emp:\n",
    "    pass\n",
    "jay = Emp()\n",
    "jay.name=\"jayaram\"\n",
    "jay.id=1\n",
    "jay.age=28\n",
    "vedha = Emp()\n",
    "vedha.name=\"Vedhanvesh\"\n",
    "vedha.id=2\n",
    "vedha.age=29\n",
    "sai = Emp()\n",
    "sai.name=\"Sai Lakshmi\"\n",
    "sai.id=3\n",
    "sai.age=32\n",
    "print(jay.name,jay.id,jay.age)\n",
    "print(sai.name,sai.id,sai.age)\n",
    "print(vedha.name,vedha.id,vedha.age)"
   ]
  },
  {
   "cell_type": "code",
   "execution_count": 10,
   "metadata": {},
   "outputs": [
    {
     "name": "stdout",
     "output_type": "stream",
     "text": [
      "('jayaram', 1, 28)\n",
      "('Sai Lakshmi', 3, 32)\n",
      "('Vedhanvesh', 2, 29)\n"
     ]
    }
   ],
   "source": [
    "class Emp:\n",
    "    def get(x):\n",
    "        return x.name,x.id,x.age\n",
    "        \n",
    "jay = Emp()\n",
    "jay.name=\"jayaram\"\n",
    "jay.id=1\n",
    "jay.age=28\n",
    "vedha = Emp()\n",
    "vedha.name=\"Vedhanvesh\"\n",
    "vedha.id=2\n",
    "vedha.age=29\n",
    "sai = Emp()\n",
    "sai.name=\"Sai Lakshmi\"\n",
    "sai.id=3\n",
    "sai.age=32\n",
    "print(Emp.get(jay))\n",
    "print(Emp.get(sai))\n",
    "print(Emp.get(vedha))"
   ]
  },
  {
   "cell_type": "code",
   "execution_count": 11,
   "metadata": {},
   "outputs": [
    {
     "name": "stdout",
     "output_type": "stream",
     "text": [
      "('Jayaram', 1, 28)\n",
      "('Sai lakshmi', 3, 32)\n",
      "('Vedhanvesh', 2, 29)\n"
     ]
    }
   ],
   "source": [
    "class Emp:\n",
    "    def set_data(x,name,emp_id,age):\n",
    "        x.name=name\n",
    "        x.id=emp_id\n",
    "        x.age=age\n",
    "        \n",
    "    def get(x):\n",
    "        return x.name,x.id,x.age\n",
    "        \n",
    "jay = Emp()\n",
    "Emp.set_data(jay,\"Jayaram\",1,28)\n",
    "# jay.name=\"jayaram\"\n",
    "# jay.id=1\n",
    "# jay.age=28\n",
    "vedha = Emp()\n",
    "Emp.set_data(vedha,\"Vedhanvesh\",2,29)\n",
    "# vedha.name=\"Vedhanvesh\"\n",
    "# vedha.id=2\n",
    "# vedha.age=29\n",
    "sai = Emp()\n",
    "Emp.set_data(sai,\"Sai lakshmi\",3,32)\n",
    "# sai.name=\"Sai Lakshmi\"\n",
    "# sai.id=3\n",
    "# sai.age=32\n",
    "print(Emp.get(jay))\n",
    "print(Emp.get(sai))\n",
    "print(Emp.get(vedha))"
   ]
  },
  {
   "cell_type": "code",
   "execution_count": 12,
   "metadata": {},
   "outputs": [
    {
     "name": "stdout",
     "output_type": "stream",
     "text": [
      "('Jayaram', 1, 28)\n",
      "('Sai lakshmi', 3, 32)\n",
      "('Vedhanvesh', 2, 29)\n"
     ]
    }
   ],
   "source": [
    "class Emp:\n",
    "    def set_data(x,name,emp_id,age):\n",
    "        x.name=name\n",
    "        x.id=emp_id\n",
    "        x.age=age\n",
    "        \n",
    "    def get(x):\n",
    "        return x.name,x.id,x.age\n",
    "jay = Emp()\n",
    "Emp.set_data(jay,\"Jayaram\",1,28)\n",
    "vedha = Emp()\n",
    "Emp.set_data(vedha,\"Vedhanvesh\",2,29)\n",
    "sai = Emp()\n",
    "Emp.set_data(sai,\"Sai lakshmi\",3,32)\n",
    "print(Emp.get(jay))\n",
    "print(Emp.get(sai))\n",
    "print(Emp.get(vedha))"
   ]
  },
  {
   "cell_type": "code",
   "execution_count": 13,
   "metadata": {},
   "outputs": [
    {
     "name": "stdout",
     "output_type": "stream",
     "text": [
      "('Jayaram', 1, 28)\n",
      "('Sai lakshmi', 3, 32)\n",
      "('Vedhanvesh', 2, 29)\n"
     ]
    },
    {
     "ename": "AttributeError",
     "evalue": "'Emp' object has no attribute 'name'",
     "output_type": "error",
     "traceback": [
      "\u001b[1;31m---------------------------------------------------------------------------\u001b[0m",
      "\u001b[1;31mAttributeError\u001b[0m                            Traceback (most recent call last)",
      "\u001b[1;32m<ipython-input-13-3106c3b10449>\u001b[0m in \u001b[0;36m<module>\u001b[1;34m\u001b[0m\n\u001b[0;32m     17\u001b[0m \u001b[0mprint\u001b[0m\u001b[1;33m(\u001b[0m\u001b[0mEmp\u001b[0m\u001b[1;33m.\u001b[0m\u001b[0mget\u001b[0m\u001b[1;33m(\u001b[0m\u001b[0mvedha\u001b[0m\u001b[1;33m)\u001b[0m\u001b[1;33m)\u001b[0m\u001b[1;33m\u001b[0m\u001b[1;33m\u001b[0m\u001b[0m\n\u001b[0;32m     18\u001b[0m \u001b[0msamba\u001b[0m \u001b[1;33m=\u001b[0m \u001b[0mEmp\u001b[0m\u001b[1;33m(\u001b[0m\u001b[1;33m)\u001b[0m\u001b[1;33m\u001b[0m\u001b[1;33m\u001b[0m\u001b[0m\n\u001b[1;32m---> 19\u001b[1;33m \u001b[0mprint\u001b[0m\u001b[1;33m(\u001b[0m\u001b[0mEmp\u001b[0m\u001b[1;33m.\u001b[0m\u001b[0mget\u001b[0m\u001b[1;33m(\u001b[0m\u001b[0msamba\u001b[0m\u001b[1;33m)\u001b[0m\u001b[1;33m)\u001b[0m\u001b[1;33m\u001b[0m\u001b[1;33m\u001b[0m\u001b[0m\n\u001b[0m",
      "\u001b[1;32m<ipython-input-13-3106c3b10449>\u001b[0m in \u001b[0;36mget\u001b[1;34m(x)\u001b[0m\n\u001b[0;32m      6\u001b[0m \u001b[1;33m\u001b[0m\u001b[0m\n\u001b[0;32m      7\u001b[0m     \u001b[1;32mdef\u001b[0m \u001b[0mget\u001b[0m\u001b[1;33m(\u001b[0m\u001b[0mx\u001b[0m\u001b[1;33m)\u001b[0m\u001b[1;33m:\u001b[0m\u001b[1;33m\u001b[0m\u001b[1;33m\u001b[0m\u001b[0m\n\u001b[1;32m----> 8\u001b[1;33m         \u001b[1;32mreturn\u001b[0m \u001b[0mx\u001b[0m\u001b[1;33m.\u001b[0m\u001b[0mname\u001b[0m\u001b[1;33m,\u001b[0m\u001b[0mx\u001b[0m\u001b[1;33m.\u001b[0m\u001b[0mid\u001b[0m\u001b[1;33m,\u001b[0m\u001b[0mx\u001b[0m\u001b[1;33m.\u001b[0m\u001b[0mage\u001b[0m\u001b[1;33m\u001b[0m\u001b[1;33m\u001b[0m\u001b[0m\n\u001b[0m\u001b[0;32m      9\u001b[0m \u001b[0mjay\u001b[0m \u001b[1;33m=\u001b[0m \u001b[0mEmp\u001b[0m\u001b[1;33m(\u001b[0m\u001b[1;33m)\u001b[0m\u001b[1;33m\u001b[0m\u001b[1;33m\u001b[0m\u001b[0m\n\u001b[0;32m     10\u001b[0m \u001b[0mEmp\u001b[0m\u001b[1;33m.\u001b[0m\u001b[0mset_data\u001b[0m\u001b[1;33m(\u001b[0m\u001b[0mjay\u001b[0m\u001b[1;33m,\u001b[0m\u001b[1;34m\"Jayaram\"\u001b[0m\u001b[1;33m,\u001b[0m\u001b[1;36m1\u001b[0m\u001b[1;33m,\u001b[0m\u001b[1;36m28\u001b[0m\u001b[1;33m)\u001b[0m\u001b[1;33m\u001b[0m\u001b[1;33m\u001b[0m\u001b[0m\n",
      "\u001b[1;31mAttributeError\u001b[0m: 'Emp' object has no attribute 'name'"
     ]
    }
   ],
   "source": [
    "class Emp:\n",
    "    def set_data(x,name,emp_id,age):\n",
    "        x.name=name\n",
    "        x.id=emp_id\n",
    "        x.age=age\n",
    "        \n",
    "    def get(x):\n",
    "        return x.name,x.id,x.age\n",
    "jay = Emp()\n",
    "Emp.set_data(jay,\"Jayaram\",1,28)\n",
    "vedha = Emp()\n",
    "Emp.set_data(vedha,\"Vedhanvesh\",2,29)\n",
    "sai = Emp()\n",
    "Emp.set_data(sai,\"Sai lakshmi\",3,32)\n",
    "print(Emp.get(jay))\n",
    "print(Emp.get(sai))\n",
    "print(Emp.get(vedha))\n",
    "samba = Emp()\n",
    "print(Emp.get(samba))"
   ]
  },
  {
   "cell_type": "code",
   "execution_count": 14,
   "metadata": {},
   "outputs": [
    {
     "name": "stdout",
     "output_type": "stream",
     "text": [
      "this is class\n"
     ]
    }
   ],
   "source": [
    "class Emp:\n",
    "    print(\"this is class\")\n",
    "    def get(x):\n",
    "        print(\"this is get\")\n",
    "    def __init__(x):\n",
    "        print(\"this is init\")"
   ]
  },
  {
   "cell_type": "code",
   "execution_count": 15,
   "metadata": {},
   "outputs": [
    {
     "name": "stdout",
     "output_type": "stream",
     "text": [
      "this is class\n",
      "this is init\n"
     ]
    }
   ],
   "source": [
    "class Emp:\n",
    "    print(\"this is class\")\n",
    "    def get(x):\n",
    "        print(\"this is get\")\n",
    "    def __init__(x):\n",
    "        print(\"this is init\")\n",
    "jay=Emp()# it will call internally __init__ method."
   ]
  },
  {
   "cell_type": "code",
   "execution_count": 1,
   "metadata": {},
   "outputs": [
    {
     "name": "stdout",
     "output_type": "stream",
     "text": [
      "this is class\n",
      "x= <__main__.Emp object at 0x0000022AFFB7C700>\n",
      "this is init\n",
      "jay= <__main__.Emp object at 0x0000022AFFB7C700>\n",
      "x= <__main__.Emp object at 0x0000022AFFB7CCA0>\n",
      "this is init\n",
      "vedha= <__main__.Emp object at 0x0000022AFFB7CCA0>\n",
      "x= <__main__.Emp object at 0x0000022AFFB5E4C0>\n",
      "this is init\n",
      "sai= <__main__.Emp object at 0x0000022AFFB5E4C0>\n"
     ]
    }
   ],
   "source": [
    "class Emp:\n",
    "    print(\"this is class\")\n",
    "    def get(x):\n",
    "        print(\"this is get\")\n",
    "    def __init__(x):\n",
    "        print(\"x=\",x)\n",
    "        print(\"this is init\")\n",
    "jay=Emp()# it will call internally __init__ method.\n",
    "print(\"jay=\",jay)\n",
    "vedha=Emp()\n",
    "print(\"vedha=\",vedha)\n",
    "sai=Emp()\n",
    "print(\"sai=\",sai)"
   ]
  },
  {
   "cell_type": "code",
   "execution_count": 2,
   "metadata": {},
   "outputs": [
    {
     "name": "stdout",
     "output_type": "stream",
     "text": [
      "this is class\n",
      "x= <__main__.Emp object at 0x0000022AFFB7C640>\n",
      "this is init\n",
      "jay= <__main__.Emp object at 0x0000022AFFB7C640>\n",
      "x= <__main__.Emp object at 0x0000022AFFB7C700>\n",
      "this is init\n",
      "vedha= <__main__.Emp object at 0x0000022AFFB7C700>\n",
      "x= <__main__.Emp object at 0x0000022AFFB7CCA0>\n",
      "this is init\n",
      "sai= <__main__.Emp object at 0x0000022AFFB7CCA0>\n"
     ]
    }
   ],
   "source": [
    "class Emp:\n",
    "    print(\"this is class\")\n",
    "    def get(x):\n",
    "        print(\"this is get\")\n",
    "    def __init__(x):\n",
    "        print(\"x=\",x)\n",
    "        print(\"this is init\")\n",
    "jay=Emp()# it will call internally __init__ method. #Emp.__init__(jay)\n",
    "print(\"jay=\",jay)#Emp.__init__(jay)\n",
    "vedha=Emp()##Emp.__init__(vedha)\n",
    "print(\"vedha=\",vedha)#\n",
    "sai=Emp()##Emp.__init__(sai)\n",
    "print(\"sai=\",sai)#"
   ]
  },
  {
   "cell_type": "code",
   "execution_count": 3,
   "metadata": {},
   "outputs": [
    {
     "name": "stdout",
     "output_type": "stream",
     "text": [
      "this is class\n",
      "this is init\n",
      "jay= <__main__.Emp object at 0x0000022AFFB7CD30>\n",
      "this is init\n",
      "vedha= <__main__.Emp object at 0x0000022AFFB7C640>\n",
      "this is init\n",
      "sai= <__main__.Emp object at 0x0000022AFFB7C700>\n"
     ]
    }
   ],
   "source": [
    "class Emp:\n",
    "    print(\"this is class\")\n",
    "    def get(x):\n",
    "        print(\"this is get\")\n",
    "    def __init__(x):\n",
    "        print(\"this is init\")\n",
    "jay=Emp()#Emp.__init__(jay)\n",
    "print(\"jay=\",jay)\n",
    "vedha=Emp()#Emp.__init__(vedha)\n",
    "print(\"vedha=\",vedha)\n",
    "sai=Emp()#Emp.__init__(sai)\n",
    "print(\"sai=\",sai)"
   ]
  },
  {
   "cell_type": "code",
   "execution_count": 4,
   "metadata": {},
   "outputs": [
    {
     "name": "stdout",
     "output_type": "stream",
     "text": [
      "this is class\n"
     ]
    },
    {
     "ename": "TypeError",
     "evalue": "__init__() takes 1 positional argument but 2 were given",
     "output_type": "error",
     "traceback": [
      "\u001b[1;31m---------------------------------------------------------------------------\u001b[0m",
      "\u001b[1;31mTypeError\u001b[0m                                 Traceback (most recent call last)",
      "\u001b[1;32m<ipython-input-4-a7d3db8d6099>\u001b[0m in \u001b[0;36m<module>\u001b[1;34m\u001b[0m\n\u001b[0;32m      5\u001b[0m     \u001b[1;32mdef\u001b[0m \u001b[0m__init__\u001b[0m\u001b[1;33m(\u001b[0m\u001b[0mx\u001b[0m\u001b[1;33m)\u001b[0m\u001b[1;33m:\u001b[0m\u001b[1;33m\u001b[0m\u001b[1;33m\u001b[0m\u001b[0m\n\u001b[0;32m      6\u001b[0m         \u001b[0mprint\u001b[0m\u001b[1;33m(\u001b[0m\u001b[1;34m\"this is init\"\u001b[0m\u001b[1;33m)\u001b[0m\u001b[1;33m\u001b[0m\u001b[1;33m\u001b[0m\u001b[0m\n\u001b[1;32m----> 7\u001b[1;33m \u001b[0mjay\u001b[0m\u001b[1;33m=\u001b[0m\u001b[0mEmp\u001b[0m\u001b[1;33m(\u001b[0m\u001b[1;34m\"JAYRAM\"\u001b[0m\u001b[1;33m)\u001b[0m\u001b[1;31m#Emp.__init__(jay,\"JAYRAM\")\u001b[0m\u001b[1;33m\u001b[0m\u001b[1;33m\u001b[0m\u001b[0m\n\u001b[0m\u001b[0;32m      8\u001b[0m \u001b[0mprint\u001b[0m\u001b[1;33m(\u001b[0m\u001b[1;34m\"jay=\"\u001b[0m\u001b[1;33m,\u001b[0m\u001b[0mjay\u001b[0m\u001b[1;33m)\u001b[0m\u001b[1;33m\u001b[0m\u001b[1;33m\u001b[0m\u001b[0m\n\u001b[0;32m      9\u001b[0m \u001b[0mvedha\u001b[0m\u001b[1;33m=\u001b[0m\u001b[0mEmp\u001b[0m\u001b[1;33m(\u001b[0m\u001b[1;34m\"VEDHANVESH\"\u001b[0m\u001b[1;33m)\u001b[0m\u001b[1;31m#Emp.__init__(vedha, \"VEDHANVESH\")\u001b[0m\u001b[1;33m\u001b[0m\u001b[1;33m\u001b[0m\u001b[0m\n",
      "\u001b[1;31mTypeError\u001b[0m: __init__() takes 1 positional argument but 2 were given"
     ]
    }
   ],
   "source": [
    "class Emp:\n",
    "    print(\"this is class\")\n",
    "    def get(x):\n",
    "        print(\"this is get\")\n",
    "    def __init__(x):\n",
    "        print(\"this is init\")\n",
    "jay=Emp(\"JAYRAM\")#Emp.__init__(jay,\"JAYRAM\")\n",
    "print(\"jay=\",jay)\n",
    "vedha=Emp(\"VEDHANVESH\")#Emp.__init__(vedha, \"VEDHANVESH\")\n",
    "print(\"vedha=\",vedha)\n",
    "sai=Emp(\"Sai Lakshmi\")#Emp.__init__(sai, \"Sai Lakshmi\")\n",
    "print(\"sai=\",sai)"
   ]
  },
  {
   "cell_type": "code",
   "execution_count": 5,
   "metadata": {},
   "outputs": [
    {
     "name": "stdout",
     "output_type": "stream",
     "text": [
      "this is class\n",
      "name= JAYRAM\n",
      "this is init\n",
      "jay= <__main__.Emp object at 0x0000022AFFC3A0A0>\n",
      "name= VEDHANVESH\n",
      "this is init\n",
      "vedha= <__main__.Emp object at 0x0000022AFFB7CD30>\n",
      "name= Sai Lakshmi\n",
      "this is init\n",
      "sai= <__main__.Emp object at 0x0000022AFFB7C640>\n"
     ]
    }
   ],
   "source": [
    "class Emp:\n",
    "    print(\"this is class\")\n",
    "    def get(x):\n",
    "        print(\"this is get\")\n",
    "    def __init__(x, name):\n",
    "        print(\"name=\",name)\n",
    "        print(\"this is init\")\n",
    "jay=Emp(\"JAYRAM\")#Emp.__init__(jay,\"JAYRAM\")\n",
    "print(\"jay=\",jay)\n",
    "vedha=Emp(\"VEDHANVESH\")#Emp.__init__(vedha, \"VEDHANVESH\")\n",
    "print(\"vedha=\",vedha)\n",
    "sai=Emp(\"Sai Lakshmi\")#Emp.__init__(sai, \"Sai Lakshmi\")\n",
    "print(\"sai=\",sai)"
   ]
  },
  {
   "cell_type": "code",
   "execution_count": 9,
   "metadata": {},
   "outputs": [
    {
     "name": "stdout",
     "output_type": "stream",
     "text": [
      "this is class\n",
      "('JAYRAM', 1, 28)\n",
      "('VEDHANVESH', 2, 29)\n",
      "('Sai Lakshmi', 3, 32)\n"
     ]
    }
   ],
   "source": [
    "class Emp:\n",
    "    print(\"this is class\")\n",
    "    def get(x):\n",
    "        return x.name,x.id,x.age\n",
    "    def __init__(x, name,emp_id, age):\n",
    "        x.name=name\n",
    "        x.age=age\n",
    "        x.id=emp_id\n",
    "        \n",
    "jay=Emp(\"JAYRAM\",1,28)\n",
    "vedha=Emp(\"VEDHANVESH\",2,29)\n",
    "sai=Emp(\"Sai Lakshmi\",3,32)\n",
    "print(Emp.get(jay))\n",
    "print(Emp.get(vedha))\n",
    "print(Emp.get(sai))"
   ]
  },
  {
   "cell_type": "code",
   "execution_count": 10,
   "metadata": {},
   "outputs": [
    {
     "name": "stdout",
     "output_type": "stream",
     "text": [
      "this is class\n",
      "('JAYRAM', 1, 28)\n",
      "('VEDHANVESH', 2, 29)\n",
      "('Sai Lakshmi', 3, 32)\n"
     ]
    }
   ],
   "source": [
    "class Emp:\n",
    "    print(\"this is class\")\n",
    "    def get(x):\n",
    "        return x.name,x.id,x.age\n",
    "    def __init__(x, name,emp_id, age):\n",
    "        x.name=name\n",
    "        x.age=age\n",
    "        x.id=emp_id\n",
    "        \n",
    "jay=Emp(\"JAYRAM\",1,28)\n",
    "vedha=Emp(\"VEDHANVESH\",2,29)\n",
    "sai=Emp(\"Sai Lakshmi\",3,32)\n",
    "print(Emp.get(jay))\n",
    "print(Emp.get(vedha))\n",
    "print(Emp.get(sai))"
   ]
  },
  {
   "cell_type": "code",
   "execution_count": 11,
   "metadata": {},
   "outputs": [
    {
     "name": "stdout",
     "output_type": "stream",
     "text": [
      "this is class\n",
      "('JAYRAM', 1, 28)\n",
      "('VEDHANVESH', 2, 29)\n",
      "('Sai Lakshmi', 3, 32)\n"
     ]
    }
   ],
   "source": [
    "class Emp:\n",
    "    print(\"this is class\")\n",
    "    def get(x):\n",
    "        return x.name,x.id,x.age\n",
    "    def __init__(x, name,emp_id, age):\n",
    "        x.name=name\n",
    "        x.age=age\n",
    "        x.id=emp_id\n",
    "        \n",
    "jay=Emp(\"JAYRAM\",1,28)\n",
    "vedha=Emp(\"VEDHANVESH\",2,29)\n",
    "sai=Emp(\"Sai Lakshmi\",3,32)\n",
    "#print(Emp.get(jay))\n",
    "print(jay.get())\n",
    "#print(Emp.get(vedha))\n",
    "print(vedha.get())\n",
    "#print(Emp.get(sai))\n",
    "print(sai.get())"
   ]
  },
  {
   "cell_type": "code",
   "execution_count": 12,
   "metadata": {},
   "outputs": [
    {
     "name": "stdout",
     "output_type": "stream",
     "text": [
      "this is class\n",
      "('JAYRAM', 1, 28)\n",
      "('VEDHANVESH', 2, 29)\n",
      "('Sai Lakshmi', 3, 32)\n"
     ]
    }
   ],
   "source": [
    "class Emp:\n",
    "    print(\"this is class\")\n",
    "    def get(x):\n",
    "        return x.name,x.id,x.age\n",
    "    def __init__(x, name,emp_id, age):\n",
    "        x.name=name\n",
    "        x.age=age\n",
    "        x.id=emp_id\n",
    "        \n",
    "jay=Emp(\"JAYRAM\",1,28)\n",
    "vedha=Emp(\"VEDHANVESH\",2,29)\n",
    "sai=Emp(\"Sai Lakshmi\",3,32)\n",
    "print(jay.get())\n",
    "print(vedha.get())\n",
    "print(sai.get())"
   ]
  },
  {
   "cell_type": "code",
   "execution_count": 13,
   "metadata": {},
   "outputs": [
    {
     "name": "stdout",
     "output_type": "stream",
     "text": [
      "this is class\n",
      "('JAYRAM', 1, 28)\n",
      "('VEDHANVESH', 2, 29)\n",
      "('Sai Lakshmi', 3, 32)\n"
     ]
    }
   ],
   "source": [
    "class Emp:\n",
    "    print(\"this is class\")\n",
    "    def get(self):\n",
    "        return self.name,self.id,self.age\n",
    "    def __init__(self, name,emp_id, age):\n",
    "        self.name=name\n",
    "        self.age=age\n",
    "        self.id=emp_id\n",
    "        \n",
    "jay=Emp(\"JAYRAM\",1,28)\n",
    "vedha=Emp(\"VEDHANVESH\",2,29)\n",
    "sai=Emp(\"Sai Lakshmi\",3,32)\n",
    "print(jay.get())\n",
    "print(vedha.get())\n",
    "print(sai.get())"
   ]
  },
  {
   "cell_type": "code",
   "execution_count": 1,
   "metadata": {},
   "outputs": [],
   "source": [
    "# write a class for product, which has name,color,cost,deliverycharges as an attibutes.\n",
    "# write __init__, get methods.\n",
    "# write sale_cost method with the below formula:\n",
    "#cost+deliverycharge\n",
    "#samsung = Product(\"Samsung note7\",\"Blue\",23000,200)\n",
    "#samsun.sales_cost()# 23200."
   ]
  },
  {
   "cell_type": "code",
   "execution_count": 3,
   "metadata": {},
   "outputs": [],
   "source": [
    "class Product:\n",
    "    def __init__(self, name, color, cost, delivery):\n",
    "        self.name=name\n",
    "        self.const=cost\n",
    "        self.color=color\n",
    "        self.delivery=delivery\n",
    "    def get(self):\n",
    "        pass\n",
    "    \n",
    "samsung_phone = Product(\"Samsung note 7\", \"RED\",3000,300)"
   ]
  },
  {
   "cell_type": "code",
   "execution_count": 4,
   "metadata": {},
   "outputs": [
    {
     "name": "stdout",
     "output_type": "stream",
     "text": [
      "Samsung note 7\n"
     ]
    }
   ],
   "source": [
    "class Product:\n",
    "    def __init__(self, name, color, cost, delivery):\n",
    "        self.name=name\n",
    "        self.const=cost\n",
    "        self.color=color\n",
    "        self.delivery=delivery\n",
    "    def get(self):\n",
    "        pass\n",
    "    \n",
    "samsung_phone = Product(\"Samsung note 7\", \"RED\",3000,300)\n",
    "print(samsung_phone.name)"
   ]
  },
  {
   "cell_type": "code",
   "execution_count": 6,
   "metadata": {},
   "outputs": [
    {
     "name": "stdout",
     "output_type": "stream",
     "text": [
      "Samsung note 7\n",
      "('Samsung note 7', 3000, 'RED', 300)\n"
     ]
    }
   ],
   "source": [
    "class Product:\n",
    "    def __init__(self, name, color, cost, delivery):\n",
    "        self.name=name\n",
    "        self.cost=cost\n",
    "        self.color=color\n",
    "        self.delivery=delivery\n",
    "    def get(self):\n",
    "        return self.name, self.cost, self.color, self.delivery\n",
    "    \n",
    "samsung_phone = Product(\"Samsung note 7\", \"RED\",3000,300)\n",
    "print(samsung_phone.name)\n",
    "print(samsung_phone.get())# Product.get(samsung_phone)"
   ]
  },
  {
   "cell_type": "code",
   "execution_count": 8,
   "metadata": {},
   "outputs": [
    {
     "name": "stdout",
     "output_type": "stream",
     "text": [
      "Samsung note 7\n",
      "('Samsung note 7', 3000, 'RED', 300)\n",
      "3300\n"
     ]
    }
   ],
   "source": [
    "class Product:\n",
    "    def __init__(self, name, color, cost, delivery):\n",
    "        self.name=name\n",
    "        self.cost=cost\n",
    "        self.color=color\n",
    "        self.delivery=delivery\n",
    "    def get(self):\n",
    "        return self.name, self.cost, self.color, self.delivery\n",
    "    def sale_cost(self):\n",
    "        return self.cost+self.delivery\n",
    "    \n",
    "samsung_phone = Product(\"Samsung note 7\", \"RED\",3000,300)\n",
    "print(samsung_phone.name)\n",
    "print(samsung_phone.get())# Product.get(samsung_phone)\n",
    "print(samsung_phone.sale_cost())"
   ]
  },
  {
   "cell_type": "code",
   "execution_count": null,
   "metadata": {},
   "outputs": [],
   "source": []
  }
 ],
 "metadata": {
  "kernelspec": {
   "display_name": "Python 3",
   "language": "python",
   "name": "python3"
  },
  "language_info": {
   "codemirror_mode": {
    "name": "ipython",
    "version": 3
   },
   "file_extension": ".py",
   "mimetype": "text/x-python",
   "name": "python",
   "nbconvert_exporter": "python",
   "pygments_lexer": "ipython3",
   "version": "3.8.3"
  }
 },
 "nbformat": 4,
 "nbformat_minor": 4
}
